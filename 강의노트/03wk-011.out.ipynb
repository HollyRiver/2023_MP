{
 "cells": [
  {
   "cell_type": "markdown",
   "id": "8b0ae007-344d-4112-a912-0d2dea52baf7",
   "metadata": {},
   "source": [
    "# 03wk-011: Medical Cost, 회귀분석\n",
    "\n",
    "최규빈  \n",
    "2023-09-21\n",
    "\n",
    "# 1. 강의영상\n",
    "\n",
    "<https://youtu.be/playlist?list=PLQqh36zP38-zwUq3ZIN2SNas0l8htamMO&si=dH2sszdMPMFTGeEV>\n",
    "\n",
    "# 2. Import"
   ]
  },
  {
   "cell_type": "code",
   "execution_count": 14,
   "id": "de3fe823-7dd4-4a85-a330-3cb1abd2196a",
   "metadata": {},
   "outputs": [],
   "source": [
    "import numpy as np\n",
    "import pandas as pd \n",
    "import sklearn.linear_model"
   ]
  },
  {
   "cell_type": "markdown",
   "id": "aaeef52a-e8b4-42fa-8dce-c0bc1c5e68b7",
   "metadata": {},
   "source": [
    "# 3. Data 불러오기\n",
    "\n",
    "`-` 캐글에서 `Medical Cost Personal Datasets` download\n",
    "\n",
    "-   <https://www.kaggle.com/datasets/mirichoi0218/insurance>\n",
    "\n",
    "`-` Data Load"
   ]
  },
  {
   "cell_type": "code",
   "execution_count": 61,
   "id": "9e29a32e-0e6f-485b-820a-db2f80115a66",
   "metadata": {},
   "outputs": [],
   "source": [
    "df = pd.read_csv('insurance.csv')\n",
    "df"
   ]
  },
  {
   "cell_type": "markdown",
   "id": "f9b20e69-681e-401d-aedc-0e7d20685dae",
   "metadata": {},
   "source": [
    "# 4. 분석\n",
    "\n",
    "## A. Data 정리"
   ]
  },
  {
   "cell_type": "code",
   "execution_count": 6,
   "id": "0557de7d-c430-48b0-9f0d-46f73c1e66f8",
   "metadata": {},
   "outputs": [],
   "source": [
    "df.columns"
   ]
  },
  {
   "cell_type": "code",
   "execution_count": 40,
   "id": "224cf629-b314-46a7-9b12-2415f136f687",
   "metadata": {},
   "outputs": [],
   "source": [
    "X = pd.get_dummies(df.drop(['charges'],axis=1))\n",
    "y = df[['charges']]"
   ]
  },
  {
   "cell_type": "code",
   "execution_count": 41,
   "id": "6f0f7133-d5d4-4678-b440-aefaad0ddab0",
   "metadata": {},
   "outputs": [],
   "source": [
    "X"
   ]
  },
  {
   "cell_type": "code",
   "execution_count": 42,
   "id": "60ee23a3-be24-42a1-b5d6-8febd7798ecd",
   "metadata": {},
   "outputs": [],
   "source": [
    "y"
   ]
  },
  {
   "cell_type": "markdown",
   "id": "8e83ed3d-0afb-414f-a6e7-87033719f7c2",
   "metadata": {},
   "source": [
    "## B. Predictor 생성"
   ]
  },
  {
   "cell_type": "code",
   "execution_count": 43,
   "id": "8a0bc1be-83c6-4d6c-b302-b936728cfe4f",
   "metadata": {},
   "outputs": [],
   "source": [
    "predictr = sklearn.linear_model.LinearRegression()"
   ]
  },
  {
   "cell_type": "markdown",
   "id": "cdbdf673-31c6-4772-abfc-252e50badab5",
   "metadata": {},
   "source": [
    "## C. 학습"
   ]
  },
  {
   "cell_type": "code",
   "execution_count": 44,
   "id": "0d0e17e2-1e5a-4d68-a1d9-974e56d4449e",
   "metadata": {},
   "outputs": [],
   "source": [
    "predictr.fit(X,y)"
   ]
  },
  {
   "cell_type": "markdown",
   "id": "1756f8be-1670-49ca-ad34-f64d6baf866b",
   "metadata": {},
   "source": [
    "## D. 예측"
   ]
  },
  {
   "cell_type": "code",
   "execution_count": 45,
   "id": "ffa4e577-f798-4d2f-b1b9-35d718009778",
   "metadata": {},
   "outputs": [],
   "source": [
    "df.assign(yhat = predictr.predict(X))"
   ]
  },
  {
   "cell_type": "markdown",
   "id": "febbe957-a5af-4352-b4b4-78c133302c16",
   "metadata": {},
   "source": [
    "## E. 평가"
   ]
  },
  {
   "cell_type": "code",
   "execution_count": 47,
   "id": "9dfcdefa-8f2b-49eb-ae3a-1d2ec10792eb",
   "metadata": {},
   "outputs": [],
   "source": [
    "predictr.score(X,y) # R^2"
   ]
  },
  {
   "cell_type": "markdown",
   "id": "4e491dd5-9916-4e45-819f-d65844dd580a",
   "metadata": {},
   "source": [
    "> 0.7 이상이면 망한모형까지는 아님 (대회용으로는 부적절할 수 있으나 대충\n",
    "> 쓸 수는 있는 정도)\n",
    "\n",
    "# 5. 계수해석\n",
    "\n",
    "`-` 상수항 해석"
   ]
  },
  {
   "cell_type": "code",
   "execution_count": 49,
   "id": "f9a19827-52e6-4a72-9c5d-58cd643382b6",
   "metadata": {},
   "outputs": [],
   "source": [
    "predictr.intercept_"
   ]
  },
  {
   "cell_type": "markdown",
   "id": "73817174-2c2d-4271-9357-35f05dce6c5c",
   "metadata": {},
   "source": [
    "-   기본적인 보험료는 -666이라는 의미\n",
    "\n",
    "`-` 계수해석"
   ]
  },
  {
   "cell_type": "code",
   "execution_count": 60,
   "id": "fd802d3e-0413-470f-959c-e2729dd1a11a",
   "metadata": {},
   "outputs": [],
   "source": [
    "pd.DataFrame({'name':list(X.columns), 'coef':predictr.coef_.reshape(-1)})"
   ]
  },
  {
   "cell_type": "markdown",
   "id": "1674851e-9b13-477b-aef9-c16ede995bcc",
   "metadata": {},
   "source": [
    "-   지역은 잘 모르겠으나 나머지는 꽤 그럴듯해 보임"
   ]
  }
 ],
 "metadata": {
  "kernelspec": {
   "display_name": "Python 3 (ipykernel)",
   "language": "python",
   "name": "python3"
  },
  "language_info": {
   "codemirror_mode": {
    "name": "ipython",
    "version": 3
   },
   "file_extension": ".py",
   "mimetype": "text/x-python",
   "name": "python",
   "nbconvert_exporter": "python",
   "pygments_lexer": "ipython3",
   "version": "3.10.13"
  }
 },
 "nbformat": 4,
 "nbformat_minor": 5
}
