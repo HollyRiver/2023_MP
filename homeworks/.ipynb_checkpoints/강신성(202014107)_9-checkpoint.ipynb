{
 "cells": [
  {
   "cell_type": "markdown",
   "id": "158e541b-1ad6-479e-9e63-ffeddac646a1",
   "metadata": {},
   "source": [
    "밀실안에 100명의 사람이 있다고 하자. 이중 이중휴민트는 2명이 있다고 하자. 이중휴민트를 잡기위해서 3명을 사살했다고 하자. 사살된 사람중 실제 이중휴민트는 1명이었다고 하자. 이 경우\n",
    "\n",
    "* accuracy\n",
    "* TPR(=recall)\n",
    "* precision\n",
    "* FPR\n",
    "\n",
    "값을 계산하라."
   ]
  },
  {
   "cell_type": "code",
   "execution_count": 1,
   "id": "6bbd5a68-a342-4e19-b696-478f5fb4a340",
   "metadata": {},
   "outputs": [
    {
     "data": {
      "text/plain": [
       "0.97"
      ]
     },
     "execution_count": 1,
     "metadata": {},
     "output_type": "execute_result"
    }
   ],
   "source": [
    "accuracy = 97/100; accuracy"
   ]
  },
  {
   "cell_type": "code",
   "execution_count": 2,
   "id": "d473698b-4b89-47c0-ad86-5283c76595aa",
   "metadata": {},
   "outputs": [
    {
     "data": {
      "text/plain": [
       "0.5"
      ]
     },
     "execution_count": 2,
     "metadata": {},
     "output_type": "execute_result"
    }
   ],
   "source": [
    "TPR = recall = sensitivity = 1/2; TPR"
   ]
  },
  {
   "cell_type": "code",
   "execution_count": 4,
   "id": "8cae887a-6bbd-4c43-b9eb-9273073022d0",
   "metadata": {},
   "outputs": [
    {
     "data": {
      "text/plain": [
       "0.3333333333333333"
      ]
     },
     "execution_count": 4,
     "metadata": {},
     "output_type": "execute_result"
    }
   ],
   "source": [
    "precision = 1/3; precision"
   ]
  },
  {
   "cell_type": "code",
   "execution_count": 5,
   "id": "ae249c35-1525-4db3-89c8-542836d57fba",
   "metadata": {},
   "outputs": [
    {
     "data": {
      "text/plain": [
       "0.02040816326530612"
      ]
     },
     "execution_count": 5,
     "metadata": {},
     "output_type": "execute_result"
    }
   ],
   "source": [
    "FPR = 2/98; FPR"
   ]
  }
 ],
 "metadata": {
  "kernelspec": {
   "display_name": "Python 3 (ipykernel)",
   "language": "python",
   "name": "python3"
  },
  "language_info": {
   "codemirror_mode": {
    "name": "ipython",
    "version": 3
   },
   "file_extension": ".py",
   "mimetype": "text/x-python",
   "name": "python",
   "nbconvert_exporter": "python",
   "pygments_lexer": "ipython3",
   "version": "3.10.13"
  }
 },
 "nbformat": 4,
 "nbformat_minor": 5
}
