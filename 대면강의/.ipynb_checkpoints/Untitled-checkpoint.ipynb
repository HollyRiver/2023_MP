{
 "cells": [
  {
   "cell_type": "markdown",
   "id": "2ceb48b6-148d-48d2-b889-4d729b35cacf",
   "metadata": {},
   "source": [
    "> 경진대회에서 필요한 능력\n",
    "\n",
    "1. 분석\n",
    "\n",
    "2. 개발환경\n",
    "\n",
    "3. 아이디어\n",
    "\n",
    "AWS >> 대회를 주관하는 기관에서 가상서버를 만들고, 그 서버에 접속할 수 있도록 password를 제공. 해당 서버를 이용해야만 파일을 이용할 수 있고, 분석할 수 있음."
   ]
  },
  {
   "cell_type": "markdown",
   "id": "95426ada-a47e-4810-9927-c00e4bbc2d09",
   "metadata": {},
   "source": [
    "### 개발환경의 변천사\n",
    "\n",
    "* 파이썬 설치방법 및 실행법이 너무 많음...\n",
    "\n",
    "`-` 핵심 : 그냥 (1)컴퓨터에 (2)파이썬을 깔아서 (3)실행하는 것.\n",
    "\n",
    "> 근데 방법이 왜이렇게 많음? 쓰는 사람들이 많고, 사용하는 방법이 다양함.\n",
    ">\n",
    "> 모든 방법에는 공통적인 맥락이 있음 > 파이썬을 설치하고 실행하는 공통 맥락에 대한 이해가 필요.\n",
    "\n",
    "\n",
    "**0세대 프로그래머 | 오리지널 실행 방법**\n",
    "\n",
    "`# 실습 1` : 프롬프트만 사용... (개불편함)\n",
    "\n",
    "```\n",
    "(base) C:\\Users\\hollyriver>python\n",
    "Python 3.11.5 | packaged by Anaconda, Inc. | (main, Sep 11 2023, 13:26:23) [MSC v.1916 64 bit (AMD64)] on win32\n",
    "Type \"help\", \"copyright\", \"credits\" or \"license\" for more information.\n",
    ">>>\n",
    "```"
   ]
  },
  {
   "cell_type": "markdown",
   "id": "da7c1f78-4bac-4fe4-b889-623a02cff664",
   "metadata": {},
   "source": [
    "`python`을 프롬프트에 입력하여 실행가능\n",
    "\n",
    "> 창을 여러개 실행할 수 있음(두 환경은 상호 독립적)\n",
    "\n",
    "`-` 아쉬운 점 : `?list`와 같은 도움말 기능이 동작하지 않음(모든 문법을 거의 완벽하게 숙지하고 있어야 함...)\n",
    "\n",
    "`-` 입력을 잘못하면 바꿀 수 없음...(처음부터 다시 입력해야...)\n",
    "\n",
    "`exit()`을 통해 나갈 수 있음.\n",
    "\n",
    "`# 실습 2` : `ipython` 사용"
   ]
  },
  {
   "cell_type": "markdown",
   "id": "be33489b-0f7a-466e-b670-a6dcceecaf75",
   "metadata": {},
   "source": [
    "```\n",
    "(base) C:\\Users\\hollyriver>ipython\n",
    "Python 3.11.5 | packaged by Anaconda, Inc. | (main, Sep 11 2023, 13:26:23) [MSC v.1916 64 bit (AMD64)]\n",
    "Type 'copyright', 'credits' or 'license' for more information\n",
    "IPython 8.15.0 -- An enhanced Interactive Python. Type '?' for help.\n",
    "\n",
    "In [1]:\n",
    "```\n",
    "\n",
    "`?list`와 같은 도움말 기능이 작동한다.\n",
    "\n",
    "* 자동으로 들여쓰기가 되고, 화살표를 이용해서 for문을 쓰는 도중에 위아래로 이동할 수 있다.\n",
    "* 화살표로 이동할 수는 있는데, 마우스로는 이동할 수 없다. 내가 작성한 코드를 관리하기가 힘들다."
   ]
  },
  {
   "cell_type": "markdown",
   "id": "fb174424-ccb9-4633-af44-4a605396bb02",
   "metadata": {},
   "source": [
    "**1세대 프로그래머(스크립트 활용)**"
   ]
  }
 ],
 "metadata": {
  "kernelspec": {
   "display_name": "Python 3 (ipykernel)",
   "language": "python",
   "name": "python3"
  },
  "language_info": {
   "codemirror_mode": {
    "name": "ipython",
    "version": 3
   },
   "file_extension": ".py",
   "mimetype": "text/x-python",
   "name": "python",
   "nbconvert_exporter": "python",
   "pygments_lexer": "ipython3",
   "version": "3.10.13"
  }
 },
 "nbformat": 4,
 "nbformat_minor": 5
}
