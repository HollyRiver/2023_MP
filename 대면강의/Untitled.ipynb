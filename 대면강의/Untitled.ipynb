{
 "cells": [
  {
   "cell_type": "markdown",
   "id": "2ceb48b6-148d-48d2-b889-4d729b35cacf",
   "metadata": {},
   "source": [
    "> 경진대회에서 필요한 능력\n",
    "\n",
    "1. 분석\n",
    "\n",
    "2. 개발환경\n",
    "\n",
    "3. 아이디어\n",
    "\n",
    "AWS >> 대회를 주관하는 기관에서 가상서버를 만들고, 그 서버에 접속할 수 있도록 password를 제공. 해당 서버를 이용해야만 파일을 이용할 수 있고, 분석할 수 있음."
   ]
  },
  {
   "cell_type": "markdown",
   "id": "95426ada-a47e-4810-9927-c00e4bbc2d09",
   "metadata": {},
   "source": [
    "### 개발환경의 변천사\n",
    "\n",
    "* 파이썬 설치방법 및 실행법이 너무 많음...\n",
    "\n",
    "`-` 핵심 : 그냥 (1)컴퓨터에 (2)파이썬을 깔아서 (3)실행하는 것.\n",
    "\n",
    "> 근데 방법이 왜이렇게 많음? 쓰는 사람들이 많고, 사용하는 방법이 다양함.\n",
    ">\n",
    "> 모든 방법에는 공통적인 맥락이 있음 > 파이썬을 설치하고 실행하는 공통 맥락에 대한 이해가 필요.\n",
    "\n",
    "\n",
    "**0세대 프로그래머 | 오리지널 실행 방법**\n",
    "\n",
    "`# 실습 1` : 프롬프트만 사용... (개불편함)\n",
    "\n",
    "```\n",
    "(base) C:\\Users\\hollyriver>python\n",
    "Python 3.11.5 | packaged by Anaconda, Inc. | (main, Sep 11 2023, 13:26:23) [MSC v.1916 64 bit (AMD64)] on win32\n",
    "Type \"help\", \"copyright\", \"credits\" or \"license\" for more information.\n",
    ">>>\n",
    "```"
   ]
  },
  {
   "cell_type": "markdown",
   "id": "da7c1f78-4bac-4fe4-b889-623a02cff664",
   "metadata": {},
   "source": [
    "`python`을 프롬프트에 입력하여 실행가능\n",
    "\n",
    "> 창을 여러개 실행할 수 있음(두 환경은 상호 독립적)\n",
    "\n",
    "`-` 아쉬운 점 : `?list`와 같은 도움말 기능이 동작하지 않음(모든 문법을 거의 완벽하게 숙지하고 있어야 함...)\n",
    "\n",
    "`-` 입력을 잘못하면 바꿀 수 없음...(처음부터 다시 입력해야...)\n",
    "\n",
    "`exit()`을 통해 나갈 수 있음.\n",
    "\n",
    "`# 실습 2` : `ipython` 사용"
   ]
  },
  {
   "cell_type": "markdown",
   "id": "be33489b-0f7a-466e-b670-a6dcceecaf75",
   "metadata": {},
   "source": [
    "```\n",
    "(base) C:\\Users\\hollyriver>ipython\n",
    "Python 3.11.5 | packaged by Anaconda, Inc. | (main, Sep 11 2023, 13:26:23) [MSC v.1916 64 bit (AMD64)]\n",
    "Type 'copyright', 'credits' or 'license' for more information\n",
    "IPython 8.15.0 -- An enhanced Interactive Python. Type '?' for help.\n",
    "\n",
    "In [1]:\n",
    "```\n",
    "\n",
    "`?list`와 같은 도움말 기능이 작동한다.\n",
    "\n",
    "* 자동으로 들여쓰기가 되고, 화살표를 이용해서 for문을 쓰는 도중에 위아래로 이동할 수 있다.\n",
    "* 화살표로 이동할 수는 있는데, 마우스로는 이동할 수 없다. 내가 작성한 코드를 관리하기가 힘들다."
   ]
  },
  {
   "cell_type": "markdown",
   "id": "fb174424-ccb9-4633-af44-4a605396bb02",
   "metadata": {},
   "source": [
    "**1세대 프로그래머(스크립트 활용)**"
   ]
  },
  {
   "cell_type": "markdown",
   "id": "2652e75e-08bc-49bb-82c6-6a6a9bcf285d",
   "metadata": {},
   "source": [
    "**3세대 프로그래머(가상환경 사용)**\n",
    "\n",
    "2세대에서 쉽게 업그레이드 가능한 환경\n",
    "\n",
    "> 가장 큰 이유 : 패키지 간 충돌 방지"
   ]
  },
  {
   "cell_type": "markdown",
   "id": "b434715e-879b-4a61-8ebf-85f247a10774",
   "metadata": {},
   "source": [
    "**4세대 프로그래머(원격접속 위주)**\n",
    "\n",
    "주피터 랩 실행 시 나오는 링크를 복사하여 chrome에 붙여넣으면 jupyter lab이 나옴.\n",
    "\n",
    "> jupyter lab\n",
    ">\n",
    "> cell >>\n",
    "\n",
    "1. 셀에서 1+1을 친다\n",
    "2. IDE는 1+1을 복사해서 삼성노트북(원격접속된 노트북)에 설치된 python커널로 가서 답을 물어봄\n",
    "3. 삼성노트북에 설치된 python커널이 답을 알려주면 바로 크롬에 있는 주피터랩에 와서 답을 전달함.\n",
    "\n",
    "`-` New Idea\n",
    "\n",
    "1. 삼성노트북의 크롬에서 1+1을 친다\n",
    "2. IDE는 1+1을 복사해서 카카오톡으로 좋은 원격컴퓨터로 1+1을 전송함.\n",
    "3. 원격컴퓨터의 결과를 IDE는 복사하여 삼성노트북의 크롬에 뿌려줌.\n",
    "\n",
    "> 코드같은 건 쉽게 전송되지만, 이미지같은 것은 인터넷이 빨라야겠지...\n",
    "\n",
    "이게 된다면, 노트북ㆍ아이패드ㆍ핸드폰에서 동일한 스펙으로 컴퓨팅을 할 수 있다!\n",
    "\n",
    "\n",
    "`-` 뭔가 보여주고 계심\n",
    "\n",
    "> ssh 원격컴퓨터 이름@원격 서버의 IP"
   ]
  },
  {
   "cell_type": "markdown",
   "id": "0b10ad80-365e-4695-b389-ed44dbaf788a",
   "metadata": {},
   "source": [
    "**클라우드 컴퓨팅**"
   ]
  }
 ],
 "metadata": {
  "kernelspec": {
   "display_name": "Python 3 (ipykernel)",
   "language": "python",
   "name": "python3"
  },
  "language_info": {
   "codemirror_mode": {
    "name": "ipython",
    "version": 3
   },
   "file_extension": ".py",
   "mimetype": "text/x-python",
   "name": "python",
   "nbconvert_exporter": "python",
   "pygments_lexer": "ipython3",
   "version": "3.10.13"
  }
 },
 "nbformat": 4,
 "nbformat_minor": 5
}
