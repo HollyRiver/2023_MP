{
 "cells": [
  {
   "cell_type": "markdown",
   "id": "e722a969-f745-44b2-9175-0b48b531809b",
   "metadata": {},
   "source": [
    "---\n",
    "title: \"의사결정나무 | 교호작용\"\n",
    "author: \"강신성\"\n",
    "date: \"2023-10-18\"\n",
    "categories: [python, Tree]\n",
    "---\n",
    "\n",
    "\n"
   ]
  },
  {
   "cell_type": "markdown",
   "id": "797fbc39-90ca-4f0f-b0d5-6acada73f381",
   "metadata": {},
   "source": [
    "> 의사결정나무(`tree.DiscussionTreeRegressor()`)를 사용해서 교호작용을 반영해보자."
   ]
  },
  {
   "cell_type": "markdown",
   "id": "0903ae94-1675-406b-85ce-41b07048442d",
   "metadata": {},
   "source": [
    "## 1. 라이브러리 imports"
   ]
  },
  {
   "cell_type": "code",
   "execution_count": 20,
   "id": "ce9dfd48-0200-4bf2-be35-e53e8d381c74",
   "metadata": {},
   "outputs": [],
   "source": [
    "import numpy as np\n",
    "import pandas as pd\n",
    "import matplotlib.pyplot as plt\n",
    "import sklearn.linear_model\n",
    "import sklearn.tree"
   ]
  },
  {
   "cell_type": "markdown",
   "id": "bf57a213-a460-42cf-b488-78106b33fc87",
   "metadata": {},
   "source": [
    "## 2. Data"
   ]
  },
  {
   "cell_type": "code",
   "execution_count": 14,
   "id": "20eb7d83-fa0e-49b4-869f-ae2213bda834",
   "metadata": {},
   "outputs": [
    {
     "data": {
      "text/html": [
       "<div>\n",
       "<style scoped>\n",
       "    .dataframe tbody tr th:only-of-type {\n",
       "        vertical-align: middle;\n",
       "    }\n",
       "\n",
       "    .dataframe tbody tr th {\n",
       "        vertical-align: top;\n",
       "    }\n",
       "\n",
       "    .dataframe thead th {\n",
       "        text-align: right;\n",
       "    }\n",
       "</style>\n",
       "<table border=\"1\" class=\"dataframe\">\n",
       "  <thead>\n",
       "    <tr style=\"text-align: right;\">\n",
       "      <th></th>\n",
       "      <th>Supplement</th>\n",
       "      <th>Exercise</th>\n",
       "      <th>Weight_Loss</th>\n",
       "    </tr>\n",
       "  </thead>\n",
       "  <tbody>\n",
       "    <tr>\n",
       "      <th>0</th>\n",
       "      <td>False</td>\n",
       "      <td>False</td>\n",
       "      <td>-0.877103</td>\n",
       "    </tr>\n",
       "    <tr>\n",
       "      <th>1</th>\n",
       "      <td>True</td>\n",
       "      <td>False</td>\n",
       "      <td>1.604542</td>\n",
       "    </tr>\n",
       "    <tr>\n",
       "      <th>2</th>\n",
       "      <td>True</td>\n",
       "      <td>True</td>\n",
       "      <td>13.824148</td>\n",
       "    </tr>\n",
       "    <tr>\n",
       "      <th>3</th>\n",
       "      <td>True</td>\n",
       "      <td>True</td>\n",
       "      <td>13.004505</td>\n",
       "    </tr>\n",
       "    <tr>\n",
       "      <th>4</th>\n",
       "      <td>True</td>\n",
       "      <td>True</td>\n",
       "      <td>13.701128</td>\n",
       "    </tr>\n",
       "    <tr>\n",
       "      <th>...</th>\n",
       "      <td>...</td>\n",
       "      <td>...</td>\n",
       "      <td>...</td>\n",
       "    </tr>\n",
       "    <tr>\n",
       "      <th>9995</th>\n",
       "      <td>True</td>\n",
       "      <td>False</td>\n",
       "      <td>1.558841</td>\n",
       "    </tr>\n",
       "    <tr>\n",
       "      <th>9996</th>\n",
       "      <td>False</td>\n",
       "      <td>False</td>\n",
       "      <td>-0.217816</td>\n",
       "    </tr>\n",
       "    <tr>\n",
       "      <th>9997</th>\n",
       "      <td>False</td>\n",
       "      <td>True</td>\n",
       "      <td>4.072701</td>\n",
       "    </tr>\n",
       "    <tr>\n",
       "      <th>9998</th>\n",
       "      <td>True</td>\n",
       "      <td>False</td>\n",
       "      <td>-0.253796</td>\n",
       "    </tr>\n",
       "    <tr>\n",
       "      <th>9999</th>\n",
       "      <td>False</td>\n",
       "      <td>False</td>\n",
       "      <td>-1.399092</td>\n",
       "    </tr>\n",
       "  </tbody>\n",
       "</table>\n",
       "<p>10000 rows × 3 columns</p>\n",
       "</div>"
      ],
      "text/plain": [
       "      Supplement  Exercise  Weight_Loss\n",
       "0          False     False    -0.877103\n",
       "1           True     False     1.604542\n",
       "2           True      True    13.824148\n",
       "3           True      True    13.004505\n",
       "4           True      True    13.701128\n",
       "...          ...       ...          ...\n",
       "9995        True     False     1.558841\n",
       "9996       False     False    -0.217816\n",
       "9997       False      True     4.072701\n",
       "9998        True     False    -0.253796\n",
       "9999       False     False    -1.399092\n",
       "\n",
       "[10000 rows x 3 columns]"
      ]
     },
     "execution_count": 14,
     "metadata": {},
     "output_type": "execute_result"
    }
   ],
   "source": [
    "df_train = pd.read_csv('https://raw.githubusercontent.com/guebin/MP2023/main/posts/weightloss.csv')\n",
    "df_train"
   ]
  },
  {
   "cell_type": "code",
   "execution_count": 5,
   "id": "70891365-13bd-4c5c-b3aa-966e824a5a74",
   "metadata": {},
   "outputs": [
    {
     "data": {
      "text/html": [
       "<div>\n",
       "<style scoped>\n",
       "    .dataframe tbody tr th:only-of-type {\n",
       "        vertical-align: middle;\n",
       "    }\n",
       "\n",
       "    .dataframe tbody tr th {\n",
       "        vertical-align: top;\n",
       "    }\n",
       "\n",
       "    .dataframe thead th {\n",
       "        text-align: right;\n",
       "    }\n",
       "</style>\n",
       "<table border=\"1\" class=\"dataframe\">\n",
       "  <thead>\n",
       "    <tr style=\"text-align: right;\">\n",
       "      <th>Exercise</th>\n",
       "      <th>False</th>\n",
       "      <th>True</th>\n",
       "    </tr>\n",
       "    <tr>\n",
       "      <th>Supplement</th>\n",
       "      <th></th>\n",
       "      <th></th>\n",
       "    </tr>\n",
       "  </thead>\n",
       "  <tbody>\n",
       "    <tr>\n",
       "      <th>False</th>\n",
       "      <td>0.021673</td>\n",
       "      <td>4.991314</td>\n",
       "    </tr>\n",
       "    <tr>\n",
       "      <th>True</th>\n",
       "      <td>0.497573</td>\n",
       "      <td>14.966363</td>\n",
       "    </tr>\n",
       "  </tbody>\n",
       "</table>\n",
       "</div>"
      ],
      "text/plain": [
       "Exercise       False      True \n",
       "Supplement                     \n",
       "False       0.021673   4.991314\n",
       "True        0.497573  14.966363"
      ]
     },
     "execution_count": 5,
     "metadata": {},
     "output_type": "execute_result"
    }
   ],
   "source": [
    "df_train.pivot_table(index='Supplement',columns='Exercise',values='Weight_Loss')"
   ]
  },
  {
   "cell_type": "markdown",
   "id": "7af6f518-2538-4e7a-820f-bac1d2d15762",
   "metadata": {},
   "source": [
    "> 운동과 체중감량보조제를 병행하면 시너지가 나는 것 같다."
   ]
  },
  {
   "cell_type": "markdown",
   "id": "9b5c8fce-e2c6-4988-bf91-5d233552d400",
   "metadata": {},
   "source": [
    "## 3. 사전 설명"
   ]
  },
  {
   "cell_type": "markdown",
   "id": "bc2c7aad-dc56-4222-a40d-eb7ed0545e7f",
   "metadata": {},
   "source": [
    "\\- 변수를 추가할수록\n",
    "\n",
    "언더피팅 ---> 잘 적합 ---> 오버피팅\n",
    "\n",
    "* 실제로 교호작용이 있는데 교호작용을 고려하지 않으면... -> 언더피팅\n",
    "* 실제로 교호작용이 있고, 교호작용을 고려했다면... -> 잘했지\n",
    "\n",
    "* 실제로 교호작용이 없는데 교호작용을 고려하지 않았다면... -> 잘했지2\n",
    "* 없는데 고려했다면... -> 오버피팅"
   ]
  },
  {
   "cell_type": "markdown",
   "id": "2974c384-f011-4b33-9542-2ef983d496f5",
   "metadata": {},
   "source": [
    "## 4. 분석"
   ]
  },
  {
   "cell_type": "markdown",
   "id": "b35f8258-b8e5-4c5c-b565-dc3c65344e2b",
   "metadata": {},
   "source": [
    "\\- 분석 1 : 선형회귀 (교호작용 고려 X)"
   ]
  },
  {
   "cell_type": "code",
   "execution_count": 8,
   "id": "015044bc-e197-49b6-8f21-ce07b6b309fa",
   "metadata": {},
   "outputs": [],
   "source": [
    "# step 1\n",
    "X = df_train[['Supplement', 'Exercise']]\n",
    "y = df_train['Weight_Loss']  ## 반응변수는 1차원을 넣어야함\n",
    "\n",
    "# step 2\n",
    "predictr = sklearn.linear_model.LinearRegression()\n",
    "\n",
    "# step 3\n",
    "predictr.fit(X, y)\n",
    "\n",
    "# step 4\n",
    "df_train['Weight_Loss_hat'] = predictr.predict(X)"
   ]
  },
  {
   "cell_type": "code",
   "execution_count": 9,
   "id": "1dd0df4e-3c90-45ff-a597-391f39939a3d",
   "metadata": {},
   "outputs": [
    {
     "data": {
      "text/html": [
       "<div>\n",
       "<style scoped>\n",
       "    .dataframe tbody tr th:only-of-type {\n",
       "        vertical-align: middle;\n",
       "    }\n",
       "\n",
       "    .dataframe tbody tr th {\n",
       "        vertical-align: top;\n",
       "    }\n",
       "\n",
       "    .dataframe thead th {\n",
       "        text-align: right;\n",
       "    }\n",
       "</style>\n",
       "<table border=\"1\" class=\"dataframe\">\n",
       "  <thead>\n",
       "    <tr style=\"text-align: right;\">\n",
       "      <th>Exercise</th>\n",
       "      <th>False</th>\n",
       "      <th>True</th>\n",
       "    </tr>\n",
       "    <tr>\n",
       "      <th>Supplement</th>\n",
       "      <th></th>\n",
       "      <th></th>\n",
       "    </tr>\n",
       "  </thead>\n",
       "  <tbody>\n",
       "    <tr>\n",
       "      <th>False</th>\n",
       "      <td>0.021673</td>\n",
       "      <td>4.991314</td>\n",
       "    </tr>\n",
       "    <tr>\n",
       "      <th>True</th>\n",
       "      <td>0.497573</td>\n",
       "      <td>14.966363</td>\n",
       "    </tr>\n",
       "  </tbody>\n",
       "</table>\n",
       "</div>"
      ],
      "text/plain": [
       "Exercise       False      True \n",
       "Supplement                     \n",
       "False       0.021673   4.991314\n",
       "True        0.497573  14.966363"
      ]
     },
     "execution_count": 9,
     "metadata": {},
     "output_type": "execute_result"
    }
   ],
   "source": [
    "df_train.pivot_table(index = 'Supplement', columns = 'Exercise', values = 'Weight_Loss')"
   ]
  },
  {
   "cell_type": "code",
   "execution_count": 10,
   "id": "43f480dd-8d89-40c3-bb75-cef7c485c4db",
   "metadata": {},
   "outputs": [
    {
     "data": {
      "text/html": [
       "<div>\n",
       "<style scoped>\n",
       "    .dataframe tbody tr th:only-of-type {\n",
       "        vertical-align: middle;\n",
       "    }\n",
       "\n",
       "    .dataframe tbody tr th {\n",
       "        vertical-align: top;\n",
       "    }\n",
       "\n",
       "    .dataframe thead th {\n",
       "        text-align: right;\n",
       "    }\n",
       "</style>\n",
       "<table border=\"1\" class=\"dataframe\">\n",
       "  <thead>\n",
       "    <tr style=\"text-align: right;\">\n",
       "      <th>Exercise</th>\n",
       "      <th>False</th>\n",
       "      <th>True</th>\n",
       "    </tr>\n",
       "    <tr>\n",
       "      <th>Supplement</th>\n",
       "      <th></th>\n",
       "      <th></th>\n",
       "    </tr>\n",
       "  </thead>\n",
       "  <tbody>\n",
       "    <tr>\n",
       "      <th>False</th>\n",
       "      <td>-2.373106</td>\n",
       "      <td>7.374557</td>\n",
       "    </tr>\n",
       "    <tr>\n",
       "      <th>True</th>\n",
       "      <td>2.845934</td>\n",
       "      <td>12.593598</td>\n",
       "    </tr>\n",
       "  </tbody>\n",
       "</table>\n",
       "</div>"
      ],
      "text/plain": [
       "Exercise       False      True \n",
       "Supplement                     \n",
       "False      -2.373106   7.374557\n",
       "True        2.845934  12.593598"
      ]
     },
     "execution_count": 10,
     "metadata": {},
     "output_type": "execute_result"
    }
   ],
   "source": [
    "df_train.pivot_table(index = 'Supplement', columns = 'Exercise', values = 'Weight_Loss_hat')"
   ]
  },
  {
   "cell_type": "markdown",
   "id": "cf13a277-541b-492f-a9b5-62b3f14158da",
   "metadata": {},
   "source": [
    "> 다를 수밖에..."
   ]
  },
  {
   "cell_type": "markdown",
   "id": "f6c6e6a4-a51f-4fc3-a0bb-ee0d9f0e78e8",
   "metadata": {},
   "source": [
    "\\- 분석2 : 의사결정나무"
   ]
  },
  {
   "cell_type": "code",
   "execution_count": 15,
   "id": "7803acf0-47a4-4496-b8ab-dbe2ffad080a",
   "metadata": {},
   "outputs": [],
   "source": [
    "# step 1\n",
    "X,y = df_train[['Supplement','Exercise']], df_train['Weight_Loss']\n",
    "# step 2 \n",
    "predictr = sklearn.tree.DecisionTreeRegressor()  ## 여기만 다름\n",
    "# step 3 \n",
    "predictr.fit(X,y)\n",
    "# step 4 \n",
    "df_train['Weight_Loss_hat'] = predictr.predict(X)"
   ]
  },
  {
   "cell_type": "code",
   "execution_count": 16,
   "id": "6dcb301b-41bd-45ad-b267-c5d96117186b",
   "metadata": {},
   "outputs": [
    {
     "data": {
      "text/html": [
       "<div>\n",
       "<style scoped>\n",
       "    .dataframe tbody tr th:only-of-type {\n",
       "        vertical-align: middle;\n",
       "    }\n",
       "\n",
       "    .dataframe tbody tr th {\n",
       "        vertical-align: top;\n",
       "    }\n",
       "\n",
       "    .dataframe thead th {\n",
       "        text-align: right;\n",
       "    }\n",
       "</style>\n",
       "<table border=\"1\" class=\"dataframe\">\n",
       "  <thead>\n",
       "    <tr style=\"text-align: right;\">\n",
       "      <th>Exercise</th>\n",
       "      <th>False</th>\n",
       "      <th>True</th>\n",
       "    </tr>\n",
       "    <tr>\n",
       "      <th>Supplement</th>\n",
       "      <th></th>\n",
       "      <th></th>\n",
       "    </tr>\n",
       "  </thead>\n",
       "  <tbody>\n",
       "    <tr>\n",
       "      <th>False</th>\n",
       "      <td>0.021673</td>\n",
       "      <td>4.991314</td>\n",
       "    </tr>\n",
       "    <tr>\n",
       "      <th>True</th>\n",
       "      <td>0.497573</td>\n",
       "      <td>14.966363</td>\n",
       "    </tr>\n",
       "  </tbody>\n",
       "</table>\n",
       "</div>"
      ],
      "text/plain": [
       "Exercise       False      True \n",
       "Supplement                     \n",
       "False       0.021673   4.991314\n",
       "True        0.497573  14.966363"
      ]
     },
     "execution_count": 16,
     "metadata": {},
     "output_type": "execute_result"
    }
   ],
   "source": [
    "df_train.pivot_table(index='Supplement',columns='Exercise',values='Weight_Loss_hat')"
   ]
  },
  {
   "cell_type": "markdown",
   "id": "9bef2870-4b67-44aa-b7bc-0ee79f7e3d98",
   "metadata": {},
   "source": [
    "> 뭔데 이래 자동으로 분석해주는데? 게다가 잘함."
   ]
  },
  {
   "cell_type": "markdown",
   "id": "b40817f2-b8ea-4d7c-bf5b-28d01d7ff472",
   "metadata": {},
   "source": [
    "## 5. 다른 예제"
   ]
  },
  {
   "cell_type": "markdown",
   "id": "45e20c58-3ce0-44b0-b33b-20637457aa56",
   "metadata": {},
   "source": [
    "### **A. Data**\n",
    "---\n",
    "\n",
    "\n"
   ]
  },
  {
   "cell_type": "markdown",
   "id": "f48c84fa-f8e4-4968-9d17-17c3e7e3437f",
   "metadata": {},
   "source": [
    "\\- 아이스크림 종류와 온도 별 판매량"
   ]
  },
  {
   "cell_type": "code",
   "execution_count": 17,
   "id": "81469de6-fe86-4ede-be92-c802cfa6da95",
   "metadata": {},
   "outputs": [
    {
     "data": {
      "text/html": [
       "<div>\n",
       "<style scoped>\n",
       "    .dataframe tbody tr th:only-of-type {\n",
       "        vertical-align: middle;\n",
       "    }\n",
       "\n",
       "    .dataframe tbody tr th {\n",
       "        vertical-align: top;\n",
       "    }\n",
       "\n",
       "    .dataframe thead th {\n",
       "        text-align: right;\n",
       "    }\n",
       "</style>\n",
       "<table border=\"1\" class=\"dataframe\">\n",
       "  <thead>\n",
       "    <tr style=\"text-align: right;\">\n",
       "      <th></th>\n",
       "      <th>temp</th>\n",
       "      <th>sales</th>\n",
       "      <th>type</th>\n",
       "    </tr>\n",
       "  </thead>\n",
       "  <tbody>\n",
       "    <tr>\n",
       "      <th>0</th>\n",
       "      <td>-4.1</td>\n",
       "      <td>32.950261</td>\n",
       "      <td>choco</td>\n",
       "    </tr>\n",
       "    <tr>\n",
       "      <th>1</th>\n",
       "      <td>-3.7</td>\n",
       "      <td>35.852524</td>\n",
       "      <td>choco</td>\n",
       "    </tr>\n",
       "    <tr>\n",
       "      <th>2</th>\n",
       "      <td>-3.0</td>\n",
       "      <td>37.428335</td>\n",
       "      <td>choco</td>\n",
       "    </tr>\n",
       "    <tr>\n",
       "      <th>3</th>\n",
       "      <td>-1.3</td>\n",
       "      <td>38.323681</td>\n",
       "      <td>choco</td>\n",
       "    </tr>\n",
       "    <tr>\n",
       "      <th>4</th>\n",
       "      <td>-0.5</td>\n",
       "      <td>39.713362</td>\n",
       "      <td>choco</td>\n",
       "    </tr>\n",
       "    <tr>\n",
       "      <th>...</th>\n",
       "      <td>...</td>\n",
       "      <td>...</td>\n",
       "      <td>...</td>\n",
       "    </tr>\n",
       "    <tr>\n",
       "      <th>95</th>\n",
       "      <td>12.4</td>\n",
       "      <td>119.708075</td>\n",
       "      <td>vanilla</td>\n",
       "    </tr>\n",
       "    <tr>\n",
       "      <th>96</th>\n",
       "      <td>13.4</td>\n",
       "      <td>129.300464</td>\n",
       "      <td>vanilla</td>\n",
       "    </tr>\n",
       "    <tr>\n",
       "      <th>97</th>\n",
       "      <td>14.7</td>\n",
       "      <td>136.596568</td>\n",
       "      <td>vanilla</td>\n",
       "    </tr>\n",
       "    <tr>\n",
       "      <th>98</th>\n",
       "      <td>15.0</td>\n",
       "      <td>136.213140</td>\n",
       "      <td>vanilla</td>\n",
       "    </tr>\n",
       "    <tr>\n",
       "      <th>99</th>\n",
       "      <td>15.2</td>\n",
       "      <td>135.595252</td>\n",
       "      <td>vanilla</td>\n",
       "    </tr>\n",
       "  </tbody>\n",
       "</table>\n",
       "<p>200 rows × 3 columns</p>\n",
       "</div>"
      ],
      "text/plain": [
       "    temp       sales     type\n",
       "0   -4.1   32.950261    choco\n",
       "1   -3.7   35.852524    choco\n",
       "2   -3.0   37.428335    choco\n",
       "3   -1.3   38.323681    choco\n",
       "4   -0.5   39.713362    choco\n",
       "..   ...         ...      ...\n",
       "95  12.4  119.708075  vanilla\n",
       "96  13.4  129.300464  vanilla\n",
       "97  14.7  136.596568  vanilla\n",
       "98  15.0  136.213140  vanilla\n",
       "99  15.2  135.595252  vanilla\n",
       "\n",
       "[200 rows x 3 columns]"
      ]
     },
     "execution_count": 17,
     "metadata": {},
     "output_type": "execute_result"
    }
   ],
   "source": [
    "np.random.seed(43052)\n",
    "temp = pd.read_csv('https://raw.githubusercontent.com/guebin/DV2022/master/posts/temp.csv').iloc[:,3].to_numpy()[:100]\n",
    "temp.sort()\n",
    "choco = 40 + temp * 2.0 + np.random.randn(100)*3\n",
    "vanilla = 60 + temp * 5.0 + np.random.randn(100)*3\n",
    "df1 = pd.DataFrame({'temp':temp,'sales':choco}).assign(type='choco')\n",
    "df2 = pd.DataFrame({'temp':temp,'sales':vanilla}).assign(type='vanilla')\n",
    "df_train = pd.concat([df1,df2])\n",
    "df_train"
   ]
  },
  {
   "cell_type": "markdown",
   "id": "58862850-7354-47fe-97a6-d0211e6f2cae",
   "metadata": {},
   "source": [
    "### **B. 분석 1 : 기본적 선형 회귀**\n",
    "---\n",
    "\n",
    "\n"
   ]
  },
  {
   "cell_type": "code",
   "execution_count": 24,
   "id": "81451845-7200-4b2e-9c58-a3b7205473dc",
   "metadata": {},
   "outputs": [
    {
     "data": {
      "text/plain": [
       "'train score = 0.9250'"
      ]
     },
     "execution_count": 24,
     "metadata": {},
     "output_type": "execute_result"
    }
   ],
   "source": [
    "# step1\n",
    "X = pd.get_dummies(df_train[['temp','type']],drop_first=True)  ## 범주형 자료 처리\n",
    "y = df_train['sales']\n",
    "\n",
    "# step2 \n",
    "predictr = sklearn.linear_model.LinearRegression()\n",
    "\n",
    "# step3\n",
    "predictr.fit(X,y)\n",
    "\n",
    "# step4 \n",
    "df_train['sales_hat'] = predictr.predict(X)\n",
    "\n",
    "#---#\n",
    "f'train score = {predictr.score(X,y):.4f}'"
   ]
  },
  {
   "cell_type": "code",
   "execution_count": 25,
   "id": "bc2d28cb-72a2-42ba-8a28-19f7cafb9d7a",
   "metadata": {},
   "outputs": [
    {
     "data": {
      "text/plain": [
       "<matplotlib.legend.Legend at 0x179d0eef310>"
      ]
     },
     "execution_count": 25,
     "metadata": {},
     "output_type": "execute_result"
    },
    {
     "data": {
      "image/png": "[encoded data removed]",
      "text/plain": [
       "<Figure size 640x480 with 1 Axes>"
      ]
     },
     "metadata": {},
     "output_type": "display_data"
    }
   ],
   "source": [
    "plt.plot(df_train.temp[df_train.type=='choco'],df_train.sales[df_train.type=='choco'],'o',alpha=0.2,label='choco')\n",
    "plt.plot(df_train.temp[df_train.type=='choco'],df_train.sales_hat[df_train.type=='choco'],'--',color='C0')\n",
    "plt.plot(df_train.temp[df_train.type=='vanilla'],df_train.sales[df_train.type=='vanilla'],'o',alpha=0.2,label='vanilla')\n",
    "plt.plot(df_train.temp[df_train.type=='vanilla'],df_train.sales_hat[df_train.type=='vanilla'],'--',color='C1')\n",
    "plt.legend()"
   ]
  },
  {
   "cell_type": "markdown",
   "id": "0df1dabb-e12a-4169-9b19-3f6929cbf2b6",
   "metadata": {},
   "source": [
    "> 언더피팅된 상황"
   ]
  },
  {
   "cell_type": "markdown",
   "id": "60760a79-f3c0-4ad5-8006-dac69076ea93",
   "metadata": {},
   "source": [
    "### **C. 분석 2 : 의사결정나무**\n",
    "---\n",
    "\n",
    "\n"
   ]
  },
  {
   "cell_type": "code",
   "execution_count": 22,
   "id": "876224b7-83a9-4491-915a-3e4b266541d7",
   "metadata": {},
   "outputs": [
    {
     "data": {
      "text/plain": [
       "'train score = 0.9964'"
      ]
     },
     "execution_count": 22,
     "metadata": {},
     "output_type": "execute_result"
    }
   ],
   "source": [
    "# step1\n",
    "X = pd.get_dummies(df_train[['temp','type']],drop_first=True)  ## 범주형 자료 처리\n",
    "y = df_train['sales']\n",
    "\n",
    "# step2 \n",
    "predictr = sklearn.tree.DecisionTreeRegressor()  ## 의사결정나무 사용\n",
    "\n",
    "# step3\n",
    "predictr.fit(X,y)\n",
    "\n",
    "# step4 \n",
    "df_train['sales_hat'] = predictr.predict(X)\n",
    "\n",
    "#---#\n",
    "f'train score = {predictr.score(X,y):.4f}'"
   ]
  },
  {
   "cell_type": "code",
   "execution_count": 23,
   "id": "d083108b-c884-48f4-9a6c-44a561bfa321",
   "metadata": {},
   "outputs": [
    {
     "data": {
      "text/plain": [
       "<matplotlib.legend.Legend at 0x179d233ecb0>"
      ]
     },
     "execution_count": 23,
     "metadata": {},
     "output_type": "execute_result"
    },
    {
     "data": {
      "image/png": "[encoded data removed]",
      "text/plain": [
       "<Figure size 640x480 with 1 Axes>"
      ]
     },
     "metadata": {},
     "output_type": "display_data"
    }
   ],
   "source": [
    "plt.plot(df_train.temp[df_train.type=='choco'],df_train.sales[df_train.type=='choco'],'o',alpha=0.2,label='choco')\n",
    "plt.plot(df_train.temp[df_train.type=='choco'],df_train.sales_hat[df_train.type=='choco'],'--',color='C0')\n",
    "plt.plot(df_train.temp[df_train.type=='vanilla'],df_train.sales[df_train.type=='vanilla'],'o',alpha=0.2,label='vanilla')\n",
    "plt.plot(df_train.temp[df_train.type=='vanilla'],df_train.sales_hat[df_train.type=='vanilla'],'--',color='C1')\n",
    "plt.legend()"
   ]
  },
  {
   "cell_type": "markdown",
   "id": "2a4e08a5-1250-48dd-bfb8-2a8205ba3b43",
   "metadata": {},
   "source": [
    "> 이건 오버피팅됨"
   ]
  },
  {
   "cell_type": "markdown",
   "id": "d6d7bb96-59ad-400a-ba77-faa9a7c2d325",
   "metadata": {},
   "source": [
    "* 교수님 개념\n",
    "\n",
    "> 통계에서 \"관측치 = 언더라잉(선형~(아무튼!)~의 추측치) + 랜덤\"이라 할 수 있다. 모형이 설명해야 할 영역은 언더라잉이다.(단순선형회귀에서 보면 설명하는 것은 조건부 기댓값인 직선이고, 남는 건 오차니까...)\n",
    ">\n",
    "> 모형이 언더라잉을 잘 설명하지 못한다면 언더피팅이고(피팅을 잘 못함), 주어진 모형이 언더라잉을 넘어 오차항까지 설명하려 하고 있다면~(너무 의욕만 넘침...)~ 오버피팅이다.\n",
    "\n",
    "    1. 마음속의 underlying(회귀직선)을 간직한다.\n",
    "    2. 그 underlying보다 잘 맞추면 오버피팅이다.\n",
    "    3. 내 마음속의 underlying이 제대로 학습을 못하고 있다고 판단되면, 모형 자체가 틀렸거나 언더피팅이다.\n",
    "\n",
    "*이에 대한 기준은 좀 주관적이라 사람마다 다를 수 있어요~*\n",
    "\n",
    "이러한 논리에 따라 위의 의사결정나무로 적합된 결과는 오버피팅이다.(그치만 언더피팅보단 나은 것 같기도?)\n",
    "\n",
    "\\- 언더피팅이다 <=> 모형의 표현력이 부족하다 <=> 맞춰야할 것을 제대로 못잡아낸다 <=> 데이터의 특징을 잘 잡아내지 못한다.\n",
    "\n",
    "\\- 오버피팅이다 <=> 모형의 표현력이 너무 풍부하다 <=> 표현력이 너무 좋아서 표현하지 말아야 할 오차항도 표현한다 <=> 데이터의 특징만 잡는게 아니고, 오차항의 특징까지 잡아낸다"
   ]
  },
  {
   "cell_type": "code",
   "execution_count": 26,
   "id": "5471408e-92e0-45b5-87ae-5bc71e26f489",
   "metadata": {},
   "outputs": [
    {
     "data": {
      "text/plain": [
       "<matplotlib.legend.Legend at 0x179d261c280>"
      ]
     },
     "execution_count": 26,
     "metadata": {},
     "output_type": "execute_result"
    },
    {
     "data": {
      "image/png": "[encoded data removed]",
      "text/plain": [
       "<Figure size 640x480 with 1 Axes>"
      ]
     },
     "metadata": {},
     "output_type": "display_data"
    }
   ],
   "source": [
    "#"
   ]
  },
  {
   "cell_type": "markdown",
   "id": "e4f31285-7edf-4229-84fa-e6d6a6f15282",
   "metadata": {},
   "source": [
    "> 마음속의 언더라잉(직선)을 제대로 학습하지 못한 것 같으니 언더피팅이다.\n",
    "\n",
    "(그래도 의사결정나무는 기울기라는 언더라잉은 잡아냈잖아?)"
   ]
  }
 ],
 "metadata": {
  "kernelspec": {
   "display_name": "Python 3 (ipykernel)",
   "language": "python",
   "name": "python3"
  },
  "language_info": {
   "codemirror_mode": {
    "name": "ipython",
    "version": 3
   },
   "file_extension": ".py",
   "mimetype": "text/x-python",
   "name": "python",
   "nbconvert_exporter": "python",
   "pygments_lexer": "ipython3",
   "version": "3.10.13"
  }
 },
 "nbformat": 4,
 "nbformat_minor": 5
}
