{
 "cells": [
  {
   "cell_type": "markdown",
   "id": "574e813f-dd23-4483-848b-4e636163577f",
   "metadata": {},
   "source": [
    "---\n",
    "title: \"이상치의 영향 | 아이스크림\"\n",
    "author: \"강신성\"\n",
    "date: \"2023-10-18\"\n",
    "categories: [python, outlier]\n",
    "---\n",
    "\n",
    "\n"
   ]
  },
  {
   "cell_type": "markdown",
   "id": "b7a46c9b-56a1-4059-b257-ce9577d65f50",
   "metadata": {},
   "source": [
    "> 회귀분석에서 이상치를 처리하는 방법에 대해서 알아보자!"
   ]
  },
  {
   "cell_type": "markdown",
   "id": "2d69852d-703a-45ba-8e00-b7d730c666da",
   "metadata": {},
   "source": [
    "## 1. 라이브러리 imports"
   ]
  },
  {
   "cell_type": "code",
   "execution_count": 1,
   "id": "96b7acb2-98e1-4057-abd0-4ab974abd658",
   "metadata": {},
   "outputs": [],
   "source": [
    "import numpy as np\n",
    "import pandas as pd\n",
    "import sklearn.linear_model\n",
    "import matplotlib.pyplot as plt"
   ]
  },
  {
   "cell_type": "markdown",
   "id": "87df98bf-a1ba-4a19-914b-6f1cd540d29c",
   "metadata": {},
   "source": [
    "## 2. Data"
   ]
  },
  {
   "cell_type": "markdown",
   "id": "2643bd2f-ac21-4369-af49-920ec42d5cc7",
   "metadata": {},
   "source": [
    "> 오늘 사용할 데이터는 날씨와 아이스크림 판매가 엮인 연속형 자료이다."
   ]
  },
  {
   "cell_type": "code",
   "execution_count": 2,
   "id": "3a873538-6cb9-486d-a0b8-5bfc52d32b40",
   "metadata": {},
   "outputs": [
    {
     "data": {
      "text/html": [
       "<div>\n",
       "<style scoped>\n",
       "    .dataframe tbody tr th:only-of-type {\n",
       "        vertical-align: middle;\n",
       "    }\n",
       "\n",
       "    .dataframe tbody tr th {\n",
       "        vertical-align: top;\n",
       "    }\n",
       "\n",
       "    .dataframe thead th {\n",
       "        text-align: right;\n",
       "    }\n",
       "</style>\n",
       "<table border=\"1\" class=\"dataframe\">\n",
       "  <thead>\n",
       "    <tr style=\"text-align: right;\">\n",
       "      <th></th>\n",
       "      <th>temp</th>\n",
       "      <th>ice_sales</th>\n",
       "    </tr>\n",
       "  </thead>\n",
       "  <tbody>\n",
       "    <tr>\n",
       "      <th>0</th>\n",
       "      <td>-4.1</td>\n",
       "      <td>200.000000</td>\n",
       "    </tr>\n",
       "    <tr>\n",
       "      <th>1</th>\n",
       "      <td>-3.7</td>\n",
       "      <td>9.234175</td>\n",
       "    </tr>\n",
       "    <tr>\n",
       "      <th>2</th>\n",
       "      <td>-3.0</td>\n",
       "      <td>9.642778</td>\n",
       "    </tr>\n",
       "    <tr>\n",
       "      <th>3</th>\n",
       "      <td>-1.3</td>\n",
       "      <td>9.657894</td>\n",
       "    </tr>\n",
       "    <tr>\n",
       "      <th>4</th>\n",
       "      <td>-0.5</td>\n",
       "      <td>9.987787</td>\n",
       "    </tr>\n",
       "    <tr>\n",
       "      <th>...</th>\n",
       "      <td>...</td>\n",
       "      <td>...</td>\n",
       "    </tr>\n",
       "    <tr>\n",
       "      <th>95</th>\n",
       "      <td>12.4</td>\n",
       "      <td>17.508688</td>\n",
       "    </tr>\n",
       "    <tr>\n",
       "      <th>96</th>\n",
       "      <td>13.4</td>\n",
       "      <td>17.105376</td>\n",
       "    </tr>\n",
       "    <tr>\n",
       "      <th>97</th>\n",
       "      <td>14.7</td>\n",
       "      <td>17.164930</td>\n",
       "    </tr>\n",
       "    <tr>\n",
       "      <th>98</th>\n",
       "      <td>15.0</td>\n",
       "      <td>18.555388</td>\n",
       "    </tr>\n",
       "    <tr>\n",
       "      <th>99</th>\n",
       "      <td>15.2</td>\n",
       "      <td>18.787014</td>\n",
       "    </tr>\n",
       "  </tbody>\n",
       "</table>\n",
       "<p>100 rows × 2 columns</p>\n",
       "</div>"
      ],
      "text/plain": [
       "    temp   ice_sales\n",
       "0   -4.1  200.000000\n",
       "1   -3.7    9.234175\n",
       "2   -3.0    9.642778\n",
       "3   -1.3    9.657894\n",
       "4   -0.5    9.987787\n",
       "..   ...         ...\n",
       "95  12.4   17.508688\n",
       "96  13.4   17.105376\n",
       "97  14.7   17.164930\n",
       "98  15.0   18.555388\n",
       "99  15.2   18.787014\n",
       "\n",
       "[100 rows x 2 columns]"
      ]
     },
     "execution_count": 2,
     "metadata": {},
     "output_type": "execute_result"
    }
   ],
   "source": [
    "np.random.seed(43052)\n",
    "temp = pd.read_csv('https://raw.githubusercontent.com/guebin/DV2022/master/posts/temp.csv').iloc[:100,3].to_numpy()\n",
    "temp.sort()\n",
    "ice_sales = 10 + temp * 0.5 + np.random.randn(100)\n",
    "ice_sales[0] = 200\n",
    "df_train = pd.DataFrame({'temp':temp,'ice_sales':ice_sales})\n",
    "df_train"
   ]
  },
  {
   "cell_type": "code",
   "execution_count": 4,
   "id": "bfba461b-6bfc-448b-94bf-29333280b47d",
   "metadata": {},
   "outputs": [
    {
     "data": {
      "text/plain": [
       "[<matplotlib.lines.Line2D at 0x21020be17e0>]"
      ]
     },
     "execution_count": 4,
     "metadata": {},
     "output_type": "execute_result"
    },
    {
     "data": {
      "image/png": "[encoded data removed]",
      "text/plain": [
       "<Figure size 640x480 with 1 Axes>"
      ]
     },
     "metadata": {},
     "output_type": "display_data"
    }
   ],
   "source": [
    "plt.plot(df_train.temp, df_train.ice_sales, 'o')"
   ]
  },
  {
   "cell_type": "markdown",
   "id": "40f75cef-aa7a-48cb-9ff7-fe788aa2cbf0",
   "metadata": {},
   "source": [
    "* 상상 : 온도가 -4.1인 지점에서 \"썰매축제\"가 열렸다고 가정하자. 그래서 사람이 많이 오고 아이스크림이 많이 팔렸다. ~(아 그렇다고 해줘요.)~"
   ]
  },
  {
   "cell_type": "markdown",
   "id": "bb8fc009-e4f7-4ff6-a4a6-2e2ad1bc6fdb",
   "metadata": {},
   "source": [
    "## 3. 분석\n"
   ]
  },
  {
   "cell_type": "markdown",
   "id": "44f3fb5d-7a1f-42ca-8bc4-9b584eeebe89",
   "metadata": {},
   "source": [
    "\\- 해당 데이터를 선형 회귀로 적합"
   ]
  },
  {
   "cell_type": "code",
   "execution_count": 5,
   "id": "4c4cdd59-9a76-4e3e-95db-7e5f62d36d1d",
   "metadata": {},
   "outputs": [
    {
     "data": {
      "text/html": [
       "<div>\n",
       "<style scoped>\n",
       "    .dataframe tbody tr th:only-of-type {\n",
       "        vertical-align: middle;\n",
       "    }\n",
       "\n",
       "    .dataframe tbody tr th {\n",
       "        vertical-align: top;\n",
       "    }\n",
       "\n",
       "    .dataframe thead th {\n",
       "        text-align: right;\n",
       "    }\n",
       "</style>\n",
       "<table border=\"1\" class=\"dataframe\">\n",
       "  <thead>\n",
       "    <tr style=\"text-align: right;\">\n",
       "      <th></th>\n",
       "      <th>temp</th>\n",
       "      <th>ice_sales</th>\n",
       "      <th>ice_sales_hat</th>\n",
       "    </tr>\n",
       "  </thead>\n",
       "  <tbody>\n",
       "    <tr>\n",
       "      <th>0</th>\n",
       "      <td>-4.1</td>\n",
       "      <td>200.000000</td>\n",
       "      <td>20.989373</td>\n",
       "    </tr>\n",
       "    <tr>\n",
       "      <th>1</th>\n",
       "      <td>-3.7</td>\n",
       "      <td>9.234175</td>\n",
       "      <td>20.731457</td>\n",
       "    </tr>\n",
       "    <tr>\n",
       "      <th>2</th>\n",
       "      <td>-3.0</td>\n",
       "      <td>9.642778</td>\n",
       "      <td>20.280103</td>\n",
       "    </tr>\n",
       "    <tr>\n",
       "      <th>3</th>\n",
       "      <td>-1.3</td>\n",
       "      <td>9.657894</td>\n",
       "      <td>19.183959</td>\n",
       "    </tr>\n",
       "    <tr>\n",
       "      <th>4</th>\n",
       "      <td>-0.5</td>\n",
       "      <td>9.987787</td>\n",
       "      <td>18.668126</td>\n",
       "    </tr>\n",
       "    <tr>\n",
       "      <th>...</th>\n",
       "      <td>...</td>\n",
       "      <td>...</td>\n",
       "      <td>...</td>\n",
       "    </tr>\n",
       "    <tr>\n",
       "      <th>95</th>\n",
       "      <td>12.4</td>\n",
       "      <td>17.508688</td>\n",
       "      <td>10.350324</td>\n",
       "    </tr>\n",
       "    <tr>\n",
       "      <th>96</th>\n",
       "      <td>13.4</td>\n",
       "      <td>17.105376</td>\n",
       "      <td>9.705533</td>\n",
       "    </tr>\n",
       "    <tr>\n",
       "      <th>97</th>\n",
       "      <td>14.7</td>\n",
       "      <td>17.164930</td>\n",
       "      <td>8.867305</td>\n",
       "    </tr>\n",
       "    <tr>\n",
       "      <th>98</th>\n",
       "      <td>15.0</td>\n",
       "      <td>18.555388</td>\n",
       "      <td>8.673867</td>\n",
       "    </tr>\n",
       "    <tr>\n",
       "      <th>99</th>\n",
       "      <td>15.2</td>\n",
       "      <td>18.787014</td>\n",
       "      <td>8.544909</td>\n",
       "    </tr>\n",
       "  </tbody>\n",
       "</table>\n",
       "<p>100 rows × 3 columns</p>\n",
       "</div>"
      ],
      "text/plain": [
       "    temp   ice_sales  ice_sales_hat\n",
       "0   -4.1  200.000000      20.989373\n",
       "1   -3.7    9.234175      20.731457\n",
       "2   -3.0    9.642778      20.280103\n",
       "3   -1.3    9.657894      19.183959\n",
       "4   -0.5    9.987787      18.668126\n",
       "..   ...         ...            ...\n",
       "95  12.4   17.508688      10.350324\n",
       "96  13.4   17.105376       9.705533\n",
       "97  14.7   17.164930       8.867305\n",
       "98  15.0   18.555388       8.673867\n",
       "99  15.2   18.787014       8.544909\n",
       "\n",
       "[100 rows x 3 columns]"
      ]
     },
     "execution_count": 5,
     "metadata": {},
     "output_type": "execute_result"
    }
   ],
   "source": [
    "# step1\n",
    "X = df_train[['temp']]\n",
    "y = df_train[['ice_sales']]\n",
    "\n",
    "# step2\n",
    "predictr = sklearn.linear_model.LinearRegression()\n",
    "\n",
    "# step3\n",
    "predictr.fit(X, y)\n",
    "\n",
    "# step4\n",
    "df_train.assign(ice_sales_hat = predictr.predict(X))"
   ]
  },
  {
   "cell_type": "code",
   "execution_count": 10,
   "id": "f6b0b4e5-348e-4281-a4cf-e712c8a087ad",
   "metadata": {},
   "outputs": [
    {
     "data": {
      "text/plain": [
       "array([[-0.64479089]])"
      ]
     },
     "execution_count": 10,
     "metadata": {},
     "output_type": "execute_result"
    }
   ],
   "source": [
    "predictr.coef_"
   ]
  },
  {
   "cell_type": "markdown",
   "id": "2a339c97-928a-4896-acb5-ed1560aea80c",
   "metadata": {},
   "source": [
    "> 음수가 나오네? 뭔가 이상하다..."
   ]
  },
  {
   "cell_type": "markdown",
   "id": "d02e1f05-f90b-4b21-93a4-3cc6fda6d48f",
   "metadata": {},
   "source": [
    "\\- 시각화"
   ]
  },
  {
   "cell_type": "code",
   "execution_count": 20,
   "id": "550d1673-f669-4029-abe3-0445c7778542",
   "metadata": {},
   "outputs": [
    {
     "data": {
      "image/png": "[encoded data removed]",
      "text/plain": [
       "<Figure size 640x480 with 1 Axes>"
      ]
     },
     "metadata": {},
     "output_type": "display_data"
    }
   ],
   "source": [
    "df_predict = df_train.assign(ice_sales_hat = predictr.predict(X))\n",
    "\n",
    "plt.plot(df_predict.temp[1:], df_predict.ice_sales[1:], 'o')\n",
    "plt.plot(df_predict.temp[1:], df_predict.ice_sales_hat[1:], '--')\n",
    "plt.show()\n",
    "\n",
    "#plt.plot(df_predict.temp, df_predict.ice_sales, 'o')\n",
    "#plt.plot(df_predict.temp, df_predict.ice_sales_hat, '--')"
   ]
  },
  {
   "cell_type": "markdown",
   "id": "dd41cb4d-c585-4ce3-a825-36cb67c1da76",
   "metadata": {},
   "source": [
    "\\- 새로운 unseen data를 가정, 데이터는 온도가 12.5~18에 걸쳐있다고 하자."
   ]
  },
  {
   "cell_type": "code",
   "execution_count": 21,
   "id": "ba353b3c-6fa5-4edd-8592-2990bc9c2e8e",
   "metadata": {},
   "outputs": [
    {
     "data": {
      "text/html": [
       "<div>\n",
       "<style scoped>\n",
       "    .dataframe tbody tr th:only-of-type {\n",
       "        vertical-align: middle;\n",
       "    }\n",
       "\n",
       "    .dataframe tbody tr th {\n",
       "        vertical-align: top;\n",
       "    }\n",
       "\n",
       "    .dataframe thead th {\n",
       "        text-align: right;\n",
       "    }\n",
       "</style>\n",
       "<table border=\"1\" class=\"dataframe\">\n",
       "  <thead>\n",
       "    <tr style=\"text-align: right;\">\n",
       "      <th></th>\n",
       "      <th>temp</th>\n",
       "      <th>ice_sales</th>\n",
       "      <th>ice_sales_hat</th>\n",
       "    </tr>\n",
       "  </thead>\n",
       "  <tbody>\n",
       "    <tr>\n",
       "      <th>0</th>\n",
       "      <td>-4.1</td>\n",
       "      <td>200.000000</td>\n",
       "      <td>20.989373</td>\n",
       "    </tr>\n",
       "    <tr>\n",
       "      <th>1</th>\n",
       "      <td>-3.7</td>\n",
       "      <td>9.234175</td>\n",
       "      <td>20.731457</td>\n",
       "    </tr>\n",
       "    <tr>\n",
       "      <th>2</th>\n",
       "      <td>-3.0</td>\n",
       "      <td>9.642778</td>\n",
       "      <td>20.280103</td>\n",
       "    </tr>\n",
       "    <tr>\n",
       "      <th>3</th>\n",
       "      <td>-1.3</td>\n",
       "      <td>9.657894</td>\n",
       "      <td>19.183959</td>\n",
       "    </tr>\n",
       "    <tr>\n",
       "      <th>4</th>\n",
       "      <td>-0.5</td>\n",
       "      <td>9.987787</td>\n",
       "      <td>18.668126</td>\n",
       "    </tr>\n",
       "    <tr>\n",
       "      <th>...</th>\n",
       "      <td>...</td>\n",
       "      <td>...</td>\n",
       "      <td>...</td>\n",
       "    </tr>\n",
       "    <tr>\n",
       "      <th>95</th>\n",
       "      <td>12.4</td>\n",
       "      <td>17.508688</td>\n",
       "      <td>10.350324</td>\n",
       "    </tr>\n",
       "    <tr>\n",
       "      <th>96</th>\n",
       "      <td>13.4</td>\n",
       "      <td>17.105376</td>\n",
       "      <td>9.705533</td>\n",
       "    </tr>\n",
       "    <tr>\n",
       "      <th>97</th>\n",
       "      <td>14.7</td>\n",
       "      <td>17.164930</td>\n",
       "      <td>8.867305</td>\n",
       "    </tr>\n",
       "    <tr>\n",
       "      <th>98</th>\n",
       "      <td>15.0</td>\n",
       "      <td>18.555388</td>\n",
       "      <td>8.673867</td>\n",
       "    </tr>\n",
       "    <tr>\n",
       "      <th>99</th>\n",
       "      <td>15.2</td>\n",
       "      <td>18.787014</td>\n",
       "      <td>8.544909</td>\n",
       "    </tr>\n",
       "  </tbody>\n",
       "</table>\n",
       "<p>100 rows × 3 columns</p>\n",
       "</div>"
      ],
      "text/plain": [
       "    temp   ice_sales  ice_sales_hat\n",
       "0   -4.1  200.000000      20.989373\n",
       "1   -3.7    9.234175      20.731457\n",
       "2   -3.0    9.642778      20.280103\n",
       "3   -1.3    9.657894      19.183959\n",
       "4   -0.5    9.987787      18.668126\n",
       "..   ...         ...            ...\n",
       "95  12.4   17.508688      10.350324\n",
       "96  13.4   17.105376       9.705533\n",
       "97  14.7   17.164930       8.867305\n",
       "98  15.0   18.555388       8.673867\n",
       "99  15.2   18.787014       8.544909\n",
       "\n",
       "[100 rows x 3 columns]"
      ]
     },
     "execution_count": 21,
     "metadata": {},
     "output_type": "execute_result"
    }
   ],
   "source": [
    "df_predict"
   ]
  },
  {
   "cell_type": "code",
   "execution_count": 23,
   "id": "7684625d-37cb-495e-b051-49557cab71b2",
   "metadata": {},
   "outputs": [
    {
     "data": {
      "text/plain": [
       "[<matplotlib.lines.Line2D at 0x210247b6230>]"
      ]
     },
     "execution_count": 23,
     "metadata": {},
     "output_type": "execute_result"
    },
    {
     "data": {
      "image/png": "[encoded data removed]",
      "text/plain": [
       "<Figure size 640x480 with 1 Axes>"
      ]
     },
     "metadata": {},
     "output_type": "display_data"
    }
   ],
   "source": [
    "XX = df_test = pd.DataFrame({'temp':np.linspace(12.5, 18, 50)})  ## 이중 저장도 되는듯\n",
    "\n",
    "df_test['ice_sales_hat'] = predictr.predict(XX)\n",
    "\n",
    "plt.plot(df_predict.temp[1:],df_predict.ice_sales[1:],'o')\n",
    "plt.plot(df_predict.temp[1:],df_predict.ice_sales_hat[1:],'--')\n",
    "plt.plot(df_test.temp,df_test.ice_sales_hat,'--')"
   ]
  },
  {
   "cell_type": "markdown",
   "id": "9e97ff01-d747-4ff0-9a05-4bbae110128a",
   "metadata": {},
   "source": [
    "* 온도가 올라갈수록 아이스크림 판매량은 줄어든다는 해석(더 온도가 올라간다면 판매량이 음수도 나오겠다.)\n",
    "\n",
    "* 저 정도의 아웃라이어는 모형에서 제외하는 게 타당하지 않나?\n",
    "> 하지만 저런 아웃라이어가 데이터의 가치가 있을 수도 있음.(그럼 그 데이터의 가치가 있는지 없는지는 어떻게 판단하지?"
   ]
  },
  {
   "cell_type": "markdown",
   "id": "e088c54e-b037-4c73-a7d8-67691c26752f",
   "metadata": {},
   "source": [
    "## 4. 결론"
   ]
  },
  {
   "cell_type": "markdown",
   "id": "58495e6e-e756-46e6-b988-bdedacb9bd04",
   "metadata": {},
   "source": [
    "\\- 딱히 정답이 없다...\n",
    "\n",
    "> outlier가 결과를 완전히 바꾼다고 해도, 무작정 바꿀 순 없는 노릇이다. 세심한 주의가 필요하다.\n",
    "\n",
    "앞으로 outlier를 어떻게 처리해야 할 지 알아보자."
   ]
  }
 ],
 "metadata": {
  "kernelspec": {
   "display_name": "Python 3 (ipykernel)",
   "language": "python",
   "name": "python3"
  },
  "language_info": {
   "codemirror_mode": {
    "name": "ipython",
    "version": 3
   },
   "file_extension": ".py",
   "mimetype": "text/x-python",
   "name": "python",
   "nbconvert_exporter": "python",
   "pygments_lexer": "ipython3",
   "version": "3.10.13"
  }
 },
 "nbformat": 4,
 "nbformat_minor": 5
}
