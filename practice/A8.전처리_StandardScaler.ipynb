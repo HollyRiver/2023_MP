{
 "cells": [
  {
   "cell_type": "markdown",
   "id": "3d44162c-c003-4d46-90b7-c80d1d8dba6e",
   "metadata": {},
   "source": [
    "# 전처리 | ```StandardScaler```"
   ]
  },
  {
   "cell_type": "markdown",
   "id": "fe878cd2-eaae-472c-ab1c-ae495c4f923c",
   "metadata": {},
   "source": [
    "\n",
    "* 정규화하는 방법으로 전처리를 해보자!\n",
    "\n",
    "\n",
    "## 1. 라이브러리 import"
   ]
  },
  {
   "cell_type": "code",
   "execution_count": 1,
   "id": "c57b14d9-bcac-4602-9c52-8e1913ec2ef8",
   "metadata": {},
   "outputs": [],
   "source": [
    "import numpy as np\n",
    "import pandas as pd\n",
    "import sklearn.preprocessing"
   ]
  },
  {
   "cell_type": "markdown",
   "id": "2fe2b297-ee0a-4d35-b518-0342e15035a4",
   "metadata": {},
   "source": [
    "## 3. `StandardScaler()`\n",
    "\\- 예제자료 로드"
   ]
  },
  {
   "cell_type": "code",
   "execution_count": 2,
   "id": "afe37d11-c186-44b9-83ba-069869024f51",
   "metadata": {},
   "outputs": [
    {
     "data": {
      "text/html": [
       "<div>\n",
       "<style scoped>\n",
       "    .dataframe tbody tr th:only-of-type {\n",
       "        vertical-align: middle;\n",
       "    }\n",
       "\n",
       "    .dataframe tbody tr th {\n",
       "        vertical-align: top;\n",
       "    }\n",
       "\n",
       "    .dataframe thead th {\n",
       "        text-align: right;\n",
       "    }\n",
       "</style>\n",
       "<table border=\"1\" class=\"dataframe\">\n",
       "  <thead>\n",
       "    <tr style=\"text-align: right;\">\n",
       "      <th></th>\n",
       "      <th>toeic</th>\n",
       "      <th>gpa</th>\n",
       "    </tr>\n",
       "  </thead>\n",
       "  <tbody>\n",
       "    <tr>\n",
       "      <th>0</th>\n",
       "      <td>135</td>\n",
       "      <td>0.051535</td>\n",
       "    </tr>\n",
       "    <tr>\n",
       "      <th>1</th>\n",
       "      <td>935</td>\n",
       "      <td>0.355496</td>\n",
       "    </tr>\n",
       "    <tr>\n",
       "      <th>2</th>\n",
       "      <td>485</td>\n",
       "      <td>2.228435</td>\n",
       "    </tr>\n",
       "    <tr>\n",
       "      <th>3</th>\n",
       "      <td>65</td>\n",
       "      <td>1.179701</td>\n",
       "    </tr>\n",
       "    <tr>\n",
       "      <th>4</th>\n",
       "      <td>445</td>\n",
       "      <td>3.962356</td>\n",
       "    </tr>\n",
       "    <tr>\n",
       "      <th>5</th>\n",
       "      <td>65</td>\n",
       "      <td>1.846885</td>\n",
       "    </tr>\n",
       "    <tr>\n",
       "      <th>6</th>\n",
       "      <td>290</td>\n",
       "      <td>0.309928</td>\n",
       "    </tr>\n",
       "    <tr>\n",
       "      <th>7</th>\n",
       "      <td>730</td>\n",
       "      <td>0.336081</td>\n",
       "    </tr>\n",
       "  </tbody>\n",
       "</table>\n",
       "</div>"
      ],
      "text/plain": [
       "   toeic       gpa\n",
       "0    135  0.051535\n",
       "1    935  0.355496\n",
       "2    485  2.228435\n",
       "3     65  1.179701\n",
       "4    445  3.962356\n",
       "5     65  1.846885\n",
       "6    290  0.309928\n",
       "7    730  0.336081"
      ]
     },
     "execution_count": 2,
     "metadata": {},
     "output_type": "execute_result"
    }
   ],
   "source": [
    "df = pd.read_csv('https://raw.githubusercontent.com/guebin/MP2023/main/posts/employment.csv').loc[:7,['toeic','gpa']]\n",
    "df"
   ]
  },
  {
   "cell_type": "markdown",
   "id": "5f79125f-16f4-4615-9f84-83886ad614ff",
   "metadata": {},
   "source": [
    "\\- 스케일러를 생성"
   ]
  },
  {
   "cell_type": "code",
   "execution_count": 4,
   "id": "b275a182-a4e9-4452-8440-ca8a94a7f702",
   "metadata": {},
   "outputs": [
    {
     "data": {
      "text/plain": [
       "array([[-0.8680409 , -0.98104887],\n",
       "       [ 1.81575704, -0.73905505],\n",
       "       [ 0.3061207 ,  0.75205327],\n",
       "       [-1.10287322, -0.08287854],\n",
       "       [ 0.17193081,  2.13248542],\n",
       "       [-1.10287322,  0.44828929],\n",
       "       [-0.34805505, -0.77533368],\n",
       "       [ 1.12803382, -0.75451182]])"
      ]
     },
     "execution_count": 4,
     "metadata": {},
     "output_type": "execute_result"
    }
   ],
   "source": [
    "sclr = sklearn.preprocessing.StandardScaler()\n",
    "sclr.fit_transform(df)"
   ]
  },
  {
   "cell_type": "markdown",
   "id": "ccbc3339-4a29-4d68-b377-aa5dec796172",
   "metadata": {},
   "source": [
    "\\- 계산식"
   ]
  },
  {
   "cell_type": "code",
   "execution_count": 5,
   "id": "ba7f6661-8246-4905-945d-5e5ee4dcfd6f",
   "metadata": {},
   "outputs": [
    {
     "data": {
      "text/plain": [
       "0   -0.868041\n",
       "1    1.815757\n",
       "2    0.306121\n",
       "3   -1.102873\n",
       "4    0.171931\n",
       "5   -1.102873\n",
       "6   -0.348055\n",
       "7    1.128034\n",
       "Name: toeic, dtype: float64"
      ]
     },
     "execution_count": 5,
     "metadata": {},
     "output_type": "execute_result"
    }
   ],
   "source": [
    "(df.toeic - df.toeic.mean())/df.toeic.std(ddof=0) # 계산식"
   ]
  },
  {
   "cell_type": "markdown",
   "id": "b9d9becc-4121-4a04-8b96-b14627d43eed",
   "metadata": {},
   "source": [
    "그냥 표준화하는 것이다."
   ]
  },
  {
   "cell_type": "markdown",
   "id": "0955a838-7f50-4c82-992c-a882f21607f8",
   "metadata": {},
   "source": [
    "## 3. 비교\n",
    "\n",
    "\\- `MinMaxScaler`와 `StandardScaler`는 데이터의 스케일을 조정하는 두 가지 일반적인 방법이다.\n",
    "\n",
    "1. **MinMaxSclaer**:\n",
    "    * 장점 : 원하는 범위 내로 데이터를 조정할 때 유용, 특히 신경망에서는 활성화 함수의 범위와 일치하도록 입력값을 조정하는 데 유용.\n",
    "    * 단점 : 이상치에 매우 민감하다.\n",
    "\n",
    "1. **StandardScaler**:\n",
    "   * 장점 : 이상치에 덜 민감함, 많은 통계적 기법들 - 선형 알고리즘에서 잘 작동함\n",
    "   * 단점 : 표준화된 데이터의 값이 특정 범위 내에 있음을 보장하지 않음.\n",
    "  \n",
    "> 단순히 MinMaxScaler는 데이터가 0\\~1 또는 -1~1사이의 범위에 있다고 가정한다.\n",
    "\n",
    "\n",
    "**그래서 둘 중 어느 것을 선택해야 하는데???**\n",
    "\n",
    "* 둘 중 이상치가 많으면 `StandardScaler`가 더 적합할 수 있다.\n",
    "* 모델의 알고리즘과 특성에 따라 선택해야 한다. 신경망의 경우 `MinMaxScaler`가 적합할 수 있다.\n",
    "\n",
    "결론적으로 두 스케일링 방법 중 어느 것이 더 좋은지는 사용 사례와 데이터의 특성에 따라 다르기 때문에, 가능한 경우 둘 다 시도해보고 모델의 성능을 비교하는 것이 좋다."
   ]
  },
  {
   "cell_type": "markdown",
   "id": "8e0c4885-be74-4c70-b481-8d48a57adb6f",
   "metadata": {},
   "source": [
    "## 4. 결론\n",
    "\n",
    "# **답이 없다!**\n",
    "\n",
    "* 보통은 아무거나 해도 큰일 안남.\n",
    "* 아주 특수한 경우(고전적 PCA)를 제외하고는 이론적인 선택기준은 없음."
   ]
  }
 ],
 "metadata": {
  "kernelspec": {
   "display_name": "Python 3 (ipykernel)",
   "language": "python",
   "name": "python3"
  },
  "language_info": {
   "codemirror_mode": {
    "name": "ipython",
    "version": 3
   },
   "file_extension": ".py",
   "mimetype": "text/x-python",
   "name": "python",
   "nbconvert_exporter": "python",
   "pygments_lexer": "ipython3",
   "version": "3.10.13"
  }
 },
 "nbformat": 4,
 "nbformat_minor": 5
}
