{
 "cells": [
  {
   "cell_type": "markdown",
   "id": "c311c7b5-2aa8-4b58-ba15-90b3d8a81102",
   "metadata": {},
   "source": [
    "# 08wk: 중간고사 (ver 0.1)\n",
    "\n",
    "최규빈  \n",
    "2023-11-02\n",
    "\n",
    "<https://youtu.be/h5WnvWsqgtI?si=6-GRGyscR2_7BErA>\n",
    "\n",
    "------------------------------------------------------------------------\n",
    "\n",
    "1.  True/False를 판단하는 문제는 답만 써도 무방함.\n",
    "2.  “자료분석” 문제는 “kaggle style score = 50%”, “분석의 논리 = 50%” 의\n",
    "    배점으로 채점한다.\n",
    "3.  “자료분석” 유형의 경우 분석의 논리가 매우 우수하거나, 창의적인\n",
    "    접근법으로 분석을 시도할 경우 가산점을 부여한다. (아이디어\n",
    "    단계에서도 가산점 부여가능) 가산점은 문항점수의 최대 100%까지\n",
    "    부여한다.\n",
    "4.  “연구” 문항의 경우 세부문항을 정확하게 수행한 경우에만 100%의 점수를\n",
    "    부여하며 이를 어길시 부분점수를 부여하지 않는다. 연구결과의 시각화나\n",
    "    해석이 우수한 답안은 문항점수의 20%까지 가산점을 부여한다.\n",
    "\n",
    "------------------------------------------------------------------------"
   ]
  },
  {
   "cell_type": "code",
   "execution_count": 29,
   "id": "70bd7605-1f7a-48be-ab9a-ccca3295104e",
   "metadata": {
    "tags": []
   },
   "outputs": [],
   "source": [
    "import pandas as pd\n",
    "import numpy as np\n",
    "import matplotlib.pyplot as plt\n",
    "import sklearn.preprocessing \n",
    "import sklearn.model_selection"
   ]
  },
  {
   "cell_type": "markdown",
   "id": "7924063c-2cfa-4f84-827a-2cb434729c87",
   "metadata": {},
   "source": [
    "# `1`. O/X\n",
    "\n",
    "-   <https://www.kaggle.com/t/7911b05108f642e094ce13a77a5a4723>\n",
    "\n",
    "`(1)` [모듈9\n",
    "5-B](https://guebin.github.io/MP2023/posts/03wk-009.html#b.-predictor-%EC%83%9D%EC%84%B1)에서\n",
    "`sklearn.linear_model.LinearRegression()` 대신\n",
    "`sklearn.linear_model.LogisticRegression()` 를 이용하여 predictor를\n",
    "생성해도 무방하다.\n",
    "\n",
    "> 링크를 `shift + 클릭`하면 새 창으로 열려서 문제 풀기 수월합니다.\n",
    "\n",
    "# `2`. 자료분석\n",
    "\n",
    "`(1)` 아래의 자료를 해석하고 세부지침에 맞추어 분석하라."
   ]
  },
  {
   "cell_type": "code",
   "execution_count": 121,
   "id": "54316308-ea49-4eac-9887-2896d4ee3011",
   "metadata": {
    "tags": []
   },
   "outputs": [],
   "source": [
    "df_train = pd.read_csv('https://raw.githubusercontent.com/guebin/MP2023/master/posts/mid/icesales_train.csv')\n",
    "df_test = pd.read_csv('https://raw.githubusercontent.com/guebin/MP2023/master/posts/mid/icesales_test.csv')"
   ]
  },
  {
   "cell_type": "code",
   "execution_count": 122,
   "id": "e76ab4c7-f5ad-4053-9027-59bb7dc86918",
   "metadata": {
    "tags": []
   },
   "outputs": [],
   "source": [
    "df_train.head()"
   ]
  },
  {
   "cell_type": "code",
   "execution_count": 123,
   "id": "402f4c39-388c-4114-be5e-c38c88310fc8",
   "metadata": {
    "tags": []
   },
   "outputs": [],
   "source": [
    "df_test.head()"
   ]
  },
  {
   "cell_type": "markdown",
   "id": "29771815-37f7-41d8-aa7e-52e10c67581b",
   "metadata": {},
   "source": [
    "**세부지침**\n",
    "\n",
    "1.  반응변수 ${\\bf y}$를 `sales`로 설정하고 나머지는 설명변수로\n",
    "    설정하라.\n",
    "2.  `sklearn.linear_model` 에 포함된 모형들을 이용하여 분석하라.\n",
    "3.  `df_test`에 sales에 대한 예측값을 포함하는 열을 추가하라.\n",
    "\n",
    "`(2)` 아래의 자료를 해석하고 세부지침에 맞추어 분석하라."
   ]
  },
  {
   "cell_type": "code",
   "execution_count": 125,
   "id": "18a24cc9-5a5e-487d-9c21-2c728a0124a0",
   "metadata": {
    "tags": []
   },
   "outputs": [],
   "source": [
    "df_train = pd.read_csv('https://raw.githubusercontent.com/guebin/MP2023/master/posts/mid/synthetic_train.csv')\n",
    "df_test = pd.read_csv('https://raw.githubusercontent.com/guebin/MP2023/master/posts/mid/synthetic_test.csv')"
   ]
  },
  {
   "cell_type": "code",
   "execution_count": 128,
   "id": "27c4e565-3055-4b24-8331-ff0613ca1414",
   "metadata": {
    "tags": []
   },
   "outputs": [],
   "source": [
    "df_train.head()"
   ]
  },
  {
   "cell_type": "code",
   "execution_count": 129,
   "id": "ad7c5005-2f90-47df-b7c9-10b4be34e792",
   "metadata": {
    "tags": []
   },
   "outputs": [],
   "source": [
    "df_test.head()"
   ]
  },
  {
   "cell_type": "markdown",
   "id": "11a94758-4892-4441-8e8a-36a6ee023be6",
   "metadata": {},
   "source": [
    "**세부지침**\n",
    "\n",
    "1.  반응변수 ${\\bf y}$를 `y`로 설정하고 나머지 `X1`,`X2`,`X3`는\n",
    "    설명변수로 설정하라.\n",
    "2.  `sklearn.preprocessing`내의 적절한 scaler릉 이용하여 설명변수를\n",
    "    scaling하라.\n",
    "3.  `df_test`에 y에 대한 예측값을 포함하는 열을 추가하라.\n",
    "\n",
    "# `3`. 연구\n",
    "\n",
    "`(1)` 아래의 자료를 세부지침에 맞추어 연구하라."
   ]
  },
  {
   "cell_type": "code",
   "execution_count": 130,
   "id": "7ea9b65b-6206-4cbf-b411-4acf4c6c1758",
   "metadata": {
    "tags": []
   },
   "outputs": [],
   "source": [
    "np.random.seed(43052)\n",
    "df = pd.read_csv(\"https://raw.githubusercontent.com/guebin/MP2023/main/posts/employment_multicollinearity.csv\")\n",
    "df['employment_score'] = df.gpa * 1.0 + df.toeic* 1/100 + np.random.randn(500)"
   ]
  },
  {
   "cell_type": "code",
   "execution_count": 131,
   "id": "3870d3e5-4d46-45db-9ea9-91e8e9e97bd2",
   "metadata": {
    "tags": []
   },
   "outputs": [],
   "source": [
    "df.head()"
   ]
  },
  {
   "cell_type": "markdown",
   "id": "895cd9ad-2afa-4ec1-948e-e10809a89a1a",
   "metadata": {},
   "source": [
    "**세부지침**\n",
    "\n",
    "1.  종속변수 ${\\bf y}$를 `employment_score`로 설정하고 나머지는\n",
    "    설명변수로 설정하라.\n",
    "2.  `sklearn.linear_model.Lasso`를 이용하여\n",
    "    $\\alpha =0,1,0.2, \\dots, 1.9, 2.0$에 대해 predictor를 생성하라.\n",
    "3.  $\\alpha$의 변화에 따른 score의 변화와[1] 0이 아닌 계수값의 수를\n",
    "    시각화하라.\n",
    "\n",
    "------------------------------------------------------------------------\n",
    "\n",
    "jupyter: kernelspec: display_name: Python 3 (ipykernel) language: python\n",
    "name: python3 language_info: codemirror_mode: name: ipython version: 3\n",
    "file_extension: .py mimetype: text/x-python name: python\n",
    "nbconvert_exporter: python pygments_lexer: ipython3 version: 3.10.13\n",
    "\n",
    "------------------------------------------------------------------------\n",
    "\n",
    "[1] `predictor.score` 함수이용하여 계산되는 값"
   ]
  },
  {
   "cell_type": "code",
   "execution_count": null,
   "id": "163dc9c6-7563-498e-ab88-f94ec6ba4a8b",
   "metadata": {},
   "outputs": [],
   "source": []
  }
 ],
 "metadata": {
  "kernelspec": {
   "display_name": "Python 3 (ipykernel)",
   "language": "python",
   "name": "python3"
  },
  "language_info": {
   "codemirror_mode": {
    "name": "ipython",
    "version": 3
   },
   "file_extension": ".py",
   "mimetype": "text/x-python",
   "name": "python",
   "nbconvert_exporter": "python",
   "pygments_lexer": "ipython3",
   "version": "3.10.13"
  }
 },
 "nbformat": 4,
 "nbformat_minor": 5
}
