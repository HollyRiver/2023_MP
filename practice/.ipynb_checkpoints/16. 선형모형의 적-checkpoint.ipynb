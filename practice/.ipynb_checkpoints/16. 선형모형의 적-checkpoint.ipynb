{
 "cells": [
  {
   "cell_type": "markdown",
   "id": "0f33d07f-c301-470f-b336-1e428aa9d735",
   "metadata": {},
   "source": [
    "---\n",
    "title: \"선형 모형의 적\"\n",
    "author: \"강신성\"\n",
    "date: \"2023-10-18\"\n",
    "categories: [python, LinearRegression]\n",
    "---\n",
    "\n",
    "\n"
   ]
  },
  {
   "cell_type": "markdown",
   "id": "711c5d02-8fb8-45ec-8929-b44df96ed1f2",
   "metadata": {},
   "source": [
    "> 우리의 주적은 북한인데, 선형 모형의 주적은 무엇일까?"
   ]
  },
  {
   "cell_type": "markdown",
   "id": "566c2b44-ddee-4f9c-9997-3063ca0a3738",
   "metadata": {},
   "source": [
    "## 1. 라이브러리 imports"
   ]
  },
  {
   "cell_type": "code",
   "execution_count": 1,
   "id": "d09a9e80-fc85-4794-8382-ce79d63ac662",
   "metadata": {},
   "outputs": [],
   "source": [
    "import numpy as np\n",
    "import pandas as pd\n",
    "import matplotlib.pyplot as plt\n",
    "import seaborn as sns\n",
    "import sklearn.linear_model\n",
    "import sklearn.preprocessing"
   ]
  },
  {
   "cell_type": "markdown",
   "id": "d616cc8a-417b-4fa2-b86b-1818a7207820",
   "metadata": {},
   "source": [
    "## 2. 선형모형의 적"
   ]
  },
  {
   "cell_type": "markdown",
   "id": "061567dd-e4e6-49ae-9256-926499dc7b27",
   "metadata": {},
   "source": [
    "### **A. 결측치의 존재**\n",
    "---\n",
    "\n",
    "\n"
   ]
  },
  {
   "cell_type": "markdown",
   "id": "f954dd1a-af76-450e-990b-b65dd9948411",
   "metadata": {},
   "source": [
    "<span style=color:red>문제</span> : 데이터에서 누락된 값이 있는 경우, 선형모델이 돌아가지 않는다.\n",
    "\n",
    "\\- 해결방법\n",
    "\n",
    "* 방법 1 : 결측치를 제거\n",
    "    1. 결측치가 포함된 열을 제거\n",
    "    2. 결측치가 포함된 행을 제거\n",
    "    3. 위의 두 방법을 혼합\n",
    "\n",
    "\n",
    "* 방법 2 : 결측치를 impute(preprocessing)\n",
    "    1. train에서는 fit_transform, test에서는 transform(preprocessing)\n",
    "    2. train, test에서 모두 fit_transform\n",
    "    3. 임의의 값으로 일괄 impute\n",
    "    4. interploation(이미지나 시계열 자료의 경우)\n",
    "        > 주변에 있는 값에 자연스럽게 연동되도록, 온도나 색상, 업스케일링 등...\n",
    "    5. ~train, test data를 합쳐서 fit_transform~ <span style=color:red>이건 정보누수로 실격사유가 된다</span>"
   ]
  },
  {
   "cell_type": "markdown",
   "id": "2068699c-5bdb-4230-8903-f9bebaff1611",
   "metadata": {},
   "source": [
    "### **B. 다중공선성의 존재**\n",
    "---\n",
    "\n",
    "\n"
   ]
  },
  {
   "cell_type": "markdown",
   "id": "0bf9df87-3286-4b3a-a1fc-54de21873a7e",
   "metadata": {},
   "source": [
    "<span style=color:red>문제</span> : 데이터의 설명변수가 역할이 겹칠 경우, 선형모형의 일반화 성능이 좋지 않음.\n",
    "\n",
    "\\- 해결방법\n",
    "\n",
    "* 방법 1 : 변수 제거\n",
    "    1. X의 corr을 파악하고 (혹은 히트맵을 그리고) 느낌적으로(...) 제거\n",
    "    2. PCA(주성분 분석) 등 차원축소기법을 이용한 제거\n",
    "* 방법 2 : 공선성을 가지는 변수를 모아 새로운 변수로 변환\n",
    "    1. 느낌적으로 변환(예시 : Titanic data. Fsize = Sibsp + Parch + 1, 이후 Sipsp, Parch는 drop)\n",
    "    2. PCA를 이용한 변환\n",
    "* 방법 3 : Ridge, Lasso 등 패널티 계열을 사용\n",
    "    1. Ridge\n",
    "    2. Lasso\n",
    "    3. Elastic net"
   ]
  },
  {
   "cell_type": "markdown",
   "id": "f39d5785-72df-46eb-813b-d328c26dd061",
   "metadata": {},
   "source": [
    "\\- 방법 1-1의 예시"
   ]
  },
  {
   "cell_type": "code",
   "execution_count": 2,
   "id": "208207a6-3dc4-4b54-b15e-e43daf92818f",
   "metadata": {},
   "outputs": [
    {
     "data": {
      "text/html": [
       "<div>\n",
       "<style scoped>\n",
       "    .dataframe tbody tr th:only-of-type {\n",
       "        vertical-align: middle;\n",
       "    }\n",
       "\n",
       "    .dataframe tbody tr th {\n",
       "        vertical-align: top;\n",
       "    }\n",
       "\n",
       "    .dataframe thead th {\n",
       "        text-align: right;\n",
       "    }\n",
       "</style>\n",
       "<table border=\"1\" class=\"dataframe\">\n",
       "  <thead>\n",
       "    <tr style=\"text-align: right;\">\n",
       "      <th></th>\n",
       "      <th>gpa</th>\n",
       "      <th>toeic</th>\n",
       "      <th>toeic0</th>\n",
       "      <th>toeic1</th>\n",
       "      <th>toeic2</th>\n",
       "    </tr>\n",
       "  </thead>\n",
       "  <tbody>\n",
       "    <tr>\n",
       "      <th>0</th>\n",
       "      <td>0.051535</td>\n",
       "      <td>135</td>\n",
       "      <td>129.566309</td>\n",
       "      <td>133.078481</td>\n",
       "      <td>121.678398</td>\n",
       "    </tr>\n",
       "    <tr>\n",
       "      <th>1</th>\n",
       "      <td>0.355496</td>\n",
       "      <td>935</td>\n",
       "      <td>940.563187</td>\n",
       "      <td>935.723570</td>\n",
       "      <td>939.190519</td>\n",
       "    </tr>\n",
       "    <tr>\n",
       "      <th>2</th>\n",
       "      <td>2.228435</td>\n",
       "      <td>485</td>\n",
       "      <td>493.671390</td>\n",
       "      <td>493.909118</td>\n",
       "      <td>475.500970</td>\n",
       "    </tr>\n",
       "    <tr>\n",
       "      <th>3</th>\n",
       "      <td>1.179701</td>\n",
       "      <td>65</td>\n",
       "      <td>62.272565</td>\n",
       "      <td>55.957257</td>\n",
       "      <td>68.521468</td>\n",
       "    </tr>\n",
       "    <tr>\n",
       "      <th>4</th>\n",
       "      <td>3.962356</td>\n",
       "      <td>445</td>\n",
       "      <td>449.280637</td>\n",
       "      <td>438.895582</td>\n",
       "      <td>433.598274</td>\n",
       "    </tr>\n",
       "    <tr>\n",
       "      <th>...</th>\n",
       "      <td>...</td>\n",
       "      <td>...</td>\n",
       "      <td>...</td>\n",
       "      <td>...</td>\n",
       "      <td>...</td>\n",
       "    </tr>\n",
       "    <tr>\n",
       "      <th>495</th>\n",
       "      <td>4.288465</td>\n",
       "      <td>280</td>\n",
       "      <td>276.680902</td>\n",
       "      <td>274.502675</td>\n",
       "      <td>277.868536</td>\n",
       "    </tr>\n",
       "    <tr>\n",
       "      <th>496</th>\n",
       "      <td>2.601212</td>\n",
       "      <td>310</td>\n",
       "      <td>296.940263</td>\n",
       "      <td>301.545000</td>\n",
       "      <td>306.725610</td>\n",
       "    </tr>\n",
       "    <tr>\n",
       "      <th>497</th>\n",
       "      <td>0.042323</td>\n",
       "      <td>225</td>\n",
       "      <td>206.793217</td>\n",
       "      <td>228.335345</td>\n",
       "      <td>222.115146</td>\n",
       "    </tr>\n",
       "    <tr>\n",
       "      <th>498</th>\n",
       "      <td>1.041416</td>\n",
       "      <td>320</td>\n",
       "      <td>327.461442</td>\n",
       "      <td>323.019899</td>\n",
       "      <td>329.589337</td>\n",
       "    </tr>\n",
       "    <tr>\n",
       "      <th>499</th>\n",
       "      <td>3.626883</td>\n",
       "      <td>375</td>\n",
       "      <td>370.966595</td>\n",
       "      <td>364.668477</td>\n",
       "      <td>371.853566</td>\n",
       "    </tr>\n",
       "  </tbody>\n",
       "</table>\n",
       "<p>500 rows × 5 columns</p>\n",
       "</div>"
      ],
      "text/plain": [
       "          gpa  toeic      toeic0      toeic1      toeic2\n",
       "0    0.051535    135  129.566309  133.078481  121.678398\n",
       "1    0.355496    935  940.563187  935.723570  939.190519\n",
       "2    2.228435    485  493.671390  493.909118  475.500970\n",
       "3    1.179701     65   62.272565   55.957257   68.521468\n",
       "4    3.962356    445  449.280637  438.895582  433.598274\n",
       "..        ...    ...         ...         ...         ...\n",
       "495  4.288465    280  276.680902  274.502675  277.868536\n",
       "496  2.601212    310  296.940263  301.545000  306.725610\n",
       "497  0.042323    225  206.793217  228.335345  222.115146\n",
       "498  1.041416    320  327.461442  323.019899  329.589337\n",
       "499  3.626883    375  370.966595  364.668477  371.853566\n",
       "\n",
       "[500 rows x 5 columns]"
      ]
     },
     "execution_count": 2,
     "metadata": {},
     "output_type": "execute_result"
    }
   ],
   "source": [
    "df = pd.read_csv(\"https://raw.githubusercontent.com/guebin/MP2023/main/posts/employment_multicollinearity.csv\")\n",
    "X = df.loc[:,'gpa':'toeic2']\n",
    "X"
   ]
  },
  {
   "cell_type": "markdown",
   "id": "3f687d89-f4af-4c7c-afe7-a84707b44333",
   "metadata": {},
   "source": [
    "* corr 조사"
   ]
  },
  {
   "cell_type": "code",
   "execution_count": 13,
   "id": "483919f1-5826-4d6b-af69-86992b1fb90c",
   "metadata": {},
   "outputs": [
    {
     "data": {
      "text/html": [
       "<div>\n",
       "<style scoped>\n",
       "    .dataframe tbody tr th:only-of-type {\n",
       "        vertical-align: middle;\n",
       "    }\n",
       "\n",
       "    .dataframe tbody tr th {\n",
       "        vertical-align: top;\n",
       "    }\n",
       "\n",
       "    .dataframe thead th {\n",
       "        text-align: right;\n",
       "    }\n",
       "</style>\n",
       "<table border=\"1\" class=\"dataframe\">\n",
       "  <thead>\n",
       "    <tr style=\"text-align: right;\">\n",
       "      <th></th>\n",
       "      <th>gpa</th>\n",
       "      <th>toeic</th>\n",
       "      <th>toeic0</th>\n",
       "      <th>toeic1</th>\n",
       "      <th>toeic2</th>\n",
       "    </tr>\n",
       "  </thead>\n",
       "  <tbody>\n",
       "    <tr>\n",
       "      <th>gpa</th>\n",
       "      <td>1.000000</td>\n",
       "      <td>-0.033983</td>\n",
       "      <td>-0.035722</td>\n",
       "      <td>-0.037734</td>\n",
       "      <td>-0.034828</td>\n",
       "    </tr>\n",
       "    <tr>\n",
       "      <th>toeic</th>\n",
       "      <td>-0.033983</td>\n",
       "      <td>1.000000</td>\n",
       "      <td>0.999435</td>\n",
       "      <td>0.999322</td>\n",
       "      <td>0.999341</td>\n",
       "    </tr>\n",
       "    <tr>\n",
       "      <th>toeic0</th>\n",
       "      <td>-0.035722</td>\n",
       "      <td>0.999435</td>\n",
       "      <td>1.000000</td>\n",
       "      <td>0.998746</td>\n",
       "      <td>0.998828</td>\n",
       "    </tr>\n",
       "    <tr>\n",
       "      <th>toeic1</th>\n",
       "      <td>-0.037734</td>\n",
       "      <td>0.999322</td>\n",
       "      <td>0.998746</td>\n",
       "      <td>1.000000</td>\n",
       "      <td>0.998721</td>\n",
       "    </tr>\n",
       "    <tr>\n",
       "      <th>toeic2</th>\n",
       "      <td>-0.034828</td>\n",
       "      <td>0.999341</td>\n",
       "      <td>0.998828</td>\n",
       "      <td>0.998721</td>\n",
       "      <td>1.000000</td>\n",
       "    </tr>\n",
       "  </tbody>\n",
       "</table>\n",
       "</div>"
      ],
      "text/plain": [
       "             gpa     toeic    toeic0    toeic1    toeic2\n",
       "gpa     1.000000 -0.033983 -0.035722 -0.037734 -0.034828\n",
       "toeic  -0.033983  1.000000  0.999435  0.999322  0.999341\n",
       "toeic0 -0.035722  0.999435  1.000000  0.998746  0.998828\n",
       "toeic1 -0.037734  0.999322  0.998746  1.000000  0.998721\n",
       "toeic2 -0.034828  0.999341  0.998828  0.998721  1.000000"
      ]
     },
     "execution_count": 13,
     "metadata": {},
     "output_type": "execute_result"
    }
   ],
   "source": [
    "X.corr()  ## DataFrame 안에 correlation을 조사하는 함수가 자체적으로 존재한다.\n",
    "## np.corrcoef([X.gpa, X.toeic, X.toeic0, X.toeic1, X.toeic2])"
   ]
  },
  {
   "cell_type": "markdown",
   "id": "b0fb2f90-100e-4761-9cbe-28edde2523ee",
   "metadata": {},
   "source": [
    "* heatmap 플랏 : 변수 간 관련도를 시각화한다."
   ]
  },
  {
   "cell_type": "code",
   "execution_count": 19,
   "id": "d1dfd0ab-37ac-40e6-b4e4-b3c4bfba1819",
   "metadata": {},
   "outputs": [
    {
     "data": {
      "text/plain": [
       "<Axes: >"
      ]
     },
     "execution_count": 19,
     "metadata": {},
     "output_type": "execute_result"
    },
    {
     "data": {
      "image/png": "[encoded data removed]",
      "text/plain": [
       "<Figure size 640x480 with 2 Axes>"
      ]
     },
     "metadata": {},
     "output_type": "display_data"
    }
   ],
   "source": [
    "sns.heatmap(X.corr(), annot = True)  ## annot은 각 그리드에 corrcoef값 기재 여부를 뜻한다."
   ]
  },
  {
   "cell_type": "markdown",
   "id": "544ea4d1-780b-4e58-8b87-d36167b3e4ab",
   "metadata": {},
   "source": [
    "> 잘 쓰진 않지만 이것을 보고 밝은 부분을 같다고 생각하면 된다."
   ]
  },
  {
   "cell_type": "markdown",
   "id": "5205e7a4-96d4-4df8-a38e-89363b67eb80",
   "metadata": {},
   "source": [
    "### **C. 관련이 없는 변수의 존재**\n",
    "---\n",
    "\n",
    "\n"
   ]
  },
  {
   "cell_type": "markdown",
   "id": "bc918c6f-bed0-4afd-82d7-d8838ab0ef9f",
   "metadata": {},
   "source": [
    "<span style=color:red>문제</span> : 데이터에서 불필요한 설명변수가 너무 많을 경우, 선형모형의 일반화 성능이 좋지 않음.(overfitting)\n",
    "\n",
    "* 불필요한 설명변수의 쉬운 예시 : 고객이름, ID, index 관련 변수(물론 얘네들도 어딘가는 관련이 있을수도 있겠지마는...)\n",
    "\n",
    "\\- 해결방법\n",
    "\n",
    "* 방법 1 : 변수 제거\n",
    "    1. (y, X)의 corr을 파악하고 (혹은 히트맵을 그리고) 느낌적으로 제거 > 관련이 많으면 남기고, 적으면 없앤다.\n",
    "    2. PCA를 이용한 제거\n",
    "    3. Lasso를 이용한 제거(데이터의 수를 줄여 다중공선성을 해소하니까...)\n",
    "* 방법 2 : 더 많은 데이터를 확보 (거의 궁극기, 근데 차원의 저주 때문에 힘듦)\n",
    "> 어떤 변수가 관련이 없다는 것을 파악하기 위해선 데이터를 많이 가져와야 하는데, feature가 많게 되면 데이터가 feature의 갯수보다 훨씬 많아야 한다. 근데 변수가 많아질수록 엄청나게 많아져야 하기 때문에...(p : 반응변수의 수가 많아질수록 필요한 자료의 갯수는 지수적으로 증가함...)"
   ]
  },
  {
   "cell_type": "markdown",
   "id": "2b82fe4a-afd0-4001-aa90-613551494205",
   "metadata": {},
   "source": [
    "\\- 방법 1-3의 예시"
   ]
  },
  {
   "cell_type": "code",
   "execution_count": 20,
   "id": "48979a26-6d05-46e1-a358-63a208ed05b4",
   "metadata": {},
   "outputs": [
    {
     "data": {
      "text/html": [
       "<div>\n",
       "<style scoped>\n",
       "    .dataframe tbody tr th:only-of-type {\n",
       "        vertical-align: middle;\n",
       "    }\n",
       "\n",
       "    .dataframe tbody tr th {\n",
       "        vertical-align: top;\n",
       "    }\n",
       "\n",
       "    .dataframe thead th {\n",
       "        text-align: right;\n",
       "    }\n",
       "</style>\n",
       "<table border=\"1\" class=\"dataframe\">\n",
       "  <thead>\n",
       "    <tr style=\"text-align: right;\">\n",
       "      <th></th>\n",
       "      <th>toeic</th>\n",
       "      <th>gpa</th>\n",
       "      <th>employment</th>\n",
       "      <th>balance0</th>\n",
       "      <th>balance1</th>\n",
       "      <th>balance2</th>\n",
       "    </tr>\n",
       "  </thead>\n",
       "  <tbody>\n",
       "    <tr>\n",
       "      <th>0</th>\n",
       "      <td>135</td>\n",
       "      <td>0.051535</td>\n",
       "      <td>0</td>\n",
       "      <td>1.624345</td>\n",
       "      <td>-0.611756</td>\n",
       "      <td>-0.528172</td>\n",
       "    </tr>\n",
       "    <tr>\n",
       "      <th>1</th>\n",
       "      <td>935</td>\n",
       "      <td>0.355496</td>\n",
       "      <td>0</td>\n",
       "      <td>-1.072969</td>\n",
       "      <td>0.865408</td>\n",
       "      <td>-2.301539</td>\n",
       "    </tr>\n",
       "    <tr>\n",
       "      <th>2</th>\n",
       "      <td>485</td>\n",
       "      <td>2.228435</td>\n",
       "      <td>0</td>\n",
       "      <td>1.744812</td>\n",
       "      <td>-0.761207</td>\n",
       "      <td>0.319039</td>\n",
       "    </tr>\n",
       "    <tr>\n",
       "      <th>3</th>\n",
       "      <td>65</td>\n",
       "      <td>1.179701</td>\n",
       "      <td>0</td>\n",
       "      <td>-0.249370</td>\n",
       "      <td>1.462108</td>\n",
       "      <td>-2.060141</td>\n",
       "    </tr>\n",
       "    <tr>\n",
       "      <th>4</th>\n",
       "      <td>445</td>\n",
       "      <td>3.962356</td>\n",
       "      <td>1</td>\n",
       "      <td>-0.322417</td>\n",
       "      <td>-0.384054</td>\n",
       "      <td>1.133769</td>\n",
       "    </tr>\n",
       "    <tr>\n",
       "      <th>...</th>\n",
       "      <td>...</td>\n",
       "      <td>...</td>\n",
       "      <td>...</td>\n",
       "      <td>...</td>\n",
       "      <td>...</td>\n",
       "      <td>...</td>\n",
       "    </tr>\n",
       "    <tr>\n",
       "      <th>495</th>\n",
       "      <td>280</td>\n",
       "      <td>4.288465</td>\n",
       "      <td>1</td>\n",
       "      <td>-1.326490</td>\n",
       "      <td>0.308204</td>\n",
       "      <td>1.115489</td>\n",
       "    </tr>\n",
       "    <tr>\n",
       "      <th>496</th>\n",
       "      <td>310</td>\n",
       "      <td>2.601212</td>\n",
       "      <td>1</td>\n",
       "      <td>1.008196</td>\n",
       "      <td>-3.016032</td>\n",
       "      <td>-1.619646</td>\n",
       "    </tr>\n",
       "    <tr>\n",
       "      <th>497</th>\n",
       "      <td>225</td>\n",
       "      <td>0.042323</td>\n",
       "      <td>0</td>\n",
       "      <td>2.005141</td>\n",
       "      <td>-0.187626</td>\n",
       "      <td>-0.148941</td>\n",
       "    </tr>\n",
       "    <tr>\n",
       "      <th>498</th>\n",
       "      <td>320</td>\n",
       "      <td>1.041416</td>\n",
       "      <td>0</td>\n",
       "      <td>1.165335</td>\n",
       "      <td>0.196645</td>\n",
       "      <td>-0.632590</td>\n",
       "    </tr>\n",
       "    <tr>\n",
       "      <th>499</th>\n",
       "      <td>375</td>\n",
       "      <td>3.626883</td>\n",
       "      <td>1</td>\n",
       "      <td>-0.209847</td>\n",
       "      <td>1.897161</td>\n",
       "      <td>-1.381391</td>\n",
       "    </tr>\n",
       "  </tbody>\n",
       "</table>\n",
       "<p>500 rows × 6 columns</p>\n",
       "</div>"
      ],
      "text/plain": [
       "     toeic       gpa  employment  balance0  balance1  balance2\n",
       "0      135  0.051535           0  1.624345 -0.611756 -0.528172\n",
       "1      935  0.355496           0 -1.072969  0.865408 -2.301539\n",
       "2      485  2.228435           0  1.744812 -0.761207  0.319039\n",
       "3       65  1.179701           0 -0.249370  1.462108 -2.060141\n",
       "4      445  3.962356           1 -0.322417 -0.384054  1.133769\n",
       "..     ...       ...         ...       ...       ...       ...\n",
       "495    280  4.288465           1 -1.326490  0.308204  1.115489\n",
       "496    310  2.601212           1  1.008196 -3.016032 -1.619646\n",
       "497    225  0.042323           0  2.005141 -0.187626 -0.148941\n",
       "498    320  1.041416           0  1.165335  0.196645 -0.632590\n",
       "499    375  3.626883           1 -0.209847  1.897161 -1.381391\n",
       "\n",
       "[500 rows x 6 columns]"
      ]
     },
     "execution_count": 20,
     "metadata": {},
     "output_type": "execute_result"
    }
   ],
   "source": [
    "np.random.seed(1)\n",
    "df = pd.read_csv('https://raw.githubusercontent.com/guebin/MP2023/main/posts/employment.csv')\n",
    "df_balance = pd.DataFrame((np.random.randn(500,3)).reshape(500,3)*1,columns = ['balance'+str(i) for i in range(3)])\n",
    "df_train = pd.concat([df,df_balance],axis=1)\n",
    "df_train"
   ]
  },
  {
   "cell_type": "code",
   "execution_count": 22,
   "id": "99f3056a-7286-41a3-b1bb-873ab0152fb7",
   "metadata": {},
   "outputs": [
    {
     "data": {
      "text/html": [
       "<div>\n",
       "<style scoped>\n",
       "    .dataframe tbody tr th:only-of-type {\n",
       "        vertical-align: middle;\n",
       "    }\n",
       "\n",
       "    .dataframe tbody tr th {\n",
       "        vertical-align: top;\n",
       "    }\n",
       "\n",
       "    .dataframe thead th {\n",
       "        text-align: right;\n",
       "    }\n",
       "</style>\n",
       "<table border=\"1\" class=\"dataframe\">\n",
       "  <thead>\n",
       "    <tr style=\"text-align: right;\">\n",
       "      <th></th>\n",
       "      <th>toeic</th>\n",
       "      <th>gpa</th>\n",
       "      <th>employment</th>\n",
       "      <th>balance0</th>\n",
       "      <th>balance1</th>\n",
       "      <th>balance2</th>\n",
       "    </tr>\n",
       "  </thead>\n",
       "  <tbody>\n",
       "    <tr>\n",
       "      <th>toeic</th>\n",
       "      <td>1.000000</td>\n",
       "      <td>-0.033983</td>\n",
       "      <td>0.260183</td>\n",
       "      <td>0.002682</td>\n",
       "      <td>0.110530</td>\n",
       "      <td>0.024664</td>\n",
       "    </tr>\n",
       "    <tr>\n",
       "      <th>gpa</th>\n",
       "      <td>-0.033983</td>\n",
       "      <td>1.000000</td>\n",
       "      <td>0.711022</td>\n",
       "      <td>-0.025197</td>\n",
       "      <td>0.005272</td>\n",
       "      <td>0.020794</td>\n",
       "    </tr>\n",
       "    <tr>\n",
       "      <th>employment</th>\n",
       "      <td>0.260183</td>\n",
       "      <td>0.711022</td>\n",
       "      <td>1.000000</td>\n",
       "      <td>-0.007348</td>\n",
       "      <td>0.036706</td>\n",
       "      <td>0.032284</td>\n",
       "    </tr>\n",
       "    <tr>\n",
       "      <th>balance0</th>\n",
       "      <td>0.002682</td>\n",
       "      <td>-0.025197</td>\n",
       "      <td>-0.007348</td>\n",
       "      <td>1.000000</td>\n",
       "      <td>-0.059167</td>\n",
       "      <td>0.040035</td>\n",
       "    </tr>\n",
       "    <tr>\n",
       "      <th>balance1</th>\n",
       "      <td>0.110530</td>\n",
       "      <td>0.005272</td>\n",
       "      <td>0.036706</td>\n",
       "      <td>-0.059167</td>\n",
       "      <td>1.000000</td>\n",
       "      <td>-0.030215</td>\n",
       "    </tr>\n",
       "    <tr>\n",
       "      <th>balance2</th>\n",
       "      <td>0.024664</td>\n",
       "      <td>0.020794</td>\n",
       "      <td>0.032284</td>\n",
       "      <td>0.040035</td>\n",
       "      <td>-0.030215</td>\n",
       "      <td>1.000000</td>\n",
       "    </tr>\n",
       "  </tbody>\n",
       "</table>\n",
       "</div>"
      ],
      "text/plain": [
       "               toeic       gpa  employment  balance0  balance1  balance2\n",
       "toeic       1.000000 -0.033983    0.260183  0.002682  0.110530  0.024664\n",
       "gpa        -0.033983  1.000000    0.711022 -0.025197  0.005272  0.020794\n",
       "employment  0.260183  0.711022    1.000000 -0.007348  0.036706  0.032284\n",
       "balance0    0.002682 -0.025197   -0.007348  1.000000 -0.059167  0.040035\n",
       "balance1    0.110530  0.005272    0.036706 -0.059167  1.000000 -0.030215\n",
       "balance2    0.024664  0.020794    0.032284  0.040035 -0.030215  1.000000"
      ]
     },
     "execution_count": 22,
     "metadata": {},
     "output_type": "execute_result"
    }
   ],
   "source": [
    "df_train.corr()"
   ]
  },
  {
   "cell_type": "code",
   "execution_count": 26,
   "id": "184e02ec-8ef4-4227-ad3a-eda9b0c4481e",
   "metadata": {},
   "outputs": [
    {
     "data": {
      "text/plain": [
       "<Axes: >"
      ]
     },
     "execution_count": 26,
     "metadata": {},
     "output_type": "execute_result"
    },
    {
     "data": {
      "image/png": "[encoded data removed]",
      "text/plain": [
       "<Figure size 640x480 with 2 Axes>"
      ]
     },
     "metadata": {},
     "output_type": "display_data"
    }
   ],
   "source": [
    "sns.heatmap(df_train.corr(), annot = True)"
   ]
  },
  {
   "cell_type": "markdown",
   "id": "5de3f956-a095-40ea-9dbc-65c6c9cfb0fe",
   "metadata": {},
   "source": [
    "* corr을 볼 때, 반응변수인 employment 행을 보면...\n",
    "\n",
    "> toeic, gpa는 corr이 있게 나왔는데, balance0,1,2는 corr이 낮게 나왔다. (따라서 ~제.거.한.다.~)\n",
    "\n",
    "1. 설명변수 balance0,1,2는 반응변수 employment와 관련이 없어 -> 제거하자.\n",
    "2. 반응변수와 관련이 있는 toeic, gpa는 남기자.\n",
    "3. 공선성 체크 : 설명변수 toeic, gpa의 corr은 높지 않으니 다중공선성 문제는 걱정하지 말자."
   ]
  },
  {
   "cell_type": "markdown",
   "id": "437fb8ec-b351-40f3-a873-e6f742d7f1b3",
   "metadata": {},
   "source": [
    "\\- 방법 1-3의 예시"
   ]
  },
  {
   "cell_type": "code",
   "execution_count": 27,
   "id": "c79d11e2-1172-40e3-9888-cbf23fd6b2e9",
   "metadata": {
    "collapsed": true,
    "jupyter": {
     "outputs_hidden": true,
     "source_hidden": true
    },
    "scrolled": true
   },
   "outputs": [
    {
     "data": {
      "text/html": [
       "<div>\n",
       "<style scoped>\n",
       "    .dataframe tbody tr th:only-of-type {\n",
       "        vertical-align: middle;\n",
       "    }\n",
       "\n",
       "    .dataframe tbody tr th {\n",
       "        vertical-align: top;\n",
       "    }\n",
       "\n",
       "    .dataframe thead th {\n",
       "        text-align: right;\n",
       "    }\n",
       "</style>\n",
       "<table border=\"1\" class=\"dataframe\">\n",
       "  <thead>\n",
       "    <tr style=\"text-align: right;\">\n",
       "      <th></th>\n",
       "      <th>toeic</th>\n",
       "      <th>gpa</th>\n",
       "      <th>employment</th>\n",
       "      <th>balance0</th>\n",
       "      <th>balance1</th>\n",
       "      <th>balance2</th>\n",
       "    </tr>\n",
       "  </thead>\n",
       "  <tbody>\n",
       "    <tr>\n",
       "      <th>0</th>\n",
       "      <td>135</td>\n",
       "      <td>0.051535</td>\n",
       "      <td>0</td>\n",
       "      <td>1.624345</td>\n",
       "      <td>-0.611756</td>\n",
       "      <td>-0.528172</td>\n",
       "    </tr>\n",
       "    <tr>\n",
       "      <th>1</th>\n",
       "      <td>935</td>\n",
       "      <td>0.355496</td>\n",
       "      <td>0</td>\n",
       "      <td>-1.072969</td>\n",
       "      <td>0.865408</td>\n",
       "      <td>-2.301539</td>\n",
       "    </tr>\n",
       "    <tr>\n",
       "      <th>2</th>\n",
       "      <td>485</td>\n",
       "      <td>2.228435</td>\n",
       "      <td>0</td>\n",
       "      <td>1.744812</td>\n",
       "      <td>-0.761207</td>\n",
       "      <td>0.319039</td>\n",
       "    </tr>\n",
       "    <tr>\n",
       "      <th>3</th>\n",
       "      <td>65</td>\n",
       "      <td>1.179701</td>\n",
       "      <td>0</td>\n",
       "      <td>-0.249370</td>\n",
       "      <td>1.462108</td>\n",
       "      <td>-2.060141</td>\n",
       "    </tr>\n",
       "    <tr>\n",
       "      <th>4</th>\n",
       "      <td>445</td>\n",
       "      <td>3.962356</td>\n",
       "      <td>1</td>\n",
       "      <td>-0.322417</td>\n",
       "      <td>-0.384054</td>\n",
       "      <td>1.133769</td>\n",
       "    </tr>\n",
       "    <tr>\n",
       "      <th>...</th>\n",
       "      <td>...</td>\n",
       "      <td>...</td>\n",
       "      <td>...</td>\n",
       "      <td>...</td>\n",
       "      <td>...</td>\n",
       "      <td>...</td>\n",
       "    </tr>\n",
       "    <tr>\n",
       "      <th>495</th>\n",
       "      <td>280</td>\n",
       "      <td>4.288465</td>\n",
       "      <td>1</td>\n",
       "      <td>-1.326490</td>\n",
       "      <td>0.308204</td>\n",
       "      <td>1.115489</td>\n",
       "    </tr>\n",
       "    <tr>\n",
       "      <th>496</th>\n",
       "      <td>310</td>\n",
       "      <td>2.601212</td>\n",
       "      <td>1</td>\n",
       "      <td>1.008196</td>\n",
       "      <td>-3.016032</td>\n",
       "      <td>-1.619646</td>\n",
       "    </tr>\n",
       "    <tr>\n",
       "      <th>497</th>\n",
       "      <td>225</td>\n",
       "      <td>0.042323</td>\n",
       "      <td>0</td>\n",
       "      <td>2.005141</td>\n",
       "      <td>-0.187626</td>\n",
       "      <td>-0.148941</td>\n",
       "    </tr>\n",
       "    <tr>\n",
       "      <th>498</th>\n",
       "      <td>320</td>\n",
       "      <td>1.041416</td>\n",
       "      <td>0</td>\n",
       "      <td>1.165335</td>\n",
       "      <td>0.196645</td>\n",
       "      <td>-0.632590</td>\n",
       "    </tr>\n",
       "    <tr>\n",
       "      <th>499</th>\n",
       "      <td>375</td>\n",
       "      <td>3.626883</td>\n",
       "      <td>1</td>\n",
       "      <td>-0.209847</td>\n",
       "      <td>1.897161</td>\n",
       "      <td>-1.381391</td>\n",
       "    </tr>\n",
       "  </tbody>\n",
       "</table>\n",
       "<p>500 rows × 6 columns</p>\n",
       "</div>"
      ],
      "text/plain": [
       "     toeic       gpa  employment  balance0  balance1  balance2\n",
       "0      135  0.051535           0  1.624345 -0.611756 -0.528172\n",
       "1      935  0.355496           0 -1.072969  0.865408 -2.301539\n",
       "2      485  2.228435           0  1.744812 -0.761207  0.319039\n",
       "3       65  1.179701           0 -0.249370  1.462108 -2.060141\n",
       "4      445  3.962356           1 -0.322417 -0.384054  1.133769\n",
       "..     ...       ...         ...       ...       ...       ...\n",
       "495    280  4.288465           1 -1.326490  0.308204  1.115489\n",
       "496    310  2.601212           1  1.008196 -3.016032 -1.619646\n",
       "497    225  0.042323           0  2.005141 -0.187626 -0.148941\n",
       "498    320  1.041416           0  1.165335  0.196645 -0.632590\n",
       "499    375  3.626883           1 -0.209847  1.897161 -1.381391\n",
       "\n",
       "[500 rows x 6 columns]"
      ]
     },
     "execution_count": 27,
     "metadata": {},
     "output_type": "execute_result"
    }
   ],
   "source": [
    "np.random.seed(1)\n",
    "df = pd.read_csv('https://raw.githubusercontent.com/guebin/MP2023/main/posts/employment.csv')\n",
    "df_balance = pd.DataFrame((np.random.randn(500,3)).reshape(500,3)*1,columns = ['balance'+str(i) for i in range(3)])\n",
    "df_train = pd.concat([df,df_balance],axis=1)\n",
    "df_train"
   ]
  },
  {
   "cell_type": "code",
   "execution_count": 28,
   "id": "e8b78cba-3cab-498a-a191-2de51d73b546",
   "metadata": {},
   "outputs": [
    {
     "name": "stderr",
     "output_type": "stream",
     "text": [
      "C:\\Users\\hollyriver\\anaconda3\\envs\\py\\lib\\site-packages\\sklearn\\utils\\validation.py:1183: DataConversionWarning: A column-vector y was passed when a 1d array was expected. Please change the shape of y to (n_samples, ), for example using ravel().\n",
      "  y = column_or_1d(y, warn=True)\n"
     ]
    },
    {
     "data": {
      "text/html": [
       "<style>#sk-container-id-1 {color: black;}#sk-container-id-1 pre{padding: 0;}#sk-container-id-1 div.sk-toggleable {background-color: white;}#sk-container-id-1 label.sk-toggleable__label {cursor: pointer;display: block;width: 100%;margin-bottom: 0;padding: 0.3em;box-sizing: border-box;text-align: center;}#sk-container-id-1 label.sk-toggleable__label-arrow:before {content: \"▸\";float: left;margin-right: 0.25em;color: #696969;}#sk-container-id-1 label.sk-toggleable__label-arrow:hover:before {color: black;}#sk-container-id-1 div.sk-estimator:hover label.sk-toggleable__label-arrow:before {color: black;}#sk-container-id-1 div.sk-toggleable__content {max-height: 0;max-width: 0;overflow: hidden;text-align: left;background-color: #f0f8ff;}#sk-container-id-1 div.sk-toggleable__content pre {margin: 0.2em;color: black;border-radius: 0.25em;background-color: #f0f8ff;}#sk-container-id-1 input.sk-toggleable__control:checked~div.sk-toggleable__content {max-height: 200px;max-width: 100%;overflow: auto;}#sk-container-id-1 input.sk-toggleable__control:checked~label.sk-toggleable__label-arrow:before {content: \"▾\";}#sk-container-id-1 div.sk-estimator input.sk-toggleable__control:checked~label.sk-toggleable__label {background-color: #d4ebff;}#sk-container-id-1 div.sk-label input.sk-toggleable__control:checked~label.sk-toggleable__label {background-color: #d4ebff;}#sk-container-id-1 input.sk-hidden--visually {border: 0;clip: rect(1px 1px 1px 1px);clip: rect(1px, 1px, 1px, 1px);height: 1px;margin: -1px;overflow: hidden;padding: 0;position: absolute;width: 1px;}#sk-container-id-1 div.sk-estimator {font-family: monospace;background-color: #f0f8ff;border: 1px dotted black;border-radius: 0.25em;box-sizing: border-box;margin-bottom: 0.5em;}#sk-container-id-1 div.sk-estimator:hover {background-color: #d4ebff;}#sk-container-id-1 div.sk-parallel-item::after {content: \"\";width: 100%;border-bottom: 1px solid gray;flex-grow: 1;}#sk-container-id-1 div.sk-label:hover label.sk-toggleable__label {background-color: #d4ebff;}#sk-container-id-1 div.sk-serial::before {content: \"\";position: absolute;border-left: 1px solid gray;box-sizing: border-box;top: 0;bottom: 0;left: 50%;z-index: 0;}#sk-container-id-1 div.sk-serial {display: flex;flex-direction: column;align-items: center;background-color: white;padding-right: 0.2em;padding-left: 0.2em;position: relative;}#sk-container-id-1 div.sk-item {position: relative;z-index: 1;}#sk-container-id-1 div.sk-parallel {display: flex;align-items: stretch;justify-content: center;background-color: white;position: relative;}#sk-container-id-1 div.sk-item::before, #sk-container-id-1 div.sk-parallel-item::before {content: \"\";position: absolute;border-left: 1px solid gray;box-sizing: border-box;top: 0;bottom: 0;left: 50%;z-index: -1;}#sk-container-id-1 div.sk-parallel-item {display: flex;flex-direction: column;z-index: 1;position: relative;background-color: white;}#sk-container-id-1 div.sk-parallel-item:first-child::after {align-self: flex-end;width: 50%;}#sk-container-id-1 div.sk-parallel-item:last-child::after {align-self: flex-start;width: 50%;}#sk-container-id-1 div.sk-parallel-item:only-child::after {width: 0;}#sk-container-id-1 div.sk-dashed-wrapped {border: 1px dashed gray;margin: 0 0.4em 0.5em 0.4em;box-sizing: border-box;padding-bottom: 0.4em;background-color: white;}#sk-container-id-1 div.sk-label label {font-family: monospace;font-weight: bold;display: inline-block;line-height: 1.2em;}#sk-container-id-1 div.sk-label-container {text-align: center;}#sk-container-id-1 div.sk-container {/* jupyter's `normalize.less` sets `[hidden] { display: none; }` but bootstrap.min.css set `[hidden] { display: none !important; }` so we also need the `!important` here to be able to override the default hidden behavior on the sphinx rendered scikit-learn.org. See: https://github.com/scikit-learn/scikit-learn/issues/21755 */display: inline-block !important;position: relative;}#sk-container-id-1 div.sk-text-repr-fallback {display: none;}</style><div id=\"sk-container-id-1\" class=\"sk-top-container\"><div class=\"sk-text-repr-fallback\"><pre>LogisticRegressionCV(Cs=[0.1, 1, 10, 100], penalty=&#x27;l1&#x27;, random_state=42,\n",
       "                     solver=&#x27;liblinear&#x27;)</pre><b>In a Jupyter environment, please rerun this cell to show the HTML representation or trust the notebook. <br />On GitHub, the HTML representation is unable to render, please try loading this page with nbviewer.org.</b></div><div class=\"sk-container\" hidden><div class=\"sk-item\"><div class=\"sk-estimator sk-toggleable\"><input class=\"sk-toggleable__control sk-hidden--visually\" id=\"sk-estimator-id-1\" type=\"checkbox\" checked><label for=\"sk-estimator-id-1\" class=\"sk-toggleable__label sk-toggleable__label-arrow\">LogisticRegressionCV</label><div class=\"sk-toggleable__content\"><pre>LogisticRegressionCV(Cs=[0.1, 1, 10, 100], penalty=&#x27;l1&#x27;, random_state=42,\n",
       "                     solver=&#x27;liblinear&#x27;)</pre></div></div></div></div></div>"
      ],
      "text/plain": [
       "LogisticRegressionCV(Cs=[0.1, 1, 10, 100], penalty='l1', random_state=42,\n",
       "                     solver='liblinear')"
      ]
     },
     "execution_count": 28,
     "metadata": {},
     "output_type": "execute_result"
    }
   ],
   "source": [
    "# step1\n",
    "X = df_train.drop(['employment'], axis = 1)\n",
    "y = df_train[['employment']]\n",
    "\n",
    "# step2\n",
    "predictr = sklearn.linear_model.LogisticRegressionCV(\n",
    "    Cs = [0.1, 1, 10, 100],\n",
    "    penalty = 'l1',\n",
    "    solver = 'liblinear',\n",
    "    random_state = 42\n",
    ")\n",
    "\n",
    "# step3\n",
    "predictr.fit(X, y)\n",
    "\n",
    "# step4 : pass"
   ]
  },
  {
   "cell_type": "code",
   "execution_count": 29,
   "id": "7713770a-2613-431f-bac2-273deeb33283",
   "metadata": {},
   "outputs": [
    {
     "data": {
      "text/plain": [
       "array([[0.00260249, 1.41401358, 0.        , 0.        , 0.        ]])"
      ]
     },
     "execution_count": 29,
     "metadata": {},
     "output_type": "execute_result"
    }
   ],
   "source": [
    "predictr.coef_"
   ]
  },
  {
   "cell_type": "code",
   "execution_count": 32,
   "id": "d0992b09-069d-4b93-9e2e-9340a7f0d4e0",
   "metadata": {},
   "outputs": [
    {
     "data": {
      "text/plain": [
       "(1, 5)"
      ]
     },
     "execution_count": 32,
     "metadata": {},
     "output_type": "execute_result"
    }
   ],
   "source": [
    "predictr.coef_.shape"
   ]
  },
  {
   "cell_type": "code",
   "execution_count": 33,
   "id": "901dd79c-f82f-4737-8e2f-9a0c8e63b999",
   "metadata": {},
   "outputs": [
    {
     "data": {
      "text/plain": [
       "toeic       0.002602\n",
       "gpa         1.414014\n",
       "balance0    0.000000\n",
       "balance1    0.000000\n",
       "balance2    0.000000\n",
       "dtype: float64"
      ]
     },
     "execution_count": 33,
     "metadata": {},
     "output_type": "execute_result"
    }
   ],
   "source": [
    "s = pd.Series(predictr.coef_.reshape(-1))  ## 시리즈는 1차원으로 들어가야 함\n",
    "s.index = X.columns\n",
    "s"
   ]
  },
  {
   "cell_type": "markdown",
   "id": "5fa27b5e-897f-4cda-887a-819fc41fa73b",
   "metadata": {},
   "source": [
    "### **D. 이상치의 존재**\n",
    "---\n",
    "\n",
    "\n"
   ]
  },
  {
   "cell_type": "markdown",
   "id": "9da487e8-4f74-4f58-afd8-0fd72e197898",
   "metadata": {},
   "source": [
    "<span style=color:red>문제</span> : 이상치가 존재할 경우 전체 모형이 무너질 수 있음\n",
    "\n",
    "\\- 이상치가 있을 경우 해결할 수 있는 방법\n",
    "\n",
    "* 방법 1 : 이상치를 제거하고 분석한다.\n",
    "    1. 느낌적으로 제거함.\n",
    "    2. 이상치를 감지하는 지표를 사용하여 제거한 이후 분석\n",
    "    3. 이상치를 자동으로 감지하는 모형을 사용하여 이상치를 제거한 이후 분석\n",
    "* 방법 2 : 로버스트 선형회귀 계열을 이용 > 이상치에 큰 영향을 받지 않음\n",
    "    1. `sklearn.linear_model.HuberRegressor`등\n",
    "* 방법 3 : 이상치를 완화시키는 변환을 사용\n",
    "    1. `sklearn.preprocessing.PowerTransformer` 이용"
   ]
  },
  {
   "cell_type": "markdown",
   "id": "c1cdc578-c980-40f0-ad8f-9864a1efe2ab",
   "metadata": {},
   "source": [
    "\\- 방법 3-1의 예시"
   ]
  },
  {
   "cell_type": "code",
   "execution_count": 35,
   "id": "0f1340a3-b4f2-4c56-98b6-538529f148f6",
   "metadata": {},
   "outputs": [
    {
     "data": {
      "text/html": [
       "<div>\n",
       "<style scoped>\n",
       "    .dataframe tbody tr th:only-of-type {\n",
       "        vertical-align: middle;\n",
       "    }\n",
       "\n",
       "    .dataframe tbody tr th {\n",
       "        vertical-align: top;\n",
       "    }\n",
       "\n",
       "    .dataframe thead th {\n",
       "        text-align: right;\n",
       "    }\n",
       "</style>\n",
       "<table border=\"1\" class=\"dataframe\">\n",
       "  <thead>\n",
       "    <tr style=\"text-align: right;\">\n",
       "      <th></th>\n",
       "      <th>temp</th>\n",
       "      <th>ice_sales</th>\n",
       "    </tr>\n",
       "  </thead>\n",
       "  <tbody>\n",
       "    <tr>\n",
       "      <th>0</th>\n",
       "      <td>-4.1</td>\n",
       "      <td>50.000000</td>\n",
       "    </tr>\n",
       "    <tr>\n",
       "      <th>1</th>\n",
       "      <td>-3.7</td>\n",
       "      <td>9.234175</td>\n",
       "    </tr>\n",
       "    <tr>\n",
       "      <th>2</th>\n",
       "      <td>-3.0</td>\n",
       "      <td>9.642778</td>\n",
       "    </tr>\n",
       "    <tr>\n",
       "      <th>3</th>\n",
       "      <td>-1.3</td>\n",
       "      <td>9.657894</td>\n",
       "    </tr>\n",
       "    <tr>\n",
       "      <th>4</th>\n",
       "      <td>-0.5</td>\n",
       "      <td>9.987787</td>\n",
       "    </tr>\n",
       "    <tr>\n",
       "      <th>5</th>\n",
       "      <td>-0.3</td>\n",
       "      <td>10.205951</td>\n",
       "    </tr>\n",
       "    <tr>\n",
       "      <th>6</th>\n",
       "      <td>0.3</td>\n",
       "      <td>8.486925</td>\n",
       "    </tr>\n",
       "    <tr>\n",
       "      <th>7</th>\n",
       "      <td>0.4</td>\n",
       "      <td>8.817227</td>\n",
       "    </tr>\n",
       "    <tr>\n",
       "      <th>8</th>\n",
       "      <td>0.4</td>\n",
       "      <td>8.273155</td>\n",
       "    </tr>\n",
       "    <tr>\n",
       "      <th>9</th>\n",
       "      <td>0.7</td>\n",
       "      <td>8.863784</td>\n",
       "    </tr>\n",
       "  </tbody>\n",
       "</table>\n",
       "</div>"
      ],
      "text/plain": [
       "   temp  ice_sales\n",
       "0  -4.1  50.000000\n",
       "1  -3.7   9.234175\n",
       "2  -3.0   9.642778\n",
       "3  -1.3   9.657894\n",
       "4  -0.5   9.987787\n",
       "5  -0.3  10.205951\n",
       "6   0.3   8.486925\n",
       "7   0.4   8.817227\n",
       "8   0.4   8.273155\n",
       "9   0.7   8.863784"
      ]
     },
     "execution_count": 35,
     "metadata": {},
     "output_type": "execute_result"
    }
   ],
   "source": [
    "np.random.seed(43052)\n",
    "temp = pd.read_csv('https://raw.githubusercontent.com/guebin/DV2022/master/posts/temp.csv').iloc[:100,3].to_numpy()\n",
    "temp.sort()\n",
    "ice_sales = 10 + temp * 0.5 + np.random.randn(100)\n",
    "ice_sales[0] = 50\n",
    "df_train = pd.DataFrame({'temp':temp,'ice_sales':ice_sales})[:10]\n",
    "df_train"
   ]
  },
  {
   "cell_type": "code",
   "execution_count": 36,
   "id": "e5a2d94f-d9fb-4594-93b3-e04769dd961b",
   "metadata": {},
   "outputs": [],
   "source": [
    "transformr = sklearn.preprocessing.PowerTransformer()\n",
    "x, y = transformr.fit_transform(df_train).T  ## 전치(x, y에 넣어줘야 하니까)"
   ]
  },
  {
   "cell_type": "code",
   "execution_count": 38,
   "id": "a5007c85-6d81-4381-9f60-51f866390417",
   "metadata": {},
   "outputs": [
    {
     "data": {
      "text/plain": [
       "(array([-1.40729341, -1.31406689, -1.13030154, -0.50278108, -0.02130412,\n",
       "         0.13926015,  0.81742569,  0.96759638,  0.96759638,  1.48386844]),\n",
       " array([ 2.42405408, -0.18677452,  0.16485704,  0.17667635,  0.41617603,\n",
       "         0.55696978, -1.03040835, -0.62032873, -1.33362249, -0.56759919]))"
      ]
     },
     "execution_count": 38,
     "metadata": {},
     "output_type": "execute_result"
    }
   ],
   "source": [
    "x, y"
   ]
  },
  {
   "cell_type": "code",
   "execution_count": 39,
   "id": "b5c2ad7c-96e0-464b-87c3-bc9971d41a78",
   "metadata": {},
   "outputs": [
    {
     "data": {
      "text/plain": [
       "<Axes: xlabel='temp', ylabel='ice_sales'>"
      ]
     },
     "execution_count": 39,
     "metadata": {},
     "output_type": "execute_result"
    },
    {
     "data": {
      "image/png": "[encoded data removed]",
      "text/plain": [
       "<Figure size 640x480 with 1 Axes>"
      ]
     },
     "metadata": {},
     "output_type": "display_data"
    }
   ],
   "source": [
    "sns.scatterplot(df_train,x='temp',y='ice_sales',label='before')\n",
    "sns.scatterplot(x=x,y=y,label='after')"
   ]
  },
  {
   "cell_type": "markdown",
   "id": "c6e9564a-6572-4071-ae5f-6aa6e35d0ab0",
   "metadata": {},
   "source": [
    "\\-참고-\n",
    "\n",
    "`PowerTransformer()`는 자료가 정규분포가 아닌 경우 강제로 정규화하는 변환이다.\n",
    "\n",
    "> 그래서 x와 y값 모두 0 주위에 몰려있는 것을 알 수 있다...\n",
    "\n",
    "> 그리고 어차피 역변환할 수 있다. (`transformr.inverse_transform()`)"
   ]
  },
  {
   "cell_type": "markdown",
   "id": "99092c59-ad74-4b0a-9570-68df326f31a0",
   "metadata": {},
   "source": [
    "### **E. 교호작용의 존재**\n",
    "---\n",
    "\n",
    "\n"
   ]
  },
  {
   "cell_type": "markdown",
   "id": "0608bbfa-6712-4e97-bfcb-a335aea8f892",
   "metadata": {},
   "source": [
    "<span style=color:red>문제</span> : 설명 변수 간의 상호작용이 있는 경우, 이를 고려하지 않으면 데이터를 잘 설명하지 못할 수 있음.\n",
    "\n",
    "\\- 해결 : 고려하면 됨!"
   ]
  }
 ],
 "metadata": {
  "kernelspec": {
   "display_name": "Python 3 (ipykernel)",
   "language": "python",
   "name": "python3"
  },
  "language_info": {
   "codemirror_mode": {
    "name": "ipython",
    "version": 3
   },
   "file_extension": ".py",
   "mimetype": "text/x-python",
   "name": "python",
   "nbconvert_exporter": "python",
   "pygments_lexer": "ipython3",
   "version": "3.10.13"
  }
 },
 "nbformat": 4,
 "nbformat_minor": 5
}
