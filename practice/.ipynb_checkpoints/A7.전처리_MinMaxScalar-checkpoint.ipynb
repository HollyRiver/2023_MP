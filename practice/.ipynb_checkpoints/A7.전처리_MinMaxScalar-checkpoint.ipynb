{
 "cells": [
  {
   "cell_type": "markdown",
   "id": "760ab142-88d9-4996-82e9-f90e98b6864a",
   "metadata": {},
   "source": [
    "# 전처리 | ```MinMaxScalar```"
   ]
  },
  {
   "cell_type": "markdown",
   "id": "db15db16-841f-4ba0-961b-497dd9dc5e70",
   "metadata": {},
   "source": [
    "> ```MinMaxScalar```를 통해 자료를 전처리해보자.\n",
    "\n",
    "\n",
    "## 1. 라이브러리 import"
   ]
  },
  {
   "cell_type": "code",
   "execution_count": 2,
   "id": "805f28d8-116a-43cc-ae9e-339e651d4d53",
   "metadata": {},
   "outputs": [],
   "source": [
    "import numpy as np\n",
    "import pandas as pd\n",
    "import sklearn.preprocessing"
   ]
  },
  {
   "cell_type": "markdown",
   "id": "b3e9e8b9-9cf7-493f-9889-2da24e5d6280",
   "metadata": {},
   "source": [
    "> 오늘 사용할 라이브러리 : sklearn.preprocessing"
   ]
  },
  {
   "cell_type": "markdown",
   "id": "ee3be3b6-2b8c-48fe-baad-08fe9836e56a",
   "metadata": {},
   "source": [
    "## 2. ```MinMaxScalar```\n",
    "\n",
    "### **A. 모티브**\n",
    "\n",
    "---\n",
    "\n",
    "\\- 예제자료 로드(학점, 토익 등이 취업에 미치는 정도)"
   ]
  },
  {
   "cell_type": "code",
   "execution_count": 3,
   "id": "c78a425e-8a1d-429f-9b04-88738b065780",
   "metadata": {},
   "outputs": [
    {
     "data": {
      "text/html": [
       "<div>\n",
       "<style scoped>\n",
       "    .dataframe tbody tr th:only-of-type {\n",
       "        vertical-align: middle;\n",
       "    }\n",
       "\n",
       "    .dataframe tbody tr th {\n",
       "        vertical-align: top;\n",
       "    }\n",
       "\n",
       "    .dataframe thead th {\n",
       "        text-align: right;\n",
       "    }\n",
       "</style>\n",
       "<table border=\"1\" class=\"dataframe\">\n",
       "  <thead>\n",
       "    <tr style=\"text-align: right;\">\n",
       "      <th></th>\n",
       "      <th>toeic</th>\n",
       "      <th>gpa</th>\n",
       "    </tr>\n",
       "  </thead>\n",
       "  <tbody>\n",
       "    <tr>\n",
       "      <th>0</th>\n",
       "      <td>135</td>\n",
       "      <td>0.051535</td>\n",
       "    </tr>\n",
       "    <tr>\n",
       "      <th>1</th>\n",
       "      <td>935</td>\n",
       "      <td>0.355496</td>\n",
       "    </tr>\n",
       "    <tr>\n",
       "      <th>2</th>\n",
       "      <td>485</td>\n",
       "      <td>2.228435</td>\n",
       "    </tr>\n",
       "    <tr>\n",
       "      <th>3</th>\n",
       "      <td>65</td>\n",
       "      <td>1.179701</td>\n",
       "    </tr>\n",
       "    <tr>\n",
       "      <th>4</th>\n",
       "      <td>445</td>\n",
       "      <td>3.962356</td>\n",
       "    </tr>\n",
       "    <tr>\n",
       "      <th>5</th>\n",
       "      <td>65</td>\n",
       "      <td>1.846885</td>\n",
       "    </tr>\n",
       "    <tr>\n",
       "      <th>6</th>\n",
       "      <td>290</td>\n",
       "      <td>0.309928</td>\n",
       "    </tr>\n",
       "    <tr>\n",
       "      <th>7</th>\n",
       "      <td>730</td>\n",
       "      <td>0.336081</td>\n",
       "    </tr>\n",
       "  </tbody>\n",
       "</table>\n",
       "</div>"
      ],
      "text/plain": [
       "   toeic       gpa\n",
       "0    135  0.051535\n",
       "1    935  0.355496\n",
       "2    485  2.228435\n",
       "3     65  1.179701\n",
       "4    445  3.962356\n",
       "5     65  1.846885\n",
       "6    290  0.309928\n",
       "7    730  0.336081"
      ]
     },
     "execution_count": 3,
     "metadata": {},
     "output_type": "execute_result"
    }
   ],
   "source": [
    "df = pd.read_csv('https://raw.githubusercontent.com/guebin/MP2023/main/posts/employment.csv').loc[:7,['toeic','gpa']]\n",
    "df"
   ]
  },
  {
   "cell_type": "markdown",
   "id": "1a64ded8-1959-4cd1-b820-e7fb5e97eb65",
   "metadata": {},
   "source": [
    "\\- 모형을 돌려보고 해석한 결과(```sklearn.linear_model.Linear_Regression()```)\n",
    "\n",
    "```\n",
    "u = X.toeic*0.00571598 + X.gpa*2.46520018 -8.45433334\n",
    "v = 1/(1+np.exp(-u))\n",
    "v # 확률같은것임\n",
    "```\n",
    "\n",
    "**그래서...**\n",
    "* 토익이 중요해? 아니면 학점이 중요해?\n",
    "* 무엇이 얼만큼 중요해?\n",
    "\n",
    "\\- 모티브 : 토익과 gpa 모두 0~1 사이의 척도로 바꾸면 해석이 쉽지 않을까?"
   ]
  },
  {
   "cell_type": "markdown",
   "id": "b5c64f84-e09b-4cec-85b3-a27dcad8f811",
   "metadata": {},
   "source": [
    "### **B. 사용방법**\n",
    "---\n",
    "\n",
    "* class를 이용, object를 생성한 방법(이전과 유사한 방법)"
   ]
  },
  {
   "cell_type": "code",
   "execution_count": 8,
   "id": "2016ea9c-94b5-48f0-93f5-7058b953c63e",
   "metadata": {},
   "outputs": [
    {
     "data": {
      "text/html": [
       "<style>#sk-container-id-1 {color: black;background-color: white;}#sk-container-id-1 pre{padding: 0;}#sk-container-id-1 div.sk-toggleable {background-color: white;}#sk-container-id-1 label.sk-toggleable__label {cursor: pointer;display: block;width: 100%;margin-bottom: 0;padding: 0.3em;box-sizing: border-box;text-align: center;}#sk-container-id-1 label.sk-toggleable__label-arrow:before {content: \"▸\";float: left;margin-right: 0.25em;color: #696969;}#sk-container-id-1 label.sk-toggleable__label-arrow:hover:before {color: black;}#sk-container-id-1 div.sk-estimator:hover label.sk-toggleable__label-arrow:before {color: black;}#sk-container-id-1 div.sk-toggleable__content {max-height: 0;max-width: 0;overflow: hidden;text-align: left;background-color: #f0f8ff;}#sk-container-id-1 div.sk-toggleable__content pre {margin: 0.2em;color: black;border-radius: 0.25em;background-color: #f0f8ff;}#sk-container-id-1 input.sk-toggleable__control:checked~div.sk-toggleable__content {max-height: 200px;max-width: 100%;overflow: auto;}#sk-container-id-1 input.sk-toggleable__control:checked~label.sk-toggleable__label-arrow:before {content: \"▾\";}#sk-container-id-1 div.sk-estimator input.sk-toggleable__control:checked~label.sk-toggleable__label {background-color: #d4ebff;}#sk-container-id-1 div.sk-label input.sk-toggleable__control:checked~label.sk-toggleable__label {background-color: #d4ebff;}#sk-container-id-1 input.sk-hidden--visually {border: 0;clip: rect(1px 1px 1px 1px);clip: rect(1px, 1px, 1px, 1px);height: 1px;margin: -1px;overflow: hidden;padding: 0;position: absolute;width: 1px;}#sk-container-id-1 div.sk-estimator {font-family: monospace;background-color: #f0f8ff;border: 1px dotted black;border-radius: 0.25em;box-sizing: border-box;margin-bottom: 0.5em;}#sk-container-id-1 div.sk-estimator:hover {background-color: #d4ebff;}#sk-container-id-1 div.sk-parallel-item::after {content: \"\";width: 100%;border-bottom: 1px solid gray;flex-grow: 1;}#sk-container-id-1 div.sk-label:hover label.sk-toggleable__label {background-color: #d4ebff;}#sk-container-id-1 div.sk-serial::before {content: \"\";position: absolute;border-left: 1px solid gray;box-sizing: border-box;top: 0;bottom: 0;left: 50%;z-index: 0;}#sk-container-id-1 div.sk-serial {display: flex;flex-direction: column;align-items: center;background-color: white;padding-right: 0.2em;padding-left: 0.2em;position: relative;}#sk-container-id-1 div.sk-item {position: relative;z-index: 1;}#sk-container-id-1 div.sk-parallel {display: flex;align-items: stretch;justify-content: center;background-color: white;position: relative;}#sk-container-id-1 div.sk-item::before, #sk-container-id-1 div.sk-parallel-item::before {content: \"\";position: absolute;border-left: 1px solid gray;box-sizing: border-box;top: 0;bottom: 0;left: 50%;z-index: -1;}#sk-container-id-1 div.sk-parallel-item {display: flex;flex-direction: column;z-index: 1;position: relative;background-color: white;}#sk-container-id-1 div.sk-parallel-item:first-child::after {align-self: flex-end;width: 50%;}#sk-container-id-1 div.sk-parallel-item:last-child::after {align-self: flex-start;width: 50%;}#sk-container-id-1 div.sk-parallel-item:only-child::after {width: 0;}#sk-container-id-1 div.sk-dashed-wrapped {border: 1px dashed gray;margin: 0 0.4em 0.5em 0.4em;box-sizing: border-box;padding-bottom: 0.4em;background-color: white;}#sk-container-id-1 div.sk-label label {font-family: monospace;font-weight: bold;display: inline-block;line-height: 1.2em;}#sk-container-id-1 div.sk-label-container {text-align: center;}#sk-container-id-1 div.sk-container {/* jupyter's `normalize.less` sets `[hidden] { display: none; }` but bootstrap.min.css set `[hidden] { display: none !important; }` so we also need the `!important` here to be able to override the default hidden behavior on the sphinx rendered scikit-learn.org. See: https://github.com/scikit-learn/scikit-learn/issues/21755 */display: inline-block !important;position: relative;}#sk-container-id-1 div.sk-text-repr-fallback {display: none;}</style><div id=\"sk-container-id-1\" class=\"sk-top-container\"><div class=\"sk-text-repr-fallback\"><pre>MinMaxScaler()</pre><b>In a Jupyter environment, please rerun this cell to show the HTML representation or trust the notebook. <br />On GitHub, the HTML representation is unable to render, please try loading this page with nbviewer.org.</b></div><div class=\"sk-container\" hidden><div class=\"sk-item\"><div class=\"sk-estimator sk-toggleable\"><input class=\"sk-toggleable__control sk-hidden--visually\" id=\"sk-estimator-id-1\" type=\"checkbox\" checked><label for=\"sk-estimator-id-1\" class=\"sk-toggleable__label sk-toggleable__label-arrow\">MinMaxScaler</label><div class=\"sk-toggleable__content\"><pre>MinMaxScaler()</pre></div></div></div></div></div>"
      ],
      "text/plain": [
       "MinMaxScaler()"
      ]
     },
     "execution_count": 8,
     "metadata": {},
     "output_type": "execute_result"
    }
   ],
   "source": [
    "sclr = sklearn.preprocessing.MinMaxScaler()\n",
    "\n",
    "sclr.fit(df)"
   ]
  },
  {
   "cell_type": "code",
   "execution_count": 10,
   "id": "136cf9c9-4b33-4f66-9a9e-b2578f99a22e",
   "metadata": {},
   "outputs": [
    {
     "data": {
      "text/plain": [
       "array([[0.08045977, 0.        ],\n",
       "       [1.        , 0.07772319],\n",
       "       [0.48275862, 0.55663499],\n",
       "       [0.        , 0.28847292],\n",
       "       [0.43678161, 1.        ],\n",
       "       [0.        , 0.45907256],\n",
       "       [0.25862069, 0.06607128],\n",
       "       [0.76436782, 0.07275881]])"
      ]
     },
     "execution_count": 10,
     "metadata": {},
     "output_type": "execute_result"
    }
   ],
   "source": [
    "sclr.transform(df)\n",
    "\n",
    "##또는 한번에 sclr.fit_transform(df)"
   ]
  },
  {
   "cell_type": "markdown",
   "id": "6acac8ef-0111-41c7-87af-6c8abf83dc14",
   "metadata": {},
   "source": [
    "> ```sclr.fit()```과 ```sclr.transform()```은 입력으로 2차원 자료구조를 기대한다. 따라서 내부 입력 자료가 ```Series```일 경우 제대로 작동하지 않는다."
   ]
  },
  {
   "cell_type": "markdown",
   "id": "35932274-3b75-4f31-a265-d228fab33fdb",
   "metadata": {},
   "source": [
    "## 3. ```minmax_scale()``` | 실제 쓰진 않는 방법\n",
    "\n",
    "### **A. 사용방법**\n",
    "---\n",
    "\n",
    "\\- scaler를 오브젝트로 따로 만들지 않고 함수형으로 구현"
   ]
  },
  {
   "cell_type": "code",
   "execution_count": 12,
   "id": "47c20452-55a3-4597-be33-452c11ac84ab",
   "metadata": {},
   "outputs": [
    {
     "data": {
      "text/plain": [
       "array([[0.08045977, 0.        ],\n",
       "       [1.        , 0.07772319],\n",
       "       [0.48275862, 0.55663499],\n",
       "       [0.        , 0.28847292],\n",
       "       [0.43678161, 1.        ],\n",
       "       [0.        , 0.45907256],\n",
       "       [0.25862069, 0.06607128],\n",
       "       [0.76436782, 0.07275881]])"
      ]
     },
     "execution_count": 12,
     "metadata": {},
     "output_type": "execute_result"
    }
   ],
   "source": [
    "sklearn.preprocessing.minmax_scale(df)"
   ]
  },
  {
   "cell_type": "markdown",
   "id": "d23f1e64-c133-40fa-b7a2-ae7eb220f2d7",
   "metadata": {},
   "source": [
    "> 해당 방법은 1차원 자료구조인 ```Series```도 input이 가능하다.\n",
    "\n",
    "### **B. discussions**\n",
    "---\n",
    "\\- 언뜻 보기에는 `MinMaxScaler`보다 `minmaxscale`이 더 좋아보이는데, 일반적으로 ```minmax_scale()```을 사용하지는 않는다. 오브젝트를 생성하여 전처리하는 것이 유리하다.\n",
    "\n",
    "> train데이터와 test데이터의 스케일링 시 **동일한 변환**을 유지하는 상황에서는 `MinMaxScaler`가 유리하다.\n",
    ">\n",
    "> `inverse_transform`과 같은 부가기능을 제공한다."
   ]
  },
  {
   "cell_type": "code",
   "execution_count": 20,
   "id": "58a7c6f2-631e-47c3-b949-0b57e5f28637",
   "metadata": {},
   "outputs": [
    {
     "data": {
      "text/plain": [
       "array([[1.35000000e+02, 5.15345769e-02],\n",
       "       [9.35000000e+02, 3.55496117e-01],\n",
       "       [4.85000000e+02, 2.22843475e+00],\n",
       "       [6.50000000e+01, 1.17970071e+00],\n",
       "       [4.45000000e+02, 3.96235620e+00],\n",
       "       [6.50000000e+01, 1.84688548e+00],\n",
       "       [2.90000000e+02, 3.09927561e-01],\n",
       "       [7.30000000e+02, 3.36081305e-01]])"
      ]
     },
     "execution_count": 20,
     "metadata": {},
     "output_type": "execute_result"
    }
   ],
   "source": [
    "arr = sclr.fit_transform(df)\n",
    "sclr.inverse_transform(arr)  ## 원래의 값으로 재변환한다."
   ]
  },
  {
   "cell_type": "markdown",
   "id": "0d553976-57f3-4106-af66-f19a2fcf6bfc",
   "metadata": {},
   "source": [
    "## 4. (tr.test)의 스케일링 | 잘못된 스케일링 방법\n",
    "\\- 주어진 자료가 아래와 같이 train/test로 나누어져 있다고 가정해보자."
   ]
  },
  {
   "cell_type": "code",
   "execution_count": 21,
   "id": "06a9bf9b-ff2d-4ec5-bae9-4ff487a1fdcb",
   "metadata": {},
   "outputs": [],
   "source": [
    "X = np.array([1.0, 2.0, 3.0, 4.0, 5.0]).reshape(-1,1)\n",
    "XX = np.array([1.5, 2.5, 3.5]).reshape(-1,1)"
   ]
  },
  {
   "cell_type": "code",
   "execution_count": 22,
   "id": "9086ba14-6d74-4cfd-99a3-735b4a4f95a6",
   "metadata": {},
   "outputs": [
    {
     "data": {
      "text/plain": [
       "(array([[1.],\n",
       "        [2.],\n",
       "        [3.],\n",
       "        [4.],\n",
       "        [5.]]),\n",
       " array([[1.5],\n",
       "        [2.5],\n",
       "        [3.5]]))"
      ]
     },
     "execution_count": 22,
     "metadata": {},
     "output_type": "execute_result"
    }
   ],
   "source": [
    "X, XX"
   ]
  },
  {
   "cell_type": "markdown",
   "id": "d5e8055c-7aae-4e7c-8525-5c3e2635005b",
   "metadata": {},
   "source": [
    "### **A. 잘못된 스케일링 방법 - 비효율의 문제**\n",
    "---"
   ]
  },
  {
   "cell_type": "code",
   "execution_count": 23,
   "id": "1252d69b-8561-47fd-b387-abebacc85ea7",
   "metadata": {},
   "outputs": [
    {
     "data": {
      "text/plain": [
       "(array([[0.  ],\n",
       "        [0.25],\n",
       "        [0.5 ],\n",
       "        [0.75],\n",
       "        [1.  ]]),\n",
       " array([[0. ],\n",
       "        [0.5],\n",
       "        [1. ]]))"
      ]
     },
     "execution_count": 23,
     "metadata": {},
     "output_type": "execute_result"
    }
   ],
   "source": [
    "sklearn.preprocessing.minmax_scale(X), sklearn.preprocessing.minmax_scale(XX)"
   ]
  },
  {
   "cell_type": "markdown",
   "id": "b2b8e04b-ee11-4cf9-9635-d00689c10a3b",
   "metadata": {},
   "source": [
    "> 같은 값이어도 다르게 스케일을 변환시킨다...\n",
    "\n",
    "\\- 보통은 1.5가 0과 0.25 사이의 값으로 변환되어야 함.\n",
    "\n",
    "### **B. 올바른 스케일링 방법**\n",
    "---"
   ]
  },
  {
   "cell_type": "code",
   "execution_count": 24,
   "id": "cbe83f83-c02f-43ca-9b2d-3bfca6c5ade4",
   "metadata": {},
   "outputs": [
    {
     "data": {
      "text/html": [
       "<style>#sk-container-id-2 {color: black;background-color: white;}#sk-container-id-2 pre{padding: 0;}#sk-container-id-2 div.sk-toggleable {background-color: white;}#sk-container-id-2 label.sk-toggleable__label {cursor: pointer;display: block;width: 100%;margin-bottom: 0;padding: 0.3em;box-sizing: border-box;text-align: center;}#sk-container-id-2 label.sk-toggleable__label-arrow:before {content: \"▸\";float: left;margin-right: 0.25em;color: #696969;}#sk-container-id-2 label.sk-toggleable__label-arrow:hover:before {color: black;}#sk-container-id-2 div.sk-estimator:hover label.sk-toggleable__label-arrow:before {color: black;}#sk-container-id-2 div.sk-toggleable__content {max-height: 0;max-width: 0;overflow: hidden;text-align: left;background-color: #f0f8ff;}#sk-container-id-2 div.sk-toggleable__content pre {margin: 0.2em;color: black;border-radius: 0.25em;background-color: #f0f8ff;}#sk-container-id-2 input.sk-toggleable__control:checked~div.sk-toggleable__content {max-height: 200px;max-width: 100%;overflow: auto;}#sk-container-id-2 input.sk-toggleable__control:checked~label.sk-toggleable__label-arrow:before {content: \"▾\";}#sk-container-id-2 div.sk-estimator input.sk-toggleable__control:checked~label.sk-toggleable__label {background-color: #d4ebff;}#sk-container-id-2 div.sk-label input.sk-toggleable__control:checked~label.sk-toggleable__label {background-color: #d4ebff;}#sk-container-id-2 input.sk-hidden--visually {border: 0;clip: rect(1px 1px 1px 1px);clip: rect(1px, 1px, 1px, 1px);height: 1px;margin: -1px;overflow: hidden;padding: 0;position: absolute;width: 1px;}#sk-container-id-2 div.sk-estimator {font-family: monospace;background-color: #f0f8ff;border: 1px dotted black;border-radius: 0.25em;box-sizing: border-box;margin-bottom: 0.5em;}#sk-container-id-2 div.sk-estimator:hover {background-color: #d4ebff;}#sk-container-id-2 div.sk-parallel-item::after {content: \"\";width: 100%;border-bottom: 1px solid gray;flex-grow: 1;}#sk-container-id-2 div.sk-label:hover label.sk-toggleable__label {background-color: #d4ebff;}#sk-container-id-2 div.sk-serial::before {content: \"\";position: absolute;border-left: 1px solid gray;box-sizing: border-box;top: 0;bottom: 0;left: 50%;z-index: 0;}#sk-container-id-2 div.sk-serial {display: flex;flex-direction: column;align-items: center;background-color: white;padding-right: 0.2em;padding-left: 0.2em;position: relative;}#sk-container-id-2 div.sk-item {position: relative;z-index: 1;}#sk-container-id-2 div.sk-parallel {display: flex;align-items: stretch;justify-content: center;background-color: white;position: relative;}#sk-container-id-2 div.sk-item::before, #sk-container-id-2 div.sk-parallel-item::before {content: \"\";position: absolute;border-left: 1px solid gray;box-sizing: border-box;top: 0;bottom: 0;left: 50%;z-index: -1;}#sk-container-id-2 div.sk-parallel-item {display: flex;flex-direction: column;z-index: 1;position: relative;background-color: white;}#sk-container-id-2 div.sk-parallel-item:first-child::after {align-self: flex-end;width: 50%;}#sk-container-id-2 div.sk-parallel-item:last-child::after {align-self: flex-start;width: 50%;}#sk-container-id-2 div.sk-parallel-item:only-child::after {width: 0;}#sk-container-id-2 div.sk-dashed-wrapped {border: 1px dashed gray;margin: 0 0.4em 0.5em 0.4em;box-sizing: border-box;padding-bottom: 0.4em;background-color: white;}#sk-container-id-2 div.sk-label label {font-family: monospace;font-weight: bold;display: inline-block;line-height: 1.2em;}#sk-container-id-2 div.sk-label-container {text-align: center;}#sk-container-id-2 div.sk-container {/* jupyter's `normalize.less` sets `[hidden] { display: none; }` but bootstrap.min.css set `[hidden] { display: none !important; }` so we also need the `!important` here to be able to override the default hidden behavior on the sphinx rendered scikit-learn.org. See: https://github.com/scikit-learn/scikit-learn/issues/21755 */display: inline-block !important;position: relative;}#sk-container-id-2 div.sk-text-repr-fallback {display: none;}</style><div id=\"sk-container-id-2\" class=\"sk-top-container\"><div class=\"sk-text-repr-fallback\"><pre>MinMaxScaler()</pre><b>In a Jupyter environment, please rerun this cell to show the HTML representation or trust the notebook. <br />On GitHub, the HTML representation is unable to render, please try loading this page with nbviewer.org.</b></div><div class=\"sk-container\" hidden><div class=\"sk-item\"><div class=\"sk-estimator sk-toggleable\"><input class=\"sk-toggleable__control sk-hidden--visually\" id=\"sk-estimator-id-2\" type=\"checkbox\" checked><label for=\"sk-estimator-id-2\" class=\"sk-toggleable__label sk-toggleable__label-arrow\">MinMaxScaler</label><div class=\"sk-toggleable__content\"><pre>MinMaxScaler()</pre></div></div></div></div></div>"
      ],
      "text/plain": [
       "MinMaxScaler()"
      ]
     },
     "execution_count": 24,
     "metadata": {},
     "output_type": "execute_result"
    }
   ],
   "source": [
    "sclr = sklearn.preprocessing.MinMaxScaler()\n",
    "sclr.fit(X)  ##sclr.fit_transform(X)"
   ]
  },
  {
   "cell_type": "code",
   "execution_count": 25,
   "id": "d1898cc6-6ce3-4aaa-adba-0d27a649c52b",
   "metadata": {},
   "outputs": [
    {
     "data": {
      "text/plain": [
       "(array([[0.  ],\n",
       "        [0.25],\n",
       "        [0.5 ],\n",
       "        [0.75],\n",
       "        [1.  ]]),\n",
       " array([[0.125],\n",
       "        [0.375],\n",
       "        [0.625]]))"
      ]
     },
     "execution_count": 25,
     "metadata": {},
     "output_type": "execute_result"
    }
   ],
   "source": [
    "sclr.transform(X), sclr.transform(XX)"
   ]
  },
  {
   "cell_type": "markdown",
   "id": "f8f3df53-cf12-4174-b840-bd3e02270606",
   "metadata": {},
   "source": [
    "> 중간값으로 잘 들어갔다. 더 합리적임."
   ]
  },
  {
   "cell_type": "markdown",
   "id": "4b89a502-9bb6-4169-a874-da431d4df2ef",
   "metadata": {},
   "source": [
    "### **C. scaled_value ∈ [0, 1]?**\n",
    "---\n",
    "\\- 주어진 자료가 아래와 같다고 하자."
   ]
  },
  {
   "cell_type": "code",
   "execution_count": 26,
   "id": "caca58be-fbae-4e49-9133-a5736c7cbde7",
   "metadata": {},
   "outputs": [],
   "source": [
    "X = np.array([1.0, 2.0, 3.0, 4.0, 3.5]).reshape(-1,1)\n",
    "XX = np.array([1.5, 2.5, 5.0]).reshape(-1,1)"
   ]
  },
  {
   "cell_type": "markdown",
   "id": "32e9a129-c11b-4cfa-9f20-ec7774d55043",
   "metadata": {},
   "source": [
    "> train data(X)의 범위는 1에서 3.5인데 반해, test data(XX)의 특정 값은 그 범위를 넘어갔다."
   ]
  },
  {
   "cell_type": "code",
   "execution_count": 27,
   "id": "807ee113-bdcc-4bd4-8786-960e9b3fefc4",
   "metadata": {},
   "outputs": [
    {
     "data": {
      "text/plain": [
       "array([[0.16666667],\n",
       "       [0.5       ],\n",
       "       [1.33333333]])"
      ]
     },
     "execution_count": 27,
     "metadata": {},
     "output_type": "execute_result"
    }
   ],
   "source": [
    "sclr = sklearn.preprocessing.MinMaxScaler()\n",
    "sclr.fit(X)\n",
    "sclr.transform(XX)"
   ]
  },
  {
   "cell_type": "markdown",
   "id": "528b129b-6b91-4345-a0da-cd63e25a3021",
   "metadata": {},
   "source": [
    "이에 따라 스케일링된 값이 1보다 커질 수 있다."
   ]
  },
  {
   "cell_type": "markdown",
   "id": "ce9e032e-8a3c-4920-b3b1-664cb8f3c459",
   "metadata": {},
   "source": [
    "### **D. <span style=background-color:pink>아주아주 잘못된 스케일링 방법 - <span style=color:red>정보누수</span></span>**\n",
    "---\n",
    "\\- 주어진 자료가 아래와 같다고 하자."
   ]
  },
  {
   "cell_type": "code",
   "execution_count": 28,
   "id": "5565c40d-8d6f-4a7c-9f3c-55a9bbc10df0",
   "metadata": {},
   "outputs": [],
   "source": [
    "X = np.array([1.0, 2.0, 3.0, 4.0, 3.5]).reshape(-1,1)\n",
    "XX = np.array([1.5, 2.5, 5.0]).reshape(-1,1)"
   ]
  },
  {
   "cell_type": "markdown",
   "id": "c06e191a-cb24-43e1-8115-7e15ec20fd4b",
   "metadata": {},
   "source": [
    "\\- train data와 test data를 합친다......?!"
   ]
  },
  {
   "cell_type": "code",
   "execution_count": 30,
   "id": "47742a2d-326e-4d6f-b8e2-b4010557bc91",
   "metadata": {},
   "outputs": [
    {
     "data": {
      "text/plain": [
       "array([[1. ],\n",
       "       [2. ],\n",
       "       [3. ],\n",
       "       [4. ],\n",
       "       [3.5],\n",
       "       [1.5],\n",
       "       [2.5],\n",
       "       [5. ]])"
      ]
     },
     "execution_count": 30,
     "metadata": {},
     "output_type": "execute_result"
    }
   ],
   "source": [
    "np.concatenate([X,XX])"
   ]
  },
  {
   "cell_type": "markdown",
   "id": "7692670a-2fd3-4b08-81aa-58af210c70e2",
   "metadata": {},
   "source": [
    "\\- 합친 데이터에서 스케일링"
   ]
  },
  {
   "cell_type": "code",
   "execution_count": 31,
   "id": "36ce3705-4771-43fa-b929-c208af8161ea",
   "metadata": {},
   "outputs": [
    {
     "data": {
      "text/plain": [
       "array([[0.   ],\n",
       "       [0.25 ],\n",
       "       [0.5  ],\n",
       "       [0.75 ],\n",
       "       [0.625],\n",
       "       [0.125],\n",
       "       [0.375],\n",
       "       [1.   ]])"
      ]
     },
     "execution_count": 31,
     "metadata": {},
     "output_type": "execute_result"
    }
   ],
   "source": [
    "sklearn.preprocessing.minmax_scale(np.concatenate([X,XX]))"
   ]
  },
  {
   "cell_type": "markdown",
   "id": "c12abfd1-0ffb-4532-b557-85182430cb27",
   "metadata": {},
   "source": [
    "> 이렇게 전저리하는 것은 **정보누수**에 해당한다. 본래 test dataset은 알지 못한 상태인데 그것을 합칠 순 없다!\n",
    ">\n",
    "> <span style=color:red>대회에서 이런 일이 발생하면 cheating으로 간주되어 탈락된다.</span>\n",
    "\n",
    "* 위에서 ```minmax_scale()```로 처리하는 것은 전략적으로 비효율적인 문제이지 치팅과 관련된 치명적인 문제가 아니다. (만약 어떠한 경우에 ```minmax_scale``` 전처리 방식이 유리하다는 생각이 들면 사용해도 무방함)"
   ]
  }
 ],
 "metadata": {
  "kernelspec": {
   "display_name": "Python 3 (ipykernel)",
   "language": "python",
   "name": "python3"
  },
  "language_info": {
   "codemirror_mode": {
    "name": "ipython",
    "version": 3
   },
   "file_extension": ".py",
   "mimetype": "text/x-python",
   "name": "python",
   "nbconvert_exporter": "python",
   "pygments_lexer": "ipython3",
   "version": "3.10.13"
  }
 },
 "nbformat": 4,
 "nbformat_minor": 5
}
