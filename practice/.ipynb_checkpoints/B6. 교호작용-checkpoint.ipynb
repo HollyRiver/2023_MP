{
 "cells": [
  {
   "cell_type": "markdown",
   "id": "17b861ab-641a-476a-bd6e-b823caa78b7e",
   "metadata": {},
   "source": [
    "---\n",
    "title: \"변수 간 교호작용\"\n",
    "author: \"강신성\"\n",
    "date: \"2023-10-18\"\n",
    "categories: [python, LinearRegression]\n",
    "---\n",
    "\n",
    "\n"
   ]
  },
  {
   "cell_type": "markdown",
   "id": "52f84b9d-b865-4046-8db4-dfaa70823356",
   "metadata": {},
   "source": [
    "> 교호작용은 무엇이고 어떻게 해결해야 하는지, 다이어트와 관련된 자료와 기존의 아이스크림 자료를 이용하여 알아보자!"
   ]
  },
  {
   "cell_type": "markdown",
   "id": "91c815ac-5f39-4745-a614-f10c4c031f6d",
   "metadata": {},
   "source": [
    "## 1. 라이브러리 improts"
   ]
  },
  {
   "cell_type": "code",
   "execution_count": 1,
   "id": "3bfee6b0-efde-4021-9752-8754a9cb7eae",
   "metadata": {},
   "outputs": [],
   "source": [
    "import numpy as np\n",
    "import pandas as pd\n",
    "import matplotlib.pyplot as plt\n",
    "import sklearn.linear_model\n",
    "import sklearn.tree\n",
    "import sklearn.model_selection"
   ]
  },
  {
   "cell_type": "markdown",
   "id": "609eda47-a39a-4ff5-88c8-b3b0ba457323",
   "metadata": {},
   "source": [
    "## 2. Data"
   ]
  },
  {
   "cell_type": "code",
   "execution_count": 21,
   "id": "73c3f49d-def2-44c3-a768-32cdd08a917d",
   "metadata": {},
   "outputs": [
    {
     "data": {
      "text/html": [
       "<div>\n",
       "<style scoped>\n",
       "    .dataframe tbody tr th:only-of-type {\n",
       "        vertical-align: middle;\n",
       "    }\n",
       "\n",
       "    .dataframe tbody tr th {\n",
       "        vertical-align: top;\n",
       "    }\n",
       "\n",
       "    .dataframe thead th {\n",
       "        text-align: right;\n",
       "    }\n",
       "</style>\n",
       "<table border=\"1\" class=\"dataframe\">\n",
       "  <thead>\n",
       "    <tr style=\"text-align: right;\">\n",
       "      <th></th>\n",
       "      <th>Supplement</th>\n",
       "      <th>Exercise</th>\n",
       "      <th>Weight_Loss</th>\n",
       "    </tr>\n",
       "  </thead>\n",
       "  <tbody>\n",
       "    <tr>\n",
       "      <th>0</th>\n",
       "      <td>False</td>\n",
       "      <td>False</td>\n",
       "      <td>-0.877103</td>\n",
       "    </tr>\n",
       "    <tr>\n",
       "      <th>1</th>\n",
       "      <td>True</td>\n",
       "      <td>False</td>\n",
       "      <td>1.604542</td>\n",
       "    </tr>\n",
       "    <tr>\n",
       "      <th>2</th>\n",
       "      <td>True</td>\n",
       "      <td>True</td>\n",
       "      <td>13.824148</td>\n",
       "    </tr>\n",
       "    <tr>\n",
       "      <th>3</th>\n",
       "      <td>True</td>\n",
       "      <td>True</td>\n",
       "      <td>13.004505</td>\n",
       "    </tr>\n",
       "    <tr>\n",
       "      <th>4</th>\n",
       "      <td>True</td>\n",
       "      <td>True</td>\n",
       "      <td>13.701128</td>\n",
       "    </tr>\n",
       "    <tr>\n",
       "      <th>...</th>\n",
       "      <td>...</td>\n",
       "      <td>...</td>\n",
       "      <td>...</td>\n",
       "    </tr>\n",
       "    <tr>\n",
       "      <th>9995</th>\n",
       "      <td>True</td>\n",
       "      <td>False</td>\n",
       "      <td>1.558841</td>\n",
       "    </tr>\n",
       "    <tr>\n",
       "      <th>9996</th>\n",
       "      <td>False</td>\n",
       "      <td>False</td>\n",
       "      <td>-0.217816</td>\n",
       "    </tr>\n",
       "    <tr>\n",
       "      <th>9997</th>\n",
       "      <td>False</td>\n",
       "      <td>True</td>\n",
       "      <td>4.072701</td>\n",
       "    </tr>\n",
       "    <tr>\n",
       "      <th>9998</th>\n",
       "      <td>True</td>\n",
       "      <td>False</td>\n",
       "      <td>-0.253796</td>\n",
       "    </tr>\n",
       "    <tr>\n",
       "      <th>9999</th>\n",
       "      <td>False</td>\n",
       "      <td>False</td>\n",
       "      <td>-1.399092</td>\n",
       "    </tr>\n",
       "  </tbody>\n",
       "</table>\n",
       "<p>10000 rows × 3 columns</p>\n",
       "</div>"
      ],
      "text/plain": [
       "      Supplement  Exercise  Weight_Loss\n",
       "0          False     False    -0.877103\n",
       "1           True     False     1.604542\n",
       "2           True      True    13.824148\n",
       "3           True      True    13.004505\n",
       "4           True      True    13.701128\n",
       "...          ...       ...          ...\n",
       "9995        True     False     1.558841\n",
       "9996       False     False    -0.217816\n",
       "9997       False      True     4.072701\n",
       "9998        True     False    -0.253796\n",
       "9999       False     False    -1.399092\n",
       "\n",
       "[10000 rows x 3 columns]"
      ]
     },
     "execution_count": 21,
     "metadata": {},
     "output_type": "execute_result"
    }
   ],
   "source": [
    "# n = 10000\n",
    "# Supplement = np.random.choice([True, False], n)\n",
    "# Exercise = np.random.choice([False, True], n)\n",
    "# Weight_Loss = np.where(\n",
    "#     (~Supplement & (~Exercise)),\n",
    "#     np.random.normal(loc=0, scale=1, size=n),  \n",
    "#     np.where(\n",
    "#         (Supplement & (Exercise)),\n",
    "#         np.random.normal(loc=15.00, scale=1, size=n),\n",
    "#         np.where(\n",
    "#             (~Supplement & (Exercise)),\n",
    "#             np.random.normal(loc=5.00, scale=1, size=n),\n",
    "#             np.random.normal(loc=0.5, scale=1, size=n)\n",
    "#         )\n",
    "#     )\n",
    "# )\n",
    "# df = pd.DataFrame({\n",
    "#     'Supplement': Supplement,\n",
    "#     'Exercise': Exercise,\n",
    "#     'Weight_Loss': Weight_Loss\n",
    "# })\n",
    "df_train = pd.read_csv('https://raw.githubusercontent.com/guebin/MP2023/main/posts/weightloss.csv')\n",
    "df_train"
   ]
  },
  {
   "cell_type": "code",
   "execution_count": 5,
   "id": "95bde9d5-48c5-491c-b286-49c8309d25d6",
   "metadata": {},
   "outputs": [
    {
     "data": {
      "text/html": [
       "<div>\n",
       "<style scoped>\n",
       "    .dataframe tbody tr th:only-of-type {\n",
       "        vertical-align: middle;\n",
       "    }\n",
       "\n",
       "    .dataframe tbody tr th {\n",
       "        vertical-align: top;\n",
       "    }\n",
       "\n",
       "    .dataframe thead th {\n",
       "        text-align: right;\n",
       "    }\n",
       "</style>\n",
       "<table border=\"1\" class=\"dataframe\">\n",
       "  <thead>\n",
       "    <tr style=\"text-align: right;\">\n",
       "      <th>Exercise</th>\n",
       "      <th>False</th>\n",
       "      <th>True</th>\n",
       "    </tr>\n",
       "    <tr>\n",
       "      <th>Supplement</th>\n",
       "      <th></th>\n",
       "      <th></th>\n",
       "    </tr>\n",
       "  </thead>\n",
       "  <tbody>\n",
       "    <tr>\n",
       "      <th>False</th>\n",
       "      <td>0.021673</td>\n",
       "      <td>4.991314</td>\n",
       "    </tr>\n",
       "    <tr>\n",
       "      <th>True</th>\n",
       "      <td>0.497573</td>\n",
       "      <td>14.966363</td>\n",
       "    </tr>\n",
       "  </tbody>\n",
       "</table>\n",
       "</div>"
      ],
      "text/plain": [
       "Exercise       False      True \n",
       "Supplement                     \n",
       "False       0.021673   4.991314\n",
       "True        0.497573  14.966363"
      ]
     },
     "execution_count": 5,
     "metadata": {},
     "output_type": "execute_result"
    }
   ],
   "source": [
    "df_train.pivot_table(index='Supplement',columns='Exercise',values='Weight_Loss', aggfunc = np.mean)"
   ]
  },
  {
   "cell_type": "markdown",
   "id": "be1998db-7180-4548-9dd3-779fd92c4dd7",
   "metadata": {},
   "source": [
    "* 둘 중 하나만 했을 때는 조금 적게 상승함\n",
    "\n",
    "> 운동과 체중감량보조제를 병행하면 시너지가 나는 것 같음."
   ]
  },
  {
   "cell_type": "markdown",
   "id": "ffe34a19-72fb-4be4-b1bc-50da8c17e1e6",
   "metadata": {},
   "source": [
    "## 3. 분석"
   ]
  },
  {
   "cell_type": "markdown",
   "id": "3e208b9b-0ba5-4785-a0ed-cecaf0d2225a",
   "metadata": {},
   "source": [
    "### **분석 1 : 늘 했던 것처럼... - 언더피팅**\n",
    "---\n",
    "\n",
    "\n"
   ]
  },
  {
   "cell_type": "markdown",
   "id": "b03ef6ce-cb3a-4527-aa49-df700b32ff86",
   "metadata": {},
   "source": [
    "* **$X$** : `Supplement`, `Exercise`\n",
    "* **$y$** : `Weight_Loss`"
   ]
  },
  {
   "cell_type": "code",
   "execution_count": 7,
   "id": "502ffdc7-20f5-4aaf-8bf5-4730be95a8af",
   "metadata": {},
   "outputs": [
    {
     "name": "stdout",
     "output_type": "stream",
     "text": [
      "train score = 0.8208\n"
     ]
    }
   ],
   "source": [
    "# step1\n",
    "X = df_train.drop(['Weight_Loss'], axis = 1)\n",
    "y = df_train['Weight_Loss']\n",
    "\n",
    "# step2\n",
    "predictr = sklearn.linear_model.LinearRegression()\n",
    "\n",
    "# step3\n",
    "predictr.fit(X, y)\n",
    "\n",
    "# step4\n",
    "df_train['Weight_Loss_hat'] = predictr.predict(X)\n",
    "\n",
    "#---#\n",
    "print(f'train score = {predictr.score(X,y):.4f}')"
   ]
  },
  {
   "cell_type": "code",
   "execution_count": 8,
   "id": "756fc216-4a2e-4e99-8cc0-d7c540720d5f",
   "metadata": {},
   "outputs": [
    {
     "data": {
      "text/html": [
       "<div>\n",
       "<style scoped>\n",
       "    .dataframe tbody tr th:only-of-type {\n",
       "        vertical-align: middle;\n",
       "    }\n",
       "\n",
       "    .dataframe tbody tr th {\n",
       "        vertical-align: top;\n",
       "    }\n",
       "\n",
       "    .dataframe thead th {\n",
       "        text-align: right;\n",
       "    }\n",
       "</style>\n",
       "<table border=\"1\" class=\"dataframe\">\n",
       "  <thead>\n",
       "    <tr style=\"text-align: right;\">\n",
       "      <th>Exercise</th>\n",
       "      <th>False</th>\n",
       "      <th>True</th>\n",
       "    </tr>\n",
       "    <tr>\n",
       "      <th>Supplement</th>\n",
       "      <th></th>\n",
       "      <th></th>\n",
       "    </tr>\n",
       "  </thead>\n",
       "  <tbody>\n",
       "    <tr>\n",
       "      <th>False</th>\n",
       "      <td>0.021673</td>\n",
       "      <td>4.991314</td>\n",
       "    </tr>\n",
       "    <tr>\n",
       "      <th>True</th>\n",
       "      <td>0.497573</td>\n",
       "      <td>14.966363</td>\n",
       "    </tr>\n",
       "  </tbody>\n",
       "</table>\n",
       "</div>"
      ],
      "text/plain": [
       "Exercise       False      True \n",
       "Supplement                     \n",
       "False       0.021673   4.991314\n",
       "True        0.497573  14.966363"
      ]
     },
     "execution_count": 8,
     "metadata": {},
     "output_type": "execute_result"
    }
   ],
   "source": [
    "df_train.pivot_table(index='Supplement',columns='Exercise',values='Weight_Loss')"
   ]
  },
  {
   "cell_type": "code",
   "execution_count": 9,
   "id": "0b064384-6170-447e-be9c-4a84c207939d",
   "metadata": {},
   "outputs": [
    {
     "data": {
      "text/html": [
       "<div>\n",
       "<style scoped>\n",
       "    .dataframe tbody tr th:only-of-type {\n",
       "        vertical-align: middle;\n",
       "    }\n",
       "\n",
       "    .dataframe tbody tr th {\n",
       "        vertical-align: top;\n",
       "    }\n",
       "\n",
       "    .dataframe thead th {\n",
       "        text-align: right;\n",
       "    }\n",
       "</style>\n",
       "<table border=\"1\" class=\"dataframe\">\n",
       "  <thead>\n",
       "    <tr style=\"text-align: right;\">\n",
       "      <th>Exercise</th>\n",
       "      <th>False</th>\n",
       "      <th>True</th>\n",
       "    </tr>\n",
       "    <tr>\n",
       "      <th>Supplement</th>\n",
       "      <th></th>\n",
       "      <th></th>\n",
       "    </tr>\n",
       "  </thead>\n",
       "  <tbody>\n",
       "    <tr>\n",
       "      <th>False</th>\n",
       "      <td>-2.373106</td>\n",
       "      <td>7.374557</td>\n",
       "    </tr>\n",
       "    <tr>\n",
       "      <th>True</th>\n",
       "      <td>2.845934</td>\n",
       "      <td>12.593598</td>\n",
       "    </tr>\n",
       "  </tbody>\n",
       "</table>\n",
       "</div>"
      ],
      "text/plain": [
       "Exercise       False      True \n",
       "Supplement                     \n",
       "False      -2.373106   7.374557\n",
       "True        2.845934  12.593598"
      ]
     },
     "execution_count": 9,
     "metadata": {},
     "output_type": "execute_result"
    }
   ],
   "source": [
    "df_train.pivot_table(index='Supplement',columns='Exercise',values='Weight_Loss_hat')"
   ]
  },
  {
   "cell_type": "markdown",
   "id": "261789b7-0b5e-4c7a-b86b-beaa5bdd54a1",
   "metadata": {},
   "source": [
    "* 운동을 하면 10kg 감량효과가 있다고 추정하고 있음.\n",
    "* 보충제를 먹으면 5kg 감량효과가 있다고 추정하고 있음.\n",
    "\n",
    "**predictr : 대충 (10, 5)의 숫자를 바꿔가면서 적합해봤는데, 이게 최선이야!**"
   ]
  },
  {
   "cell_type": "markdown",
   "id": "6ed43f5f-96ce-420f-9ec7-e2fda9715799",
   "metadata": {},
   "source": [
    "### **분석 2 : 교호작용을 고려한다.**\n",
    "---\n",
    "\n",
    "\n"
   ]
  },
  {
   "cell_type": "markdown",
   "id": "5100988d-c924-4782-a110-ebb421e03f81",
   "metadata": {},
   "source": [
    "**$X$** : `Supplement`, `Exercise`, `Supplement × Exercise`\n",
    "**$y$** : `Weight_Loss**\n",
    "\n",
    "> 기본적인 운동의 효과 및 보조제의 효과는 각각 `Supplement`, `Exercise`로 적합하고, 운동과 보조제의 시너지는 `Supplement × Exercise`(그냥 둘의 값을 곱해준 것)로 적합한다."
   ]
  },
  {
   "cell_type": "code",
   "execution_count": 22,
   "id": "a2e8ab70-3c6c-4ef2-958b-165b6ace2627",
   "metadata": {},
   "outputs": [
    {
     "name": "stdout",
     "output_type": "stream",
     "text": [
      "train score = 0.9728\n"
     ]
    }
   ],
   "source": [
    "# step1\n",
    "X = df_train.assign(Interaction = df_train.Supplement * df_train.Exercise).drop(['Weight_Loss'], axis = 1)\n",
    "y = df_train['Weight_Loss']\n",
    "\n",
    "# step2\n",
    "predictr = sklearn.linear_model.LinearRegression()\n",
    "\n",
    "# step3\n",
    "predictr.fit(X, y)\n",
    "\n",
    "# step4\n",
    "df_train['Weight_Loss_hat'] = predictr.predict(X)\n",
    "\n",
    "#---#\n",
    "print(f'train score = {predictr.score(X,y):.4f}')"
   ]
  },
  {
   "cell_type": "code",
   "execution_count": 23,
   "id": "bdae48eb-6617-4cd2-8695-c9922f96747a",
   "metadata": {},
   "outputs": [
    {
     "data": {
      "text/html": [
       "<div>\n",
       "<style scoped>\n",
       "    .dataframe tbody tr th:only-of-type {\n",
       "        vertical-align: middle;\n",
       "    }\n",
       "\n",
       "    .dataframe tbody tr th {\n",
       "        vertical-align: top;\n",
       "    }\n",
       "\n",
       "    .dataframe thead th {\n",
       "        text-align: right;\n",
       "    }\n",
       "</style>\n",
       "<table border=\"1\" class=\"dataframe\">\n",
       "  <thead>\n",
       "    <tr style=\"text-align: right;\">\n",
       "      <th>Exercise</th>\n",
       "      <th>False</th>\n",
       "      <th>True</th>\n",
       "    </tr>\n",
       "    <tr>\n",
       "      <th>Supplement</th>\n",
       "      <th></th>\n",
       "      <th></th>\n",
       "    </tr>\n",
       "  </thead>\n",
       "  <tbody>\n",
       "    <tr>\n",
       "      <th>False</th>\n",
       "      <td>0.021673</td>\n",
       "      <td>4.991314</td>\n",
       "    </tr>\n",
       "    <tr>\n",
       "      <th>True</th>\n",
       "      <td>0.497573</td>\n",
       "      <td>14.966363</td>\n",
       "    </tr>\n",
       "  </tbody>\n",
       "</table>\n",
       "</div>"
      ],
      "text/plain": [
       "Exercise       False      True \n",
       "Supplement                     \n",
       "False       0.021673   4.991314\n",
       "True        0.497573  14.966363"
      ]
     },
     "execution_count": 23,
     "metadata": {},
     "output_type": "execute_result"
    }
   ],
   "source": [
    "df_train.pivot_table(index='Supplement',columns='Exercise',values='Weight_Loss_hat')"
   ]
  },
  {
   "cell_type": "code",
   "execution_count": 24,
   "id": "c0b2ddce-3931-4655-a24a-a4e560763c1d",
   "metadata": {},
   "outputs": [
    {
     "data": {
      "text/html": [
       "<div>\n",
       "<style scoped>\n",
       "    .dataframe tbody tr th:only-of-type {\n",
       "        vertical-align: middle;\n",
       "    }\n",
       "\n",
       "    .dataframe tbody tr th {\n",
       "        vertical-align: top;\n",
       "    }\n",
       "\n",
       "    .dataframe thead th {\n",
       "        text-align: right;\n",
       "    }\n",
       "</style>\n",
       "<table border=\"1\" class=\"dataframe\">\n",
       "  <thead>\n",
       "    <tr style=\"text-align: right;\">\n",
       "      <th>Exercise</th>\n",
       "      <th>False</th>\n",
       "      <th>True</th>\n",
       "    </tr>\n",
       "    <tr>\n",
       "      <th>Supplement</th>\n",
       "      <th></th>\n",
       "      <th></th>\n",
       "    </tr>\n",
       "  </thead>\n",
       "  <tbody>\n",
       "    <tr>\n",
       "      <th>False</th>\n",
       "      <td>0.021673</td>\n",
       "      <td>4.991314</td>\n",
       "    </tr>\n",
       "    <tr>\n",
       "      <th>True</th>\n",
       "      <td>0.497573</td>\n",
       "      <td>14.966363</td>\n",
       "    </tr>\n",
       "  </tbody>\n",
       "</table>\n",
       "</div>"
      ],
      "text/plain": [
       "Exercise       False      True \n",
       "Supplement                     \n",
       "False       0.021673   4.991314\n",
       "True        0.497573  14.966363"
      ]
     },
     "execution_count": 24,
     "metadata": {},
     "output_type": "execute_result"
    }
   ],
   "source": [
    "df_train.pivot_table(index='Supplement',columns='Exercise',values='Weight_Loss')"
   ]
  },
  {
   "cell_type": "markdown",
   "id": "9c287feb-c1be-4c8a-aba0-60f974cdeb6a",
   "metadata": {},
   "source": [
    "> 예측값과 실제 관측치가 그냥 똑같게 나오는 모습이다.\n",
    "\n",
    "\n",
    "### **해석**\n",
    "---\n",
    "\n",
    "\n",
    "\n"
   ]
  },
  {
   "cell_type": "markdown",
   "id": "bd7e9b7f-fdb5-46d6-948d-30789811803e",
   "metadata": {},
   "source": [
    "* 운동의 효과는 5kg 정도의 감량 효과가 있다고 추정됨\n",
    "* 보충제를 먹으면 0.5kg 정도의 감량효과가 있다고 추정됨\n",
    "* 다만, 운동을 하면서 보충제를 함께 먹을 경우 발생하는 추가적인 시너지 효과가 9.5정도라고 추정됨."
   ]
  },
  {
   "cell_type": "markdown",
   "id": "e3ba0351-9b51-4207-978a-fe80f3283222",
   "metadata": {},
   "source": [
    "## 4. 아이스크림 자료"
   ]
  },
  {
   "cell_type": "markdown",
   "id": "17f6d222-10b9-413d-a087-991380381aa2",
   "metadata": {},
   "source": [
    "> 먼저 필요한 개념을 review해보자."
   ]
  },
  {
   "cell_type": "code",
   "execution_count": 26,
   "id": "f37660eb-3c13-483c-8616-7e0036010a77",
   "metadata": {},
   "outputs": [
    {
     "data": {
      "text/html": [
       "<div>\n",
       "<style scoped>\n",
       "    .dataframe tbody tr th:only-of-type {\n",
       "        vertical-align: middle;\n",
       "    }\n",
       "\n",
       "    .dataframe tbody tr th {\n",
       "        vertical-align: top;\n",
       "    }\n",
       "\n",
       "    .dataframe thead th {\n",
       "        text-align: right;\n",
       "    }\n",
       "</style>\n",
       "<table border=\"1\" class=\"dataframe\">\n",
       "  <thead>\n",
       "    <tr style=\"text-align: right;\">\n",
       "      <th></th>\n",
       "      <th>X1</th>\n",
       "      <th>X2</th>\n",
       "    </tr>\n",
       "  </thead>\n",
       "  <tbody>\n",
       "    <tr>\n",
       "      <th>0</th>\n",
       "      <td>2</td>\n",
       "      <td>A</td>\n",
       "    </tr>\n",
       "    <tr>\n",
       "      <th>1</th>\n",
       "      <td>3</td>\n",
       "      <td>B</td>\n",
       "    </tr>\n",
       "    <tr>\n",
       "      <th>2</th>\n",
       "      <td>4</td>\n",
       "      <td>A</td>\n",
       "    </tr>\n",
       "    <tr>\n",
       "      <th>3</th>\n",
       "      <td>1</td>\n",
       "      <td>C</td>\n",
       "    </tr>\n",
       "  </tbody>\n",
       "</table>\n",
       "</div>"
      ],
      "text/plain": [
       "   X1 X2\n",
       "0   2  A\n",
       "1   3  B\n",
       "2   4  A\n",
       "3   1  C"
      ]
     },
     "execution_count": 26,
     "metadata": {},
     "output_type": "execute_result"
    }
   ],
   "source": [
    "df = pd.DataFrame({'X1':[2,3,4,1],'X2':['A','B','A','C']})\n",
    "df "
   ]
  },
  {
   "cell_type": "markdown",
   "id": "052dd8f0-1ab0-4d8f-a3f1-c31d9c53a7d6",
   "metadata": {},
   "source": [
    "> 범주형 자료를 더미화(X2)"
   ]
  },
  {
   "cell_type": "code",
   "execution_count": 27,
   "id": "b929fa17-5ccb-437a-a8e2-be7a4e02308b",
   "metadata": {},
   "outputs": [
    {
     "data": {
      "text/html": [
       "<div>\n",
       "<style scoped>\n",
       "    .dataframe tbody tr th:only-of-type {\n",
       "        vertical-align: middle;\n",
       "    }\n",
       "\n",
       "    .dataframe tbody tr th {\n",
       "        vertical-align: top;\n",
       "    }\n",
       "\n",
       "    .dataframe thead th {\n",
       "        text-align: right;\n",
       "    }\n",
       "</style>\n",
       "<table border=\"1\" class=\"dataframe\">\n",
       "  <thead>\n",
       "    <tr style=\"text-align: right;\">\n",
       "      <th></th>\n",
       "      <th>X1</th>\n",
       "      <th>X2_A</th>\n",
       "      <th>X2_B</th>\n",
       "      <th>X2_C</th>\n",
       "    </tr>\n",
       "  </thead>\n",
       "  <tbody>\n",
       "    <tr>\n",
       "      <th>0</th>\n",
       "      <td>2</td>\n",
       "      <td>True</td>\n",
       "      <td>False</td>\n",
       "      <td>False</td>\n",
       "    </tr>\n",
       "    <tr>\n",
       "      <th>1</th>\n",
       "      <td>3</td>\n",
       "      <td>False</td>\n",
       "      <td>True</td>\n",
       "      <td>False</td>\n",
       "    </tr>\n",
       "    <tr>\n",
       "      <th>2</th>\n",
       "      <td>4</td>\n",
       "      <td>True</td>\n",
       "      <td>False</td>\n",
       "      <td>False</td>\n",
       "    </tr>\n",
       "    <tr>\n",
       "      <th>3</th>\n",
       "      <td>1</td>\n",
       "      <td>False</td>\n",
       "      <td>False</td>\n",
       "      <td>True</td>\n",
       "    </tr>\n",
       "  </tbody>\n",
       "</table>\n",
       "</div>"
      ],
      "text/plain": [
       "   X1   X2_A   X2_B   X2_C\n",
       "0   2   True  False  False\n",
       "1   3  False   True  False\n",
       "2   4   True  False  False\n",
       "3   1  False  False   True"
      ]
     },
     "execution_count": 27,
     "metadata": {},
     "output_type": "execute_result"
    }
   ],
   "source": [
    "pd.get_dummies(df)"
   ]
  },
  {
   "cell_type": "markdown",
   "id": "69c526bc-3923-4af4-8344-1c619979fe96",
   "metadata": {},
   "source": [
    "* X2_A, X2_B, X2_C는 셋 다 있을 필요는 없지 않나? -> 두 개 열만 있어도 나머지 열을 추측할 수 있으니까 공선성 문제가 생길 수 있음."
   ]
  },
  {
   "cell_type": "code",
   "execution_count": 28,
   "id": "8583e2ab-562c-4cea-b7c0-f94524ff57a9",
   "metadata": {},
   "outputs": [
    {
     "data": {
      "text/html": [
       "<div>\n",
       "<style scoped>\n",
       "    .dataframe tbody tr th:only-of-type {\n",
       "        vertical-align: middle;\n",
       "    }\n",
       "\n",
       "    .dataframe tbody tr th {\n",
       "        vertical-align: top;\n",
       "    }\n",
       "\n",
       "    .dataframe thead th {\n",
       "        text-align: right;\n",
       "    }\n",
       "</style>\n",
       "<table border=\"1\" class=\"dataframe\">\n",
       "  <thead>\n",
       "    <tr style=\"text-align: right;\">\n",
       "      <th></th>\n",
       "      <th>X1</th>\n",
       "      <th>X2_B</th>\n",
       "      <th>X2_C</th>\n",
       "    </tr>\n",
       "  </thead>\n",
       "  <tbody>\n",
       "    <tr>\n",
       "      <th>0</th>\n",
       "      <td>2</td>\n",
       "      <td>False</td>\n",
       "      <td>False</td>\n",
       "    </tr>\n",
       "    <tr>\n",
       "      <th>1</th>\n",
       "      <td>3</td>\n",
       "      <td>True</td>\n",
       "      <td>False</td>\n",
       "    </tr>\n",
       "    <tr>\n",
       "      <th>2</th>\n",
       "      <td>4</td>\n",
       "      <td>False</td>\n",
       "      <td>False</td>\n",
       "    </tr>\n",
       "    <tr>\n",
       "      <th>3</th>\n",
       "      <td>1</td>\n",
       "      <td>False</td>\n",
       "      <td>True</td>\n",
       "    </tr>\n",
       "  </tbody>\n",
       "</table>\n",
       "</div>"
      ],
      "text/plain": [
       "   X1   X2_B   X2_C\n",
       "0   2  False  False\n",
       "1   3   True  False\n",
       "2   4  False  False\n",
       "3   1  False   True"
      ]
     },
     "execution_count": 28,
     "metadata": {},
     "output_type": "execute_result"
    }
   ],
   "source": [
    "pd.get_dummies(df, drop_first = True)  ## 아예 그러라고 옵션이 따로 있다."
   ]
  },
  {
   "cell_type": "markdown",
   "id": "04b0d141-cdf6-4754-92f7-55143bfc61e5",
   "metadata": {},
   "source": [
    "### **A. Data**\n",
    "---\n",
    "\n",
    "\n"
   ]
  },
  {
   "cell_type": "markdown",
   "id": "590601ce-b9dc-4d6e-a79c-54c3d9a815fc",
   "metadata": {},
   "source": [
    "> 왠지 익숙한 데이터를 가져와보자."
   ]
  },
  {
   "cell_type": "code",
   "execution_count": 31,
   "id": "dd413c30-ad94-4507-89f5-69305a454d4d",
   "metadata": {},
   "outputs": [
    {
     "data": {
      "text/html": [
       "<div>\n",
       "<style scoped>\n",
       "    .dataframe tbody tr th:only-of-type {\n",
       "        vertical-align: middle;\n",
       "    }\n",
       "\n",
       "    .dataframe tbody tr th {\n",
       "        vertical-align: top;\n",
       "    }\n",
       "\n",
       "    .dataframe thead th {\n",
       "        text-align: right;\n",
       "    }\n",
       "</style>\n",
       "<table border=\"1\" class=\"dataframe\">\n",
       "  <thead>\n",
       "    <tr style=\"text-align: right;\">\n",
       "      <th></th>\n",
       "      <th>temp</th>\n",
       "      <th>sales</th>\n",
       "      <th>type</th>\n",
       "    </tr>\n",
       "  </thead>\n",
       "  <tbody>\n",
       "    <tr>\n",
       "      <th>0</th>\n",
       "      <td>-4.1</td>\n",
       "      <td>32.950261</td>\n",
       "      <td>choco</td>\n",
       "    </tr>\n",
       "    <tr>\n",
       "      <th>1</th>\n",
       "      <td>-3.7</td>\n",
       "      <td>35.852524</td>\n",
       "      <td>choco</td>\n",
       "    </tr>\n",
       "    <tr>\n",
       "      <th>2</th>\n",
       "      <td>-3.0</td>\n",
       "      <td>37.428335</td>\n",
       "      <td>choco</td>\n",
       "    </tr>\n",
       "    <tr>\n",
       "      <th>3</th>\n",
       "      <td>-1.3</td>\n",
       "      <td>38.323681</td>\n",
       "      <td>choco</td>\n",
       "    </tr>\n",
       "    <tr>\n",
       "      <th>4</th>\n",
       "      <td>-0.5</td>\n",
       "      <td>39.713362</td>\n",
       "      <td>choco</td>\n",
       "    </tr>\n",
       "    <tr>\n",
       "      <th>...</th>\n",
       "      <td>...</td>\n",
       "      <td>...</td>\n",
       "      <td>...</td>\n",
       "    </tr>\n",
       "    <tr>\n",
       "      <th>95</th>\n",
       "      <td>12.4</td>\n",
       "      <td>119.708075</td>\n",
       "      <td>vanilla</td>\n",
       "    </tr>\n",
       "    <tr>\n",
       "      <th>96</th>\n",
       "      <td>13.4</td>\n",
       "      <td>129.300464</td>\n",
       "      <td>vanilla</td>\n",
       "    </tr>\n",
       "    <tr>\n",
       "      <th>97</th>\n",
       "      <td>14.7</td>\n",
       "      <td>136.596568</td>\n",
       "      <td>vanilla</td>\n",
       "    </tr>\n",
       "    <tr>\n",
       "      <th>98</th>\n",
       "      <td>15.0</td>\n",
       "      <td>136.213140</td>\n",
       "      <td>vanilla</td>\n",
       "    </tr>\n",
       "    <tr>\n",
       "      <th>99</th>\n",
       "      <td>15.2</td>\n",
       "      <td>135.595252</td>\n",
       "      <td>vanilla</td>\n",
       "    </tr>\n",
       "  </tbody>\n",
       "</table>\n",
       "<p>200 rows × 3 columns</p>\n",
       "</div>"
      ],
      "text/plain": [
       "    temp       sales     type\n",
       "0   -4.1   32.950261    choco\n",
       "1   -3.7   35.852524    choco\n",
       "2   -3.0   37.428335    choco\n",
       "3   -1.3   38.323681    choco\n",
       "4   -0.5   39.713362    choco\n",
       "..   ...         ...      ...\n",
       "95  12.4  119.708075  vanilla\n",
       "96  13.4  129.300464  vanilla\n",
       "97  14.7  136.596568  vanilla\n",
       "98  15.0  136.213140  vanilla\n",
       "99  15.2  135.595252  vanilla\n",
       "\n",
       "[200 rows x 3 columns]"
      ]
     },
     "execution_count": 31,
     "metadata": {},
     "output_type": "execute_result"
    }
   ],
   "source": [
    "np.random.seed(43052)\n",
    "temp = pd.read_csv('https://raw.githubusercontent.com/guebin/DV2022/master/posts/temp.csv').iloc[:,3].to_numpy()[:100]\n",
    "temp.sort()\n",
    "choco = 40 + temp * 2.0 + np.random.randn(100)*3\n",
    "vanilla = 60 + temp * 5.0 + np.random.randn(100)*3\n",
    "df1 = pd.DataFrame({'temp':temp,'sales':choco}).assign(type='choco')\n",
    "df2 = pd.DataFrame({'temp':temp,'sales':vanilla}).assign(type='vanilla')\n",
    "df_train = pd.concat([df1,df2])\n",
    "df_train"
   ]
  },
  {
   "cell_type": "code",
   "execution_count": 33,
   "id": "8f86c030-d928-4495-a81a-df4b537f2e7b",
   "metadata": {},
   "outputs": [
    {
     "data": {
      "text/plain": [
       "<matplotlib.legend.Legend at 0x213dcb1fc40>"
      ]
     },
     "execution_count": 33,
     "metadata": {},
     "output_type": "execute_result"
    },
    {
     "data": {
      "image/png": "[encoded data removed]",
      "text/plain": [
       "<Figure size 640x480 with 1 Axes>"
      ]
     },
     "metadata": {},
     "output_type": "display_data"
    }
   ],
   "source": [
    "plt.plot(df_train[df_train.type=='choco'].temp,df_train[df_train.type=='choco'].sales,'o',label='choco')\n",
    "plt.plot(df_train[df_train.type=='vanilla'].temp,df_train[df_train.type=='vanilla'].sales,'o',label='vanilla')\n",
    "plt.legend()"
   ]
  },
  {
   "cell_type": "markdown",
   "id": "b608eb59-f7ae-4956-a7ae-0af825f8f9c1",
   "metadata": {},
   "source": [
    "*교수님 왈... 초코는 애기들이 주로 좋아하고, 걔들은 춥든 싫든 많이 먹으니까 완만하게 증가... 바닐라는 어른들만 더울 때 더 많이 생각나니까 가파르게 증가... 한다고 하셨다요.*\n",
    "\n",
    "* 온도에 따른 아이스크림 판매량이 아이스크림의 type에 따라 동일하다면 기울기가 동일하고 절편이 다른 두 직선이 나올 것이다.(둘의 판매량은 다를 테니까...)\n",
    "* 하지만 그래프를 보면 초코보다 바닐라맛이 **기온의 영향을 많이 받아보인다!** -> (바닐라아이스크림, 온도)는 (초코아이스크림,온도)보다 궁합이 좋다 -> 아이스크림의 타입과 온도 사이에는 교호작용이 존재한다!"
   ]
  },
  {
   "cell_type": "markdown",
   "id": "b05b3bf5-ecb2-4e39-b2f5-71ad48efb5fe",
   "metadata": {},
   "source": [
    "### **B. 분석1 | 교호작용 그딴거 모르겠고 그냥 할래...**\n",
    "---\n",
    "\n",
    "\n"
   ]
  },
  {
   "cell_type": "markdown",
   "id": "57ace946-93eb-499d-b67c-99fe8ccba8b7",
   "metadata": {},
   "source": [
    "모형을 아래와 같이 본다.\n",
    "\n",
    "* **$X$** : `temp`, `type`\n",
    "* **$y$** : `sales`"
   ]
  },
  {
   "cell_type": "code",
   "execution_count": 34,
   "id": "f76612b3-bb84-44d6-9bcb-c2e5ebda27ff",
   "metadata": {},
   "outputs": [],
   "source": [
    "# step1\n",
    "X = pd.get_dummies(df_train, drop_first = True).drop(['sales'], axis = 1)\n",
    "y = df_train['sales']\n",
    "\n",
    "# step2\n",
    "predictr = sklearn.linear_model.LinearRegression()\n",
    "\n",
    "# step3\n",
    "predictr.fit(X, y)\n",
    "\n",
    "# step4\n",
    "df_train['sales_hat'] = predictr.predict(X)"
   ]
  },
  {
   "cell_type": "code",
   "execution_count": 35,
   "id": "5f214ac7-c84a-4e4d-aecd-c4417575ae92",
   "metadata": {},
   "outputs": [
    {
     "data": {
      "text/plain": [
       "0.9249530603100549"
      ]
     },
     "execution_count": 35,
     "metadata": {},
     "output_type": "execute_result"
    }
   ],
   "source": [
    "predictr.score(X, y)"
   ]
  },
  {
   "cell_type": "markdown",
   "id": "13518100-7518-4704-bcc6-21e0db4f8cc8",
   "metadata": {},
   "source": [
    "> ~점수가 잘 나왔다! 와!!!!~\n",
    "\n",
    "* 점수가 잘 나왔다고 너무 좋아하지 말고, 시각화를 반드시 하여 더 맞출 수 있는 여지가 있는지 항상 확인할 것"
   ]
  },
  {
   "cell_type": "code",
   "execution_count": 36,
   "id": "b9b983c0-3de5-4417-8e52-653237adcf45",
   "metadata": {},
   "outputs": [
    {
     "data": {
      "text/plain": [
       "<matplotlib.legend.Legend at 0x213dcb1e890>"
      ]
     },
     "execution_count": 36,
     "metadata": {},
     "output_type": "execute_result"
    },
    {
     "data": {
      "image/png": "[encoded data removed]",
      "text/plain": [
       "<Figure size 640x480 with 1 Axes>"
      ]
     },
     "metadata": {},
     "output_type": "display_data"
    }
   ],
   "source": [
    "plt.plot(df_train[df_train.type=='choco'].temp,df_train[df_train.type=='choco'].sales,'o',label='choco',color='C0',alpha=0.5)\n",
    "plt.plot(df_train[df_train.type=='choco'].temp,df_train[df_train.type=='choco'].sales_hat,'--',color='C0')\n",
    "plt.plot(df_train[df_train.type=='vanilla'].temp,df_train[df_train.type=='vanilla'].sales,'o',label='vanilla',color='C1',alpha=0.5)\n",
    "plt.plot(df_train[df_train.type=='vanilla'].temp,df_train[df_train.type=='vanilla'].sales_hat,'--',color='C1')\n",
    "plt.legend()"
   ]
  },
  {
   "cell_type": "markdown",
   "id": "900972c5-6445-4844-939d-d641e12fb4b1",
   "metadata": {},
   "source": [
    "> 해당 모형은 초코/바닐라에 대한 기울기 차이를 '표현'할 수 없다.\n",
    ">\n",
    "> '모형의 표현력이 약하다' or '언더피팅되었다'"
   ]
  },
  {
   "cell_type": "code",
   "execution_count": 38,
   "id": "efc73f21-8a35-47de-a5b7-dfa89eefc653",
   "metadata": {},
   "outputs": [
    {
     "data": {
      "text/plain": [
       "array([ 3.52239574, 37.60121854])"
      ]
     },
     "execution_count": 38,
     "metadata": {},
     "output_type": "execute_result"
    }
   ],
   "source": [
    "predictr.coef_"
   ]
  },
  {
   "cell_type": "markdown",
   "id": "9e7352de-bc4a-4c13-af17-a33494764916",
   "metadata": {},
   "source": [
    "> 기울기가 두 개 밖에 없으니 당연할 수밖에...(범주형 자료라 0, 1만으로 절편만 바뀜)"
   ]
  },
  {
   "cell_type": "markdown",
   "id": "5c3ebbd4-2599-4d7c-8a48-18c6258f26b3",
   "metadata": {},
   "source": [
    "### **C. 분석2**\n",
    "---\n",
    "\n",
    "\n"
   ]
  },
  {
   "cell_type": "markdown",
   "id": "f73cf36c-32d1-4098-abc9-e94b11555254",
   "metadata": {},
   "source": [
    "* **$X$** : temp, type, temp × type  -> 온도와 아이스크림 타입 간 시너지효과를 고려\n",
    "* **$y$** : sales"
   ]
  },
  {
   "cell_type": "code",
   "execution_count": 39,
   "id": "8b550761-51f6-42ef-983c-ae384c42271f",
   "metadata": {},
   "outputs": [
    {
     "data": {
      "text/html": [
       "<div>\n",
       "<style scoped>\n",
       "    .dataframe tbody tr th:only-of-type {\n",
       "        vertical-align: middle;\n",
       "    }\n",
       "\n",
       "    .dataframe tbody tr th {\n",
       "        vertical-align: top;\n",
       "    }\n",
       "\n",
       "    .dataframe thead th {\n",
       "        text-align: right;\n",
       "    }\n",
       "</style>\n",
       "<table border=\"1\" class=\"dataframe\">\n",
       "  <thead>\n",
       "    <tr style=\"text-align: right;\">\n",
       "      <th></th>\n",
       "      <th>temp</th>\n",
       "      <th>type_vanilla</th>\n",
       "      <th>interaction</th>\n",
       "    </tr>\n",
       "  </thead>\n",
       "  <tbody>\n",
       "    <tr>\n",
       "      <th>0</th>\n",
       "      <td>-4.1</td>\n",
       "      <td>False</td>\n",
       "      <td>-0.0</td>\n",
       "    </tr>\n",
       "    <tr>\n",
       "      <th>1</th>\n",
       "      <td>-3.7</td>\n",
       "      <td>False</td>\n",
       "      <td>-0.0</td>\n",
       "    </tr>\n",
       "    <tr>\n",
       "      <th>2</th>\n",
       "      <td>-3.0</td>\n",
       "      <td>False</td>\n",
       "      <td>-0.0</td>\n",
       "    </tr>\n",
       "    <tr>\n",
       "      <th>3</th>\n",
       "      <td>-1.3</td>\n",
       "      <td>False</td>\n",
       "      <td>-0.0</td>\n",
       "    </tr>\n",
       "    <tr>\n",
       "      <th>4</th>\n",
       "      <td>-0.5</td>\n",
       "      <td>False</td>\n",
       "      <td>-0.0</td>\n",
       "    </tr>\n",
       "    <tr>\n",
       "      <th>...</th>\n",
       "      <td>...</td>\n",
       "      <td>...</td>\n",
       "      <td>...</td>\n",
       "    </tr>\n",
       "    <tr>\n",
       "      <th>95</th>\n",
       "      <td>12.4</td>\n",
       "      <td>True</td>\n",
       "      <td>12.4</td>\n",
       "    </tr>\n",
       "    <tr>\n",
       "      <th>96</th>\n",
       "      <td>13.4</td>\n",
       "      <td>True</td>\n",
       "      <td>13.4</td>\n",
       "    </tr>\n",
       "    <tr>\n",
       "      <th>97</th>\n",
       "      <td>14.7</td>\n",
       "      <td>True</td>\n",
       "      <td>14.7</td>\n",
       "    </tr>\n",
       "    <tr>\n",
       "      <th>98</th>\n",
       "      <td>15.0</td>\n",
       "      <td>True</td>\n",
       "      <td>15.0</td>\n",
       "    </tr>\n",
       "    <tr>\n",
       "      <th>99</th>\n",
       "      <td>15.2</td>\n",
       "      <td>True</td>\n",
       "      <td>15.2</td>\n",
       "    </tr>\n",
       "  </tbody>\n",
       "</table>\n",
       "<p>200 rows × 3 columns</p>\n",
       "</div>"
      ],
      "text/plain": [
       "    temp  type_vanilla  interaction\n",
       "0   -4.1         False         -0.0\n",
       "1   -3.7         False         -0.0\n",
       "2   -3.0         False         -0.0\n",
       "3   -1.3         False         -0.0\n",
       "4   -0.5         False         -0.0\n",
       "..   ...           ...          ...\n",
       "95  12.4          True         12.4\n",
       "96  13.4          True         13.4\n",
       "97  14.7          True         14.7\n",
       "98  15.0          True         15.0\n",
       "99  15.2          True         15.2\n",
       "\n",
       "[200 rows x 3 columns]"
      ]
     },
     "execution_count": 39,
     "metadata": {},
     "output_type": "execute_result"
    }
   ],
   "source": [
    "pd.get_dummies(df_train[['temp','type']],drop_first=True).eval('interaction = temp*type_vanilla')"
   ]
  },
  {
   "cell_type": "code",
   "execution_count": 40,
   "id": "4d197ac0-0703-4b20-bcdd-a781cda57519",
   "metadata": {},
   "outputs": [],
   "source": [
    "# step 1\n",
    "X = pd.get_dummies(df_train[['temp','type']],drop_first=True).eval('interaction = temp*type_vanilla')\n",
    "y = df_train['sales']\n",
    "\n",
    "# step 2\n",
    "predictr = sklearn.linear_model.LinearRegression()\n",
    "\n",
    "# step 3\n",
    "predictr.fit(X, y)\n",
    "\n",
    "# step 4\n",
    "df_train['sales_hat'] = predictr.predict(X)"
   ]
  },
  {
   "cell_type": "code",
   "execution_count": 41,
   "id": "2e81eac2-8b7b-4c27-8059-9026031be20a",
   "metadata": {},
   "outputs": [
    {
     "data": {
      "text/plain": [
       "0.9865793819066231"
      ]
     },
     "execution_count": 41,
     "metadata": {},
     "output_type": "execute_result"
    }
   ],
   "source": [
    "predictr.score(X, y)"
   ]
  },
  {
   "cell_type": "markdown",
   "id": "a3bad42c-d801-49f3-9c2d-cfb8fce6e629",
   "metadata": {},
   "source": [
    "> 점수만 보지 말고 꼭 시각화까지..."
   ]
  },
  {
   "cell_type": "code",
   "execution_count": 42,
   "id": "0c98ba35-6429-46ed-91e7-f49191f97301",
   "metadata": {},
   "outputs": [
    {
     "data": {
      "text/plain": [
       "<matplotlib.legend.Legend at 0x213db3f6c80>"
      ]
     },
     "execution_count": 42,
     "metadata": {},
     "output_type": "execute_result"
    },
    {
     "data": {
      "image/png": "[encoded data removed]",
      "text/plain": [
       "<Figure size 640x480 with 1 Axes>"
      ]
     },
     "metadata": {},
     "output_type": "display_data"
    }
   ],
   "source": [
    "df = df_train\n",
    "plt.plot(df_train[df.type=='choco'].temp,df_train[df.type=='choco'].sales,'o',label='choco',color='C0',alpha=0.5)\n",
    "plt.plot(df_train[df.type=='choco'].temp,df_train[df.type=='choco'].sales_hat,'--',color='C0')\n",
    "plt.plot(df_train[df.type=='vanilla'].temp,df_train[df.type=='vanilla'].sales,'o',label='vanilla',color='C1',alpha=0.5)\n",
    "plt.plot(df_train[df.type=='vanilla'].temp,df_train[df.type=='vanilla'].sales_hat,'--',color='C1')\n",
    "plt.legend()"
   ]
  },
  {
   "cell_type": "markdown",
   "id": "42457562-c79b-4a06-8666-f711a06f3bc6",
   "metadata": {},
   "source": [
    "> 초코/바닐라에 대한 절편 차이는 type로, 초코/바닐라에 대한 기울기 차이는 temp × type로 표현한다."
   ]
  },
  {
   "cell_type": "code",
   "execution_count": 46,
   "id": "bc8ae3ae-b959-47df-9a50-47b35dc7d891",
   "metadata": {},
   "outputs": [
    {
     "data": {
      "text/plain": [
       "array([ 2.01561216, 20.46306209,  3.01356716])"
      ]
     },
     "execution_count": 46,
     "metadata": {},
     "output_type": "execute_result"
    }
   ],
   "source": [
    "predictr.coef_"
   ]
  },
  {
   "cell_type": "markdown",
   "id": "3d10ae6f-ddaa-4885-885e-1fe0afe83a83",
   "metadata": {},
   "source": [
    "> 계수가 다른 것을 알 수 있다."
   ]
  }
 ],
 "metadata": {
  "kernelspec": {
   "display_name": "Python 3 (ipykernel)",
   "language": "python",
   "name": "python3"
  },
  "language_info": {
   "codemirror_mode": {
    "name": "ipython",
    "version": 3
   },
   "file_extension": ".py",
   "mimetype": "text/x-python",
   "name": "python",
   "nbconvert_exporter": "python",
   "pygments_lexer": "ipython3",
   "version": "3.10.13"
  }
 },
 "nbformat": 4,
 "nbformat_minor": 5
}
