{
 "cells": [
  {
   "cell_type": "markdown",
   "id": "574e813f-dd23-4483-848b-4e636163577f",
   "metadata": {},
   "source": [
    "---\n",
    "title: \"\"\n",
    "author: \"강신성\"\n",
    "date: \"2023-10-18\"\n",
    "categories: [python]\n",
    "---\n",
    "\n",
    "\n"
   ]
  },
  {
   "cell_type": "markdown",
   "id": "b7a46c9b-56a1-4059-b257-ce9577d65f50",
   "metadata": {},
   "source": [
    "> "
   ]
  }
 ],
 "metadata": {
  "kernelspec": {
   "display_name": "Python 3 (ipykernel)",
   "language": "python",
   "name": "python3"
  },
  "language_info": {
   "codemirror_mode": {
    "name": "ipython",
    "version": 3
   },
   "file_extension": ".py",
   "mimetype": "text/x-python",
   "name": "python",
   "nbconvert_exporter": "python",
   "pygments_lexer": "ipython3",
   "version": "3.10.13"
  }
 },
 "nbformat": 4,
 "nbformat_minor": 5
}
