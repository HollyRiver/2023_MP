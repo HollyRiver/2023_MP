{
 "cells": [
  {
   "cell_type": "code",
   "execution_count": 1,
   "id": "aca4c292-00b2-45f7-8f34-83590d023ed3",
   "metadata": {},
   "outputs": [],
   "source": [
    "import numpy as np\n",
    "import pandas as pd\n",
    "import matplotlib.pyplot as plt\n",
    "import seaborn as sns\n",
    "import sklearn.preprocessing\n",
    "#---#}\n",
    "from autogluon.tabular import TabularPredictor  ## 테뷸러데이터도 따로 적합?\n",
    "from autogluon.timeseries import TimeSeriesDataFrame, TimeSeriesPredictor\n",
    "from autogluon.common import space\n",
    "#---#\n",
    "import warnings\n",
    "warnings.filterwarnings('ignore')"
   ]
  },
  {
   "cell_type": "code",
   "execution_count": null,
   "id": "5629a535-851a-42d0-acf7-44449e90dabc",
   "metadata": {},
   "outputs": [],
   "source": [
    "df = pd.read_csv('')"
   ]
  },
  {
   "cell_type": "code",
   "execution_count": null,
   "id": "2458d6b9-240b-4b2a-8f1f-872824e628fb",
   "metadata": {},
   "outputs": [],
   "source": [
    "df.head()"
   ]
  },
  {
   "cell_type": "code",
   "execution_count": null,
   "id": "770d4c62-62d2-4789-a9c4-d7dcfce0c70b",
   "metadata": {},
   "outputs": [],
   "source": [
    "_df = df.sort_values('datetime')\n",
    "plt.plot(_df.datetime[:(24*50)], _df['count'][:(24*50)])\n",
    "\n",
    "fig = plt.gcf()\n",
    "fig.set_size_inches(8,2)\n",
    "plt.xticks(rotation = 15);"
   ]
  },
  {
   "cell_type": "code",
   "execution_count": null,
   "id": "729c6dcc-0f86-408b-a052-1b9e99bb4e76",
   "metadata": {},
   "outputs": [],
   "source": [
    "sns.lineplot(_df[:(24*50)], x = 'datetime', y = 'count')\n",
    "\n",
    "fig = plt.gcf()\n",
    "fig.set_size_inches(8,2)\n",
    "plt.xticks(rotation = 15);"
   ]
  }
 ],
 "metadata": {
  "kernelspec": {
   "display_name": "Python 3 (ipykernel)",
   "language": "python",
   "name": "python3"
  },
  "language_info": {
   "codemirror_mode": {
    "name": "ipython",
    "version": 3
   },
   "file_extension": ".py",
   "mimetype": "text/x-python",
   "name": "python",
   "nbconvert_exporter": "python",
   "pygments_lexer": "ipython3",
   "version": "3.10.13"
  }
 },
 "nbformat": 4,
 "nbformat_minor": 5
}
