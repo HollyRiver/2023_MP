{
 "cells": [
  {
   "cell_type": "markdown",
   "id": "b688b304-48d2-49f2-ab2e-a6473d378bff",
   "metadata": {},
   "source": [
    "---\n",
    "title: \"의사결정나무의 옵션 이해\"\n",
    "author: \"강신성\"\n",
    "date: \"2023-11-17\"\n",
    "categories: [tree]\n",
    "---\n",
    "\n",
    "\n"
   ]
  },
  {
   "cell_type": "markdown",
   "id": "6f0f9bf4-a3c9-4b04-87a5-4b3aa0ad67dc",
   "metadata": {},
   "source": [
    "> 의사결정나무의 여러 옵션들에 대해서 알아보자!"
   ]
  },
  {
   "cell_type": "markdown",
   "id": "df82b10a-80cf-4c20-a933-8749918baddc",
   "metadata": {},
   "source": [
    "## 1. 라이브러리 imports"
   ]
  },
  {
   "cell_type": "code",
   "execution_count": 2,
   "id": "3a6077d6-a7a2-4aef-bf0d-9079e71c1f7c",
   "metadata": {},
   "outputs": [],
   "source": [
    "import pandas as pd\n",
    "import numpy as np\n",
    "import matplotlib.pyplot as plt\n",
    "import sklearn.tree\n",
    "import graphviz\n",
    "\n",
    "#-#\n",
    "import warnings\n",
    "warnings.filterwarnings('ignore')"
   ]
  },
  {
   "cell_type": "markdown",
   "id": "3173a7ba-2c74-463d-a964-1170701f9f10",
   "metadata": {},
   "source": [
    "## 2. `max_features`"
   ]
  },
  {
   "cell_type": "markdown",
   "id": "65817bb2-66c6-4c2f-926f-19705d986679",
   "metadata": {},
   "source": [
    "`# Data`"
   ]
  },
  {
   "cell_type": "code",
   "execution_count": 3,
   "id": "9b140d6c-6070-4243-8c85-b0ee3d7cd00f",
   "metadata": {},
   "outputs": [
    {
     "data": {
      "text/html": [
       "<div>\n",
       "<style scoped>\n",
       "    .dataframe tbody tr th:only-of-type {\n",
       "        vertical-align: middle;\n",
       "    }\n",
       "\n",
       "    .dataframe tbody tr th {\n",
       "        vertical-align: top;\n",
       "    }\n",
       "\n",
       "    .dataframe thead th {\n",
       "        text-align: right;\n",
       "    }\n",
       "</style>\n",
       "<table border=\"1\" class=\"dataframe\">\n",
       "  <thead>\n",
       "    <tr style=\"text-align: right;\">\n",
       "      <th></th>\n",
       "      <th>age</th>\n",
       "      <th>sex</th>\n",
       "      <th>bmi</th>\n",
       "      <th>children</th>\n",
       "      <th>smoker</th>\n",
       "      <th>region</th>\n",
       "      <th>charges</th>\n",
       "    </tr>\n",
       "  </thead>\n",
       "  <tbody>\n",
       "    <tr>\n",
       "      <th>0</th>\n",
       "      <td>19</td>\n",
       "      <td>female</td>\n",
       "      <td>27.900</td>\n",
       "      <td>0</td>\n",
       "      <td>yes</td>\n",
       "      <td>southwest</td>\n",
       "      <td>16884.92400</td>\n",
       "    </tr>\n",
       "    <tr>\n",
       "      <th>1</th>\n",
       "      <td>18</td>\n",
       "      <td>male</td>\n",
       "      <td>33.770</td>\n",
       "      <td>1</td>\n",
       "      <td>no</td>\n",
       "      <td>southeast</td>\n",
       "      <td>1725.55230</td>\n",
       "    </tr>\n",
       "    <tr>\n",
       "      <th>2</th>\n",
       "      <td>28</td>\n",
       "      <td>male</td>\n",
       "      <td>33.000</td>\n",
       "      <td>3</td>\n",
       "      <td>no</td>\n",
       "      <td>southeast</td>\n",
       "      <td>4449.46200</td>\n",
       "    </tr>\n",
       "    <tr>\n",
       "      <th>3</th>\n",
       "      <td>33</td>\n",
       "      <td>male</td>\n",
       "      <td>22.705</td>\n",
       "      <td>0</td>\n",
       "      <td>no</td>\n",
       "      <td>northwest</td>\n",
       "      <td>21984.47061</td>\n",
       "    </tr>\n",
       "    <tr>\n",
       "      <th>4</th>\n",
       "      <td>32</td>\n",
       "      <td>male</td>\n",
       "      <td>28.880</td>\n",
       "      <td>0</td>\n",
       "      <td>no</td>\n",
       "      <td>northwest</td>\n",
       "      <td>3866.85520</td>\n",
       "    </tr>\n",
       "    <tr>\n",
       "      <th>...</th>\n",
       "      <td>...</td>\n",
       "      <td>...</td>\n",
       "      <td>...</td>\n",
       "      <td>...</td>\n",
       "      <td>...</td>\n",
       "      <td>...</td>\n",
       "      <td>...</td>\n",
       "    </tr>\n",
       "    <tr>\n",
       "      <th>1333</th>\n",
       "      <td>50</td>\n",
       "      <td>male</td>\n",
       "      <td>30.970</td>\n",
       "      <td>3</td>\n",
       "      <td>no</td>\n",
       "      <td>northwest</td>\n",
       "      <td>10600.54830</td>\n",
       "    </tr>\n",
       "    <tr>\n",
       "      <th>1334</th>\n",
       "      <td>18</td>\n",
       "      <td>female</td>\n",
       "      <td>31.920</td>\n",
       "      <td>0</td>\n",
       "      <td>no</td>\n",
       "      <td>northeast</td>\n",
       "      <td>2205.98080</td>\n",
       "    </tr>\n",
       "    <tr>\n",
       "      <th>1335</th>\n",
       "      <td>18</td>\n",
       "      <td>female</td>\n",
       "      <td>36.850</td>\n",
       "      <td>0</td>\n",
       "      <td>no</td>\n",
       "      <td>southeast</td>\n",
       "      <td>1629.83350</td>\n",
       "    </tr>\n",
       "    <tr>\n",
       "      <th>1336</th>\n",
       "      <td>21</td>\n",
       "      <td>female</td>\n",
       "      <td>25.800</td>\n",
       "      <td>0</td>\n",
       "      <td>no</td>\n",
       "      <td>southwest</td>\n",
       "      <td>2007.94500</td>\n",
       "    </tr>\n",
       "    <tr>\n",
       "      <th>1337</th>\n",
       "      <td>61</td>\n",
       "      <td>female</td>\n",
       "      <td>29.070</td>\n",
       "      <td>0</td>\n",
       "      <td>yes</td>\n",
       "      <td>northwest</td>\n",
       "      <td>29141.36030</td>\n",
       "    </tr>\n",
       "  </tbody>\n",
       "</table>\n",
       "<p>1338 rows × 7 columns</p>\n",
       "</div>"
      ],
      "text/plain": [
       "      age     sex     bmi  children smoker     region      charges\n",
       "0      19  female  27.900         0    yes  southwest  16884.92400\n",
       "1      18    male  33.770         1     no  southeast   1725.55230\n",
       "2      28    male  33.000         3     no  southeast   4449.46200\n",
       "3      33    male  22.705         0     no  northwest  21984.47061\n",
       "4      32    male  28.880         0     no  northwest   3866.85520\n",
       "...   ...     ...     ...       ...    ...        ...          ...\n",
       "1333   50    male  30.970         3     no  northwest  10600.54830\n",
       "1334   18  female  31.920         0     no  northeast   2205.98080\n",
       "1335   18  female  36.850         0     no  southeast   1629.83350\n",
       "1336   21  female  25.800         0     no  southwest   2007.94500\n",
       "1337   61  female  29.070         0    yes  northwest  29141.36030\n",
       "\n",
       "[1338 rows x 7 columns]"
      ]
     },
     "execution_count": 3,
     "metadata": {},
     "output_type": "execute_result"
    }
   ],
   "source": [
    "df_train = pd.read_csv('https://raw.githubusercontent.com/guebin/MP2023/main/posts/insurance.csv')\n",
    "df_train"
   ]
  },
  {
   "cell_type": "code",
   "execution_count": 17,
   "id": "a853259e-2236-4b38-ab60-73d4389f843e",
   "metadata": {},
   "outputs": [
    {
     "data": {
      "text/html": [
       "<style>#sk-container-id-8 {color: black;}#sk-container-id-8 pre{padding: 0;}#sk-container-id-8 div.sk-toggleable {background-color: white;}#sk-container-id-8 label.sk-toggleable__label {cursor: pointer;display: block;width: 100%;margin-bottom: 0;padding: 0.3em;box-sizing: border-box;text-align: center;}#sk-container-id-8 label.sk-toggleable__label-arrow:before {content: \"▸\";float: left;margin-right: 0.25em;color: #696969;}#sk-container-id-8 label.sk-toggleable__label-arrow:hover:before {color: black;}#sk-container-id-8 div.sk-estimator:hover label.sk-toggleable__label-arrow:before {color: black;}#sk-container-id-8 div.sk-toggleable__content {max-height: 0;max-width: 0;overflow: hidden;text-align: left;background-color: #f0f8ff;}#sk-container-id-8 div.sk-toggleable__content pre {margin: 0.2em;color: black;border-radius: 0.25em;background-color: #f0f8ff;}#sk-container-id-8 input.sk-toggleable__control:checked~div.sk-toggleable__content {max-height: 200px;max-width: 100%;overflow: auto;}#sk-container-id-8 input.sk-toggleable__control:checked~label.sk-toggleable__label-arrow:before {content: \"▾\";}#sk-container-id-8 div.sk-estimator input.sk-toggleable__control:checked~label.sk-toggleable__label {background-color: #d4ebff;}#sk-container-id-8 div.sk-label input.sk-toggleable__control:checked~label.sk-toggleable__label {background-color: #d4ebff;}#sk-container-id-8 input.sk-hidden--visually {border: 0;clip: rect(1px 1px 1px 1px);clip: rect(1px, 1px, 1px, 1px);height: 1px;margin: -1px;overflow: hidden;padding: 0;position: absolute;width: 1px;}#sk-container-id-8 div.sk-estimator {font-family: monospace;background-color: #f0f8ff;border: 1px dotted black;border-radius: 0.25em;box-sizing: border-box;margin-bottom: 0.5em;}#sk-container-id-8 div.sk-estimator:hover {background-color: #d4ebff;}#sk-container-id-8 div.sk-parallel-item::after {content: \"\";width: 100%;border-bottom: 1px solid gray;flex-grow: 1;}#sk-container-id-8 div.sk-label:hover label.sk-toggleable__label {background-color: #d4ebff;}#sk-container-id-8 div.sk-serial::before {content: \"\";position: absolute;border-left: 1px solid gray;box-sizing: border-box;top: 0;bottom: 0;left: 50%;z-index: 0;}#sk-container-id-8 div.sk-serial {display: flex;flex-direction: column;align-items: center;background-color: white;padding-right: 0.2em;padding-left: 0.2em;position: relative;}#sk-container-id-8 div.sk-item {position: relative;z-index: 1;}#sk-container-id-8 div.sk-parallel {display: flex;align-items: stretch;justify-content: center;background-color: white;position: relative;}#sk-container-id-8 div.sk-item::before, #sk-container-id-8 div.sk-parallel-item::before {content: \"\";position: absolute;border-left: 1px solid gray;box-sizing: border-box;top: 0;bottom: 0;left: 50%;z-index: -1;}#sk-container-id-8 div.sk-parallel-item {display: flex;flex-direction: column;z-index: 1;position: relative;background-color: white;}#sk-container-id-8 div.sk-parallel-item:first-child::after {align-self: flex-end;width: 50%;}#sk-container-id-8 div.sk-parallel-item:last-child::after {align-self: flex-start;width: 50%;}#sk-container-id-8 div.sk-parallel-item:only-child::after {width: 0;}#sk-container-id-8 div.sk-dashed-wrapped {border: 1px dashed gray;margin: 0 0.4em 0.5em 0.4em;box-sizing: border-box;padding-bottom: 0.4em;background-color: white;}#sk-container-id-8 div.sk-label label {font-family: monospace;font-weight: bold;display: inline-block;line-height: 1.2em;}#sk-container-id-8 div.sk-label-container {text-align: center;}#sk-container-id-8 div.sk-container {/* jupyter's `normalize.less` sets `[hidden] { display: none; }` but bootstrap.min.css set `[hidden] { display: none !important; }` so we also need the `!important` here to be able to override the default hidden behavior on the sphinx rendered scikit-learn.org. See: https://github.com/scikit-learn/scikit-learn/issues/21755 */display: inline-block !important;position: relative;}#sk-container-id-8 div.sk-text-repr-fallback {display: none;}</style><div id=\"sk-container-id-8\" class=\"sk-top-container\"><div class=\"sk-text-repr-fallback\"><pre>DecisionTreeRegressor(max_features=4)</pre><b>In a Jupyter environment, please rerun this cell to show the HTML representation or trust the notebook. <br />On GitHub, the HTML representation is unable to render, please try loading this page with nbviewer.org.</b></div><div class=\"sk-container\" hidden><div class=\"sk-item\"><div class=\"sk-estimator sk-toggleable\"><input class=\"sk-toggleable__control sk-hidden--visually\" id=\"sk-estimator-id-8\" type=\"checkbox\" checked><label for=\"sk-estimator-id-8\" class=\"sk-toggleable__label sk-toggleable__label-arrow\">DecisionTreeRegressor</label><div class=\"sk-toggleable__content\"><pre>DecisionTreeRegressor(max_features=4)</pre></div></div></div></div></div>"
      ],
      "text/plain": [
       "DecisionTreeRegressor(max_features=4)"
      ]
     },
     "execution_count": 17,
     "metadata": {},
     "output_type": "execute_result"
    }
   ],
   "source": [
    "## step 1\n",
    "X = pd.get_dummies(df_train.drop('charges', axis = 1), drop_first = True)\n",
    "y = df_train.charges\n",
    "\n",
    "## step 2\n",
    "predictr = sklearn.tree.DecisionTreeRegressor(max_features = 4)\n",
    "\n",
    "## step 3\n",
    "predictr.fit(X, y)"
   ]
  },
  {
   "cell_type": "code",
   "execution_count": 18,
   "id": "d8a99161-55bb-4399-b798-b8b33dd7b19e",
   "metadata": {},
   "outputs": [
    {
     "data": {
      "image/png": "[encoded data removed]",
      "text/plain": [
       "<Figure size 640x480 with 1 Axes>"
      ]
     },
     "metadata": {},
     "output_type": "display_data"
    }
   ],
   "source": [
    "sklearn.tree.plot_tree(predictr, max_depth = 0, feature_names = X.columns.to_list());"
   ]
  },
  {
   "cell_type": "code",
   "execution_count": 23,
   "id": "b84a8421-4c28-4f7e-948c-87ad42a05eb8",
   "metadata": {},
   "outputs": [
    {
     "data": {
      "image/png": "[encoded data removed]",
      "text/plain": [
       "<Figure size 640x480 with 1 Axes>"
      ]
     },
     "metadata": {},
     "output_type": "display_data"
    }
   ],
   "source": [
    "predictr.fit(X, y)\n",
    "sklearn.tree.plot_tree(predictr, max_depth = 0, feature_names = X.columns.to_list());"
   ]
  },
  {
   "cell_type": "code",
   "execution_count": 27,
   "id": "77745d6f-f0c1-4b7e-8a29-ffdbc6fa41da",
   "metadata": {},
   "outputs": [
    {
     "data": {
      "image/png": "[encoded data removed]",
      "text/plain": [
       "<Figure size 640x480 with 1 Axes>"
      ]
     },
     "metadata": {},
     "output_type": "display_data"
    }
   ],
   "source": [
    "predictr.fit(X, y)\n",
    "sklearn.tree.plot_tree(predictr, max_depth = 0, feature_names = X.columns.to_list());"
   ]
  },
  {
   "cell_type": "markdown",
   "id": "553779e9-dd3f-4e26-a0f5-76b84789f897",
   "metadata": {},
   "source": [
    "> `max_features`를 4로 제한했을 때, `tree`가 적합한 결과는 계속해서 달라진다."
   ]
  },
  {
   "cell_type": "code",
   "execution_count": 28,
   "id": "2351bbac-ebda-4b3a-8d9f-9df7de9196be",
   "metadata": {},
   "outputs": [
    {
     "data": {
      "text/plain": [
       "8"
      ]
     },
     "execution_count": 28,
     "metadata": {},
     "output_type": "execute_result"
    }
   ],
   "source": [
    "len(X.columns)"
   ]
  },
  {
   "cell_type": "markdown",
   "id": "c9ff2957-00e4-44bf-8ab6-99b0ad349c0b",
   "metadata": {},
   "source": [
    "> `max_features = 4`의 의미는 설명변수들 중 4개만 임의로 뽑아서 그중 **최적의 변수**와 **최적의 c**를 찾겠다는 의미이다. (정말 가중치 없이 랜덤으로 막 뽑아버린다.)\n",
    ">\n",
    "> 이 경우는 `smoker_yes`가 가장 중요하여 절반 정도는 제일 위에 위치하게 된다."
   ]
  },
  {
   "cell_type": "markdown",
   "id": "876fb8d4-3f7c-4572-bd59-781858ce08cc",
   "metadata": {},
   "source": [
    "## 3. `random_state`"
   ]
  },
  {
   "cell_type": "markdown",
   "id": "e032425e-9094-4ecb-8fa5-b3ed7a5cc9a4",
   "metadata": {},
   "source": [
    "> 그럼 결과값들이 튀지 않도록, 같은 데이터셋의 분석이 가능하도록 하려면?"
   ]
  },
  {
   "cell_type": "code",
   "execution_count": 29,
   "id": "c7ba5010-75c6-4b95-82cc-6af8a653ed49",
   "metadata": {},
   "outputs": [
    {
     "data": {
      "text/html": [
       "<style>#sk-container-id-9 {color: black;}#sk-container-id-9 pre{padding: 0;}#sk-container-id-9 div.sk-toggleable {background-color: white;}#sk-container-id-9 label.sk-toggleable__label {cursor: pointer;display: block;width: 100%;margin-bottom: 0;padding: 0.3em;box-sizing: border-box;text-align: center;}#sk-container-id-9 label.sk-toggleable__label-arrow:before {content: \"▸\";float: left;margin-right: 0.25em;color: #696969;}#sk-container-id-9 label.sk-toggleable__label-arrow:hover:before {color: black;}#sk-container-id-9 div.sk-estimator:hover label.sk-toggleable__label-arrow:before {color: black;}#sk-container-id-9 div.sk-toggleable__content {max-height: 0;max-width: 0;overflow: hidden;text-align: left;background-color: #f0f8ff;}#sk-container-id-9 div.sk-toggleable__content pre {margin: 0.2em;color: black;border-radius: 0.25em;background-color: #f0f8ff;}#sk-container-id-9 input.sk-toggleable__control:checked~div.sk-toggleable__content {max-height: 200px;max-width: 100%;overflow: auto;}#sk-container-id-9 input.sk-toggleable__control:checked~label.sk-toggleable__label-arrow:before {content: \"▾\";}#sk-container-id-9 div.sk-estimator input.sk-toggleable__control:checked~label.sk-toggleable__label {background-color: #d4ebff;}#sk-container-id-9 div.sk-label input.sk-toggleable__control:checked~label.sk-toggleable__label {background-color: #d4ebff;}#sk-container-id-9 input.sk-hidden--visually {border: 0;clip: rect(1px 1px 1px 1px);clip: rect(1px, 1px, 1px, 1px);height: 1px;margin: -1px;overflow: hidden;padding: 0;position: absolute;width: 1px;}#sk-container-id-9 div.sk-estimator {font-family: monospace;background-color: #f0f8ff;border: 1px dotted black;border-radius: 0.25em;box-sizing: border-box;margin-bottom: 0.5em;}#sk-container-id-9 div.sk-estimator:hover {background-color: #d4ebff;}#sk-container-id-9 div.sk-parallel-item::after {content: \"\";width: 100%;border-bottom: 1px solid gray;flex-grow: 1;}#sk-container-id-9 div.sk-label:hover label.sk-toggleable__label {background-color: #d4ebff;}#sk-container-id-9 div.sk-serial::before {content: \"\";position: absolute;border-left: 1px solid gray;box-sizing: border-box;top: 0;bottom: 0;left: 50%;z-index: 0;}#sk-container-id-9 div.sk-serial {display: flex;flex-direction: column;align-items: center;background-color: white;padding-right: 0.2em;padding-left: 0.2em;position: relative;}#sk-container-id-9 div.sk-item {position: relative;z-index: 1;}#sk-container-id-9 div.sk-parallel {display: flex;align-items: stretch;justify-content: center;background-color: white;position: relative;}#sk-container-id-9 div.sk-item::before, #sk-container-id-9 div.sk-parallel-item::before {content: \"\";position: absolute;border-left: 1px solid gray;box-sizing: border-box;top: 0;bottom: 0;left: 50%;z-index: -1;}#sk-container-id-9 div.sk-parallel-item {display: flex;flex-direction: column;z-index: 1;position: relative;background-color: white;}#sk-container-id-9 div.sk-parallel-item:first-child::after {align-self: flex-end;width: 50%;}#sk-container-id-9 div.sk-parallel-item:last-child::after {align-self: flex-start;width: 50%;}#sk-container-id-9 div.sk-parallel-item:only-child::after {width: 0;}#sk-container-id-9 div.sk-dashed-wrapped {border: 1px dashed gray;margin: 0 0.4em 0.5em 0.4em;box-sizing: border-box;padding-bottom: 0.4em;background-color: white;}#sk-container-id-9 div.sk-label label {font-family: monospace;font-weight: bold;display: inline-block;line-height: 1.2em;}#sk-container-id-9 div.sk-label-container {text-align: center;}#sk-container-id-9 div.sk-container {/* jupyter's `normalize.less` sets `[hidden] { display: none; }` but bootstrap.min.css set `[hidden] { display: none !important; }` so we also need the `!important` here to be able to override the default hidden behavior on the sphinx rendered scikit-learn.org. See: https://github.com/scikit-learn/scikit-learn/issues/21755 */display: inline-block !important;position: relative;}#sk-container-id-9 div.sk-text-repr-fallback {display: none;}</style><div id=\"sk-container-id-9\" class=\"sk-top-container\"><div class=\"sk-text-repr-fallback\"><pre>DecisionTreeRegressor(max_features=4, random_state=42)</pre><b>In a Jupyter environment, please rerun this cell to show the HTML representation or trust the notebook. <br />On GitHub, the HTML representation is unable to render, please try loading this page with nbviewer.org.</b></div><div class=\"sk-container\" hidden><div class=\"sk-item\"><div class=\"sk-estimator sk-toggleable\"><input class=\"sk-toggleable__control sk-hidden--visually\" id=\"sk-estimator-id-9\" type=\"checkbox\" checked><label for=\"sk-estimator-id-9\" class=\"sk-toggleable__label sk-toggleable__label-arrow\">DecisionTreeRegressor</label><div class=\"sk-toggleable__content\"><pre>DecisionTreeRegressor(max_features=4, random_state=42)</pre></div></div></div></div></div>"
      ],
      "text/plain": [
       "DecisionTreeRegressor(max_features=4, random_state=42)"
      ]
     },
     "execution_count": 29,
     "metadata": {},
     "output_type": "execute_result"
    }
   ],
   "source": [
    "## step 1\n",
    "X = pd.get_dummies(df_train.drop('charges', axis = 1), drop_first = True)\n",
    "y = df_train.charges\n",
    "\n",
    "## step 2\n",
    "predictr = sklearn.tree.DecisionTreeRegressor(max_features = 4, random_state = 42)\n",
    "\n",
    "## step 3\n",
    "predictr.fit(X, y)"
   ]
  },
  {
   "cell_type": "markdown",
   "id": "f6ace79b-df9d-4059-b2e5-6d354b3a1ff6",
   "metadata": {},
   "source": [
    "> 단순하다. `train_test_split()`이나, `np.random.rand()`나... 무작위로 뽑는 것에서 흔히 나타나는 `random_state`를 지정해주면 된다."
   ]
  },
  {
   "cell_type": "code",
   "execution_count": 43,
   "id": "430c91bc-f0a6-4229-80b0-0e7cbe9af114",
   "metadata": {},
   "outputs": [
    {
     "data": {
      "image/svg+xml": [
       "<?xml version=\"1.0\" encoding=\"UTF-8\" standalone=\"no\"?>\n",
       "<!DOCTYPE svg PUBLIC \"-//W3C//DTD SVG 1.1//EN\"\n",
       " \"http://www.w3.org/Graphics/SVG/1.1/DTD/svg11.dtd\">\n",
       "<!-- Generated by graphviz version 2.50.0 (0)\n",
       " -->\n",
       "<!-- Title: Tree Pages: 1 -->\n",
       "<svg width=\"440pt\" height=\"252pt\"\n",
       " viewBox=\"0.00 0.00 439.50 252.00\" xmlns=\"http://www.w3.org/2000/svg\" xmlns:xlink=\"http://www.w3.org/1999/xlink\">\n",
       "<g id=\"graph0\" class=\"graph\" transform=\"scale(1 1) rotate(0) translate(4 248)\">\n",
       "<title>Tree</title>\n",
       "<polygon fill=\"white\" stroke=\"transparent\" points=\"-4,4 -4,-248 435.5,-248 435.5,4 -4,4\"/>\n",
       "<!-- 0 -->\n",
       "<g id=\"node1\" class=\"node\">\n",
       "<title>0</title>\n",
       "<polygon fill=\"none\" stroke=\"black\" points=\"319,-244 108,-244 108,-176 319,-176 319,-244\"/>\n",
       "<text text-anchor=\"middle\" x=\"213.5\" y=\"-228.8\" font-family=\"Helvetica,sans-Serif\" font-size=\"14.00\">smoker_yes &lt;= 0.5</text>\n",
       "<text text-anchor=\"middle\" x=\"213.5\" y=\"-213.8\" font-family=\"Helvetica,sans-Serif\" font-size=\"14.00\">squared_error = 146542766.494</text>\n",
       "<text text-anchor=\"middle\" x=\"213.5\" y=\"-198.8\" font-family=\"Helvetica,sans-Serif\" font-size=\"14.00\">samples = 1338</text>\n",
       "<text text-anchor=\"middle\" x=\"213.5\" y=\"-183.8\" font-family=\"Helvetica,sans-Serif\" font-size=\"14.00\">value = 13270.422</text>\n",
       "</g>\n",
       "<!-- 1 -->\n",
       "<g id=\"node2\" class=\"node\">\n",
       "<title>1</title>\n",
       "<polygon fill=\"none\" stroke=\"black\" points=\"203,-140 0,-140 0,-72 203,-72 203,-140\"/>\n",
       "<text text-anchor=\"middle\" x=\"101.5\" y=\"-124.8\" font-family=\"Helvetica,sans-Serif\" font-size=\"14.00\">age &lt;= 42.5</text>\n",
       "<text text-anchor=\"middle\" x=\"101.5\" y=\"-109.8\" font-family=\"Helvetica,sans-Serif\" font-size=\"14.00\">squared_error = 35891656.003</text>\n",
       "<text text-anchor=\"middle\" x=\"101.5\" y=\"-94.8\" font-family=\"Helvetica,sans-Serif\" font-size=\"14.00\">samples = 1064</text>\n",
       "<text text-anchor=\"middle\" x=\"101.5\" y=\"-79.8\" font-family=\"Helvetica,sans-Serif\" font-size=\"14.00\">value = 8434.268</text>\n",
       "</g>\n",
       "<!-- 0&#45;&gt;1 -->\n",
       "<g id=\"edge1\" class=\"edge\">\n",
       "<title>0&#45;&gt;1</title>\n",
       "<path fill=\"none\" stroke=\"black\" d=\"M177.14,-175.88C167.06,-166.71 156.02,-156.65 145.56,-147.12\"/>\n",
       "<polygon fill=\"black\" stroke=\"black\" points=\"147.81,-144.44 138.06,-140.3 143.1,-149.62 147.81,-144.44\"/>\n",
       "<text text-anchor=\"middle\" x=\"139.23\" y=\"-161.57\" font-family=\"Helvetica,sans-Serif\" font-size=\"14.00\">True</text>\n",
       "</g>\n",
       "<!-- 2122 -->\n",
       "<g id=\"node5\" class=\"node\">\n",
       "<title>2122</title>\n",
       "<polygon fill=\"none\" stroke=\"black\" points=\"431.5,-140 221.5,-140 221.5,-72 431.5,-72 431.5,-140\"/>\n",
       "<text text-anchor=\"middle\" x=\"326.5\" y=\"-124.8\" font-family=\"Helvetica,sans-Serif\" font-size=\"14.00\">region_southeast &lt;= 0.5</text>\n",
       "<text text-anchor=\"middle\" x=\"326.5\" y=\"-109.8\" font-family=\"Helvetica,sans-Serif\" font-size=\"14.00\">squared_error = 132721153.136</text>\n",
       "<text text-anchor=\"middle\" x=\"326.5\" y=\"-94.8\" font-family=\"Helvetica,sans-Serif\" font-size=\"14.00\">samples = 274</text>\n",
       "<text text-anchor=\"middle\" x=\"326.5\" y=\"-79.8\" font-family=\"Helvetica,sans-Serif\" font-size=\"14.00\">value = 32050.232</text>\n",
       "</g>\n",
       "<!-- 0&#45;&gt;2122 -->\n",
       "<g id=\"edge4\" class=\"edge\">\n",
       "<title>0&#45;&gt;2122</title>\n",
       "<path fill=\"none\" stroke=\"black\" d=\"M250.19,-175.88C260.35,-166.71 271.5,-156.65 282.05,-147.12\"/>\n",
       "<polygon fill=\"black\" stroke=\"black\" points=\"284.53,-149.6 289.61,-140.3 279.84,-144.4 284.53,-149.6\"/>\n",
       "<text text-anchor=\"middle\" x=\"288.33\" y=\"-161.57\" font-family=\"Helvetica,sans-Serif\" font-size=\"14.00\">False</text>\n",
       "</g>\n",
       "<!-- 2 -->\n",
       "<g id=\"node3\" class=\"node\">\n",
       "<title>2</title>\n",
       "<polygon fill=\"none\" stroke=\"black\" points=\"92.5,-36 38.5,-36 38.5,0 92.5,0 92.5,-36\"/>\n",
       "<text text-anchor=\"middle\" x=\"65.5\" y=\"-14.3\" font-family=\"Helvetica,sans-Serif\" font-size=\"14.00\">(...)</text>\n",
       "</g>\n",
       "<!-- 1&#45;&gt;2 -->\n",
       "<g id=\"edge2\" class=\"edge\">\n",
       "<title>1&#45;&gt;2</title>\n",
       "<path fill=\"none\" stroke=\"black\" d=\"M87.68,-72C84.04,-63.28 80.14,-53.98 76.66,-45.65\"/>\n",
       "<polygon fill=\"black\" stroke=\"black\" points=\"79.88,-44.28 72.79,-36.4 73.42,-46.98 79.88,-44.28\"/>\n",
       "</g>\n",
       "<!-- 1187 -->\n",
       "<g id=\"node4\" class=\"node\">\n",
       "<title>1187</title>\n",
       "<polygon fill=\"none\" stroke=\"black\" points=\"164.5,-36 110.5,-36 110.5,0 164.5,0 164.5,-36\"/>\n",
       "<text text-anchor=\"middle\" x=\"137.5\" y=\"-14.3\" font-family=\"Helvetica,sans-Serif\" font-size=\"14.00\">(...)</text>\n",
       "</g>\n",
       "<!-- 1&#45;&gt;1187 -->\n",
       "<g id=\"edge3\" class=\"edge\">\n",
       "<title>1&#45;&gt;1187</title>\n",
       "<path fill=\"none\" stroke=\"black\" d=\"M115.32,-72C118.96,-63.28 122.86,-53.98 126.34,-45.65\"/>\n",
       "<polygon fill=\"black\" stroke=\"black\" points=\"129.58,-46.98 130.21,-36.4 123.12,-44.28 129.58,-46.98\"/>\n",
       "</g>\n",
       "<!-- 2123 -->\n",
       "<g id=\"node6\" class=\"node\">\n",
       "<title>2123</title>\n",
       "<polygon fill=\"none\" stroke=\"black\" points=\"317.5,-36 263.5,-36 263.5,0 317.5,0 317.5,-36\"/>\n",
       "<text text-anchor=\"middle\" x=\"290.5\" y=\"-14.3\" font-family=\"Helvetica,sans-Serif\" font-size=\"14.00\">(...)</text>\n",
       "</g>\n",
       "<!-- 2122&#45;&gt;2123 -->\n",
       "<g id=\"edge5\" class=\"edge\">\n",
       "<title>2122&#45;&gt;2123</title>\n",
       "<path fill=\"none\" stroke=\"black\" d=\"M312.68,-72C309.04,-63.28 305.14,-53.98 301.66,-45.65\"/>\n",
       "<polygon fill=\"black\" stroke=\"black\" points=\"304.88,-44.28 297.79,-36.4 298.42,-46.98 304.88,-44.28\"/>\n",
       "</g>\n",
       "<!-- 2488 -->\n",
       "<g id=\"node7\" class=\"node\">\n",
       "<title>2488</title>\n",
       "<polygon fill=\"none\" stroke=\"black\" points=\"389.5,-36 335.5,-36 335.5,0 389.5,0 389.5,-36\"/>\n",
       "<text text-anchor=\"middle\" x=\"362.5\" y=\"-14.3\" font-family=\"Helvetica,sans-Serif\" font-size=\"14.00\">(...)</text>\n",
       "</g>\n",
       "<!-- 2122&#45;&gt;2488 -->\n",
       "<g id=\"edge6\" class=\"edge\">\n",
       "<title>2122&#45;&gt;2488</title>\n",
       "<path fill=\"none\" stroke=\"black\" d=\"M340.32,-72C343.96,-63.28 347.86,-53.98 351.34,-45.65\"/>\n",
       "<polygon fill=\"black\" stroke=\"black\" points=\"354.58,-46.98 355.21,-36.4 348.12,-44.28 354.58,-46.98\"/>\n",
       "</g>\n",
       "</g>\n",
       "</svg>\n"
      ],
      "text/plain": [
       "<graphviz.sources.Source at 0x1a7f049d810>"
      ]
     },
     "execution_count": 43,
     "metadata": {},
     "output_type": "execute_result"
    }
   ],
   "source": [
    "graphviz.Source(sklearn.tree.export_graphviz(\n",
    "    predictr,\n",
    "    max_depth = 1,\n",
    "    feature_names = X.columns.to_list()\n",
    "))"
   ]
  },
  {
   "cell_type": "code",
   "execution_count": 44,
   "id": "e06c04af-e139-4124-8f7a-f253f74389ad",
   "metadata": {},
   "outputs": [
    {
     "data": {
      "image/svg+xml": [
       "<?xml version=\"1.0\" encoding=\"UTF-8\" standalone=\"no\"?>\n",
       "<!DOCTYPE svg PUBLIC \"-//W3C//DTD SVG 1.1//EN\"\n",
       " \"http://www.w3.org/Graphics/SVG/1.1/DTD/svg11.dtd\">\n",
       "<!-- Generated by graphviz version 2.50.0 (0)\n",
       " -->\n",
       "<!-- Title: Tree Pages: 1 -->\n",
       "<svg width=\"440pt\" height=\"252pt\"\n",
       " viewBox=\"0.00 0.00 439.50 252.00\" xmlns=\"http://www.w3.org/2000/svg\" xmlns:xlink=\"http://www.w3.org/1999/xlink\">\n",
       "<g id=\"graph0\" class=\"graph\" transform=\"scale(1 1) rotate(0) translate(4 248)\">\n",
       "<title>Tree</title>\n",
       "<polygon fill=\"white\" stroke=\"transparent\" points=\"-4,4 -4,-248 435.5,-248 435.5,4 -4,4\"/>\n",
       "<!-- 0 -->\n",
       "<g id=\"node1\" class=\"node\">\n",
       "<title>0</title>\n",
       "<polygon fill=\"none\" stroke=\"black\" points=\"319,-244 108,-244 108,-176 319,-176 319,-244\"/>\n",
       "<text text-anchor=\"middle\" x=\"213.5\" y=\"-228.8\" font-family=\"Helvetica,sans-Serif\" font-size=\"14.00\">smoker_yes &lt;= 0.5</text>\n",
       "<text text-anchor=\"middle\" x=\"213.5\" y=\"-213.8\" font-family=\"Helvetica,sans-Serif\" font-size=\"14.00\">squared_error = 146542766.494</text>\n",
       "<text text-anchor=\"middle\" x=\"213.5\" y=\"-198.8\" font-family=\"Helvetica,sans-Serif\" font-size=\"14.00\">samples = 1338</text>\n",
       "<text text-anchor=\"middle\" x=\"213.5\" y=\"-183.8\" font-family=\"Helvetica,sans-Serif\" font-size=\"14.00\">value = 13270.422</text>\n",
       "</g>\n",
       "<!-- 1 -->\n",
       "<g id=\"node2\" class=\"node\">\n",
       "<title>1</title>\n",
       "<polygon fill=\"none\" stroke=\"black\" points=\"203,-140 0,-140 0,-72 203,-72 203,-140\"/>\n",
       "<text text-anchor=\"middle\" x=\"101.5\" y=\"-124.8\" font-family=\"Helvetica,sans-Serif\" font-size=\"14.00\">age &lt;= 42.5</text>\n",
       "<text text-anchor=\"middle\" x=\"101.5\" y=\"-109.8\" font-family=\"Helvetica,sans-Serif\" font-size=\"14.00\">squared_error = 35891656.003</text>\n",
       "<text text-anchor=\"middle\" x=\"101.5\" y=\"-94.8\" font-family=\"Helvetica,sans-Serif\" font-size=\"14.00\">samples = 1064</text>\n",
       "<text text-anchor=\"middle\" x=\"101.5\" y=\"-79.8\" font-family=\"Helvetica,sans-Serif\" font-size=\"14.00\">value = 8434.268</text>\n",
       "</g>\n",
       "<!-- 0&#45;&gt;1 -->\n",
       "<g id=\"edge1\" class=\"edge\">\n",
       "<title>0&#45;&gt;1</title>\n",
       "<path fill=\"none\" stroke=\"black\" d=\"M177.14,-175.88C167.06,-166.71 156.02,-156.65 145.56,-147.12\"/>\n",
       "<polygon fill=\"black\" stroke=\"black\" points=\"147.81,-144.44 138.06,-140.3 143.1,-149.62 147.81,-144.44\"/>\n",
       "<text text-anchor=\"middle\" x=\"139.23\" y=\"-161.57\" font-family=\"Helvetica,sans-Serif\" font-size=\"14.00\">True</text>\n",
       "</g>\n",
       "<!-- 2122 -->\n",
       "<g id=\"node5\" class=\"node\">\n",
       "<title>2122</title>\n",
       "<polygon fill=\"none\" stroke=\"black\" points=\"431.5,-140 221.5,-140 221.5,-72 431.5,-72 431.5,-140\"/>\n",
       "<text text-anchor=\"middle\" x=\"326.5\" y=\"-124.8\" font-family=\"Helvetica,sans-Serif\" font-size=\"14.00\">region_southeast &lt;= 0.5</text>\n",
       "<text text-anchor=\"middle\" x=\"326.5\" y=\"-109.8\" font-family=\"Helvetica,sans-Serif\" font-size=\"14.00\">squared_error = 132721153.136</text>\n",
       "<text text-anchor=\"middle\" x=\"326.5\" y=\"-94.8\" font-family=\"Helvetica,sans-Serif\" font-size=\"14.00\">samples = 274</text>\n",
       "<text text-anchor=\"middle\" x=\"326.5\" y=\"-79.8\" font-family=\"Helvetica,sans-Serif\" font-size=\"14.00\">value = 32050.232</text>\n",
       "</g>\n",
       "<!-- 0&#45;&gt;2122 -->\n",
       "<g id=\"edge4\" class=\"edge\">\n",
       "<title>0&#45;&gt;2122</title>\n",
       "<path fill=\"none\" stroke=\"black\" d=\"M250.19,-175.88C260.35,-166.71 271.5,-156.65 282.05,-147.12\"/>\n",
       "<polygon fill=\"black\" stroke=\"black\" points=\"284.53,-149.6 289.61,-140.3 279.84,-144.4 284.53,-149.6\"/>\n",
       "<text text-anchor=\"middle\" x=\"288.33\" y=\"-161.57\" font-family=\"Helvetica,sans-Serif\" font-size=\"14.00\">False</text>\n",
       "</g>\n",
       "<!-- 2 -->\n",
       "<g id=\"node3\" class=\"node\">\n",
       "<title>2</title>\n",
       "<polygon fill=\"none\" stroke=\"black\" points=\"92.5,-36 38.5,-36 38.5,0 92.5,0 92.5,-36\"/>\n",
       "<text text-anchor=\"middle\" x=\"65.5\" y=\"-14.3\" font-family=\"Helvetica,sans-Serif\" font-size=\"14.00\">(...)</text>\n",
       "</g>\n",
       "<!-- 1&#45;&gt;2 -->\n",
       "<g id=\"edge2\" class=\"edge\">\n",
       "<title>1&#45;&gt;2</title>\n",
       "<path fill=\"none\" stroke=\"black\" d=\"M87.68,-72C84.04,-63.28 80.14,-53.98 76.66,-45.65\"/>\n",
       "<polygon fill=\"black\" stroke=\"black\" points=\"79.88,-44.28 72.79,-36.4 73.42,-46.98 79.88,-44.28\"/>\n",
       "</g>\n",
       "<!-- 1187 -->\n",
       "<g id=\"node4\" class=\"node\">\n",
       "<title>1187</title>\n",
       "<polygon fill=\"none\" stroke=\"black\" points=\"164.5,-36 110.5,-36 110.5,0 164.5,0 164.5,-36\"/>\n",
       "<text text-anchor=\"middle\" x=\"137.5\" y=\"-14.3\" font-family=\"Helvetica,sans-Serif\" font-size=\"14.00\">(...)</text>\n",
       "</g>\n",
       "<!-- 1&#45;&gt;1187 -->\n",
       "<g id=\"edge3\" class=\"edge\">\n",
       "<title>1&#45;&gt;1187</title>\n",
       "<path fill=\"none\" stroke=\"black\" d=\"M115.32,-72C118.96,-63.28 122.86,-53.98 126.34,-45.65\"/>\n",
       "<polygon fill=\"black\" stroke=\"black\" points=\"129.58,-46.98 130.21,-36.4 123.12,-44.28 129.58,-46.98\"/>\n",
       "</g>\n",
       "<!-- 2123 -->\n",
       "<g id=\"node6\" class=\"node\">\n",
       "<title>2123</title>\n",
       "<polygon fill=\"none\" stroke=\"black\" points=\"317.5,-36 263.5,-36 263.5,0 317.5,0 317.5,-36\"/>\n",
       "<text text-anchor=\"middle\" x=\"290.5\" y=\"-14.3\" font-family=\"Helvetica,sans-Serif\" font-size=\"14.00\">(...)</text>\n",
       "</g>\n",
       "<!-- 2122&#45;&gt;2123 -->\n",
       "<g id=\"edge5\" class=\"edge\">\n",
       "<title>2122&#45;&gt;2123</title>\n",
       "<path fill=\"none\" stroke=\"black\" d=\"M312.68,-72C309.04,-63.28 305.14,-53.98 301.66,-45.65\"/>\n",
       "<polygon fill=\"black\" stroke=\"black\" points=\"304.88,-44.28 297.79,-36.4 298.42,-46.98 304.88,-44.28\"/>\n",
       "</g>\n",
       "<!-- 2488 -->\n",
       "<g id=\"node7\" class=\"node\">\n",
       "<title>2488</title>\n",
       "<polygon fill=\"none\" stroke=\"black\" points=\"389.5,-36 335.5,-36 335.5,0 389.5,0 389.5,-36\"/>\n",
       "<text text-anchor=\"middle\" x=\"362.5\" y=\"-14.3\" font-family=\"Helvetica,sans-Serif\" font-size=\"14.00\">(...)</text>\n",
       "</g>\n",
       "<!-- 2122&#45;&gt;2488 -->\n",
       "<g id=\"edge6\" class=\"edge\">\n",
       "<title>2122&#45;&gt;2488</title>\n",
       "<path fill=\"none\" stroke=\"black\" d=\"M340.32,-72C343.96,-63.28 347.86,-53.98 351.34,-45.65\"/>\n",
       "<polygon fill=\"black\" stroke=\"black\" points=\"354.58,-46.98 355.21,-36.4 348.12,-44.28 354.58,-46.98\"/>\n",
       "</g>\n",
       "</g>\n",
       "</svg>\n"
      ],
      "text/plain": [
       "<graphviz.sources.Source at 0x1a7efb68310>"
      ]
     },
     "execution_count": 44,
     "metadata": {},
     "output_type": "execute_result"
    }
   ],
   "source": [
    "predictr.fit(X, y)\n",
    "graphviz.Source(sklearn.tree.export_graphviz(\n",
    "    predictr,\n",
    "    max_depth = 1,\n",
    "    feature_names = X.columns.to_list()\n",
    "))"
   ]
  },
  {
   "cell_type": "markdown",
   "id": "bacf591f-3518-470d-83a0-ee15232105d5",
   "metadata": {},
   "source": [
    "> 몇 번을 시도해도 같은 결과가 나올 것이다..."
   ]
  },
  {
   "cell_type": "markdown",
   "id": "9a2060d5-d2ef-430d-bb92-316b1317d6b7",
   "metadata": {},
   "source": [
    "## 4. `.fit(sample_weight = [])`"
   ]
  },
  {
   "cell_type": "markdown",
   "id": "91ec27cd-616e-4d64-816d-cab7db655595",
   "metadata": {},
   "source": [
    "> 무게, 그러니까 가중치를 부여해주는 옵션이다. 특정 값을 중심으로 피팅을 해야 할 경우나, 값이 겹쳐있는 경우 유용한 옵션이다.\n",
    "\n",
    "`# 예제 1` 아래의 데이터를 생각해보자."
   ]
  },
  {
   "cell_type": "code",
   "execution_count": 45,
   "id": "369dcf8c-a112-4fb1-a6dd-52750507ac6d",
   "metadata": {},
   "outputs": [
    {
     "data": {
      "text/plain": [
       "[<matplotlib.lines.Line2D at 0x1a7f040c880>]"
      ]
     },
     "execution_count": 45,
     "metadata": {},
     "output_type": "execute_result"
    },
    {
     "data": {
      "image/png": "[encoded data removed]",
      "text/plain": [
       "<Figure size 640x480 with 1 Axes>"
      ]
     },
     "metadata": {},
     "output_type": "display_data"
    }
   ],
   "source": [
    "X = np.array([1,2,3,4,5,6,7]).reshape(-1,1)\n",
    "y = np.array([10,11,12,20,21,22,23])\n",
    "plt.plot(X, y, 'o')"
   ]
  },
  {
   "cell_type": "markdown",
   "id": "a0bbac5a-4816-4760-bc68-94ee55692c22",
   "metadata": {},
   "source": [
    "> 여기서 어떤 $c$값을 택해야 할까? 당연히 3.5정도가 되겠지..."
   ]
  },
  {
   "cell_type": "code",
   "execution_count": 47,
   "id": "32370484-a592-4b4c-a5f3-781e696da6f3",
   "metadata": {},
   "outputs": [
    {
     "data": {
      "image/svg+xml": [
       "<?xml version=\"1.0\" encoding=\"UTF-8\" standalone=\"no\"?>\n",
       "<!DOCTYPE svg PUBLIC \"-//W3C//DTD SVG 1.1//EN\"\n",
       " \"http://www.w3.org/Graphics/SVG/1.1/DTD/svg11.dtd\">\n",
       "<!-- Generated by graphviz version 2.50.0 (0)\n",
       " -->\n",
       "<!-- Title: Tree Pages: 1 -->\n",
       "<svg width=\"320pt\" height=\"165pt\"\n",
       " viewBox=\"0.00 0.00 320.00 165.00\" xmlns=\"http://www.w3.org/2000/svg\" xmlns:xlink=\"http://www.w3.org/1999/xlink\">\n",
       "<g id=\"graph0\" class=\"graph\" transform=\"scale(1 1) rotate(0) translate(4 161)\">\n",
       "<title>Tree</title>\n",
       "<polygon fill=\"white\" stroke=\"transparent\" points=\"-4,4 -4,-161 316,-161 316,4 -4,4\"/>\n",
       "<!-- 0 -->\n",
       "<g id=\"node1\" class=\"node\">\n",
       "<title>0</title>\n",
       "<polygon fill=\"none\" stroke=\"black\" points=\"229,-157 86,-157 86,-89 229,-89 229,-157\"/>\n",
       "<text text-anchor=\"middle\" x=\"157.5\" y=\"-141.8\" font-family=\"Helvetica,sans-Serif\" font-size=\"14.00\">x[0] &lt;= 3.5</text>\n",
       "<text text-anchor=\"middle\" x=\"157.5\" y=\"-126.8\" font-family=\"Helvetica,sans-Serif\" font-size=\"14.00\">squared_error = 28.0</text>\n",
       "<text text-anchor=\"middle\" x=\"157.5\" y=\"-111.8\" font-family=\"Helvetica,sans-Serif\" font-size=\"14.00\">samples = 7</text>\n",
       "<text text-anchor=\"middle\" x=\"157.5\" y=\"-96.8\" font-family=\"Helvetica,sans-Serif\" font-size=\"14.00\">value = 17.0</text>\n",
       "</g>\n",
       "<!-- 1 -->\n",
       "<g id=\"node2\" class=\"node\">\n",
       "<title>1</title>\n",
       "<polygon fill=\"none\" stroke=\"black\" points=\"151,-53 0,-53 0,0 151,0 151,-53\"/>\n",
       "<text text-anchor=\"middle\" x=\"75.5\" y=\"-37.8\" font-family=\"Helvetica,sans-Serif\" font-size=\"14.00\">squared_error = 0.667</text>\n",
       "<text text-anchor=\"middle\" x=\"75.5\" y=\"-22.8\" font-family=\"Helvetica,sans-Serif\" font-size=\"14.00\">samples = 3</text>\n",
       "<text text-anchor=\"middle\" x=\"75.5\" y=\"-7.8\" font-family=\"Helvetica,sans-Serif\" font-size=\"14.00\">value = 11.0</text>\n",
       "</g>\n",
       "<!-- 0&#45;&gt;1 -->\n",
       "<g id=\"edge1\" class=\"edge\">\n",
       "<title>0&#45;&gt;1</title>\n",
       "<path fill=\"none\" stroke=\"black\" d=\"M128.82,-88.95C120.96,-79.89 112.44,-70.07 104.56,-60.99\"/>\n",
       "<polygon fill=\"black\" stroke=\"black\" points=\"107.03,-58.5 97.83,-53.24 101.74,-63.08 107.03,-58.5\"/>\n",
       "<text text-anchor=\"middle\" x=\"96.07\" y=\"-74.47\" font-family=\"Helvetica,sans-Serif\" font-size=\"14.00\">True</text>\n",
       "</g>\n",
       "<!-- 2 -->\n",
       "<g id=\"node3\" class=\"node\">\n",
       "<title>2</title>\n",
       "<polygon fill=\"none\" stroke=\"black\" points=\"312,-53 169,-53 169,0 312,0 312,-53\"/>\n",
       "<text text-anchor=\"middle\" x=\"240.5\" y=\"-37.8\" font-family=\"Helvetica,sans-Serif\" font-size=\"14.00\">squared_error = 1.25</text>\n",
       "<text text-anchor=\"middle\" x=\"240.5\" y=\"-22.8\" font-family=\"Helvetica,sans-Serif\" font-size=\"14.00\">samples = 4</text>\n",
       "<text text-anchor=\"middle\" x=\"240.5\" y=\"-7.8\" font-family=\"Helvetica,sans-Serif\" font-size=\"14.00\">value = 21.5</text>\n",
       "</g>\n",
       "<!-- 0&#45;&gt;2 -->\n",
       "<g id=\"edge2\" class=\"edge\">\n",
       "<title>0&#45;&gt;2</title>\n",
       "<path fill=\"none\" stroke=\"black\" d=\"M186.53,-88.95C194.48,-79.89 203.11,-70.07 211.09,-60.99\"/>\n",
       "<polygon fill=\"black\" stroke=\"black\" points=\"213.93,-63.06 217.9,-53.24 208.67,-58.44 213.93,-63.06\"/>\n",
       "<text text-anchor=\"middle\" x=\"219.51\" y=\"-74.48\" font-family=\"Helvetica,sans-Serif\" font-size=\"14.00\">False</text>\n",
       "</g>\n",
       "</g>\n",
       "</svg>\n"
      ],
      "text/plain": [
       "<graphviz.sources.Source at 0x1a7f04683a0>"
      ]
     },
     "execution_count": 47,
     "metadata": {},
     "output_type": "execute_result"
    }
   ],
   "source": [
    "predictr = sklearn.tree.DecisionTreeRegressor(max_depth = 1)\n",
    "predictr.fit(X, y)\n",
    "graphviz.Source(sklearn.tree.export_graphviz(predictr))"
   ]
  },
  {
   "cell_type": "markdown",
   "id": "05759f14-e923-49c6-8101-5b7e499c767f",
   "metadata": {},
   "source": [
    "`# 예제 2` 유사하지만 다른 그림"
   ]
  },
  {
   "cell_type": "code",
   "execution_count": 48,
   "id": "588f7f04-85ca-4726-940c-e4519e6be4b6",
   "metadata": {},
   "outputs": [
    {
     "data": {
      "text/plain": [
       "[<matplotlib.lines.Line2D at 0x1a7f0541750>]"
      ]
     },
     "execution_count": 48,
     "metadata": {},
     "output_type": "execute_result"
    },
    {
     "data": {
      "image/png": "[encoded data removed]",
      "text/plain": [
       "<Figure size 640x480 with 1 Axes>"
      ]
     },
     "metadata": {},
     "output_type": "display_data"
    }
   ],
   "source": [
    "X = np.array([1]*5000+[2]*5000+[3,4,5,6,7]).reshape(-1,1)\n",
    "y = np.array([10]*5000+[11]*5000+[12,20,21,22,23])\n",
    "plt.plot(X, y, 'o', alpha = 0.2)"
   ]
  },
  {
   "cell_type": "markdown",
   "id": "b9aab9ab-3147-475f-9200-b6a0d2b2c22a",
   "metadata": {},
   "source": [
    "> 이 경우 산점도는 비슷하게 그려지지만, 1과 2에 5000개의 데이터들이 관측되었다. 따라서 1.5 근처에 나누는 게 적합 점수가 높게 나올 것이다..."
   ]
  },
  {
   "cell_type": "code",
   "execution_count": 52,
   "id": "9d104a65-3b5a-4961-8c67-e53250bfec8d",
   "metadata": {},
   "outputs": [
    {
     "data": {
      "image/png": "[encoded data removed]",
      "text/plain": [
       "<Figure size 640x480 with 1 Axes>"
      ]
     },
     "metadata": {},
     "output_type": "display_data"
    }
   ],
   "source": [
    "## 실제로 적합해보면...\n",
    "predictr = sklearn.tree.DecisionTreeRegressor(max_depth = 1)\n",
    "predictr.fit(X, y)\n",
    "graphviz.Source(sklearn.tree.plot_tree(predictr));"
   ]
  },
  {
   "cell_type": "markdown",
   "id": "1ce780a7-4713-49ae-b161-a6affe3c78da",
   "metadata": {},
   "source": [
    "`# 예제 3` 가중치 부여\n",
    "\n",
    "* 처음의 데이터를 사용해서 위의 데이터를 분석한 것과 같게 분석을 해보자."
   ]
  },
  {
   "cell_type": "code",
   "execution_count": 54,
   "id": "0ee88c7a-993f-4118-9e1b-db8070a340f5",
   "metadata": {},
   "outputs": [
    {
     "data": {
      "text/plain": [
       "[<matplotlib.lines.Line2D at 0x1a7f0e61f00>]"
      ]
     },
     "execution_count": 54,
     "metadata": {},
     "output_type": "execute_result"
    },
    {
     "data": {
      "image/png": "[encoded data removed]",
      "text/plain": [
       "<Figure size 640x480 with 1 Axes>"
      ]
     },
     "metadata": {},
     "output_type": "display_data"
    }
   ],
   "source": [
    "X = np.array([1,2,3,4,5,6,7]).reshape(-1,1)\n",
    "y = np.array([10,11,12,20,21,22,23])\n",
    "\n",
    "plt.plot(X, y, 'o')\n",
    "plt.plot(X[:2], y[:2], 'o')"
   ]
  },
  {
   "cell_type": "markdown",
   "id": "80c14617-e589-437a-9b45-59e9675e3f1f",
   "metadata": {},
   "source": [
    "> 1번과 2번 데이터를 맞추는 것이 다른 것들보다 5000배 정도 더 중요하다고 하면..."
   ]
  },
  {
   "cell_type": "code",
   "execution_count": 55,
   "id": "7dc13b26-c213-414c-b27d-a04c73547bf8",
   "metadata": {},
   "outputs": [
    {
     "data": {
      "image/svg+xml": [
       "<?xml version=\"1.0\" encoding=\"UTF-8\" standalone=\"no\"?>\n",
       "<!DOCTYPE svg PUBLIC \"-//W3C//DTD SVG 1.1//EN\"\n",
       " \"http://www.w3.org/Graphics/SVG/1.1/DTD/svg11.dtd\">\n",
       "<!-- Generated by graphviz version 2.50.0 (0)\n",
       " -->\n",
       "<!-- Title: Tree Pages: 1 -->\n",
       "<svg width=\"314pt\" height=\"165pt\"\n",
       " viewBox=\"0.00 0.00 313.50 165.00\" xmlns=\"http://www.w3.org/2000/svg\" xmlns:xlink=\"http://www.w3.org/1999/xlink\">\n",
       "<g id=\"graph0\" class=\"graph\" transform=\"scale(1 1) rotate(0) translate(4 161)\">\n",
       "<title>Tree</title>\n",
       "<polygon fill=\"white\" stroke=\"transparent\" points=\"-4,4 -4,-161 309.5,-161 309.5,4 -4,4\"/>\n",
       "<!-- 0 -->\n",
       "<g id=\"node1\" class=\"node\">\n",
       "<title>0</title>\n",
       "<polygon fill=\"none\" stroke=\"black\" points=\"224.5,-157 73.5,-157 73.5,-89 224.5,-89 224.5,-157\"/>\n",
       "<text text-anchor=\"middle\" x=\"149\" y=\"-141.8\" font-family=\"Helvetica,sans-Serif\" font-size=\"14.00\">x[0] &lt;= 1.5</text>\n",
       "<text text-anchor=\"middle\" x=\"149\" y=\"-126.8\" font-family=\"Helvetica,sans-Serif\" font-size=\"14.00\">squared_error = 0.299</text>\n",
       "<text text-anchor=\"middle\" x=\"149\" y=\"-111.8\" font-family=\"Helvetica,sans-Serif\" font-size=\"14.00\">samples = 7</text>\n",
       "<text text-anchor=\"middle\" x=\"149\" y=\"-96.8\" font-family=\"Helvetica,sans-Serif\" font-size=\"14.00\">value = 10.505</text>\n",
       "</g>\n",
       "<!-- 1 -->\n",
       "<g id=\"node2\" class=\"node\">\n",
       "<title>1</title>\n",
       "<polygon fill=\"none\" stroke=\"black\" points=\"136,-53 0,-53 0,0 136,0 136,-53\"/>\n",
       "<text text-anchor=\"middle\" x=\"68\" y=\"-37.8\" font-family=\"Helvetica,sans-Serif\" font-size=\"14.00\">squared_error = 0.0</text>\n",
       "<text text-anchor=\"middle\" x=\"68\" y=\"-22.8\" font-family=\"Helvetica,sans-Serif\" font-size=\"14.00\">samples = 1</text>\n",
       "<text text-anchor=\"middle\" x=\"68\" y=\"-7.8\" font-family=\"Helvetica,sans-Serif\" font-size=\"14.00\">value = 10.0</text>\n",
       "</g>\n",
       "<!-- 0&#45;&gt;1 -->\n",
       "<g id=\"edge1\" class=\"edge\">\n",
       "<title>0&#45;&gt;1</title>\n",
       "<path fill=\"none\" stroke=\"black\" d=\"M120.67,-88.95C112.91,-79.89 104.49,-70.07 96.7,-60.99\"/>\n",
       "<polygon fill=\"black\" stroke=\"black\" points=\"99.23,-58.55 90.06,-53.24 93.91,-63.11 99.23,-58.55\"/>\n",
       "<text text-anchor=\"middle\" x=\"88.14\" y=\"-74.46\" font-family=\"Helvetica,sans-Serif\" font-size=\"14.00\">True</text>\n",
       "</g>\n",
       "<!-- 2 -->\n",
       "<g id=\"node3\" class=\"node\">\n",
       "<title>2</title>\n",
       "<polygon fill=\"none\" stroke=\"black\" points=\"305.5,-53 154.5,-53 154.5,0 305.5,0 305.5,-53\"/>\n",
       "<text text-anchor=\"middle\" x=\"230\" y=\"-37.8\" font-family=\"Helvetica,sans-Serif\" font-size=\"14.00\">squared_error = 0.089</text>\n",
       "<text text-anchor=\"middle\" x=\"230\" y=\"-22.8\" font-family=\"Helvetica,sans-Serif\" font-size=\"14.00\">samples = 6</text>\n",
       "<text text-anchor=\"middle\" x=\"230\" y=\"-7.8\" font-family=\"Helvetica,sans-Serif\" font-size=\"14.00\">value = 11.009</text>\n",
       "</g>\n",
       "<!-- 0&#45;&gt;2 -->\n",
       "<g id=\"edge2\" class=\"edge\">\n",
       "<title>0&#45;&gt;2</title>\n",
       "<path fill=\"none\" stroke=\"black\" d=\"M177.33,-88.95C185.09,-79.89 193.51,-70.07 201.3,-60.99\"/>\n",
       "<polygon fill=\"black\" stroke=\"black\" points=\"204.09,-63.11 207.94,-53.24 198.77,-58.55 204.09,-63.11\"/>\n",
       "<text text-anchor=\"middle\" x=\"209.86\" y=\"-74.46\" font-family=\"Helvetica,sans-Serif\" font-size=\"14.00\">False</text>\n",
       "</g>\n",
       "</g>\n",
       "</svg>\n"
      ],
      "text/plain": [
       "<graphviz.sources.Source at 0x1a7f0d119f0>"
      ]
     },
     "execution_count": 55,
     "metadata": {},
     "output_type": "execute_result"
    }
   ],
   "source": [
    "predictr = sklearn.tree.DecisionTreeRegressor(max_depth = 1)\n",
    "predictr.fit(X, y, sample_weight = [5000, 5000, 1,1,1,1,1])\n",
    "graphviz.Source(sklearn.tree.export_graphviz(predictr))"
   ]
  },
  {
   "cell_type": "markdown",
   "id": "630ebd0f-440d-483c-aab4-536b872417f4",
   "metadata": {},
   "source": [
    "> 이런 식으로 똑같은 결과를 볼 수 있다. 이 때, 샘플의 사이즈만 다르다."
   ]
  }
 ],
 "metadata": {
  "kernelspec": {
   "display_name": "Python 3 (ipykernel)",
   "language": "python",
   "name": "python3"
  },
  "language_info": {
   "codemirror_mode": {
    "name": "ipython",
    "version": 3
   },
   "file_extension": ".py",
   "mimetype": "text/x-python",
   "name": "python",
   "nbconvert_exporter": "python",
   "pygments_lexer": "ipython3",
   "version": "3.10.13"
  }
 },
 "nbformat": 4,
 "nbformat_minor": 5
}
