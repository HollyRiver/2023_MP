{
 "cells": [
  {
   "cell_type": "markdown",
   "id": "a2984483-3b3e-4df8-956d-d3afaccfe9b7",
   "metadata": {},
   "source": [
    "---\n",
    "title: \"`RandomForest` | 의사결정나무\"\n",
    "author: \"강신성\"\n",
    "date: \"2023-11-22\"\n",
    "categories: [tree]\n",
    "---\n",
    "\n",
    "\n"
   ]
  },
  {
   "cell_type": "markdown",
   "id": "6ccdcc6f-981a-4074-aa5a-22da385ce4b9",
   "metadata": {},
   "source": [
    "> 랜덤포레스트를 이용해 적합을 해보자!"
   ]
  },
  {
   "cell_type": "markdown",
   "id": "f6a172bc-ec3e-4575-b2bc-766795295e51",
   "metadata": {
    "editable": true,
    "slideshow": {
     "slide_type": ""
    },
    "tags": []
   },
   "source": [
    "## 1. 라이브러리 imports"
   ]
  },
  {
   "cell_type": "code",
   "execution_count": 1,
   "id": "2b7fb419-231b-40e5-96f0-8b0c9c251cee",
   "metadata": {},
   "outputs": [],
   "source": [
    "import pandas as pd\n",
    "import numpy as np\n",
    "import matplotlib.pyplot as plt\n",
    "import sklearn.tree\n",
    "import sklearn.ensemble\n",
    "\n",
    "#---#\n",
    "import warnings\n",
    "warnings.filterwarnings('ignore')"
   ]
  },
  {
   "cell_type": "markdown",
   "id": "3a81611b-5812-4f08-88c3-39ef9822a626",
   "metadata": {},
   "source": [
    "## 2. 사용할 데이터"
   ]
  },
  {
   "cell_type": "code",
   "execution_count": 2,
   "id": "f03f7a9e-378b-4fac-804a-e2cbdc2cb629",
   "metadata": {},
   "outputs": [
    {
     "data": {
      "text/html": [
       "<div>\n",
       "<style scoped>\n",
       "    .dataframe tbody tr th:only-of-type {\n",
       "        vertical-align: middle;\n",
       "    }\n",
       "\n",
       "    .dataframe tbody tr th {\n",
       "        vertical-align: top;\n",
       "    }\n",
       "\n",
       "    .dataframe thead th {\n",
       "        text-align: right;\n",
       "    }\n",
       "</style>\n",
       "<table border=\"1\" class=\"dataframe\">\n",
       "  <thead>\n",
       "    <tr style=\"text-align: right;\">\n",
       "      <th></th>\n",
       "      <th>age</th>\n",
       "      <th>sex</th>\n",
       "      <th>bmi</th>\n",
       "      <th>children</th>\n",
       "      <th>smoker</th>\n",
       "      <th>region</th>\n",
       "      <th>charges</th>\n",
       "    </tr>\n",
       "  </thead>\n",
       "  <tbody>\n",
       "    <tr>\n",
       "      <th>0</th>\n",
       "      <td>19</td>\n",
       "      <td>female</td>\n",
       "      <td>27.900</td>\n",
       "      <td>0</td>\n",
       "      <td>yes</td>\n",
       "      <td>southwest</td>\n",
       "      <td>16884.92400</td>\n",
       "    </tr>\n",
       "    <tr>\n",
       "      <th>1</th>\n",
       "      <td>18</td>\n",
       "      <td>male</td>\n",
       "      <td>33.770</td>\n",
       "      <td>1</td>\n",
       "      <td>no</td>\n",
       "      <td>southeast</td>\n",
       "      <td>1725.55230</td>\n",
       "    </tr>\n",
       "    <tr>\n",
       "      <th>2</th>\n",
       "      <td>28</td>\n",
       "      <td>male</td>\n",
       "      <td>33.000</td>\n",
       "      <td>3</td>\n",
       "      <td>no</td>\n",
       "      <td>southeast</td>\n",
       "      <td>4449.46200</td>\n",
       "    </tr>\n",
       "    <tr>\n",
       "      <th>3</th>\n",
       "      <td>33</td>\n",
       "      <td>male</td>\n",
       "      <td>22.705</td>\n",
       "      <td>0</td>\n",
       "      <td>no</td>\n",
       "      <td>northwest</td>\n",
       "      <td>21984.47061</td>\n",
       "    </tr>\n",
       "    <tr>\n",
       "      <th>4</th>\n",
       "      <td>32</td>\n",
       "      <td>male</td>\n",
       "      <td>28.880</td>\n",
       "      <td>0</td>\n",
       "      <td>no</td>\n",
       "      <td>northwest</td>\n",
       "      <td>3866.85520</td>\n",
       "    </tr>\n",
       "    <tr>\n",
       "      <th>...</th>\n",
       "      <td>...</td>\n",
       "      <td>...</td>\n",
       "      <td>...</td>\n",
       "      <td>...</td>\n",
       "      <td>...</td>\n",
       "      <td>...</td>\n",
       "      <td>...</td>\n",
       "    </tr>\n",
       "    <tr>\n",
       "      <th>1333</th>\n",
       "      <td>50</td>\n",
       "      <td>male</td>\n",
       "      <td>30.970</td>\n",
       "      <td>3</td>\n",
       "      <td>no</td>\n",
       "      <td>northwest</td>\n",
       "      <td>10600.54830</td>\n",
       "    </tr>\n",
       "    <tr>\n",
       "      <th>1334</th>\n",
       "      <td>18</td>\n",
       "      <td>female</td>\n",
       "      <td>31.920</td>\n",
       "      <td>0</td>\n",
       "      <td>no</td>\n",
       "      <td>northeast</td>\n",
       "      <td>2205.98080</td>\n",
       "    </tr>\n",
       "    <tr>\n",
       "      <th>1335</th>\n",
       "      <td>18</td>\n",
       "      <td>female</td>\n",
       "      <td>36.850</td>\n",
       "      <td>0</td>\n",
       "      <td>no</td>\n",
       "      <td>southeast</td>\n",
       "      <td>1629.83350</td>\n",
       "    </tr>\n",
       "    <tr>\n",
       "      <th>1336</th>\n",
       "      <td>21</td>\n",
       "      <td>female</td>\n",
       "      <td>25.800</td>\n",
       "      <td>0</td>\n",
       "      <td>no</td>\n",
       "      <td>southwest</td>\n",
       "      <td>2007.94500</td>\n",
       "    </tr>\n",
       "    <tr>\n",
       "      <th>1337</th>\n",
       "      <td>61</td>\n",
       "      <td>female</td>\n",
       "      <td>29.070</td>\n",
       "      <td>0</td>\n",
       "      <td>yes</td>\n",
       "      <td>northwest</td>\n",
       "      <td>29141.36030</td>\n",
       "    </tr>\n",
       "  </tbody>\n",
       "</table>\n",
       "<p>1338 rows × 7 columns</p>\n",
       "</div>"
      ],
      "text/plain": [
       "      age     sex     bmi  children smoker     region      charges\n",
       "0      19  female  27.900         0    yes  southwest  16884.92400\n",
       "1      18    male  33.770         1     no  southeast   1725.55230\n",
       "2      28    male  33.000         3     no  southeast   4449.46200\n",
       "3      33    male  22.705         0     no  northwest  21984.47061\n",
       "4      32    male  28.880         0     no  northwest   3866.85520\n",
       "...   ...     ...     ...       ...    ...        ...          ...\n",
       "1333   50    male  30.970         3     no  northwest  10600.54830\n",
       "1334   18  female  31.920         0     no  northeast   2205.98080\n",
       "1335   18  female  36.850         0     no  southeast   1629.83350\n",
       "1336   21  female  25.800         0     no  southwest   2007.94500\n",
       "1337   61  female  29.070         0    yes  northwest  29141.36030\n",
       "\n",
       "[1338 rows x 7 columns]"
      ]
     },
     "execution_count": 2,
     "metadata": {},
     "output_type": "execute_result"
    }
   ],
   "source": [
    "df_train = pd.read_csv('https://raw.githubusercontent.com/guebin/MP2023/main/posts/insurance.csv')\n",
    "df_train"
   ]
  },
  {
   "cell_type": "markdown",
   "id": "cadb7d19-8c58-4e23-82f6-aab1cebec06b",
   "metadata": {},
   "source": [
    "## 3. `Bagging`의 단점"
   ]
  },
  {
   "cell_type": "markdown",
   "id": "9ce1816d-aedb-4d98-bf88-22dc444a8dbc",
   "metadata": {},
   "source": [
    "### **A. 일단 `Bagging`으로 적합**\n",
    "---\n",
    "\n",
    "\n"
   ]
  },
  {
   "cell_type": "code",
   "execution_count": 3,
   "id": "bfd7d4ca-76c1-41be-abb0-026946daed5e",
   "metadata": {},
   "outputs": [
    {
     "data": {
      "text/html": [
       "<style>#sk-container-id-1 {color: black;}#sk-container-id-1 pre{padding: 0;}#sk-container-id-1 div.sk-toggleable {background-color: white;}#sk-container-id-1 label.sk-toggleable__label {cursor: pointer;display: block;width: 100%;margin-bottom: 0;padding: 0.3em;box-sizing: border-box;text-align: center;}#sk-container-id-1 label.sk-toggleable__label-arrow:before {content: \"▸\";float: left;margin-right: 0.25em;color: #696969;}#sk-container-id-1 label.sk-toggleable__label-arrow:hover:before {color: black;}#sk-container-id-1 div.sk-estimator:hover label.sk-toggleable__label-arrow:before {color: black;}#sk-container-id-1 div.sk-toggleable__content {max-height: 0;max-width: 0;overflow: hidden;text-align: left;background-color: #f0f8ff;}#sk-container-id-1 div.sk-toggleable__content pre {margin: 0.2em;color: black;border-radius: 0.25em;background-color: #f0f8ff;}#sk-container-id-1 input.sk-toggleable__control:checked~div.sk-toggleable__content {max-height: 200px;max-width: 100%;overflow: auto;}#sk-container-id-1 input.sk-toggleable__control:checked~label.sk-toggleable__label-arrow:before {content: \"▾\";}#sk-container-id-1 div.sk-estimator input.sk-toggleable__control:checked~label.sk-toggleable__label {background-color: #d4ebff;}#sk-container-id-1 div.sk-label input.sk-toggleable__control:checked~label.sk-toggleable__label {background-color: #d4ebff;}#sk-container-id-1 input.sk-hidden--visually {border: 0;clip: rect(1px 1px 1px 1px);clip: rect(1px, 1px, 1px, 1px);height: 1px;margin: -1px;overflow: hidden;padding: 0;position: absolute;width: 1px;}#sk-container-id-1 div.sk-estimator {font-family: monospace;background-color: #f0f8ff;border: 1px dotted black;border-radius: 0.25em;box-sizing: border-box;margin-bottom: 0.5em;}#sk-container-id-1 div.sk-estimator:hover {background-color: #d4ebff;}#sk-container-id-1 div.sk-parallel-item::after {content: \"\";width: 100%;border-bottom: 1px solid gray;flex-grow: 1;}#sk-container-id-1 div.sk-label:hover label.sk-toggleable__label {background-color: #d4ebff;}#sk-container-id-1 div.sk-serial::before {content: \"\";position: absolute;border-left: 1px solid gray;box-sizing: border-box;top: 0;bottom: 0;left: 50%;z-index: 0;}#sk-container-id-1 div.sk-serial {display: flex;flex-direction: column;align-items: center;background-color: white;padding-right: 0.2em;padding-left: 0.2em;position: relative;}#sk-container-id-1 div.sk-item {position: relative;z-index: 1;}#sk-container-id-1 div.sk-parallel {display: flex;align-items: stretch;justify-content: center;background-color: white;position: relative;}#sk-container-id-1 div.sk-item::before, #sk-container-id-1 div.sk-parallel-item::before {content: \"\";position: absolute;border-left: 1px solid gray;box-sizing: border-box;top: 0;bottom: 0;left: 50%;z-index: -1;}#sk-container-id-1 div.sk-parallel-item {display: flex;flex-direction: column;z-index: 1;position: relative;background-color: white;}#sk-container-id-1 div.sk-parallel-item:first-child::after {align-self: flex-end;width: 50%;}#sk-container-id-1 div.sk-parallel-item:last-child::after {align-self: flex-start;width: 50%;}#sk-container-id-1 div.sk-parallel-item:only-child::after {width: 0;}#sk-container-id-1 div.sk-dashed-wrapped {border: 1px dashed gray;margin: 0 0.4em 0.5em 0.4em;box-sizing: border-box;padding-bottom: 0.4em;background-color: white;}#sk-container-id-1 div.sk-label label {font-family: monospace;font-weight: bold;display: inline-block;line-height: 1.2em;}#sk-container-id-1 div.sk-label-container {text-align: center;}#sk-container-id-1 div.sk-container {/* jupyter's `normalize.less` sets `[hidden] { display: none; }` but bootstrap.min.css set `[hidden] { display: none !important; }` so we also need the `!important` here to be able to override the default hidden behavior on the sphinx rendered scikit-learn.org. See: https://github.com/scikit-learn/scikit-learn/issues/21755 */display: inline-block !important;position: relative;}#sk-container-id-1 div.sk-text-repr-fallback {display: none;}</style><div id=\"sk-container-id-1\" class=\"sk-top-container\"><div class=\"sk-text-repr-fallback\"><pre>BaggingRegressor()</pre><b>In a Jupyter environment, please rerun this cell to show the HTML representation or trust the notebook. <br />On GitHub, the HTML representation is unable to render, please try loading this page with nbviewer.org.</b></div><div class=\"sk-container\" hidden><div class=\"sk-item\"><div class=\"sk-estimator sk-toggleable\"><input class=\"sk-toggleable__control sk-hidden--visually\" id=\"sk-estimator-id-1\" type=\"checkbox\" checked><label for=\"sk-estimator-id-1\" class=\"sk-toggleable__label sk-toggleable__label-arrow\">BaggingRegressor</label><div class=\"sk-toggleable__content\"><pre>BaggingRegressor()</pre></div></div></div></div></div>"
      ],
      "text/plain": [
       "BaggingRegressor()"
      ]
     },
     "execution_count": 3,
     "metadata": {},
     "output_type": "execute_result"
    }
   ],
   "source": [
    "## step 1\n",
    "X = pd.get_dummies(df_train.drop('charges', axis = 1), drop_first = True)\n",
    "y = df_train.charges\n",
    "\n",
    "## step 2\n",
    "predictr = sklearn.ensemble.BaggingRegressor()\n",
    "\n",
    "## step 3\n",
    "predictr.fit(X, y)"
   ]
  },
  {
   "cell_type": "markdown",
   "id": "d172158e-9504-4833-b985-370ef3f56dd6",
   "metadata": {},
   "source": [
    "### **B. 결과 시각화**\n",
    "---\n",
    "\n",
    "\n"
   ]
  },
  {
   "cell_type": "markdown",
   "id": "20df8423-548a-48e1-bff5-119d4e19a041",
   "metadata": {},
   "source": [
    "`-` 관찰 : 트리들이 다양하지 않다."
   ]
  },
  {
   "cell_type": "code",
   "execution_count": 6,
   "id": "a3d66ad2-39a4-4589-baa9-03f81ff7ed83",
   "metadata": {},
   "outputs": [
    {
     "data": {
      "image/png": "[encoded data removed]",
      "text/plain": [
       "<Figure size 1280x960 with 1 Axes>"
      ]
     },
     "metadata": {},
     "output_type": "display_data"
    }
   ],
   "source": [
    "sklearn.tree.plot_tree(\n",
    "    predictr.estimators_[4],  ## 4번째 tree\n",
    "    feature_names = X.columns.to_list(),  ## 설명변수 이름\n",
    "    max_depth = 1\n",
    ");\n",
    "\n",
    "fig = plt.gcf()\n",
    "fig.set_dpi(200)"
   ]
  },
  {
   "cell_type": "markdown",
   "id": "1851f71f-cb3b-4076-9537-801e28388979",
   "metadata": {},
   "source": [
    "> 리샘플링을 하더라도, 개별 노드의 피쳐는 바뀌지 않을 것임.\n",
    "\n",
    "**트리가 다양하지 않은 게 약점이다.** (왜?)"
   ]
  },
  {
   "cell_type": "markdown",
   "id": "bed33930-4ccf-4c3b-99f5-b1ea034fbced",
   "metadata": {},
   "source": [
    "### **C. 우수성 vs 다양성**\n",
    "---\n",
    "\n",
    "\n"
   ]
  },
  {
   "cell_type": "markdown",
   "id": "608fef65-c848-4620-9719-cf6c645ec594",
   "metadata": {},
   "source": [
    "`-` 다양성이 없는게 왜 문제인가?\n",
    "\n",
    "* 기존의 의사결정나무 : 데이터에 최적화된 **똑똑한 하나**의 트리만 발견\n",
    "* Bagging : \"데이터의 최적화\"를 희생하고 \"다양성\"을 확보. 즉, **똑똑한 하나**의 트리(원자료를 전부 사용한 트리)대신에 **모자란 여러 개**의 트리를 생성하고 힘을 합침.\n",
    "\n",
    "`-` <span style=\"background-color:yellow;color:black\">**비슷한 생각을 가진 10명의 천재**</span> vs <span style=\"background-color:blue;color:black\">**다양한 의견을 가진 10명의 범재**</span>\n",
    "\n",
    "* 뭐가 좋을까요?~(솔직히 전자가 더 좋은 것 같긴 한ㄷ)~\n",
    "\n",
    "[ref:김용대 교수님](https://biz.heraldcorp.com/view.php?ud=20170802000434)\n",
    "\n",
    "> 앙상블 : 같은 데이터를 여러 개의 기계학습 알고리즘들이 분석하여 각자 지식을 습득한 후 이를 결합하여 새롭고 유용한 지식을 창출하는 방법이다.\n",
    ">\n",
    "> 앙상블의 성능을 높이기 위해서는 개별 알고리즘들의 성능보다는 알고리즘들의 다양성이 훨씬 중요하다. 즉, 주어진 문제에 대해서 **모두 비슷한 답을 주는 성능이 우수한 10개의 알고리즘**보다는 성능은 좀 떨어지지만 **다양한 답을 제공하는 10개의 알고리즘**이 앙상블에는 더 효율적이다.\n",
    "\n",
    "`-` 요약\n",
    "\n",
    "* 통찰 : `Bagging`은 의사결정나무보다 다양성을 추구하는 알고리즘이다.\n",
    "* 문제점 : 하지만 $\\textbf{X}$가 고차원인 상황에서 배깅만으로는 그렇게 다양한 트리가 나오지 않는다.(모든 트리가 일괄적으로 흡연여부가 보험료에 미치는 영향을 우선적으로 연구함...)\n",
    "* 소망 : 흡연여부만 연구하지 않고 다른 변수들을 최우선적으로 연구하는 사람이 있었으면 좋겠을 텐데...(그러면 트리가 더 다양해질 텐데...)"
   ]
  },
  {
   "cell_type": "markdown",
   "id": "605eb56c-1915-4aad-ac01-ee11a3e62d29",
   "metadata": {},
   "source": [
    "## 5. 랜덤포레스트"
   ]
  },
  {
   "cell_type": "markdown",
   "id": "4a41db74-00a7-453e-802a-853c77afbc01",
   "metadata": {},
   "source": [
    "### **A. 개념**\n",
    "---\n",
    "\n",
    "\n"
   ]
  },
  {
   "cell_type": "markdown",
   "id": "833ec4d6-04a7-469e-ac5c-72574741fcd8",
   "metadata": {},
   "source": [
    "`-` `RandomForest` = `Bagging` + `max_feafure = int`\n",
    "\n",
    "> 요런 느낌...(강제로 안해본 것들에 대해서도 적합하도록 만듦)\n",
    "\n",
    "`-` 알고리즘의 비교"
   ]
  },
  {
   "cell_type": "code",
   "execution_count": null,
   "id": "5a55261a-397f-4a44-886d-eedb4f75477b",
   "metadata": {},
   "outputs": [],
   "source": [
    "## Bagging\n",
    "trees = []\n",
    "for i in range(100) :\n",
    "    tree = sklearn.tree.DecisionTreeRegressor()\n",
    "    X_sample, y_sample = boostrap(X, y)  ## 실제론 없는 코드임, 함수지정 해줘야함... 아마도.\n",
    "    tree.fit(X_sample, y_sample)  ## 붓스트랩 된 샘플로만 적합\n",
    "    trees.append(tree)  ## 학습한 나무를 저장\n",
    "    \n",
    "yhat = ensemble(trees)  ## 이것도 실제론 없는 코드임... 그냥 종합한다고. 여러 개의 나무를 종합하여 하나의 예측값 산출\n",
    "\n",
    "## RandomForest\n",
    "forest = []\n",
    "for i in range(100) :\n",
    "    tree = sklearn.tree.DecisionTreeRegressor(max_features = 1)  ## 매순간 설명변수가 바뀜\n",
    "    X_sample, y_sample = bootstrap(X, y)  ## 동일하게 매순간 샘플 바낌\n",
    "    tree.fit(X_sample, y_sample)\n",
    "    forest.append(tree)  ## 학습한 나무를 숲에 저장\n",
    "\n",
    "yhat = ensemble(forest)  ## 배깅과 동일하게 평균으로 종합하여 하나의 예측값으로 산출"
   ]
  },
  {
   "cell_type": "markdown",
   "id": "13297550-fa58-475c-af84-dd5d8fc1e181",
   "metadata": {},
   "source": [
    "### **B. 일단 적합**\n",
    "---\n",
    "\n",
    "\n"
   ]
  },
  {
   "cell_type": "code",
   "execution_count": 9,
   "id": "e3428e1d-4447-4e63-a490-bc31cb632703",
   "metadata": {},
   "outputs": [
    {
     "data": {
      "text/html": [
       "<style>#sk-container-id-2 {color: black;}#sk-container-id-2 pre{padding: 0;}#sk-container-id-2 div.sk-toggleable {background-color: white;}#sk-container-id-2 label.sk-toggleable__label {cursor: pointer;display: block;width: 100%;margin-bottom: 0;padding: 0.3em;box-sizing: border-box;text-align: center;}#sk-container-id-2 label.sk-toggleable__label-arrow:before {content: \"▸\";float: left;margin-right: 0.25em;color: #696969;}#sk-container-id-2 label.sk-toggleable__label-arrow:hover:before {color: black;}#sk-container-id-2 div.sk-estimator:hover label.sk-toggleable__label-arrow:before {color: black;}#sk-container-id-2 div.sk-toggleable__content {max-height: 0;max-width: 0;overflow: hidden;text-align: left;background-color: #f0f8ff;}#sk-container-id-2 div.sk-toggleable__content pre {margin: 0.2em;color: black;border-radius: 0.25em;background-color: #f0f8ff;}#sk-container-id-2 input.sk-toggleable__control:checked~div.sk-toggleable__content {max-height: 200px;max-width: 100%;overflow: auto;}#sk-container-id-2 input.sk-toggleable__control:checked~label.sk-toggleable__label-arrow:before {content: \"▾\";}#sk-container-id-2 div.sk-estimator input.sk-toggleable__control:checked~label.sk-toggleable__label {background-color: #d4ebff;}#sk-container-id-2 div.sk-label input.sk-toggleable__control:checked~label.sk-toggleable__label {background-color: #d4ebff;}#sk-container-id-2 input.sk-hidden--visually {border: 0;clip: rect(1px 1px 1px 1px);clip: rect(1px, 1px, 1px, 1px);height: 1px;margin: -1px;overflow: hidden;padding: 0;position: absolute;width: 1px;}#sk-container-id-2 div.sk-estimator {font-family: monospace;background-color: #f0f8ff;border: 1px dotted black;border-radius: 0.25em;box-sizing: border-box;margin-bottom: 0.5em;}#sk-container-id-2 div.sk-estimator:hover {background-color: #d4ebff;}#sk-container-id-2 div.sk-parallel-item::after {content: \"\";width: 100%;border-bottom: 1px solid gray;flex-grow: 1;}#sk-container-id-2 div.sk-label:hover label.sk-toggleable__label {background-color: #d4ebff;}#sk-container-id-2 div.sk-serial::before {content: \"\";position: absolute;border-left: 1px solid gray;box-sizing: border-box;top: 0;bottom: 0;left: 50%;z-index: 0;}#sk-container-id-2 div.sk-serial {display: flex;flex-direction: column;align-items: center;background-color: white;padding-right: 0.2em;padding-left: 0.2em;position: relative;}#sk-container-id-2 div.sk-item {position: relative;z-index: 1;}#sk-container-id-2 div.sk-parallel {display: flex;align-items: stretch;justify-content: center;background-color: white;position: relative;}#sk-container-id-2 div.sk-item::before, #sk-container-id-2 div.sk-parallel-item::before {content: \"\";position: absolute;border-left: 1px solid gray;box-sizing: border-box;top: 0;bottom: 0;left: 50%;z-index: -1;}#sk-container-id-2 div.sk-parallel-item {display: flex;flex-direction: column;z-index: 1;position: relative;background-color: white;}#sk-container-id-2 div.sk-parallel-item:first-child::after {align-self: flex-end;width: 50%;}#sk-container-id-2 div.sk-parallel-item:last-child::after {align-self: flex-start;width: 50%;}#sk-container-id-2 div.sk-parallel-item:only-child::after {width: 0;}#sk-container-id-2 div.sk-dashed-wrapped {border: 1px dashed gray;margin: 0 0.4em 0.5em 0.4em;box-sizing: border-box;padding-bottom: 0.4em;background-color: white;}#sk-container-id-2 div.sk-label label {font-family: monospace;font-weight: bold;display: inline-block;line-height: 1.2em;}#sk-container-id-2 div.sk-label-container {text-align: center;}#sk-container-id-2 div.sk-container {/* jupyter's `normalize.less` sets `[hidden] { display: none; }` but bootstrap.min.css set `[hidden] { display: none !important; }` so we also need the `!important` here to be able to override the default hidden behavior on the sphinx rendered scikit-learn.org. See: https://github.com/scikit-learn/scikit-learn/issues/21755 */display: inline-block !important;position: relative;}#sk-container-id-2 div.sk-text-repr-fallback {display: none;}</style><div id=\"sk-container-id-2\" class=\"sk-top-container\"><div class=\"sk-text-repr-fallback\"><pre>RandomForestRegressor(max_depth=1, max_features=0.3333333333333333)</pre><b>In a Jupyter environment, please rerun this cell to show the HTML representation or trust the notebook. <br />On GitHub, the HTML representation is unable to render, please try loading this page with nbviewer.org.</b></div><div class=\"sk-container\" hidden><div class=\"sk-item\"><div class=\"sk-estimator sk-toggleable\"><input class=\"sk-toggleable__control sk-hidden--visually\" id=\"sk-estimator-id-2\" type=\"checkbox\" checked><label for=\"sk-estimator-id-2\" class=\"sk-toggleable__label sk-toggleable__label-arrow\">RandomForestRegressor</label><div class=\"sk-toggleable__content\"><pre>RandomForestRegressor(max_depth=1, max_features=0.3333333333333333)</pre></div></div></div></div></div>"
      ],
      "text/plain": [
       "RandomForestRegressor(max_depth=1, max_features=0.3333333333333333)"
      ]
     },
     "execution_count": 9,
     "metadata": {},
     "output_type": "execute_result"
    }
   ],
   "source": [
    "## step 1 -- 이미 함\n",
    "## step 2\n",
    "predictr = sklearn.ensemble.RandomForestRegressor(\n",
    "    max_depth = 1,\n",
    "    max_features = 1/3  ## parameter를 float으로 지정해줄 경우 비율로 지정됨\n",
    ")\n",
    "\n",
    "## step 3\n",
    "predictr.fit(X, y)"
   ]
  },
  {
   "cell_type": "markdown",
   "id": "edaa0201-b7d5-475a-a707-cb26c2d04d01",
   "metadata": {},
   "source": [
    "> 주의1 : `max_feature = 1`은 1개의 `feature`를 고려한다는 의미이고, `max_feature = 1.0`(default)은 100% `feature`를 고려한다는 의미이다.\n",
    ">\n",
    "> 주의2 : `max_features = 1.0`이면 \"RandomForest = Bagging\"이다.(물론 적합하는 수가 랜덤포레스트는 100개긴 함... 아무튼 따라서 반드시 따로 지정해줄 것.)"
   ]
  },
  {
   "cell_type": "markdown",
   "id": "d9657dae-6e24-46a5-9385-f01cda0eea91",
   "metadata": {},
   "source": [
    "### **C. 시각화**\n",
    "---\n",
    "\n",
    "\n"
   ]
  },
  {
   "cell_type": "code",
   "execution_count": null,
   "id": "30bc67e1-804b-42d8-9644-911a330babf2",
   "metadata": {},
   "outputs": [],
   "source": [
    "fig.set_size_inches"
   ]
  },
  {
   "cell_type": "code",
   "execution_count": 13,
   "id": "15172469-563e-4eae-98a9-353abf68a422",
   "metadata": {},
   "outputs": [
    {
     "data": {
      "image/png": "[encoded data removed]",
      "text/plain": [
       "<Figure size 640x480 with 1 Axes>"
      ]
     },
     "metadata": {},
     "output_type": "display_data"
    }
   ],
   "source": [
    "sklearn.tree.plot_tree(\n",
    "    predictr.estimators_[5],\n",
    "    feature_names = X.columns.to_list()\n",
    ");"
   ]
  },
  {
   "cell_type": "markdown",
   "id": "09b7212d-64df-48bd-89b9-3374079b15e0",
   "metadata": {},
   "source": [
    "## 5. 랜덤포레스트 재현"
   ]
  },
  {
   "cell_type": "markdown",
   "id": "2e7c5dfc-b14a-4c1e-9c3a-c57e29918bbe",
   "metadata": {},
   "source": [
    "### **A. `random_state` 추출**\n",
    "---\n",
    "\n",
    "\n"
   ]
  },
  {
   "cell_type": "code",
   "execution_count": 15,
   "id": "a907f66d-03aa-494c-965d-fc62619c78a0",
   "metadata": {
    "editable": true,
    "slideshow": {
     "slide_type": ""
    },
    "tags": []
   },
   "outputs": [
    {
     "data": {
      "text/plain": [
       "[DecisionTreeRegressor(max_depth=1, max_features=0.3333333333333333,\n",
       "                       random_state=1031990468),\n",
       " DecisionTreeRegressor(max_depth=1, max_features=0.3333333333333333,\n",
       "                       random_state=1429725713),\n",
       " DecisionTreeRegressor(max_depth=1, max_features=0.3333333333333333,\n",
       "                       random_state=350207566),\n",
       " DecisionTreeRegressor(max_depth=1, max_features=0.3333333333333333,\n",
       "                       random_state=1100997744),\n",
       " DecisionTreeRegressor(max_depth=1, max_features=0.3333333333333333,\n",
       "                       random_state=510567808),\n",
       " DecisionTreeRegressor(max_depth=1, max_features=0.3333333333333333,\n",
       "                       random_state=1755990883),\n",
       " DecisionTreeRegressor(max_depth=1, max_features=0.3333333333333333,\n",
       "                       random_state=1996922071),\n",
       " DecisionTreeRegressor(max_depth=1, max_features=0.3333333333333333,\n",
       "                       random_state=674517068),\n",
       " DecisionTreeRegressor(max_depth=1, max_features=0.3333333333333333,\n",
       "                       random_state=595230725),\n",
       " DecisionTreeRegressor(max_depth=1, max_features=0.3333333333333333,\n",
       "                       random_state=1012915459),\n",
       " DecisionTreeRegressor(max_depth=1, max_features=0.3333333333333333,\n",
       "                       random_state=1428147165),\n",
       " DecisionTreeRegressor(max_depth=1, max_features=0.3333333333333333,\n",
       "                       random_state=1395867295),\n",
       " DecisionTreeRegressor(max_depth=1, max_features=0.3333333333333333,\n",
       "                       random_state=169573435),\n",
       " DecisionTreeRegressor(max_depth=1, max_features=0.3333333333333333,\n",
       "                       random_state=127953600),\n",
       " DecisionTreeRegressor(max_depth=1, max_features=0.3333333333333333,\n",
       "                       random_state=1926193238),\n",
       " DecisionTreeRegressor(max_depth=1, max_features=0.3333333333333333,\n",
       "                       random_state=1376984195),\n",
       " DecisionTreeRegressor(max_depth=1, max_features=0.3333333333333333,\n",
       "                       random_state=2082790252),\n",
       " DecisionTreeRegressor(max_depth=1, max_features=0.3333333333333333,\n",
       "                       random_state=2057838983),\n",
       " DecisionTreeRegressor(max_depth=1, max_features=0.3333333333333333,\n",
       "                       random_state=1053173062),\n",
       " DecisionTreeRegressor(max_depth=1, max_features=0.3333333333333333,\n",
       "                       random_state=1578708662),\n",
       " DecisionTreeRegressor(max_depth=1, max_features=0.3333333333333333,\n",
       "                       random_state=472956975),\n",
       " DecisionTreeRegressor(max_depth=1, max_features=0.3333333333333333,\n",
       "                       random_state=1333396687),\n",
       " DecisionTreeRegressor(max_depth=1, max_features=0.3333333333333333,\n",
       "                       random_state=1821740983),\n",
       " DecisionTreeRegressor(max_depth=1, max_features=0.3333333333333333,\n",
       "                       random_state=783319209),\n",
       " DecisionTreeRegressor(max_depth=1, max_features=0.3333333333333333,\n",
       "                       random_state=36941881),\n",
       " DecisionTreeRegressor(max_depth=1, max_features=0.3333333333333333,\n",
       "                       random_state=799253070),\n",
       " DecisionTreeRegressor(max_depth=1, max_features=0.3333333333333333,\n",
       "                       random_state=635449342),\n",
       " DecisionTreeRegressor(max_depth=1, max_features=0.3333333333333333,\n",
       "                       random_state=132352020),\n",
       " DecisionTreeRegressor(max_depth=1, max_features=0.3333333333333333,\n",
       "                       random_state=1264208795),\n",
       " DecisionTreeRegressor(max_depth=1, max_features=0.3333333333333333,\n",
       "                       random_state=350471677),\n",
       " DecisionTreeRegressor(max_depth=1, max_features=0.3333333333333333,\n",
       "                       random_state=1095074218),\n",
       " DecisionTreeRegressor(max_depth=1, max_features=0.3333333333333333,\n",
       "                       random_state=1593268467),\n",
       " DecisionTreeRegressor(max_depth=1, max_features=0.3333333333333333,\n",
       "                       random_state=1404619332),\n",
       " DecisionTreeRegressor(max_depth=1, max_features=0.3333333333333333,\n",
       "                       random_state=1608943847),\n",
       " DecisionTreeRegressor(max_depth=1, max_features=0.3333333333333333,\n",
       "                       random_state=1236305187),\n",
       " DecisionTreeRegressor(max_depth=1, max_features=0.3333333333333333,\n",
       "                       random_state=961677438),\n",
       " DecisionTreeRegressor(max_depth=1, max_features=0.3333333333333333,\n",
       "                       random_state=1166412997),\n",
       " DecisionTreeRegressor(max_depth=1, max_features=0.3333333333333333,\n",
       "                       random_state=650745900),\n",
       " DecisionTreeRegressor(max_depth=1, max_features=0.3333333333333333,\n",
       "                       random_state=2052279443),\n",
       " DecisionTreeRegressor(max_depth=1, max_features=0.3333333333333333,\n",
       "                       random_state=117113583),\n",
       " DecisionTreeRegressor(max_depth=1, max_features=0.3333333333333333,\n",
       "                       random_state=1527210463),\n",
       " DecisionTreeRegressor(max_depth=1, max_features=0.3333333333333333,\n",
       "                       random_state=1678776161),\n",
       " DecisionTreeRegressor(max_depth=1, max_features=0.3333333333333333,\n",
       "                       random_state=1988471961),\n",
       " DecisionTreeRegressor(max_depth=1, max_features=0.3333333333333333,\n",
       "                       random_state=1217358045),\n",
       " DecisionTreeRegressor(max_depth=1, max_features=0.3333333333333333,\n",
       "                       random_state=2088952586),\n",
       " DecisionTreeRegressor(max_depth=1, max_features=0.3333333333333333,\n",
       "                       random_state=1865914230),\n",
       " DecisionTreeRegressor(max_depth=1, max_features=0.3333333333333333,\n",
       "                       random_state=1078690409),\n",
       " DecisionTreeRegressor(max_depth=1, max_features=0.3333333333333333,\n",
       "                       random_state=982590624),\n",
       " DecisionTreeRegressor(max_depth=1, max_features=0.3333333333333333,\n",
       "                       random_state=1057491803),\n",
       " DecisionTreeRegressor(max_depth=1, max_features=0.3333333333333333,\n",
       "                       random_state=1673372238),\n",
       " DecisionTreeRegressor(max_depth=1, max_features=0.3333333333333333,\n",
       "                       random_state=1270235607),\n",
       " DecisionTreeRegressor(max_depth=1, max_features=0.3333333333333333,\n",
       "                       random_state=1796340065),\n",
       " DecisionTreeRegressor(max_depth=1, max_features=0.3333333333333333,\n",
       "                       random_state=901389640),\n",
       " DecisionTreeRegressor(max_depth=1, max_features=0.3333333333333333,\n",
       "                       random_state=1043083946),\n",
       " DecisionTreeRegressor(max_depth=1, max_features=0.3333333333333333,\n",
       "                       random_state=769852308),\n",
       " DecisionTreeRegressor(max_depth=1, max_features=0.3333333333333333,\n",
       "                       random_state=1182321155),\n",
       " DecisionTreeRegressor(max_depth=1, max_features=0.3333333333333333,\n",
       "                       random_state=1842203459),\n",
       " DecisionTreeRegressor(max_depth=1, max_features=0.3333333333333333,\n",
       "                       random_state=1880960863),\n",
       " DecisionTreeRegressor(max_depth=1, max_features=0.3333333333333333,\n",
       "                       random_state=898421758),\n",
       " DecisionTreeRegressor(max_depth=1, max_features=0.3333333333333333,\n",
       "                       random_state=934179744),\n",
       " DecisionTreeRegressor(max_depth=1, max_features=0.3333333333333333,\n",
       "                       random_state=452818797),\n",
       " DecisionTreeRegressor(max_depth=1, max_features=0.3333333333333333,\n",
       "                       random_state=1305469509),\n",
       " DecisionTreeRegressor(max_depth=1, max_features=0.3333333333333333,\n",
       "                       random_state=1213378674),\n",
       " DecisionTreeRegressor(max_depth=1, max_features=0.3333333333333333,\n",
       "                       random_state=1961139761),\n",
       " DecisionTreeRegressor(max_depth=1, max_features=0.3333333333333333,\n",
       "                       random_state=1891314091),\n",
       " DecisionTreeRegressor(max_depth=1, max_features=0.3333333333333333,\n",
       "                       random_state=367224874),\n",
       " DecisionTreeRegressor(max_depth=1, max_features=0.3333333333333333,\n",
       "                       random_state=1959981631),\n",
       " DecisionTreeRegressor(max_depth=1, max_features=0.3333333333333333,\n",
       "                       random_state=369686042),\n",
       " DecisionTreeRegressor(max_depth=1, max_features=0.3333333333333333,\n",
       "                       random_state=1645132117),\n",
       " DecisionTreeRegressor(max_depth=1, max_features=0.3333333333333333,\n",
       "                       random_state=1253064599),\n",
       " DecisionTreeRegressor(max_depth=1, max_features=0.3333333333333333,\n",
       "                       random_state=1639414708),\n",
       " DecisionTreeRegressor(max_depth=1, max_features=0.3333333333333333,\n",
       "                       random_state=543064642),\n",
       " DecisionTreeRegressor(max_depth=1, max_features=0.3333333333333333,\n",
       "                       random_state=1822056120),\n",
       " DecisionTreeRegressor(max_depth=1, max_features=0.3333333333333333,\n",
       "                       random_state=1524730351),\n",
       " DecisionTreeRegressor(max_depth=1, max_features=0.3333333333333333,\n",
       "                       random_state=1968911770),\n",
       " DecisionTreeRegressor(max_depth=1, max_features=0.3333333333333333,\n",
       "                       random_state=164462170),\n",
       " DecisionTreeRegressor(max_depth=1, max_features=0.3333333333333333,\n",
       "                       random_state=1247270882),\n",
       " DecisionTreeRegressor(max_depth=1, max_features=0.3333333333333333,\n",
       "                       random_state=2146910087),\n",
       " DecisionTreeRegressor(max_depth=1, max_features=0.3333333333333333,\n",
       "                       random_state=1747823265),\n",
       " DecisionTreeRegressor(max_depth=1, max_features=0.3333333333333333,\n",
       "                       random_state=1367209261),\n",
       " DecisionTreeRegressor(max_depth=1, max_features=0.3333333333333333,\n",
       "                       random_state=2035701061),\n",
       " DecisionTreeRegressor(max_depth=1, max_features=0.3333333333333333,\n",
       "                       random_state=158299833),\n",
       " DecisionTreeRegressor(max_depth=1, max_features=0.3333333333333333,\n",
       "                       random_state=263663306),\n",
       " DecisionTreeRegressor(max_depth=1, max_features=0.3333333333333333,\n",
       "                       random_state=636743074),\n",
       " DecisionTreeRegressor(max_depth=1, max_features=0.3333333333333333,\n",
       "                       random_state=1080424218),\n",
       " DecisionTreeRegressor(max_depth=1, max_features=0.3333333333333333,\n",
       "                       random_state=1350662801),\n",
       " DecisionTreeRegressor(max_depth=1, max_features=0.3333333333333333,\n",
       "                       random_state=1024104977),\n",
       " DecisionTreeRegressor(max_depth=1, max_features=0.3333333333333333,\n",
       "                       random_state=387973769),\n",
       " DecisionTreeRegressor(max_depth=1, max_features=0.3333333333333333,\n",
       "                       random_state=1853942881),\n",
       " DecisionTreeRegressor(max_depth=1, max_features=0.3333333333333333,\n",
       "                       random_state=78023758),\n",
       " DecisionTreeRegressor(max_depth=1, max_features=0.3333333333333333,\n",
       "                       random_state=479660592),\n",
       " DecisionTreeRegressor(max_depth=1, max_features=0.3333333333333333,\n",
       "                       random_state=475053108),\n",
       " DecisionTreeRegressor(max_depth=1, max_features=0.3333333333333333,\n",
       "                       random_state=307992757),\n",
       " DecisionTreeRegressor(max_depth=1, max_features=0.3333333333333333,\n",
       "                       random_state=175199539),\n",
       " DecisionTreeRegressor(max_depth=1, max_features=0.3333333333333333,\n",
       "                       random_state=1958141260),\n",
       " DecisionTreeRegressor(max_depth=1, max_features=0.3333333333333333,\n",
       "                       random_state=1358125826),\n",
       " DecisionTreeRegressor(max_depth=1, max_features=0.3333333333333333,\n",
       "                       random_state=1050156658),\n",
       " DecisionTreeRegressor(max_depth=1, max_features=0.3333333333333333,\n",
       "                       random_state=793812352),\n",
       " DecisionTreeRegressor(max_depth=1, max_features=0.3333333333333333,\n",
       "                       random_state=27296515),\n",
       " DecisionTreeRegressor(max_depth=1, max_features=0.3333333333333333,\n",
       "                       random_state=1256409330)]"
      ]
     },
     "execution_count": 15,
     "metadata": {},
     "output_type": "execute_result"
    }
   ],
   "source": [
    "predictr.estimators_"
   ]
  },
  {
   "cell_type": "markdown",
   "id": "446749ee-8e9d-42f0-8bde-0a0285defddd",
   "metadata": {},
   "source": [
    "> 트리 오브젝트 각자 고유의 `random_state`를 가지고 있다."
   ]
  },
  {
   "cell_type": "markdown",
   "id": "11337166-082a-49f9-b324-8d4dede353dc",
   "metadata": {},
   "source": [
    "`-` 첫번째 트리 : `random_state`확인"
   ]
  },
  {
   "cell_type": "code",
   "execution_count": 17,
   "id": "cbb8d390-134d-4afc-a442-8afbdc693035",
   "metadata": {},
   "outputs": [
    {
     "data": {
      "text/plain": [
       "1031990468"
      ]
     },
     "execution_count": 17,
     "metadata": {},
     "output_type": "execute_result"
    }
   ],
   "source": [
    "predictr.estimators_[0].random_state"
   ]
  },
  {
   "cell_type": "markdown",
   "id": "8ae5adbf-2349-4c4c-af06-53aff4c80de3",
   "metadata": {},
   "source": [
    "`-` 각 나무들의 `random_state` 추출"
   ]
  },
  {
   "cell_type": "code",
   "execution_count": 18,
   "id": "dd4aafe4-3371-485b-8147-ec4149424fbc",
   "metadata": {},
   "outputs": [],
   "source": [
    "rs = [tree.random_state for tree in predictr.estimators_]"
   ]
  },
  {
   "cell_type": "markdown",
   "id": "e157ee0d-2613-4023-a4c1-bfdb96d595fb",
   "metadata": {},
   "source": [
    "### **B. forest 생성**\n",
    "---\n",
    "\n",
    "\n"
   ]
  },
  {
   "cell_type": "code",
   "execution_count": 19,
   "id": "74de1713-4b18-4d96-aeb7-69a5eaed0080",
   "metadata": {},
   "outputs": [
    {
     "data": {
      "text/html": [
       "<style>#sk-container-id-3 {color: black;}#sk-container-id-3 pre{padding: 0;}#sk-container-id-3 div.sk-toggleable {background-color: white;}#sk-container-id-3 label.sk-toggleable__label {cursor: pointer;display: block;width: 100%;margin-bottom: 0;padding: 0.3em;box-sizing: border-box;text-align: center;}#sk-container-id-3 label.sk-toggleable__label-arrow:before {content: \"▸\";float: left;margin-right: 0.25em;color: #696969;}#sk-container-id-3 label.sk-toggleable__label-arrow:hover:before {color: black;}#sk-container-id-3 div.sk-estimator:hover label.sk-toggleable__label-arrow:before {color: black;}#sk-container-id-3 div.sk-toggleable__content {max-height: 0;max-width: 0;overflow: hidden;text-align: left;background-color: #f0f8ff;}#sk-container-id-3 div.sk-toggleable__content pre {margin: 0.2em;color: black;border-radius: 0.25em;background-color: #f0f8ff;}#sk-container-id-3 input.sk-toggleable__control:checked~div.sk-toggleable__content {max-height: 200px;max-width: 100%;overflow: auto;}#sk-container-id-3 input.sk-toggleable__control:checked~label.sk-toggleable__label-arrow:before {content: \"▾\";}#sk-container-id-3 div.sk-estimator input.sk-toggleable__control:checked~label.sk-toggleable__label {background-color: #d4ebff;}#sk-container-id-3 div.sk-label input.sk-toggleable__control:checked~label.sk-toggleable__label {background-color: #d4ebff;}#sk-container-id-3 input.sk-hidden--visually {border: 0;clip: rect(1px 1px 1px 1px);clip: rect(1px, 1px, 1px, 1px);height: 1px;margin: -1px;overflow: hidden;padding: 0;position: absolute;width: 1px;}#sk-container-id-3 div.sk-estimator {font-family: monospace;background-color: #f0f8ff;border: 1px dotted black;border-radius: 0.25em;box-sizing: border-box;margin-bottom: 0.5em;}#sk-container-id-3 div.sk-estimator:hover {background-color: #d4ebff;}#sk-container-id-3 div.sk-parallel-item::after {content: \"\";width: 100%;border-bottom: 1px solid gray;flex-grow: 1;}#sk-container-id-3 div.sk-label:hover label.sk-toggleable__label {background-color: #d4ebff;}#sk-container-id-3 div.sk-serial::before {content: \"\";position: absolute;border-left: 1px solid gray;box-sizing: border-box;top: 0;bottom: 0;left: 50%;z-index: 0;}#sk-container-id-3 div.sk-serial {display: flex;flex-direction: column;align-items: center;background-color: white;padding-right: 0.2em;padding-left: 0.2em;position: relative;}#sk-container-id-3 div.sk-item {position: relative;z-index: 1;}#sk-container-id-3 div.sk-parallel {display: flex;align-items: stretch;justify-content: center;background-color: white;position: relative;}#sk-container-id-3 div.sk-item::before, #sk-container-id-3 div.sk-parallel-item::before {content: \"\";position: absolute;border-left: 1px solid gray;box-sizing: border-box;top: 0;bottom: 0;left: 50%;z-index: -1;}#sk-container-id-3 div.sk-parallel-item {display: flex;flex-direction: column;z-index: 1;position: relative;background-color: white;}#sk-container-id-3 div.sk-parallel-item:first-child::after {align-self: flex-end;width: 50%;}#sk-container-id-3 div.sk-parallel-item:last-child::after {align-self: flex-start;width: 50%;}#sk-container-id-3 div.sk-parallel-item:only-child::after {width: 0;}#sk-container-id-3 div.sk-dashed-wrapped {border: 1px dashed gray;margin: 0 0.4em 0.5em 0.4em;box-sizing: border-box;padding-bottom: 0.4em;background-color: white;}#sk-container-id-3 div.sk-label label {font-family: monospace;font-weight: bold;display: inline-block;line-height: 1.2em;}#sk-container-id-3 div.sk-label-container {text-align: center;}#sk-container-id-3 div.sk-container {/* jupyter's `normalize.less` sets `[hidden] { display: none; }` but bootstrap.min.css set `[hidden] { display: none !important; }` so we also need the `!important` here to be able to override the default hidden behavior on the sphinx rendered scikit-learn.org. See: https://github.com/scikit-learn/scikit-learn/issues/21755 */display: inline-block !important;position: relative;}#sk-container-id-3 div.sk-text-repr-fallback {display: none;}</style><div id=\"sk-container-id-3\" class=\"sk-top-container\"><div class=\"sk-text-repr-fallback\"><pre>DecisionTreeRegressor(max_depth=1, max_features=0.3333333333333333,\n",
       "                      random_state=1031990468)</pre><b>In a Jupyter environment, please rerun this cell to show the HTML representation or trust the notebook. <br />On GitHub, the HTML representation is unable to render, please try loading this page with nbviewer.org.</b></div><div class=\"sk-container\" hidden><div class=\"sk-item\"><div class=\"sk-estimator sk-toggleable\"><input class=\"sk-toggleable__control sk-hidden--visually\" id=\"sk-estimator-id-3\" type=\"checkbox\" checked><label for=\"sk-estimator-id-3\" class=\"sk-toggleable__label sk-toggleable__label-arrow\">DecisionTreeRegressor</label><div class=\"sk-toggleable__content\"><pre>DecisionTreeRegressor(max_depth=1, max_features=0.3333333333333333,\n",
       "                      random_state=1031990468)</pre></div></div></div></div></div>"
      ],
      "text/plain": [
       "DecisionTreeRegressor(max_depth=1, max_features=0.3333333333333333,\n",
       "                      random_state=1031990468)"
      ]
     },
     "execution_count": 19,
     "metadata": {},
     "output_type": "execute_result"
    }
   ],
   "source": [
    "sklearn.tree.DecisionTreeRegressor(\n",
    "    max_depth = 1, max_features = 1/3,\n",
    "    random_state = predictr.estimators_[0].random_state\n",
    ")"
   ]
  },
  {
   "cell_type": "code",
   "execution_count": 20,
   "id": "eddbcefd-9f27-4be7-a445-be86ef8a0ca5",
   "metadata": {},
   "outputs": [],
   "source": [
    "my_forest = [sklearn.tree.DecisionTreeRegressor(max_depth = 1, max_features = 1/3, random_state = r) for r in rs]\n",
    "##한번에\n",
    "##my_forest = [sklearn.tree.DecisionTreeRegressor(max_depth = 1, max_features = 1/3, random_state = tree.random_state) for tree in predictr.estimators_]"
   ]
  },
  {
   "cell_type": "code",
   "execution_count": 21,
   "id": "c4f3dd3a-4ff8-4e7e-84bc-5f235cf47f4a",
   "metadata": {},
   "outputs": [
    {
     "data": {
      "text/html": [
       "<style>#sk-container-id-4 {color: black;}#sk-container-id-4 pre{padding: 0;}#sk-container-id-4 div.sk-toggleable {background-color: white;}#sk-container-id-4 label.sk-toggleable__label {cursor: pointer;display: block;width: 100%;margin-bottom: 0;padding: 0.3em;box-sizing: border-box;text-align: center;}#sk-container-id-4 label.sk-toggleable__label-arrow:before {content: \"▸\";float: left;margin-right: 0.25em;color: #696969;}#sk-container-id-4 label.sk-toggleable__label-arrow:hover:before {color: black;}#sk-container-id-4 div.sk-estimator:hover label.sk-toggleable__label-arrow:before {color: black;}#sk-container-id-4 div.sk-toggleable__content {max-height: 0;max-width: 0;overflow: hidden;text-align: left;background-color: #f0f8ff;}#sk-container-id-4 div.sk-toggleable__content pre {margin: 0.2em;color: black;border-radius: 0.25em;background-color: #f0f8ff;}#sk-container-id-4 input.sk-toggleable__control:checked~div.sk-toggleable__content {max-height: 200px;max-width: 100%;overflow: auto;}#sk-container-id-4 input.sk-toggleable__control:checked~label.sk-toggleable__label-arrow:before {content: \"▾\";}#sk-container-id-4 div.sk-estimator input.sk-toggleable__control:checked~label.sk-toggleable__label {background-color: #d4ebff;}#sk-container-id-4 div.sk-label input.sk-toggleable__control:checked~label.sk-toggleable__label {background-color: #d4ebff;}#sk-container-id-4 input.sk-hidden--visually {border: 0;clip: rect(1px 1px 1px 1px);clip: rect(1px, 1px, 1px, 1px);height: 1px;margin: -1px;overflow: hidden;padding: 0;position: absolute;width: 1px;}#sk-container-id-4 div.sk-estimator {font-family: monospace;background-color: #f0f8ff;border: 1px dotted black;border-radius: 0.25em;box-sizing: border-box;margin-bottom: 0.5em;}#sk-container-id-4 div.sk-estimator:hover {background-color: #d4ebff;}#sk-container-id-4 div.sk-parallel-item::after {content: \"\";width: 100%;border-bottom: 1px solid gray;flex-grow: 1;}#sk-container-id-4 div.sk-label:hover label.sk-toggleable__label {background-color: #d4ebff;}#sk-container-id-4 div.sk-serial::before {content: \"\";position: absolute;border-left: 1px solid gray;box-sizing: border-box;top: 0;bottom: 0;left: 50%;z-index: 0;}#sk-container-id-4 div.sk-serial {display: flex;flex-direction: column;align-items: center;background-color: white;padding-right: 0.2em;padding-left: 0.2em;position: relative;}#sk-container-id-4 div.sk-item {position: relative;z-index: 1;}#sk-container-id-4 div.sk-parallel {display: flex;align-items: stretch;justify-content: center;background-color: white;position: relative;}#sk-container-id-4 div.sk-item::before, #sk-container-id-4 div.sk-parallel-item::before {content: \"\";position: absolute;border-left: 1px solid gray;box-sizing: border-box;top: 0;bottom: 0;left: 50%;z-index: -1;}#sk-container-id-4 div.sk-parallel-item {display: flex;flex-direction: column;z-index: 1;position: relative;background-color: white;}#sk-container-id-4 div.sk-parallel-item:first-child::after {align-self: flex-end;width: 50%;}#sk-container-id-4 div.sk-parallel-item:last-child::after {align-self: flex-start;width: 50%;}#sk-container-id-4 div.sk-parallel-item:only-child::after {width: 0;}#sk-container-id-4 div.sk-dashed-wrapped {border: 1px dashed gray;margin: 0 0.4em 0.5em 0.4em;box-sizing: border-box;padding-bottom: 0.4em;background-color: white;}#sk-container-id-4 div.sk-label label {font-family: monospace;font-weight: bold;display: inline-block;line-height: 1.2em;}#sk-container-id-4 div.sk-label-container {text-align: center;}#sk-container-id-4 div.sk-container {/* jupyter's `normalize.less` sets `[hidden] { display: none; }` but bootstrap.min.css set `[hidden] { display: none !important; }` so we also need the `!important` here to be able to override the default hidden behavior on the sphinx rendered scikit-learn.org. See: https://github.com/scikit-learn/scikit-learn/issues/21755 */display: inline-block !important;position: relative;}#sk-container-id-4 div.sk-text-repr-fallback {display: none;}</style><div id=\"sk-container-id-4\" class=\"sk-top-container\"><div class=\"sk-text-repr-fallback\"><pre>DecisionTreeRegressor(max_depth=1, max_features=0.3333333333333333,\n",
       "                      random_state=1256409330)</pre><b>In a Jupyter environment, please rerun this cell to show the HTML representation or trust the notebook. <br />On GitHub, the HTML representation is unable to render, please try loading this page with nbviewer.org.</b></div><div class=\"sk-container\" hidden><div class=\"sk-item\"><div class=\"sk-estimator sk-toggleable\"><input class=\"sk-toggleable__control sk-hidden--visually\" id=\"sk-estimator-id-4\" type=\"checkbox\" checked><label for=\"sk-estimator-id-4\" class=\"sk-toggleable__label sk-toggleable__label-arrow\">DecisionTreeRegressor</label><div class=\"sk-toggleable__content\"><pre>DecisionTreeRegressor(max_depth=1, max_features=0.3333333333333333,\n",
       "                      random_state=1256409330)</pre></div></div></div></div></div>"
      ],
      "text/plain": [
       "DecisionTreeRegressor(max_depth=1, max_features=0.3333333333333333,\n",
       "                      random_state=1256409330)"
      ]
     },
     "execution_count": 21,
     "metadata": {},
     "output_type": "execute_result"
    }
   ],
   "source": [
    "my_forest[-1]"
   ]
  },
  {
   "cell_type": "code",
   "execution_count": 22,
   "id": "7694d4cf-7dd5-42ec-b31e-9f1ac97ebbbe",
   "metadata": {},
   "outputs": [
    {
     "data": {
      "text/html": [
       "<style>#sk-container-id-5 {color: black;}#sk-container-id-5 pre{padding: 0;}#sk-container-id-5 div.sk-toggleable {background-color: white;}#sk-container-id-5 label.sk-toggleable__label {cursor: pointer;display: block;width: 100%;margin-bottom: 0;padding: 0.3em;box-sizing: border-box;text-align: center;}#sk-container-id-5 label.sk-toggleable__label-arrow:before {content: \"▸\";float: left;margin-right: 0.25em;color: #696969;}#sk-container-id-5 label.sk-toggleable__label-arrow:hover:before {color: black;}#sk-container-id-5 div.sk-estimator:hover label.sk-toggleable__label-arrow:before {color: black;}#sk-container-id-5 div.sk-toggleable__content {max-height: 0;max-width: 0;overflow: hidden;text-align: left;background-color: #f0f8ff;}#sk-container-id-5 div.sk-toggleable__content pre {margin: 0.2em;color: black;border-radius: 0.25em;background-color: #f0f8ff;}#sk-container-id-5 input.sk-toggleable__control:checked~div.sk-toggleable__content {max-height: 200px;max-width: 100%;overflow: auto;}#sk-container-id-5 input.sk-toggleable__control:checked~label.sk-toggleable__label-arrow:before {content: \"▾\";}#sk-container-id-5 div.sk-estimator input.sk-toggleable__control:checked~label.sk-toggleable__label {background-color: #d4ebff;}#sk-container-id-5 div.sk-label input.sk-toggleable__control:checked~label.sk-toggleable__label {background-color: #d4ebff;}#sk-container-id-5 input.sk-hidden--visually {border: 0;clip: rect(1px 1px 1px 1px);clip: rect(1px, 1px, 1px, 1px);height: 1px;margin: -1px;overflow: hidden;padding: 0;position: absolute;width: 1px;}#sk-container-id-5 div.sk-estimator {font-family: monospace;background-color: #f0f8ff;border: 1px dotted black;border-radius: 0.25em;box-sizing: border-box;margin-bottom: 0.5em;}#sk-container-id-5 div.sk-estimator:hover {background-color: #d4ebff;}#sk-container-id-5 div.sk-parallel-item::after {content: \"\";width: 100%;border-bottom: 1px solid gray;flex-grow: 1;}#sk-container-id-5 div.sk-label:hover label.sk-toggleable__label {background-color: #d4ebff;}#sk-container-id-5 div.sk-serial::before {content: \"\";position: absolute;border-left: 1px solid gray;box-sizing: border-box;top: 0;bottom: 0;left: 50%;z-index: 0;}#sk-container-id-5 div.sk-serial {display: flex;flex-direction: column;align-items: center;background-color: white;padding-right: 0.2em;padding-left: 0.2em;position: relative;}#sk-container-id-5 div.sk-item {position: relative;z-index: 1;}#sk-container-id-5 div.sk-parallel {display: flex;align-items: stretch;justify-content: center;background-color: white;position: relative;}#sk-container-id-5 div.sk-item::before, #sk-container-id-5 div.sk-parallel-item::before {content: \"\";position: absolute;border-left: 1px solid gray;box-sizing: border-box;top: 0;bottom: 0;left: 50%;z-index: -1;}#sk-container-id-5 div.sk-parallel-item {display: flex;flex-direction: column;z-index: 1;position: relative;background-color: white;}#sk-container-id-5 div.sk-parallel-item:first-child::after {align-self: flex-end;width: 50%;}#sk-container-id-5 div.sk-parallel-item:last-child::after {align-self: flex-start;width: 50%;}#sk-container-id-5 div.sk-parallel-item:only-child::after {width: 0;}#sk-container-id-5 div.sk-dashed-wrapped {border: 1px dashed gray;margin: 0 0.4em 0.5em 0.4em;box-sizing: border-box;padding-bottom: 0.4em;background-color: white;}#sk-container-id-5 div.sk-label label {font-family: monospace;font-weight: bold;display: inline-block;line-height: 1.2em;}#sk-container-id-5 div.sk-label-container {text-align: center;}#sk-container-id-5 div.sk-container {/* jupyter's `normalize.less` sets `[hidden] { display: none; }` but bootstrap.min.css set `[hidden] { display: none !important; }` so we also need the `!important` here to be able to override the default hidden behavior on the sphinx rendered scikit-learn.org. See: https://github.com/scikit-learn/scikit-learn/issues/21755 */display: inline-block !important;position: relative;}#sk-container-id-5 div.sk-text-repr-fallback {display: none;}</style><div id=\"sk-container-id-5\" class=\"sk-top-container\"><div class=\"sk-text-repr-fallback\"><pre>DecisionTreeRegressor(max_depth=1, max_features=0.3333333333333333,\n",
       "                      random_state=1256409330)</pre><b>In a Jupyter environment, please rerun this cell to show the HTML representation or trust the notebook. <br />On GitHub, the HTML representation is unable to render, please try loading this page with nbviewer.org.</b></div><div class=\"sk-container\" hidden><div class=\"sk-item\"><div class=\"sk-estimator sk-toggleable\"><input class=\"sk-toggleable__control sk-hidden--visually\" id=\"sk-estimator-id-5\" type=\"checkbox\" checked><label for=\"sk-estimator-id-5\" class=\"sk-toggleable__label sk-toggleable__label-arrow\">DecisionTreeRegressor</label><div class=\"sk-toggleable__content\"><pre>DecisionTreeRegressor(max_depth=1, max_features=0.3333333333333333,\n",
       "                      random_state=1256409330)</pre></div></div></div></div></div>"
      ],
      "text/plain": [
       "DecisionTreeRegressor(max_depth=1, max_features=0.3333333333333333,\n",
       "                      random_state=1256409330)"
      ]
     },
     "execution_count": 22,
     "metadata": {},
     "output_type": "execute_result"
    }
   ],
   "source": [
    "predictr.estimators_[-1]"
   ]
  },
  {
   "cell_type": "markdown",
   "id": "d1cae073-791c-4c17-9e8f-29fc71e0218f",
   "metadata": {},
   "source": [
    "> 똑같은 개체임니당."
   ]
  },
  {
   "cell_type": "markdown",
   "id": "25f8c376-2453-4206-ad32-a6c8055c7b1a",
   "metadata": {},
   "source": [
    "### **C. 붓스트랩 샘플 생성**\n",
    "---\n",
    "\n",
    "\n"
   ]
  },
  {
   "cell_type": "markdown",
   "id": "4a14a741-390b-4e6f-996c-8189985bb17a",
   "metadata": {},
   "source": [
    "`-` 저장된 부스트랩 샘플을 확보하자."
   ]
  },
  {
   "cell_type": "code",
   "execution_count": 23,
   "id": "21a4e4c9-2c7f-47b7-b9b6-f25d94e9611b",
   "metadata": {},
   "outputs": [
    {
     "ename": "AttributeError",
     "evalue": "'RandomForestRegressor' object has no attribute 'estimators_samples_'",
     "output_type": "error",
     "traceback": [
      "\u001b[1;31m---------------------------------------------------------------------------\u001b[0m",
      "\u001b[1;31mAttributeError\u001b[0m                            Traceback (most recent call last)",
      "Cell \u001b[1;32mIn[23], line 1\u001b[0m\n\u001b[1;32m----> 1\u001b[0m \u001b[43mpredictr\u001b[49m\u001b[38;5;241;43m.\u001b[39;49m\u001b[43mestimators_samples_\u001b[49m  \u001b[38;5;66;03m## Bagging에서 썼던 코드...\u001b[39;00m\n",
      "\u001b[1;31mAttributeError\u001b[0m: 'RandomForestRegressor' object has no attribute 'estimators_samples_'"
     ]
    }
   ],
   "source": [
    "predictr.estimators_samples_  ## Bagging에서 썼던 코드..."
   ]
  },
  {
   "cell_type": "markdown",
   "id": "9a87cbe9-659c-41ed-a73d-7d0ed186513f",
   "metadata": {},
   "source": [
    "> 샘플들을 재현하기 귀찮게 되어있다...(그런 메소드는 없다네요...)\n",
    "\n",
    "`-` 그냥 새로 만들어보자!(코드 뜯기)"
   ]
  },
  {
   "cell_type": "code",
   "execution_count": 24,
   "id": "76c85c58-4ef3-40e9-89f1-2bfab6600d12",
   "metadata": {},
   "outputs": [
    {
     "data": {
      "text/plain": [
       "\u001b[1;31mSignature:\u001b[0m\n",
       "\u001b[0msklearn\u001b[0m\u001b[1;33m.\u001b[0m\u001b[0mensemble\u001b[0m\u001b[1;33m.\u001b[0m\u001b[0m_forest\u001b[0m\u001b[1;33m.\u001b[0m\u001b[0m_generate_sample_indices\u001b[0m\u001b[1;33m(\u001b[0m\u001b[1;33m\n",
       "\u001b[0m    \u001b[0mrandom_state\u001b[0m\u001b[1;33m,\u001b[0m\u001b[1;33m\n",
       "\u001b[0m    \u001b[0mn_samples\u001b[0m\u001b[1;33m,\u001b[0m\u001b[1;33m\n",
       "\u001b[0m    \u001b[0mn_samples_bootstrap\u001b[0m\u001b[1;33m,\u001b[0m\u001b[1;33m\n",
       "\u001b[0m\u001b[1;33m)\u001b[0m\u001b[1;33m\u001b[0m\u001b[1;33m\u001b[0m\u001b[0m\n",
       "\u001b[1;31mDocstring:\u001b[0m Private function used to _parallel_build_trees function.\n",
       "\u001b[1;31mFile:\u001b[0m      c:\\users\\hollyriver\\anaconda3\\envs\\py\\lib\\site-packages\\sklearn\\ensemble\\_forest.py\n",
       "\u001b[1;31mType:\u001b[0m      function"
      ]
     },
     "metadata": {},
     "output_type": "display_data"
    }
   ],
   "source": [
    "sklearn.ensemble._forest._generate_sample_indices?"
   ]
  },
  {
   "cell_type": "markdown",
   "id": "d55a4a0f-c2a3-48cb-858d-72f35aee3e6a",
   "metadata": {},
   "source": [
    "> 트리에 사용할 샘플을 만드는 코드.\n",
    "\n",
    "`random_state`와 샘플의 크기, 붓스트랩 할 샘플의 크기를 지정하면 샘플의 인덱스를 내놓는 코드."
   ]
  },
  {
   "cell_type": "code",
   "execution_count": 28,
   "id": "62e8ac9d-3e7f-4e14-bf95-6bdf5756820c",
   "metadata": {},
   "outputs": [
    {
     "data": {
      "text/plain": [
       "array([5, 8, 9, 5, 0, 0, 1, 7, 6, 9])"
      ]
     },
     "execution_count": 28,
     "metadata": {},
     "output_type": "execute_result"
    }
   ],
   "source": [
    "sample = sklearn.ensemble._forest._generate_sample_indices\n",
    "sample(1,10,10)"
   ]
  },
  {
   "cell_type": "markdown",
   "id": "f9dd6864-35a0-48ba-9b10-ff141bf174f3",
   "metadata": {},
   "source": [
    "`-` 원자료"
   ]
  },
  {
   "cell_type": "code",
   "execution_count": 29,
   "id": "bffa2572-4255-4083-96fd-e37ec3d8843a",
   "metadata": {},
   "outputs": [
    {
     "data": {
      "text/plain": [
       "(1338, 7)"
      ]
     },
     "execution_count": 29,
     "metadata": {},
     "output_type": "execute_result"
    }
   ],
   "source": [
    "df_train.shape"
   ]
  },
  {
   "cell_type": "code",
   "execution_count": 30,
   "id": "507ea2eb-f233-4dd1-b1ad-5713809794d3",
   "metadata": {},
   "outputs": [],
   "source": [
    "my_index = [sample(random_state = r, n_samples = 1338, n_samples_bootstrap = 1338) for r in rs]"
   ]
  },
  {
   "cell_type": "markdown",
   "id": "afff888e-1c7d-4758-bb1e-f1d1b63599c4",
   "metadata": {},
   "source": [
    "> 샘플을 뽑는 `random_state`가 `r`인 인덱스가 나온다."
   ]
  },
  {
   "cell_type": "markdown",
   "id": "59d7cc9d-5ab5-4fcc-9aa2-88e15a38328a",
   "metadata": {},
   "source": [
    "### **D. 적합**\n",
    "---\n",
    "\n",
    "\n"
   ]
  },
  {
   "cell_type": "code",
   "execution_count": 35,
   "id": "b5ade5ba-3f0e-415a-9231-fcb9462f984e",
   "metadata": {},
   "outputs": [],
   "source": [
    "for idx, tree in zip(my_index, my_forest) :\n",
    "    X_sample, y_sample = X.loc[idx], y.loc[idx]\n",
    "    ## or np.array(X)[idx], np.array(y)[idx]\n",
    "    tree.fit(X_sample, y_sample)\n",
    "\n",
    "## or\n",
    "#for i in range(len(my_index)):\n",
    "#    X_sample, y_sample = X.loc[my_index[i]], y.loc[my_index[i]]\n",
    "#    my_forest[i].fit(X_sample, y_sample)"
   ]
  },
  {
   "cell_type": "markdown",
   "id": "00d56aa5-7b51-4d78-99e6-70581dc33e70",
   "metadata": {},
   "source": [
    "### **E. 앙상블**\n",
    "---\n",
    "\n",
    "\n"
   ]
  },
  {
   "cell_type": "code",
   "execution_count": 41,
   "id": "2a15c7f0-0315-4ad5-83ad-666eb6ac996c",
   "metadata": {},
   "outputs": [
    {
     "data": {
      "text/plain": [
       "(1338,)"
      ]
     },
     "execution_count": 41,
     "metadata": {},
     "output_type": "execute_result"
    }
   ],
   "source": [
    "np.array([tree.predict(X) for tree in my_forest]).mean(axis = 0).shape"
   ]
  },
  {
   "cell_type": "code",
   "execution_count": 44,
   "id": "050b8ed9-af16-4545-9f69-03e077fd1766",
   "metadata": {},
   "outputs": [],
   "source": [
    "def ensemble(forest) :\n",
    "    return np.stack([tree.predict(X) for tree in my_forest]).mean(axis = 0)"
   ]
  },
  {
   "cell_type": "code",
   "execution_count": 47,
   "id": "650d80dd-9388-4bdc-a9ab-9baf62bbcccc",
   "metadata": {},
   "outputs": [
    {
     "data": {
      "text/plain": [
       "array([16637.15797026, 11985.8217605 , 12109.06436558, ...,\n",
       "       11966.44532935, 10499.17514846, 18168.48871085])"
      ]
     },
     "execution_count": 47,
     "metadata": {},
     "output_type": "execute_result"
    }
   ],
   "source": [
    "ensemble(my_forest)"
   ]
  },
  {
   "cell_type": "code",
   "execution_count": 48,
   "id": "7cc87fa9-132a-4ed2-a433-2f812385fc08",
   "metadata": {},
   "outputs": [
    {
     "data": {
      "text/plain": [
       "array([16637.15797026, 11985.8217605 , 12109.06436558, ...,\n",
       "       11966.44532935, 10499.17514846, 18168.48871085])"
      ]
     },
     "execution_count": 48,
     "metadata": {},
     "output_type": "execute_result"
    }
   ],
   "source": [
    "predictr.predict(X)"
   ]
  },
  {
   "cell_type": "markdown",
   "id": "aa01f5c4-8550-45e8-b805-ba41c2e03f04",
   "metadata": {},
   "source": [
    "> 최종 결과가 나온다."
   ]
  },
  {
   "cell_type": "markdown",
   "id": "b198d051-1ed0-4b80-8715-cc2731cf8407",
   "metadata": {},
   "source": [
    "### **F. 주의**\n",
    "---\n",
    "\n",
    "\n",
    "`-` `max_depth`를 1로 제한한 이유\n",
    "\n",
    "> `max_depth`가 깊을 경우 두 결과가 일치하지 않을 수 있다.\n",
    "\n",
    "* 실제 돌아가는 코드와의 괴리"
   ]
  },
  {
   "cell_type": "code",
   "execution_count": 51,
   "id": "44a35a26-b35f-4650-b4c7-9f45bef6c226",
   "metadata": {},
   "outputs": [
    {
     "data": {
      "image/png": "[encoded data removed]",
      "text/plain": [
       "<Figure size 640x480 with 1 Axes>"
      ]
     },
     "metadata": {},
     "output_type": "display_data"
    }
   ],
   "source": [
    "sklearn.tree.plot_tree(predictr.estimators_[0]);"
   ]
  },
  {
   "cell_type": "code",
   "execution_count": 53,
   "id": "ec45a4b2-c2ac-44e8-b913-b524fc7b7908",
   "metadata": {},
   "outputs": [
    {
     "data": {
      "image/png": "[encoded data removed]",
      "text/plain": [
       "<Figure size 640x480 with 1 Axes>"
      ]
     },
     "metadata": {},
     "output_type": "display_data"
    }
   ],
   "source": [
    "sklearn.tree.plot_tree(my_forest[0]);"
   ]
  },
  {
   "cell_type": "markdown",
   "id": "b0dcc8d3-8cea-4b18-ae75-f42c3e20537a",
   "metadata": {},
   "source": [
    "> `samples`의 값이 다름. 배깅도 그렇고, 랜덤포레스트도 그렇고 적합 중 가중치(`predictr.fit(sample_weight = [...]`)를 취하는 방식으로 적합하기 때문.\n",
    "\n",
    "`max_depth`가 깊을 경우 샘플이 하나여서 더이상 노드를 나누지 못할 수 있음. 가중치를 지정해줄 수도 있지만, 그건 너무 과잉투자인 것 같아 이정도만 설명하고 넘어갑니당..."
   ]
  }
 ],
 "metadata": {
  "kernelspec": {
   "display_name": "Python 3 (ipykernel)",
   "language": "python",
   "name": "python3"
  },
  "language_info": {
   "codemirror_mode": {
    "name": "ipython",
    "version": 3
   },
   "file_extension": ".py",
   "mimetype": "text/x-python",
   "name": "python",
   "nbconvert_exporter": "python",
   "pygments_lexer": "ipython3",
   "version": "3.10.13"
  }
 },
 "nbformat": 4,
 "nbformat_minor": 5
}
