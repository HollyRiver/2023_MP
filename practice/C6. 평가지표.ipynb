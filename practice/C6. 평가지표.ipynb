{
 "cells": [
  {
   "cell_type": "markdown",
   "id": "573cbca8-db5e-47e0-8cec-e6b2c5183bb2",
   "metadata": {},
   "source": [
    "---\n",
    "title: \"평가지표의 이해\"\n",
    "author: \"강신성\"\n",
    "date: \"2023-11-22\"\n",
    "categories: [sklearn]\n",
    "---\n",
    "\n",
    "\n"
   ]
  },
  {
   "cell_type": "markdown",
   "id": "060721da-a3be-46eb-a294-e785b2be07cc",
   "metadata": {},
   "source": [
    "> 모형에 대한 평가지표들을 알아보고, 계산까지 해보자!"
   ]
  },
  {
   "cell_type": "markdown",
   "id": "6a83f43f-bc82-4611-b568-ecb6512be3c2",
   "metadata": {},
   "source": [
    "## 1. 다양한 평가지표들"
   ]
  },
  {
   "cell_type": "markdown",
   "id": "d85622d7-8baf-4bbb-b6f4-e051584c8b71",
   "metadata": {},
   "source": [
    "`-` 의문 : 왜 다양한 평가지표가 필요할까? 그냥 accuracy 하나면 끝나는 거 아님?\n",
    "\n",
    "> accuracy가 높은 것도 물론 중요하지만($R^2$가 높으면 일단 좋은 거잖아?), 모델의 목적이나 목표에 따라 다른 것들도 충분히 중요할 수 있다.\n",
    "\n",
    "`-` [여러가지 평가지표들](https://en.wikipedia.org/wiki/Positive_and_negative_predictive_values)"
   ]
  },
  {
   "cell_type": "markdown",
   "id": "e6dec948-7cdb-4e91-9640-25a30351a306",
   "metadata": {},
   "source": [
    "## 2. Confusion Matrix(혼동 행렬)의 이해"
   ]
  },
  {
   "cell_type": "markdown",
   "id": "b284552f-7992-4db1-a354-fe1753d2cf21",
   "metadata": {},
   "source": [
    "예측치와 실제 관측치를 모아둔 표라고 보면 된다.\n",
    "\n",
    "`-` 회사에 다니는 사람이 퇴사할 것인지, 안 할 것인지 예측하는 모형을 만들었다면, 그에 대한 혼동행렬은...\n",
    "\n",
    "||퇴사(예측)|안나감(예측)|\n",
    "|:-:|:-:|:-:|\n",
    "|퇴사(실제)|TP(O, O)|FN(O, X)|\n",
    "|안나감(실제)|FP(X, O)|TN(X, X)|\n",
    "\n",
    "> 나간다고 예측했는데(Positive prediction) 진짜였음(True) : TP\n",
    ">\n",
    "> 안나간다고 예측했는데(Negative prediction) 진짜였음(True) : FP\n",
    "\n",
    "\n",
    "<span style=\"background-color:yellow;color:black\">**만약, 회사에서 \"퇴사자 예측 시스템\"의 개발을 요구하였다고 하자. <br>자료의 특성 상 대부분의 사람이 퇴사하지 않고 회사에 잘 다닌다. 즉, 1000명이 있으면 10명 정도 퇴사한다고 하자.**</span>"
   ]
  },
  {
   "cell_type": "markdown",
   "id": "7c64c5a4-db96-4c09-be80-503f5555b0c7",
   "metadata": {},
   "source": [
    "### **A. Accuracy(정확도)**\n",
    "---\n",
    "\n",
    "\n"
   ]
  },
  {
   "cell_type": "markdown",
   "id": "bec09d58-3c92-49d7-aa86-95781a01a24a",
   "metadata": {},
   "source": [
    "`-` 정의 : $\\frac{TP+TN}{TP+FP+FN+TN}$\n",
    "\n",
    "> 이 상황에서 왜 애큐러시는 평가지표로서 불충분한가?\n",
    "\n",
    "* 회사의 요구 : 퇴사자 예측 시스템을 개발하는데, 잘 맞출수록 좋고(Accuracy가 높고), 계산에 많은 시간이 걸리지 않는 가벼운 프로그램일수록 좋다.\n",
    "\n",
    "**<span style=\"background-color:yellow;color:black\">...귀찮은데 다 안나간다고 하자!! $\\to$ 99%의 accuracy!!</span>**\n",
    "\n",
    "> 모델에 사용한 파라미터는 0개, 그런데 애큐러시는 .99... 이건 엄청 좋은 모형일까...? <span style=\"color:gray\"> 아니겠지!!</span>"
   ]
  },
  {
   "cell_type": "markdown",
   "id": "e89f7a8b-25f9-4326-82c5-2e3380a424e6",
   "metadata": {},
   "source": [
    "### **B. TPR(=Recall=Sensitivity)**\n",
    "---\n",
    "\n",
    "\n"
   ]
  },
  {
   "cell_type": "markdown",
   "id": "88aa1ae2-4cf1-46bd-a630-924560ce1fd0",
   "metadata": {},
   "source": [
    "`-` 실제 나간 사람 중(1) TP의 비율!\n",
    "\n",
    "`-` 정의 : $\\frac{TP}{TP+TN}$\n",
    "\n",
    "> 실제 나간 사람 중 모형이 나간다고 예측한 사람의 비율\n",
    "\n",
    "실제로 퇴사한 사람 10명 중 모형이 나간다고 찍은 사람이 5명이면 recall = 0.5<br>\n",
    "**<span style=\"background-color:yellow;color:black\">따라서 아무도 나가지 않는다고 예측하면??? recall = 0</span> $\\to$ (애큐러시는 높아도 리콜은 너무 낮다!!)**\n",
    "\n",
    "* 인사팀 : recall이 너무 낮잖아!!! 앞으로 recall을 평가지표로 가져와!!! accuracy는 큰 의미 없어!(그래도 명색이 모델인데 accuracy가 90%는 됐으면 좋겠고...)"
   ]
  },
  {
   "cell_type": "markdown",
   "id": "bd272a52-7842-4dbc-a313-634c7dd7dac7",
   "metadata": {},
   "source": [
    "### **C. Precision(정밀도)**\n",
    "---\n",
    "\n",
    "\n"
   ]
  },
  {
   "cell_type": "markdown",
   "id": "3da937a2-6e86-4100-8d31-edd3b2539df9",
   "metadata": {},
   "source": [
    "`-` 정의 : $\\frac{TP}{TP+FP}$\n",
    "\n",
    "> 나간다고 한 사람 중 실제 나간 사람의 비율\n",
    "\n",
    "모형이 나간다고 말한 사람 40명 중 실제로 나간 사람이 20명이면 precision = 0.5 <br>\n",
    "**<span style=\"background-color:yellow;color:black\">따라서 조금이라도 이상하면 다 나간다고 해서 100명을 예측하고, 실제로 나간 10명이 그중에 다 포함된다면?? recall = 1, precision = 0.1</span>** $\\to$ 리콜은 최대치인데 프리시즌은 너무 낮다!!\n",
    "\n",
    "> 게다가 이경우 accuracy는 0.91(퇴사자 10명을 일단은 다 맞췄으니까...)\n",
    "\n",
    "* 인사팀 : 야 이건 좀... 그냥 수틀리면 다 나간다고 해버리면 어떻게 해!!! precision도 평가지표로 함께 가져와!!"
   ]
  },
  {
   "cell_type": "markdown",
   "id": "83a0c6ba-f820-48b1-b792-ed24c6549e12",
   "metadata": {},
   "source": [
    "### **D. F1-score**\n",
    "---\n",
    "\n",
    "\n"
   ]
  },
  {
   "cell_type": "markdown",
   "id": "1d6a3d2e-fbfc-4307-ad1d-bfd2665b0ae1",
   "metadata": {},
   "source": [
    "`-` 정의 : Recall과 Precision의 조화평균\n",
    "\n",
    "* 프리시즌과 리컬은 다른 방향으로 작용해서 하나를 높이려면 다른 하나는 반드시 낮아져야 한다..."
   ]
  },
  {
   "cell_type": "markdown",
   "id": "76a76af9-5dc2-4dbf-992a-82d21c759bee",
   "metadata": {},
   "source": [
    "### **E. Specificity(특이도)**\n",
    "---\n",
    "\n",
    "\n"
   ]
  },
  {
   "cell_type": "markdown",
   "id": "8b79a763-51aa-4e41-803e-c3c889913e99",
   "metadata": {},
   "source": [
    "`-` 정의 : $\\frac{TN}{TN+FP}$\n",
    "\n",
    "> 실제로 안나간 사람들 중에서 안나간다고 말한 비율~(안중요함)~"
   ]
  },
  {
   "cell_type": "markdown",
   "id": "f7523e07-2ee3-4ea2-ba92-c7b9291a5354",
   "metadata": {},
   "source": [
    "### **F. FPR**\n",
    "---\n",
    "\n",
    "\n"
   ]
  },
  {
   "cell_type": "markdown",
   "id": "570ff90f-2437-4277-baec-562cd3881d7c",
   "metadata": {},
   "source": [
    "`-` 정의 : $\\frac{FP}{FP+TN}$\n",
    "\n",
    "> 실제로 안나간 사람들 중에서 나간다고 예측한 사람의 비율(생사람 잡은 사람의 비율... 그니까 높을수록 안좋음)\n",
    "\n",
    "TPR(=recall)을 올리는 가장 편한 방법은 조금만 이상한 징조가 보인다 싶으면 다 싸잡아서 나간다고 하는 것이다... 허나 이러면 생사람도 잡을 확률이 높아진다. (FPR은 높아지고 Precision은 함께 낮아진다...)"
   ]
  },
  {
   "cell_type": "markdown",
   "id": "82d9d889-d6b3-4184-bd6f-008acc00567e",
   "metadata": {},
   "source": [
    "### **G. ROC curve**\n",
    "---\n",
    "\n",
    "\n"
   ]
  },
  {
   "cell_type": "markdown",
   "id": "cc5ac929-34ee-4f07-9a1f-a9c414c0919f",
   "metadata": {},
   "source": [
    "`-` 정의 : $x$축 = FPR, $y$축 = TPR을 그린 커브\n",
    "\n",
    "> FPR이 증가할수록 TPR이 얼마나 크게 높아지는가?\n",
    "\n",
    "* 생각해보면 생사람을 잡을 수록, 감지율은 높아진다. (recall은 실제 나간 사람 중 예측한 사람의 비율이니까...)\n",
    "* 생사람 잡은 비율이 작은데, 감지율이 높다면??? 매우 우수한 `predictor`이다.\n",
    "\n",
    "<span style=\"background-color:yellow;color:black\">따라서 초반부터 ROC curve가 급격하게 상승하면(로그 함수 느낌으로다가...) 좋은 `predictor`이다.</span>\n",
    "\n",
    "> 이때 ROC curve의 아래 면적을 AUC score라고 한다."
   ]
  },
  {
   "cell_type": "markdown",
   "id": "df3661c1-a4d0-405e-88f8-ee7e02aa56d2",
   "metadata": {},
   "source": [
    "## 3. 평가지표의 계산(sklearn 이용)"
   ]
  },
  {
   "cell_type": "markdown",
   "id": "bda4f0db-ba3c-42e3-a8b2-cc6f5456b23b",
   "metadata": {},
   "source": [
    "### **A. 라이브러리 imports**\n",
    "---\n",
    "\n",
    "\n"
   ]
  },
  {
   "cell_type": "code",
   "execution_count": 2,
   "id": "e1098ced-7ed1-4e5f-9aa7-9c90bfe0e856",
   "metadata": {},
   "outputs": [],
   "source": [
    "import numpy as np\n",
    "import sklearn.metrics"
   ]
  },
  {
   "cell_type": "markdown",
   "id": "312f258e-5e32-45ef-a5dd-c831bb4a7e31",
   "metadata": {},
   "source": [
    "### **B. 예시**\n",
    "---\n",
    "\n",
    "\n"
   ]
  },
  {
   "cell_type": "markdown",
   "id": "e23160b1-1826-4b1d-af7b-258e37b3c16a",
   "metadata": {},
   "source": [
    "밀실안에 100명의 사람이 있다고 하자. 이중 이중간첩(1)은 2명이 있다고 하자. 이중간첩을 잡기위해서 3명을 사살했다고 하자. 사살된 사람중 실제 이중간첩은 1명이었다고 하자. 이 경우\n",
    "\n",
    "* accurary\n",
    "* TPR(=recall)\n",
    "* precision\n",
    "* FPR\n",
    "\n",
    "값을 계산해보자."
   ]
  },
  {
   "cell_type": "markdown",
   "id": "d5ce1940-5540-43ef-94ec-7073249ac409",
   "metadata": {},
   "source": [
    "`-` Confusion Matrix(혼동 행렬)"
   ]
  },
  {
   "cell_type": "code",
   "execution_count": 4,
   "id": "d712a09f-4cf6-4413-b601-1f8b4a99cd03",
   "metadata": {},
   "outputs": [],
   "source": [
    "y = np.array([1]*2 + [0]*98)\n",
    "yhat = np.array([0,1,1,1] + [0]*96)  ## 세 명을 쏴죽임, 그리고 그중 하나만 정답(두 번째 1)"
   ]
  },
  {
   "cell_type": "code",
   "execution_count": 5,
   "id": "47839a9c-f66f-43b5-a989-2e18f415a089",
   "metadata": {},
   "outputs": [
    {
     "data": {
      "text/plain": [
       "array([[96,  2],\n",
       "       [ 1,  1]], dtype=int64)"
      ]
     },
     "execution_count": 5,
     "metadata": {},
     "output_type": "execute_result"
    }
   ],
   "source": [
    "sklearn.metrics.confusion_matrix(y, yhat)"
   ]
  },
  {
   "cell_type": "code",
   "execution_count": 6,
   "id": "2f18afbf-4a7e-46fb-88e2-b019d4eb5acc",
   "metadata": {},
   "outputs": [],
   "source": [
    "(tn, fp), (fn, tp) = sklearn.metrics.confusion_matrix(y, yhat)  ## 우리가 위에서 봤던 것을 한바퀴 뒤집어서 봐야..."
   ]
  },
  {
   "cell_type": "markdown",
   "id": "5e19336e-56cf-4d4a-bdf2-914889eb100d",
   "metadata": {},
   "source": [
    "`-` accuracy"
   ]
  },
  {
   "cell_type": "code",
   "execution_count": 8,
   "id": "262f2559-863c-4055-8984-2acfc8571ed0",
   "metadata": {},
   "outputs": [
    {
     "data": {
      "text/plain": [
       "0.97"
      ]
     },
     "execution_count": 8,
     "metadata": {},
     "output_type": "execute_result"
    }
   ],
   "source": [
    "(tp+tn) / (tp+fp+fn+tn)"
   ]
  },
  {
   "cell_type": "code",
   "execution_count": 10,
   "id": "a19b4440-2e55-425e-a043-08193e94c2b7",
   "metadata": {},
   "outputs": [
    {
     "data": {
      "text/plain": [
       "0.97"
      ]
     },
     "execution_count": 10,
     "metadata": {},
     "output_type": "execute_result"
    }
   ],
   "source": [
    "sklearn.metrics.accuracy_score(y, yhat)"
   ]
  },
  {
   "cell_type": "markdown",
   "id": "e26f22a8-4076-46fd-902b-6870d79debd5",
   "metadata": {},
   "source": [
    "`-` recall(TPR, sensitivity)"
   ]
  },
  {
   "cell_type": "code",
   "execution_count": 11,
   "id": "8474a578-76e4-4396-84f3-d91adf985500",
   "metadata": {},
   "outputs": [
    {
     "data": {
      "text/plain": [
       "0.5"
      ]
     },
     "execution_count": 11,
     "metadata": {},
     "output_type": "execute_result"
    }
   ],
   "source": [
    "tp/(tp+fn)"
   ]
  },
  {
   "cell_type": "code",
   "execution_count": 14,
   "id": "7172a2a9-bac0-4878-8f3f-9267bb8815ef",
   "metadata": {},
   "outputs": [
    {
     "data": {
      "text/plain": [
       "0.5"
      ]
     },
     "execution_count": 14,
     "metadata": {},
     "output_type": "execute_result"
    }
   ],
   "source": [
    "sklearn.metrics.recall_score(y, yhat)"
   ]
  },
  {
   "cell_type": "markdown",
   "id": "b625efe1-0587-4ba7-af62-00788a277382",
   "metadata": {},
   "source": [
    "`-` precision"
   ]
  },
  {
   "cell_type": "code",
   "execution_count": 15,
   "id": "1fda19e5-7944-44ef-a266-09f7c9b531e1",
   "metadata": {},
   "outputs": [
    {
     "data": {
      "text/plain": [
       "0.3333333333333333"
      ]
     },
     "execution_count": 15,
     "metadata": {},
     "output_type": "execute_result"
    }
   ],
   "source": [
    "tp/(tp+fp)"
   ]
  },
  {
   "cell_type": "code",
   "execution_count": 18,
   "id": "c1f73b19-8dcc-45f1-b072-1e17e02c3b32",
   "metadata": {},
   "outputs": [
    {
     "data": {
      "text/plain": [
       "0.3333333333333333"
      ]
     },
     "execution_count": 18,
     "metadata": {},
     "output_type": "execute_result"
    }
   ],
   "source": [
    "sklearn.metrics.precision_score(y, yhat)"
   ]
  },
  {
   "cell_type": "markdown",
   "id": "2a10a788-fcfd-4c29-a56f-0f8cd310e036",
   "metadata": {},
   "source": [
    "`-` FPR"
   ]
  },
  {
   "cell_type": "code",
   "execution_count": 19,
   "id": "ca520686-185f-4f8f-870d-3cf47b6aee42",
   "metadata": {},
   "outputs": [
    {
     "data": {
      "text/plain": [
       "0.02040816326530612"
      ]
     },
     "execution_count": 19,
     "metadata": {},
     "output_type": "execute_result"
    }
   ],
   "source": [
    "fp/(fp+tn)"
   ]
  },
  {
   "cell_type": "markdown",
   "id": "2eab2a1b-5715-489e-8980-c34bad3b0faa",
   "metadata": {},
   "source": [
    "`-` 그냥 해본거"
   ]
  },
  {
   "cell_type": "code",
   "execution_count": 17,
   "id": "43768522-4a9c-4c6e-9ec2-08f9a705200d",
   "metadata": {},
   "outputs": [
    {
     "data": {
      "text/plain": [
       "0.7397959183673468"
      ]
     },
     "execution_count": 17,
     "metadata": {},
     "output_type": "execute_result"
    }
   ],
   "source": [
    "sklearn.metrics.roc_auc_score(y, yhat)"
   ]
  }
 ],
 "metadata": {
  "kernelspec": {
   "display_name": "Python 3 (ipykernel)",
   "language": "python",
   "name": "python3"
  },
  "language_info": {
   "codemirror_mode": {
    "name": "ipython",
    "version": 3
   },
   "file_extension": ".py",
   "mimetype": "text/x-python",
   "name": "python",
   "nbconvert_exporter": "python",
   "pygments_lexer": "ipython3",
   "version": "3.10.13"
  }
 },
 "nbformat": 4,
 "nbformat_minor": 5
}
