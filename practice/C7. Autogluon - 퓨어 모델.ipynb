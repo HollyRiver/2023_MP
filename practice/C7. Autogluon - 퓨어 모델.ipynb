{
 "cells": [
  {
   "cell_type": "markdown",
   "id": "6d701d89-7b08-4ba1-82c9-d731fe5413c3",
   "metadata": {},
   "source": [
    "---\n",
    "title: \"`Autogluon`의 시작\"\n",
    "author: \"강신성\"\n",
    "date: \"2023-12-02\"\n",
    "categories: [autogluon]\n",
    "---\n",
    "\n",
    "\n"
   ]
  },
  {
   "cell_type": "markdown",
   "id": "27713daf-7051-4de3-959e-c25e4ae1c172",
   "metadata": {},
   "source": [
    "> `autogluon`을 이용하여 자료분석을 해보자!"
   ]
  },
  {
   "cell_type": "markdown",
   "id": "dd725ae5-9eb2-4bad-9986-813975abdc1a",
   "metadata": {},
   "source": [
    "## 1. 라이브러리 imports"
   ]
  },
  {
   "cell_type": "code",
   "execution_count": 1,
   "id": "92f2090f-6725-45a2-95e0-923bfa59b2ae",
   "metadata": {},
   "outputs": [],
   "source": [
    "import pandas as pd\n",
    "import numpy as np\n",
    "import matplotlib.pyplot as plt\n",
    "import seaborn as sns\n",
    "import sklearn.metrics  ## 스코어 계산??\n",
    "\n",
    "import pickle  ## 이건 뭐임?\n",
    "from autogluon.tabular import TabularPredictor\n",
    "import autogluon.eda.auto as auto  ## eda과정??\n",
    "\n",
    "#---#\n",
    "import warnings\n",
    "warnings.filterwarnings('ignore')"
   ]
  },
  {
   "cell_type": "markdown",
   "id": "b166b6e3-27e5-4fdd-94c4-0a3f9ce239b3",
   "metadata": {},
   "source": [
    "## 2. 퓨어 모델 적합"
   ]
  },
  {
   "cell_type": "markdown",
   "id": "2f39866d-a2fb-4529-9496-614cd8cbb75a",
   "metadata": {},
   "source": [
    "**`x`와 `y`의 관계만 있는 데이터...**"
   ]
  },
  {
   "cell_type": "code",
   "execution_count": 2,
   "id": "ad2dbdc7-6ff4-4650-acd3-3d9d4069fa08",
   "metadata": {},
   "outputs": [],
   "source": [
    "temp = pd.read_csv('https://raw.githubusercontent.com/guebin/DV2022/master/posts/temp.csv').iloc[:,3].to_numpy()[:100]\n",
    "temp.sort()\n",
    "np.random.seed(43052)\n",
    "eps = np.random.randn(100)*3 # 오차\n",
    "icecream_sales = 20 + temp * 2.5 + eps \n",
    "df_train = pd.DataFrame({'temp':temp,'sales':icecream_sales})"
   ]
  },
  {
   "cell_type": "code",
   "execution_count": 3,
   "id": "7b6ffe23-b990-4ef9-9144-28c08601ab9b",
   "metadata": {},
   "outputs": [
    {
     "data": {
      "text/plain": [
       "<Axes: xlabel='temp', ylabel='sales'>"
      ]
     },
     "execution_count": 3,
     "metadata": {},
     "output_type": "execute_result"
    },
    {
     "data": {
      "image/png": "[encoded data removed]",
      "text/plain": [
       "<Figure size 640x480 with 1 Axes>"
      ]
     },
     "metadata": {},
     "output_type": "display_data"
    }
   ],
   "source": [
    "sns.scatterplot(df_train, x = 'temp', y = 'sales')"
   ]
  },
  {
   "cell_type": "markdown",
   "id": "29573bd9-6e5b-4157-98db-f3b61e5b3275",
   "metadata": {},
   "source": [
    "> 퓨어한 아이스크림 데이터..."
   ]
  },
  {
   "cell_type": "markdown",
   "id": "cf272f7c-338f-4a10-821e-cc6d0a321918",
   "metadata": {},
   "source": [
    "### **A. `sklearn`에서 맨날 쓰던 코드**\n",
    "---\n",
    "\n",
    "\n"
   ]
  },
  {
   "cell_type": "code",
   "execution_count": 7,
   "id": "abf44708-97ce-47e8-bb61-7c23597ebbcf",
   "metadata": {},
   "outputs": [
    {
     "name": "stderr",
     "output_type": "stream",
     "text": [
      "No path specified. Models will be saved in: \"AutogluonModels\\ag-20231202_071357\\\"\n",
      "Beginning AutoGluon training ...\n",
      "AutoGluon will save models to \"AutogluonModels\\ag-20231202_071357\\\"\n",
      "AutoGluon Version:  0.8.2\n",
      "Python Version:     3.10.13\n",
      "Operating System:   Windows\n",
      "Platform Machine:   AMD64\n",
      "Platform Version:   10.0.19045\n",
      "Disk Space Avail:   57.85 GB / 255.01 GB (22.7%)\n",
      "Train Data Rows:    100\n",
      "Train Data Columns: 1\n",
      "Label Column: sales\n",
      "Preprocessing data ...\n",
      "AutoGluon infers your prediction problem is: 'regression' (because dtype of label-column == float and many unique label-values observed).\n",
      "\tLabel info (max, min, mean, stddev): (61.561043278721556, 10.90026146402572, 33.97342, 10.63375)\n",
      "\tIf 'regression' is not the correct problem_type, please manually specify the problem_type parameter during predictor init (You may specify problem_type as one of: ['binary', 'multiclass', 'regression'])\n",
      "Using Feature Generators to preprocess the data ...\n",
      "Fitting AutoMLPipelineFeatureGenerator...\n",
      "\tAvailable Memory:                    2307.81 MB\n",
      "\tTrain Data (Original)  Memory Usage: 0.0 MB (0.0% of available memory)\n",
      "\tInferring data type of each feature based on column values. Set feature_metadata_in to manually specify special dtypes of the features.\n",
      "\tStage 1 Generators:\n",
      "\t\tFitting AsTypeFeatureGenerator...\n",
      "\tStage 2 Generators:\n",
      "\t\tFitting FillNaFeatureGenerator...\n",
      "\tStage 3 Generators:\n",
      "\t\tFitting IdentityFeatureGenerator...\n",
      "\tStage 4 Generators:\n",
      "\t\tFitting DropUniqueFeatureGenerator...\n",
      "\tStage 5 Generators:\n",
      "\t\tFitting DropDuplicatesFeatureGenerator...\n",
      "\tTypes of features in original data (raw dtype, special dtypes):\n",
      "\t\t('float', []) : 1 | ['temp']\n",
      "\tTypes of features in processed data (raw dtype, special dtypes):\n",
      "\t\t('float', []) : 1 | ['temp']\n",
      "\t0.0s = Fit runtime\n",
      "\t1 features in original data used to generate 1 features in processed data.\n",
      "\tTrain Data (Processed) Memory Usage: 0.0 MB (0.0% of available memory)\n",
      "Data preprocessing and feature engineering runtime = 0.04s ...\n",
      "AutoGluon will gauge predictive performance using evaluation metric: 'root_mean_squared_error'\n",
      "\tThis metric's sign has been flipped to adhere to being higher_is_better. The metric score can be multiplied by -1 to get the metric value.\n",
      "\tTo change this, specify the eval_metric parameter of Predictor()\n",
      "Automatically generating train/validation split with holdout_frac=0.2, Train Rows: 80, Val Rows: 20\n",
      "User-specified model hyperparameters to be fit:\n",
      "{\n",
      "\t'NN_TORCH': {},\n",
      "\t'GBM': [{'extra_trees': True, 'ag_args': {'name_suffix': 'XT'}}, {}, 'GBMLarge'],\n",
      "\t'CAT': {},\n",
      "\t'XGB': {},\n",
      "\t'FASTAI': {},\n",
      "\t'RF': [{'criterion': 'gini', 'ag_args': {'name_suffix': 'Gini', 'problem_types': ['binary', 'multiclass']}}, {'criterion': 'entropy', 'ag_args': {'name_suffix': 'Entr', 'problem_types': ['binary', 'multiclass']}}, {'criterion': 'squared_error', 'ag_args': {'name_suffix': 'MSE', 'problem_types': ['regression', 'quantile']}}],\n",
      "\t'XT': [{'criterion': 'gini', 'ag_args': {'name_suffix': 'Gini', 'problem_types': ['binary', 'multiclass']}}, {'criterion': 'entropy', 'ag_args': {'name_suffix': 'Entr', 'problem_types': ['binary', 'multiclass']}}, {'criterion': 'squared_error', 'ag_args': {'name_suffix': 'MSE', 'problem_types': ['regression', 'quantile']}}],\n",
      "\t'KNN': [{'weights': 'uniform', 'ag_args': {'name_suffix': 'Unif'}}, {'weights': 'distance', 'ag_args': {'name_suffix': 'Dist'}}],\n",
      "}\n",
      "Fitting 11 L1 models ...\n",
      "Fitting model: KNeighborsUnif ...\n",
      "Specified total num_gpus: 1, but only 0 are available. Will use 0 instead\n",
      "\t-4.1825\t = Validation score   (-root_mean_squared_error)\n",
      "\t0.01s\t = Training   runtime\n",
      "\t0.02s\t = Validation runtime\n",
      "Fitting model: KNeighborsDist ...\n",
      "Specified total num_gpus: 1, but only 0 are available. Will use 0 instead\n",
      "\t-4.6505\t = Validation score   (-root_mean_squared_error)\n",
      "\t0.01s\t = Training   runtime\n",
      "\t0.02s\t = Validation runtime\n",
      "Fitting model: LightGBMXT ...\n",
      "Specified total num_gpus: 1, but only 0 are available. Will use 0 instead\n",
      "\t-5.4361\t = Validation score   (-root_mean_squared_error)\n",
      "\t0.29s\t = Training   runtime\n",
      "\t0.0s\t = Validation runtime\n",
      "Fitting model: LightGBM ...\n",
      "Specified total num_gpus: 1, but only 0 are available. Will use 0 instead\n"
     ]
    },
    {
     "name": "stdout",
     "output_type": "stream",
     "text": [
      "[1000]\tvalid_set's rmse: 5.45375\n",
      "[2000]\tvalid_set's rmse: 5.40245\n"
     ]
    },
    {
     "name": "stderr",
     "output_type": "stream",
     "text": [
      "\t-5.3708\t = Validation score   (-root_mean_squared_error)\n",
      "\t0.2s\t = Training   runtime\n",
      "\t0.0s\t = Validation runtime\n",
      "Fitting model: RandomForestMSE ...\n",
      "Specified total num_gpus: 1, but only 0 are available. Will use 0 instead\n",
      "\t-4.4041\t = Validation score   (-root_mean_squared_error)\n",
      "\t0.54s\t = Training   runtime\n",
      "\t0.05s\t = Validation runtime\n",
      "Fitting model: CatBoost ...\n",
      "Specified total num_gpus: 1, but only 0 are available. Will use 0 instead\n",
      "\t-3.8364\t = Validation score   (-root_mean_squared_error)\n",
      "\t0.42s\t = Training   runtime\n",
      "\t0.0s\t = Validation runtime\n",
      "Fitting model: ExtraTreesMSE ...\n",
      "Specified total num_gpus: 1, but only 0 are available. Will use 0 instead\n",
      "\t-4.2375\t = Validation score   (-root_mean_squared_error)\n",
      "\t0.55s\t = Training   runtime\n",
      "\t0.05s\t = Validation runtime\n",
      "Fitting model: NeuralNetFastAI ...\n",
      "Specified total num_gpus: 1, but only 0 are available. Will use 0 instead\n",
      "\t-3.7128\t = Validation score   (-root_mean_squared_error)\n",
      "\t0.88s\t = Training   runtime\n",
      "\t0.01s\t = Validation runtime\n",
      "Fitting model: XGBoost ...\n",
      "Specified total num_gpus: 1, but only 0 are available. Will use 0 instead\n",
      "\t-4.0555\t = Validation score   (-root_mean_squared_error)\n",
      "\t0.13s\t = Training   runtime\n",
      "\t0.0s\t = Validation runtime\n",
      "Fitting model: NeuralNetTorch ...\n",
      "Specified total num_gpus: 1, but only 0 are available. Will use 0 instead\n",
      "\t-3.4399\t = Validation score   (-root_mean_squared_error)\n",
      "\t1.97s\t = Training   runtime\n",
      "\t0.0s\t = Validation runtime\n",
      "Fitting model: LightGBMLarge ...\n",
      "Specified total num_gpus: 1, but only 0 are available. Will use 0 instead\n",
      "\t-3.979\t = Validation score   (-root_mean_squared_error)\n",
      "\t0.23s\t = Training   runtime\n",
      "\t0.0s\t = Validation runtime\n",
      "Fitting model: WeightedEnsemble_L2 ...\n",
      "\t-3.4399\t = Validation score   (-root_mean_squared_error)\n",
      "\t0.27s\t = Training   runtime\n",
      "\t0.0s\t = Validation runtime\n",
      "AutoGluon training complete, total runtime = 5.9s ... Best model: \"WeightedEnsemble_L2\"\n",
      "TabularPredictor saved. To load, use: predictor = TabularPredictor.load(\"AutogluonModels\\ag-20231202_071357\\\")\n"
     ]
    }
   ],
   "source": [
    "## step 1 -- pass 필요없다!!\n",
    "## step 2\n",
    "predictr = TabularPredictor(label = 'sales')  ## target variable의 column name을 넣어줌\n",
    "## step 3\n",
    "predictr.fit(df_train, num_gpus = 1)  ## X, y로 넣을 필요도 없음. gpu 알아서 쓰긴 하는데 몇 개 쓸건지 명시 가능\n",
    "## step 4\n",
    "yhat = predictr.predict(df_train)  ## X만 넣을 필요도 없음."
   ]
  },
  {
   "cell_type": "markdown",
   "id": "149277ad-1dbe-4530-9349-02996304eb5d",
   "metadata": {},
   "source": [
    "> 해당 문제는 regression(회귀) 문제로 파악됐고, GPU를 사용하였다 등등... 코드 자체는 상당히 컴팩트해졌다.\n",
    "\n",
    "> 생성되는 Autogluon 폴더에서 저장된 파라미터 등을 확인할 수 있다. 지우지 않고 두면 상당히 헤비해지므로 간간히 찾아서 지워주도록 하자."
   ]
  },
  {
   "cell_type": "markdown",
   "id": "c2fbf40c-1ee7-4827-8fa0-9981070a772c",
   "metadata": {},
   "source": [
    "### **B. 적합결과 시각화**\n",
    "---\n",
    "\n",
    "\n"
   ]
  },
  {
   "cell_type": "code",
   "execution_count": 31,
   "id": "d98bd9c9-d807-4c8b-8b0c-916ba23ebca4",
   "metadata": {},
   "outputs": [
    {
     "data": {
      "text/plain": [
       "<matplotlib.legend.Legend at 0x14ed58f7760>"
      ]
     },
     "execution_count": 31,
     "metadata": {},
     "output_type": "execute_result"
    },
    {
     "data": {
      "image/png": "[encoded data removed]",
      "text/plain": [
       "<Figure size 640x480 with 1 Axes>"
      ]
     },
     "metadata": {},
     "output_type": "display_data"
    }
   ],
   "source": [
    "df_train.plot(x = 'temp', y = 'sales', marker = 'o', linestyle = '', label = 'y')  ##plot.scatter(x, y)\n",
    "plt.plot(df_train['temp'], yhat, '--', color = 'C1', label = 'yhat')\n",
    "plt.legend()"
   ]
  },
  {
   "cell_type": "markdown",
   "id": "ec573817-1b1d-4af9-a03b-0bbd77110f14",
   "metadata": {},
   "source": [
    "> 의사결정나무랑 비교해보면 되게 잘맞춘다?"
   ]
  },
  {
   "cell_type": "markdown",
   "id": "05cf6846-0c44-4d15-b622-13544e9a9dcf",
   "metadata": {},
   "source": [
    "### **C. 모형들 확인**\n",
    "---\n",
    "\n",
    "\n"
   ]
  },
  {
   "cell_type": "markdown",
   "id": "8062bb18-e5c2-4554-ad43-1b300924f6bd",
   "metadata": {},
   "source": [
    "> 처음에 오토글론을 보았을 때, 여러 가지 모형들을 사용해서 적합하고 가장 좋은 모델을 predictor로 삼는다고 했었징..."
   ]
  },
  {
   "cell_type": "code",
   "execution_count": 34,
   "id": "52c4c2ae-71f6-4424-999f-997f5f517c58",
   "metadata": {},
   "outputs": [
    {
     "data": {
      "text/html": [
       "<div>\n",
       "<style scoped>\n",
       "    .dataframe tbody tr th:only-of-type {\n",
       "        vertical-align: middle;\n",
       "    }\n",
       "\n",
       "    .dataframe tbody tr th {\n",
       "        vertical-align: top;\n",
       "    }\n",
       "\n",
       "    .dataframe thead th {\n",
       "        text-align: right;\n",
       "    }\n",
       "</style>\n",
       "<table border=\"1\" class=\"dataframe\">\n",
       "  <thead>\n",
       "    <tr style=\"text-align: right;\">\n",
       "      <th></th>\n",
       "      <th>model</th>\n",
       "      <th>score_val</th>\n",
       "      <th>pred_time_val</th>\n",
       "      <th>fit_time</th>\n",
       "      <th>pred_time_val_marginal</th>\n",
       "      <th>fit_time_marginal</th>\n",
       "      <th>stack_level</th>\n",
       "      <th>can_infer</th>\n",
       "      <th>fit_order</th>\n",
       "    </tr>\n",
       "  </thead>\n",
       "  <tbody>\n",
       "    <tr>\n",
       "      <th>0</th>\n",
       "      <td>WeightedEnsemble_L2</td>\n",
       "      <td>-3.439942</td>\n",
       "      <td>0.003006</td>\n",
       "      <td>2.242829</td>\n",
       "      <td>0.000000</td>\n",
       "      <td>0.268262</td>\n",
       "      <td>2</td>\n",
       "      <td>True</td>\n",
       "      <td>12</td>\n",
       "    </tr>\n",
       "    <tr>\n",
       "      <th>1</th>\n",
       "      <td>NeuralNetTorch</td>\n",
       "      <td>-3.439942</td>\n",
       "      <td>0.003006</td>\n",
       "      <td>1.974566</td>\n",
       "      <td>0.003006</td>\n",
       "      <td>1.974566</td>\n",
       "      <td>1</td>\n",
       "      <td>True</td>\n",
       "      <td>10</td>\n",
       "    </tr>\n",
       "    <tr>\n",
       "      <th>2</th>\n",
       "      <td>NeuralNetFastAI</td>\n",
       "      <td>-3.712793</td>\n",
       "      <td>0.005999</td>\n",
       "      <td>0.882163</td>\n",
       "      <td>0.005999</td>\n",
       "      <td>0.882163</td>\n",
       "      <td>1</td>\n",
       "      <td>True</td>\n",
       "      <td>8</td>\n",
       "    </tr>\n",
       "    <tr>\n",
       "      <th>3</th>\n",
       "      <td>CatBoost</td>\n",
       "      <td>-3.836449</td>\n",
       "      <td>0.002001</td>\n",
       "      <td>0.417077</td>\n",
       "      <td>0.002001</td>\n",
       "      <td>0.417077</td>\n",
       "      <td>1</td>\n",
       "      <td>True</td>\n",
       "      <td>6</td>\n",
       "    </tr>\n",
       "    <tr>\n",
       "      <th>4</th>\n",
       "      <td>LightGBMLarge</td>\n",
       "      <td>-3.978956</td>\n",
       "      <td>0.000998</td>\n",
       "      <td>0.233002</td>\n",
       "      <td>0.000998</td>\n",
       "      <td>0.233002</td>\n",
       "      <td>1</td>\n",
       "      <td>True</td>\n",
       "      <td>11</td>\n",
       "    </tr>\n",
       "    <tr>\n",
       "      <th>5</th>\n",
       "      <td>XGBoost</td>\n",
       "      <td>-4.055491</td>\n",
       "      <td>0.003995</td>\n",
       "      <td>0.131009</td>\n",
       "      <td>0.003995</td>\n",
       "      <td>0.131009</td>\n",
       "      <td>1</td>\n",
       "      <td>True</td>\n",
       "      <td>9</td>\n",
       "    </tr>\n",
       "    <tr>\n",
       "      <th>6</th>\n",
       "      <td>KNeighborsUnif</td>\n",
       "      <td>-4.182492</td>\n",
       "      <td>0.022362</td>\n",
       "      <td>0.006002</td>\n",
       "      <td>0.022362</td>\n",
       "      <td>0.006002</td>\n",
       "      <td>1</td>\n",
       "      <td>True</td>\n",
       "      <td>1</td>\n",
       "    </tr>\n",
       "    <tr>\n",
       "      <th>7</th>\n",
       "      <td>ExtraTreesMSE</td>\n",
       "      <td>-4.237516</td>\n",
       "      <td>0.045743</td>\n",
       "      <td>0.553066</td>\n",
       "      <td>0.045743</td>\n",
       "      <td>0.553066</td>\n",
       "      <td>1</td>\n",
       "      <td>True</td>\n",
       "      <td>7</td>\n",
       "    </tr>\n",
       "    <tr>\n",
       "      <th>8</th>\n",
       "      <td>RandomForestMSE</td>\n",
       "      <td>-4.404096</td>\n",
       "      <td>0.046988</td>\n",
       "      <td>0.543597</td>\n",
       "      <td>0.046988</td>\n",
       "      <td>0.543597</td>\n",
       "      <td>1</td>\n",
       "      <td>True</td>\n",
       "      <td>5</td>\n",
       "    </tr>\n",
       "    <tr>\n",
       "      <th>9</th>\n",
       "      <td>KNeighborsDist</td>\n",
       "      <td>-4.650526</td>\n",
       "      <td>0.020930</td>\n",
       "      <td>0.006008</td>\n",
       "      <td>0.020930</td>\n",
       "      <td>0.006008</td>\n",
       "      <td>1</td>\n",
       "      <td>True</td>\n",
       "      <td>2</td>\n",
       "    </tr>\n",
       "    <tr>\n",
       "      <th>10</th>\n",
       "      <td>LightGBM</td>\n",
       "      <td>-5.370826</td>\n",
       "      <td>0.000996</td>\n",
       "      <td>0.197004</td>\n",
       "      <td>0.000996</td>\n",
       "      <td>0.197004</td>\n",
       "      <td>1</td>\n",
       "      <td>True</td>\n",
       "      <td>4</td>\n",
       "    </tr>\n",
       "    <tr>\n",
       "      <th>11</th>\n",
       "      <td>LightGBMXT</td>\n",
       "      <td>-5.436142</td>\n",
       "      <td>0.000997</td>\n",
       "      <td>0.289544</td>\n",
       "      <td>0.000997</td>\n",
       "      <td>0.289544</td>\n",
       "      <td>1</td>\n",
       "      <td>True</td>\n",
       "      <td>3</td>\n",
       "    </tr>\n",
       "  </tbody>\n",
       "</table>\n",
       "</div>"
      ],
      "text/plain": [
       "                  model  score_val  pred_time_val  fit_time  \\\n",
       "0   WeightedEnsemble_L2  -3.439942       0.003006  2.242829   \n",
       "1        NeuralNetTorch  -3.439942       0.003006  1.974566   \n",
       "2       NeuralNetFastAI  -3.712793       0.005999  0.882163   \n",
       "3              CatBoost  -3.836449       0.002001  0.417077   \n",
       "4         LightGBMLarge  -3.978956       0.000998  0.233002   \n",
       "5               XGBoost  -4.055491       0.003995  0.131009   \n",
       "6        KNeighborsUnif  -4.182492       0.022362  0.006002   \n",
       "7         ExtraTreesMSE  -4.237516       0.045743  0.553066   \n",
       "8       RandomForestMSE  -4.404096       0.046988  0.543597   \n",
       "9        KNeighborsDist  -4.650526       0.020930  0.006008   \n",
       "10             LightGBM  -5.370826       0.000996  0.197004   \n",
       "11           LightGBMXT  -5.436142       0.000997  0.289544   \n",
       "\n",
       "    pred_time_val_marginal  fit_time_marginal  stack_level  can_infer  \\\n",
       "0                 0.000000           0.268262            2       True   \n",
       "1                 0.003006           1.974566            1       True   \n",
       "2                 0.005999           0.882163            1       True   \n",
       "3                 0.002001           0.417077            1       True   \n",
       "4                 0.000998           0.233002            1       True   \n",
       "5                 0.003995           0.131009            1       True   \n",
       "6                 0.022362           0.006002            1       True   \n",
       "7                 0.045743           0.553066            1       True   \n",
       "8                 0.046988           0.543597            1       True   \n",
       "9                 0.020930           0.006008            1       True   \n",
       "10                0.000996           0.197004            1       True   \n",
       "11                0.000997           0.289544            1       True   \n",
       "\n",
       "    fit_order  \n",
       "0          12  \n",
       "1          10  \n",
       "2           8  \n",
       "3           6  \n",
       "4          11  \n",
       "5           9  \n",
       "6           1  \n",
       "7           7  \n",
       "8           5  \n",
       "9           2  \n",
       "10          4  \n",
       "11          3  "
      ]
     },
     "execution_count": 34,
     "metadata": {},
     "output_type": "execute_result"
    }
   ],
   "source": [
    "predictr.leaderboard(silent = True)  ## silent = True로 데이터프레임만 볼 수 있음."
   ]
  },
  {
   "cell_type": "markdown",
   "id": "a0f978fc-9c55-441c-adca-f16804eaaace",
   "metadata": {},
   "source": [
    "### **D. 최강모형의 `r2_score` 계산**\n",
    "---\n",
    "\n",
    "\n"
   ]
  },
  {
   "cell_type": "markdown",
   "id": "1d765dc3-584f-4087-8561-ab4c47df49e8",
   "metadata": {},
   "source": [
    "`# 방법 1`"
   ]
  },
  {
   "cell_type": "code",
   "execution_count": 35,
   "id": "1faa51f7-ad33-4454-9115-d8a08b0b65d0",
   "metadata": {},
   "outputs": [
    {
     "data": {
      "text/plain": [
       "0.9297829275747089"
      ]
     },
     "execution_count": 35,
     "metadata": {},
     "output_type": "execute_result"
    }
   ],
   "source": [
    "_y = df_train.sales\n",
    "_yhat = predictr.predict(df_train)  ## 최강 모형을 사용한 predictr\n",
    "sklearn.metrics.r2_score(_y, _yhat)"
   ]
  },
  {
   "cell_type": "markdown",
   "id": "f3bcb36f-756e-4f64-b916-1c7c2ce74a68",
   "metadata": {},
   "source": [
    "`# 방법 2`"
   ]
  },
  {
   "cell_type": "code",
   "execution_count": 36,
   "id": "1869ffc8-2b6f-4cff-bacd-351a81ebf7fe",
   "metadata": {},
   "outputs": [
    {
     "data": {
      "text/plain": [
       "0.9297829275747089"
      ]
     },
     "execution_count": 36,
     "metadata": {},
     "output_type": "execute_result"
    }
   ],
   "source": [
    "_y = df_train.sales\n",
    "_yhat = predictr.predict(df_train, model = 'NeuralNetTorch')  ## 어떤 모형을 사용할 지를 알아볼 수 있다.\n",
    "sklearn.metrics.r2_score(_y, _yhat)"
   ]
  },
  {
   "cell_type": "markdown",
   "id": "0cc72a7f-bf0d-452c-b222-e81d7cd28142",
   "metadata": {},
   "source": [
    "### **E. 특정 모형의 적합값(predict) 구경**\n",
    "---\n",
    "\n",
    "\n"
   ]
  },
  {
   "cell_type": "markdown",
   "id": "70263c8b-5be2-44fe-bdf6-52be1b937a07",
   "metadata": {},
   "source": [
    "`-` `XGBoost`의 적합 결과가 궁금하다...\n",
    "\n",
    "* 먼저 스코어부터..."
   ]
  },
  {
   "cell_type": "code",
   "execution_count": 48,
   "id": "1a585abf-9e46-4730-bfa1-50f8d6b953c1",
   "metadata": {},
   "outputs": [
    {
     "data": {
      "text/plain": [
       "0.9516437954914487"
      ]
     },
     "execution_count": 48,
     "metadata": {},
     "output_type": "execute_result"
    }
   ],
   "source": [
    "_y = df_train.sales\n",
    "_yhat = predictr.predict(df_train,model='XGBoost')\n",
    "sklearn.metrics.r2_score(_y,_yhat)"
   ]
  },
  {
   "cell_type": "code",
   "execution_count": 49,
   "id": "2ef33084-ebf3-4089-a780-4712e0102918",
   "metadata": {},
   "outputs": [
    {
     "data": {
      "text/plain": [
       "<matplotlib.legend.Legend at 0x14ed62bfb50>"
      ]
     },
     "execution_count": 49,
     "metadata": {},
     "output_type": "execute_result"
    },
    {
     "data": {
      "image/png": "[encoded data removed]",
      "text/plain": [
       "<Figure size 640x480 with 1 Axes>"
      ]
     },
     "metadata": {},
     "output_type": "display_data"
    }
   ],
   "source": [
    "sns.scatterplot(df_train, x='temp', y='sales', label='y')\n",
    "sns.lineplot(df_train, x='temp',y=_yhat,color='C1',linestyle='--',label='yhat')\n",
    "ax = plt.gca()\n",
    "ax.set_title(\"XGBoost\")\n",
    "plt.legend()"
   ]
  },
  {
   "cell_type": "markdown",
   "id": "6b03274b-3d72-42e9-ba3d-245d94848948",
   "metadata": {},
   "source": [
    "> 부스팅으로 적합한 것 같은 모형이 나오고 있당."
   ]
  },
  {
   "cell_type": "markdown",
   "id": "25f40d49-2947-482e-8a3c-25f89cc423e5",
   "metadata": {},
   "source": [
    "`-` 난 `CatBoost`가 궁금한데?!!!"
   ]
  },
  {
   "cell_type": "code",
   "execution_count": 37,
   "id": "9838ed10-45b4-46b5-ad52-de97d266276c",
   "metadata": {},
   "outputs": [
    {
     "data": {
      "text/plain": [
       "0.9415239367518365"
      ]
     },
     "execution_count": 37,
     "metadata": {},
     "output_type": "execute_result"
    }
   ],
   "source": [
    "_y = df_train.sales\n",
    "_yhat = predictr.predict(df_train, model = 'CatBoost')\n",
    "sklearn.metrics.r2_score(_y, _yhat)"
   ]
  },
  {
   "cell_type": "markdown",
   "id": "a3b37982-b404-42da-817d-d06af6929ffd",
   "metadata": {},
   "source": [
    "* 그래프로 시각화..."
   ]
  },
  {
   "cell_type": "code",
   "execution_count": 39,
   "id": "a1a73173-c9b6-45e0-82ce-d856e24d33ba",
   "metadata": {},
   "outputs": [
    {
     "name": "stdout",
     "output_type": "stream",
     "text": [
      "<class 'pandas.core.frame.DataFrame'>\n",
      "RangeIndex: 100 entries, 0 to 99\n",
      "Data columns (total 2 columns):\n",
      " #   Column  Non-Null Count  Dtype  \n",
      "---  ------  --------------  -----  \n",
      " 0   temp    100 non-null    float64\n",
      " 1   sales   100 non-null    float64\n",
      "dtypes: float64(2)\n",
      "memory usage: 1.7 KB\n"
     ]
    }
   ],
   "source": [
    "df_train.info()"
   ]
  },
  {
   "cell_type": "code",
   "execution_count": 47,
   "id": "9683a7c7-3423-4f62-954f-afbc20a145c8",
   "metadata": {},
   "outputs": [
    {
     "data": {
      "image/png": "[encoded data removed]",
      "text/plain": [
       "<Figure size 640x480 with 1 Axes>"
      ]
     },
     "metadata": {},
     "output_type": "display_data"
    }
   ],
   "source": [
    "sns.scatterplot(df_train, x = 'temp', y = 'sales', label = 'y')\n",
    "sns.lineplot(x = df_train['temp'], y = _yhat, color = 'C1', linestyle = 'dashed', label = 'yhat')\n",
    "fig = plt.gcf()\n",
    "fig.suptitle('CatBoost')\n",
    "plt.legend()\n",
    "plt.show()"
   ]
  }
 ],
 "metadata": {
  "kernelspec": {
   "display_name": "Python 3 (ipykernel)",
   "language": "python",
   "name": "python3"
  },
  "language_info": {
   "codemirror_mode": {
    "name": "ipython",
    "version": 3
   },
   "file_extension": ".py",
   "mimetype": "text/x-python",
   "name": "python",
   "nbconvert_exporter": "python",
   "pygments_lexer": "ipython3",
   "version": "3.10.13"
  }
 },
 "nbformat": 4,
 "nbformat_minor": 5
}
