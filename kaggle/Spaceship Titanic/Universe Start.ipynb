{
 "cells": [
  {
   "cell_type": "markdown",
   "id": "c2137484-a5f7-453d-9115-80d85f17a155",
   "metadata": {},
   "source": [
    "> 새로운 Competition"
   ]
  },
  {
   "cell_type": "code",
   "execution_count": 1,
   "id": "0375f134-aa5c-4ecf-a60f-7c3b675d1f27",
   "metadata": {},
   "outputs": [],
   "source": [
    "import pandas as pd\n",
    "import numpy as np\n",
    "import matplotlib.pyplot as plt\n",
    "import sklearn.linear_model\n",
    "import sklearn.tree\n",
    "import sklearn.preprocessing\n",
    "import sklearn.impute\n",
    "from plotnine import *"
   ]
  },
  {
   "cell_type": "code",
   "execution_count": 2,
   "id": "e89cbe09-7dba-413f-8b43-88c99eb51779",
   "metadata": {},
   "outputs": [],
   "source": [
    "df_train = pd.read_csv(\".\\\\data\\\\train.csv\")\n",
    "df_test = pd.read_csv(\".\\\\data\\\\test.csv\")"
   ]
  },
  {
   "cell_type": "code",
   "execution_count": 3,
   "id": "20ee41f3-31ca-4962-a0c5-1ee0afbfa776",
   "metadata": {},
   "outputs": [
    {
     "name": "stdout",
     "output_type": "stream",
     "text": [
      "<class 'pandas.core.frame.DataFrame'>\n",
      "RangeIndex: 8693 entries, 0 to 8692\n",
      "Data columns (total 14 columns):\n",
      " #   Column        Non-Null Count  Dtype  \n",
      "---  ------        --------------  -----  \n",
      " 0   PassengerId   8693 non-null   object \n",
      " 1   HomePlanet    8492 non-null   object \n",
      " 2   CryoSleep     8476 non-null   object \n",
      " 3   Cabin         8494 non-null   object \n",
      " 4   Destination   8511 non-null   object \n",
      " 5   Age           8514 non-null   float64\n",
      " 6   VIP           8490 non-null   object \n",
      " 7   RoomService   8512 non-null   float64\n",
      " 8   FoodCourt     8510 non-null   float64\n",
      " 9   ShoppingMall  8485 non-null   float64\n",
      " 10  Spa           8510 non-null   float64\n",
      " 11  VRDeck        8505 non-null   float64\n",
      " 12  Name          8493 non-null   object \n",
      " 13  Transported   8693 non-null   bool   \n",
      "dtypes: bool(1), float64(6), object(7)\n",
      "memory usage: 891.5+ KB\n"
     ]
    }
   ],
   "source": [
    "df_train.info()"
   ]
  },
  {
   "cell_type": "code",
   "execution_count": 4,
   "id": "75e96403-29d3-49df-b7af-98008f93fd75",
   "metadata": {},
   "outputs": [
    {
     "name": "stdout",
     "output_type": "stream",
     "text": [
      "<class 'pandas.core.frame.DataFrame'>\n",
      "RangeIndex: 4277 entries, 0 to 4276\n",
      "Data columns (total 13 columns):\n",
      " #   Column        Non-Null Count  Dtype  \n",
      "---  ------        --------------  -----  \n",
      " 0   PassengerId   4277 non-null   object \n",
      " 1   HomePlanet    4190 non-null   object \n",
      " 2   CryoSleep     4184 non-null   object \n",
      " 3   Cabin         4177 non-null   object \n",
      " 4   Destination   4185 non-null   object \n",
      " 5   Age           4186 non-null   float64\n",
      " 6   VIP           4184 non-null   object \n",
      " 7   RoomService   4195 non-null   float64\n",
      " 8   FoodCourt     4171 non-null   float64\n",
      " 9   ShoppingMall  4179 non-null   float64\n",
      " 10  Spa           4176 non-null   float64\n",
      " 11  VRDeck        4197 non-null   float64\n",
      " 12  Name          4183 non-null   object \n",
      "dtypes: float64(6), object(7)\n",
      "memory usage: 434.5+ KB\n"
     ]
    }
   ],
   "source": [
    "df_test.info()"
   ]
  },
  {
   "cell_type": "markdown",
   "id": "ca461101-eed0-4fb5-97f8-795e4d13bcc5",
   "metadata": {},
   "source": [
    "> target variable이 Trasproted, 어딘가로 차원이동되었는지 추측하는 것이다. 이는 bool로 이뤄져 있다."
   ]
  },
  {
   "cell_type": "code",
   "execution_count": 5,
   "id": "6cb42539-8f8d-44f5-8f20-4e8888aac15c",
   "metadata": {},
   "outputs": [
    {
     "data": {
      "text/plain": [
       "Index(['PassengerId', 'HomePlanet', 'CryoSleep', 'Cabin', 'Destination', 'Age',\n",
       "       'VIP', 'RoomService', 'FoodCourt', 'ShoppingMall', 'Spa', 'VRDeck',\n",
       "       'Name', 'Transported'],\n",
       "      dtype='object')"
      ]
     },
     "execution_count": 5,
     "metadata": {},
     "output_type": "execute_result"
    }
   ],
   "source": [
    "df_train.columns"
   ]
  },
  {
   "cell_type": "code",
   "execution_count": 6,
   "id": "9a196b77-9ad4-449d-ac8a-334fa46b705d",
   "metadata": {},
   "outputs": [
    {
     "data": {
      "text/plain": [
       "{'PassengerId': 8693,\n",
       " 'HomePlanet': 4,\n",
       " 'CryoSleep': 3,\n",
       " 'Cabin': 6561,\n",
       " 'Destination': 4,\n",
       " 'VIP': 3,\n",
       " 'Name': 8474}"
      ]
     },
     "execution_count": 6,
     "metadata": {},
     "output_type": "execute_result"
    }
   ],
   "source": [
    "{col : len(set(df_train[col])) for col in df_train.loc[:, df_train.dtypes == object].columns}"
   ]
  },
  {
   "cell_type": "code",
   "execution_count": 7,
   "id": "76b1bc7c-5f4a-45e7-8c33-5b85e1cd81c6",
   "metadata": {},
   "outputs": [
    {
     "name": "stdout",
     "output_type": "stream",
     "text": [
      "<class 'pandas.core.frame.DataFrame'>\n",
      "RangeIndex: 8693 entries, 0 to 8692\n",
      "Data columns (total 14 columns):\n",
      " #   Column        Non-Null Count  Dtype  \n",
      "---  ------        --------------  -----  \n",
      " 0   PassengerId   8693 non-null   object \n",
      " 1   HomePlanet    8492 non-null   object \n",
      " 2   CryoSleep     8476 non-null   object \n",
      " 3   Cabin         8494 non-null   object \n",
      " 4   Destination   8511 non-null   object \n",
      " 5   Age           8514 non-null   float64\n",
      " 6   VIP           8490 non-null   object \n",
      " 7   RoomService   8512 non-null   float64\n",
      " 8   FoodCourt     8510 non-null   float64\n",
      " 9   ShoppingMall  8485 non-null   float64\n",
      " 10  Spa           8510 non-null   float64\n",
      " 11  VRDeck        8505 non-null   float64\n",
      " 12  Name          8493 non-null   object \n",
      " 13  Transported   8693 non-null   bool   \n",
      "dtypes: bool(1), float64(6), object(7)\n",
      "memory usage: 891.5+ KB\n"
     ]
    }
   ],
   "source": [
    "df_train.info()"
   ]
  },
  {
   "cell_type": "markdown",
   "id": "4ce1257b-f505-4b32-8451-2482e43268d5",
   "metadata": {},
   "source": [
    "> 이중 PassengerId, Cabin, Name의 경우 범주형이면서 그 값의 수가 많으므로 고유하다고 판단할 수 있다. Cabin의 경우는 처리가 가능할 수도 있겠으나, 일단 배제한다."
   ]
  },
  {
   "cell_type": "code",
   "execution_count": 8,
   "id": "742751cc-4689-48c5-95a0-d04512f635ff",
   "metadata": {},
   "outputs": [],
   "source": [
    "df_train_drop = df_train.drop(['PassengerId', 'Cabin', 'Name'], axis = 1)\n",
    "df_test_drop = df_test.drop(['PassengerId', 'Cabin', 'Name'], axis = 1)"
   ]
  },
  {
   "cell_type": "code",
   "execution_count": 27,
   "id": "7c0a8bdb-d121-4c67-90a0-2eb31a71116a",
   "metadata": {},
   "outputs": [
    {
     "name": "stdout",
     "output_type": "stream",
     "text": [
      "<class 'pandas.core.frame.DataFrame'>\n",
      "RangeIndex: 8693 entries, 0 to 8692\n",
      "Data columns (total 11 columns):\n",
      " #   Column        Non-Null Count  Dtype  \n",
      "---  ------        --------------  -----  \n",
      " 0   HomePlanet    8492 non-null   object \n",
      " 1   CryoSleep     8476 non-null   object \n",
      " 2   Destination   8511 non-null   object \n",
      " 3   Age           8514 non-null   float64\n",
      " 4   VIP           8490 non-null   object \n",
      " 5   RoomService   8512 non-null   float64\n",
      " 6   FoodCourt     8510 non-null   float64\n",
      " 7   ShoppingMall  8485 non-null   float64\n",
      " 8   Spa           8510 non-null   float64\n",
      " 9   VRDeck        8505 non-null   float64\n",
      " 10  Transported   8693 non-null   bool   \n",
      "dtypes: bool(1), float64(6), object(4)\n",
      "memory usage: 687.8+ KB\n"
     ]
    }
   ],
   "source": [
    "df_train_drop.info()"
   ]
  },
  {
   "cell_type": "markdown",
   "id": "666149c4-aa6a-4da4-a5f9-6e1f2d06d116",
   "metadata": {},
   "source": [
    "> 여기서 결측치를 범주형과 연속형 각각 최빈값과 평균으로 넣어주자."
   ]
  },
  {
   "cell_type": "code",
   "execution_count": 14,
   "id": "8e137b74-4a5b-47d6-a4f8-f343ce98fa71",
   "metadata": {},
   "outputs": [],
   "source": [
    "def df_imputer(df) :\n",
    "    imputr_obj = sklearn.impute.SimpleImputer(strategy = 'most_frequent')\n",
    "    imputr_con = sklearn.impute.SimpleImputer(strategy = 'mean')\n",
    "\n",
    "    df_obj = df.select_dtypes(include = object)\n",
    "    df_con = df.select_dtypes(exclude = object)\n",
    "\n",
    "    obj_imputed = pd.DataFrame(imputr_obj.fit_transform(df_obj), columns = df_obj.columns)\n",
    "    con_imputed = pd.DataFrame(imputr_con.fit_transform(df_con), columns = df_con.columns)\n",
    "\n",
    "    return pd.concat([obj_imputed, con_imputed], axis = 1)"
   ]
  },
  {
   "cell_type": "code",
   "execution_count": 16,
   "id": "2172980c-88b9-4e26-9db2-8d3a0121515f",
   "metadata": {},
   "outputs": [
    {
     "name": "stdout",
     "output_type": "stream",
     "text": [
      "<class 'pandas.core.frame.DataFrame'>\n",
      "RangeIndex: 8693 entries, 0 to 8692\n",
      "Data columns (total 11 columns):\n",
      " #   Column        Non-Null Count  Dtype  \n",
      "---  ------        --------------  -----  \n",
      " 0   HomePlanet    8693 non-null   object \n",
      " 1   CryoSleep     8693 non-null   object \n",
      " 2   Destination   8693 non-null   object \n",
      " 3   VIP           8693 non-null   object \n",
      " 4   Age           8693 non-null   float64\n",
      " 5   RoomService   8693 non-null   float64\n",
      " 6   FoodCourt     8693 non-null   float64\n",
      " 7   ShoppingMall  8693 non-null   float64\n",
      " 8   Spa           8693 non-null   float64\n",
      " 9   VRDeck        8693 non-null   float64\n",
      " 10  Transported   8693 non-null   float64\n",
      "dtypes: float64(7), object(4)\n",
      "memory usage: 747.2+ KB\n"
     ]
    }
   ],
   "source": [
    "df_imputer(df_train_drop).info()"
   ]
  },
  {
   "cell_type": "code",
   "execution_count": 17,
   "id": "5cf7ae94-f3a4-43c4-b016-8fcf0d982eed",
   "metadata": {},
   "outputs": [],
   "source": [
    "df_train_imputed = df_imputer(df_train_drop)\n",
    "df_test_imputed = df_imputer(df_test_drop)"
   ]
  },
  {
   "cell_type": "code",
   "execution_count": 22,
   "id": "ceaa4533-005f-4b85-9bed-ef5e6e55679a",
   "metadata": {},
   "outputs": [
    {
     "name": "stderr",
     "output_type": "stream",
     "text": [
      "C:\\Users\\hollyriver\\anaconda3\\envs\\py\\lib\\site-packages\\sklearn\\linear_model\\_logistic.py:460: ConvergenceWarning: lbfgs failed to converge (status=1):\n",
      "STOP: TOTAL NO. of ITERATIONS REACHED LIMIT.\n",
      "\n",
      "Increase the number of iterations (max_iter) or scale the data as shown in:\n",
      "    https://scikit-learn.org/stable/modules/preprocessing.html\n",
      "Please also refer to the documentation for alternative solver options:\n",
      "    https://scikit-learn.org/stable/modules/linear_model.html#logistic-regression\n"
     ]
    },
    {
     "data": {
      "text/html": [
       "<style>#sk-container-id-2 {color: black;}#sk-container-id-2 pre{padding: 0;}#sk-container-id-2 div.sk-toggleable {background-color: white;}#sk-container-id-2 label.sk-toggleable__label {cursor: pointer;display: block;width: 100%;margin-bottom: 0;padding: 0.3em;box-sizing: border-box;text-align: center;}#sk-container-id-2 label.sk-toggleable__label-arrow:before {content: \"▸\";float: left;margin-right: 0.25em;color: #696969;}#sk-container-id-2 label.sk-toggleable__label-arrow:hover:before {color: black;}#sk-container-id-2 div.sk-estimator:hover label.sk-toggleable__label-arrow:before {color: black;}#sk-container-id-2 div.sk-toggleable__content {max-height: 0;max-width: 0;overflow: hidden;text-align: left;background-color: #f0f8ff;}#sk-container-id-2 div.sk-toggleable__content pre {margin: 0.2em;color: black;border-radius: 0.25em;background-color: #f0f8ff;}#sk-container-id-2 input.sk-toggleable__control:checked~div.sk-toggleable__content {max-height: 200px;max-width: 100%;overflow: auto;}#sk-container-id-2 input.sk-toggleable__control:checked~label.sk-toggleable__label-arrow:before {content: \"▾\";}#sk-container-id-2 div.sk-estimator input.sk-toggleable__control:checked~label.sk-toggleable__label {background-color: #d4ebff;}#sk-container-id-2 div.sk-label input.sk-toggleable__control:checked~label.sk-toggleable__label {background-color: #d4ebff;}#sk-container-id-2 input.sk-hidden--visually {border: 0;clip: rect(1px 1px 1px 1px);clip: rect(1px, 1px, 1px, 1px);height: 1px;margin: -1px;overflow: hidden;padding: 0;position: absolute;width: 1px;}#sk-container-id-2 div.sk-estimator {font-family: monospace;background-color: #f0f8ff;border: 1px dotted black;border-radius: 0.25em;box-sizing: border-box;margin-bottom: 0.5em;}#sk-container-id-2 div.sk-estimator:hover {background-color: #d4ebff;}#sk-container-id-2 div.sk-parallel-item::after {content: \"\";width: 100%;border-bottom: 1px solid gray;flex-grow: 1;}#sk-container-id-2 div.sk-label:hover label.sk-toggleable__label {background-color: #d4ebff;}#sk-container-id-2 div.sk-serial::before {content: \"\";position: absolute;border-left: 1px solid gray;box-sizing: border-box;top: 0;bottom: 0;left: 50%;z-index: 0;}#sk-container-id-2 div.sk-serial {display: flex;flex-direction: column;align-items: center;background-color: white;padding-right: 0.2em;padding-left: 0.2em;position: relative;}#sk-container-id-2 div.sk-item {position: relative;z-index: 1;}#sk-container-id-2 div.sk-parallel {display: flex;align-items: stretch;justify-content: center;background-color: white;position: relative;}#sk-container-id-2 div.sk-item::before, #sk-container-id-2 div.sk-parallel-item::before {content: \"\";position: absolute;border-left: 1px solid gray;box-sizing: border-box;top: 0;bottom: 0;left: 50%;z-index: -1;}#sk-container-id-2 div.sk-parallel-item {display: flex;flex-direction: column;z-index: 1;position: relative;background-color: white;}#sk-container-id-2 div.sk-parallel-item:first-child::after {align-self: flex-end;width: 50%;}#sk-container-id-2 div.sk-parallel-item:last-child::after {align-self: flex-start;width: 50%;}#sk-container-id-2 div.sk-parallel-item:only-child::after {width: 0;}#sk-container-id-2 div.sk-dashed-wrapped {border: 1px dashed gray;margin: 0 0.4em 0.5em 0.4em;box-sizing: border-box;padding-bottom: 0.4em;background-color: white;}#sk-container-id-2 div.sk-label label {font-family: monospace;font-weight: bold;display: inline-block;line-height: 1.2em;}#sk-container-id-2 div.sk-label-container {text-align: center;}#sk-container-id-2 div.sk-container {/* jupyter's `normalize.less` sets `[hidden] { display: none; }` but bootstrap.min.css set `[hidden] { display: none !important; }` so we also need the `!important` here to be able to override the default hidden behavior on the sphinx rendered scikit-learn.org. See: https://github.com/scikit-learn/scikit-learn/issues/21755 */display: inline-block !important;position: relative;}#sk-container-id-2 div.sk-text-repr-fallback {display: none;}</style><div id=\"sk-container-id-2\" class=\"sk-top-container\"><div class=\"sk-text-repr-fallback\"><pre>LogisticRegression()</pre><b>In a Jupyter environment, please rerun this cell to show the HTML representation or trust the notebook. <br />On GitHub, the HTML representation is unable to render, please try loading this page with nbviewer.org.</b></div><div class=\"sk-container\" hidden><div class=\"sk-item\"><div class=\"sk-estimator sk-toggleable\"><input class=\"sk-toggleable__control sk-hidden--visually\" id=\"sk-estimator-id-2\" type=\"checkbox\" checked><label for=\"sk-estimator-id-2\" class=\"sk-toggleable__label sk-toggleable__label-arrow\">LogisticRegression</label><div class=\"sk-toggleable__content\"><pre>LogisticRegression()</pre></div></div></div></div></div>"
      ],
      "text/plain": [
       "LogisticRegression()"
      ]
     },
     "execution_count": 22,
     "metadata": {},
     "output_type": "execute_result"
    }
   ],
   "source": [
    "## 1\n",
    "X = pd.get_dummies(df_train_imputed.drop('Transported', axis = 1), drop_first = True)\n",
    "y = df_train_imputed.Transported\n",
    "XX = pd.get_dummies(df_test_imputed, drop_first = True)\n",
    "\n",
    "## 2\n",
    "predictr = sklearn.linear_model.LogisticRegression()\n",
    "\n",
    "## 3\n",
    "predictr.fit(X, y)"
   ]
  },
  {
   "cell_type": "code",
   "execution_count": 23,
   "id": "51fcca65-cbde-4c75-9c9f-45302c8dc103",
   "metadata": {},
   "outputs": [
    {
     "data": {
      "text/plain": [
       "0.7869550212814909"
      ]
     },
     "execution_count": 23,
     "metadata": {},
     "output_type": "execute_result"
    }
   ],
   "source": [
    "predictr.score(X, y)"
   ]
  },
  {
   "cell_type": "markdown",
   "id": "6fcd1b4c-e193-43e5-889e-08c30655fbcc",
   "metadata": {},
   "source": [
    "> 그렇게 처참하진 않은 점수(그리고 그는 이 점수를 깨기가 얼마나 힘든지 깨닫게 된다.)"
   ]
  },
  {
   "cell_type": "code",
   "execution_count": 29,
   "id": "83a5e840-c18f-4ff6-9c19-2a96baed6111",
   "metadata": {},
   "outputs": [
    {
     "data": {
      "text/html": [
       "<div>\n",
       "<style scoped>\n",
       "    .dataframe tbody tr th:only-of-type {\n",
       "        vertical-align: middle;\n",
       "    }\n",
       "\n",
       "    .dataframe tbody tr th {\n",
       "        vertical-align: top;\n",
       "    }\n",
       "\n",
       "    .dataframe thead th {\n",
       "        text-align: right;\n",
       "    }\n",
       "</style>\n",
       "<table border=\"1\" class=\"dataframe\">\n",
       "  <thead>\n",
       "    <tr style=\"text-align: right;\">\n",
       "      <th></th>\n",
       "      <th>PassengerId</th>\n",
       "      <th>Transported</th>\n",
       "    </tr>\n",
       "  </thead>\n",
       "  <tbody>\n",
       "    <tr>\n",
       "      <th>0</th>\n",
       "      <td>0013_01</td>\n",
       "      <td>True</td>\n",
       "    </tr>\n",
       "    <tr>\n",
       "      <th>1</th>\n",
       "      <td>0018_01</td>\n",
       "      <td>False</td>\n",
       "    </tr>\n",
       "    <tr>\n",
       "      <th>2</th>\n",
       "      <td>0019_01</td>\n",
       "      <td>True</td>\n",
       "    </tr>\n",
       "    <tr>\n",
       "      <th>3</th>\n",
       "      <td>0021_01</td>\n",
       "      <td>True</td>\n",
       "    </tr>\n",
       "    <tr>\n",
       "      <th>4</th>\n",
       "      <td>0023_01</td>\n",
       "      <td>False</td>\n",
       "    </tr>\n",
       "    <tr>\n",
       "      <th>...</th>\n",
       "      <td>...</td>\n",
       "      <td>...</td>\n",
       "    </tr>\n",
       "    <tr>\n",
       "      <th>4272</th>\n",
       "      <td>9266_02</td>\n",
       "      <td>True</td>\n",
       "    </tr>\n",
       "    <tr>\n",
       "      <th>4273</th>\n",
       "      <td>9269_01</td>\n",
       "      <td>False</td>\n",
       "    </tr>\n",
       "    <tr>\n",
       "      <th>4274</th>\n",
       "      <td>9271_01</td>\n",
       "      <td>True</td>\n",
       "    </tr>\n",
       "    <tr>\n",
       "      <th>4275</th>\n",
       "      <td>9273_01</td>\n",
       "      <td>True</td>\n",
       "    </tr>\n",
       "    <tr>\n",
       "      <th>4276</th>\n",
       "      <td>9277_01</td>\n",
       "      <td>True</td>\n",
       "    </tr>\n",
       "  </tbody>\n",
       "</table>\n",
       "<p>4277 rows × 2 columns</p>\n",
       "</div>"
      ],
      "text/plain": [
       "     PassengerId  Transported\n",
       "0        0013_01         True\n",
       "1        0018_01        False\n",
       "2        0019_01         True\n",
       "3        0021_01         True\n",
       "4        0023_01        False\n",
       "...          ...          ...\n",
       "4272     9266_02         True\n",
       "4273     9269_01        False\n",
       "4274     9271_01         True\n",
       "4275     9273_01         True\n",
       "4276     9277_01         True\n",
       "\n",
       "[4277 rows x 2 columns]"
      ]
     },
     "execution_count": 29,
     "metadata": {},
     "output_type": "execute_result"
    }
   ],
   "source": [
    "sub_df = df_test[['PassengerId']].assign(Transported = predictr.predict(XX))\n",
    "sub_df.assign(Transported = lambda _df : _df.Transported == 1)"
   ]
  },
  {
   "cell_type": "code",
   "execution_count": 30,
   "id": "22820d62-4e00-4df2-b52a-76fd4a6193bb",
   "metadata": {},
   "outputs": [],
   "source": [
    "sub_df.assign(Transported = lambda _df : _df.Transported == 1).to_csv('submission_SimpleLinearRegression.csv', index = False)"
   ]
  },
  {
   "cell_type": "markdown",
   "id": "bf55c4a5-fa54-4d71-b5b6-08259deb189e",
   "metadata": {},
   "source": [
    "> Lasso를 이용"
   ]
  },
  {
   "cell_type": "code",
   "execution_count": 31,
   "id": "8b47cd7e-ff7a-4631-9503-53953a39dca7",
   "metadata": {},
   "outputs": [
    {
     "data": {
      "text/html": [
       "<style>#sk-container-id-3 {color: black;}#sk-container-id-3 pre{padding: 0;}#sk-container-id-3 div.sk-toggleable {background-color: white;}#sk-container-id-3 label.sk-toggleable__label {cursor: pointer;display: block;width: 100%;margin-bottom: 0;padding: 0.3em;box-sizing: border-box;text-align: center;}#sk-container-id-3 label.sk-toggleable__label-arrow:before {content: \"▸\";float: left;margin-right: 0.25em;color: #696969;}#sk-container-id-3 label.sk-toggleable__label-arrow:hover:before {color: black;}#sk-container-id-3 div.sk-estimator:hover label.sk-toggleable__label-arrow:before {color: black;}#sk-container-id-3 div.sk-toggleable__content {max-height: 0;max-width: 0;overflow: hidden;text-align: left;background-color: #f0f8ff;}#sk-container-id-3 div.sk-toggleable__content pre {margin: 0.2em;color: black;border-radius: 0.25em;background-color: #f0f8ff;}#sk-container-id-3 input.sk-toggleable__control:checked~div.sk-toggleable__content {max-height: 200px;max-width: 100%;overflow: auto;}#sk-container-id-3 input.sk-toggleable__control:checked~label.sk-toggleable__label-arrow:before {content: \"▾\";}#sk-container-id-3 div.sk-estimator input.sk-toggleable__control:checked~label.sk-toggleable__label {background-color: #d4ebff;}#sk-container-id-3 div.sk-label input.sk-toggleable__control:checked~label.sk-toggleable__label {background-color: #d4ebff;}#sk-container-id-3 input.sk-hidden--visually {border: 0;clip: rect(1px 1px 1px 1px);clip: rect(1px, 1px, 1px, 1px);height: 1px;margin: -1px;overflow: hidden;padding: 0;position: absolute;width: 1px;}#sk-container-id-3 div.sk-estimator {font-family: monospace;background-color: #f0f8ff;border: 1px dotted black;border-radius: 0.25em;box-sizing: border-box;margin-bottom: 0.5em;}#sk-container-id-3 div.sk-estimator:hover {background-color: #d4ebff;}#sk-container-id-3 div.sk-parallel-item::after {content: \"\";width: 100%;border-bottom: 1px solid gray;flex-grow: 1;}#sk-container-id-3 div.sk-label:hover label.sk-toggleable__label {background-color: #d4ebff;}#sk-container-id-3 div.sk-serial::before {content: \"\";position: absolute;border-left: 1px solid gray;box-sizing: border-box;top: 0;bottom: 0;left: 50%;z-index: 0;}#sk-container-id-3 div.sk-serial {display: flex;flex-direction: column;align-items: center;background-color: white;padding-right: 0.2em;padding-left: 0.2em;position: relative;}#sk-container-id-3 div.sk-item {position: relative;z-index: 1;}#sk-container-id-3 div.sk-parallel {display: flex;align-items: stretch;justify-content: center;background-color: white;position: relative;}#sk-container-id-3 div.sk-item::before, #sk-container-id-3 div.sk-parallel-item::before {content: \"\";position: absolute;border-left: 1px solid gray;box-sizing: border-box;top: 0;bottom: 0;left: 50%;z-index: -1;}#sk-container-id-3 div.sk-parallel-item {display: flex;flex-direction: column;z-index: 1;position: relative;background-color: white;}#sk-container-id-3 div.sk-parallel-item:first-child::after {align-self: flex-end;width: 50%;}#sk-container-id-3 div.sk-parallel-item:last-child::after {align-self: flex-start;width: 50%;}#sk-container-id-3 div.sk-parallel-item:only-child::after {width: 0;}#sk-container-id-3 div.sk-dashed-wrapped {border: 1px dashed gray;margin: 0 0.4em 0.5em 0.4em;box-sizing: border-box;padding-bottom: 0.4em;background-color: white;}#sk-container-id-3 div.sk-label label {font-family: monospace;font-weight: bold;display: inline-block;line-height: 1.2em;}#sk-container-id-3 div.sk-label-container {text-align: center;}#sk-container-id-3 div.sk-container {/* jupyter's `normalize.less` sets `[hidden] { display: none; }` but bootstrap.min.css set `[hidden] { display: none !important; }` so we also need the `!important` here to be able to override the default hidden behavior on the sphinx rendered scikit-learn.org. See: https://github.com/scikit-learn/scikit-learn/issues/21755 */display: inline-block !important;position: relative;}#sk-container-id-3 div.sk-text-repr-fallback {display: none;}</style><div id=\"sk-container-id-3\" class=\"sk-top-container\"><div class=\"sk-text-repr-fallback\"><pre>LogisticRegressionCV(penalty=&#x27;l1&#x27;, solver=&#x27;liblinear&#x27;)</pre><b>In a Jupyter environment, please rerun this cell to show the HTML representation or trust the notebook. <br />On GitHub, the HTML representation is unable to render, please try loading this page with nbviewer.org.</b></div><div class=\"sk-container\" hidden><div class=\"sk-item\"><div class=\"sk-estimator sk-toggleable\"><input class=\"sk-toggleable__control sk-hidden--visually\" id=\"sk-estimator-id-3\" type=\"checkbox\" checked><label for=\"sk-estimator-id-3\" class=\"sk-toggleable__label sk-toggleable__label-arrow\">LogisticRegressionCV</label><div class=\"sk-toggleable__content\"><pre>LogisticRegressionCV(penalty=&#x27;l1&#x27;, solver=&#x27;liblinear&#x27;)</pre></div></div></div></div></div>"
      ],
      "text/plain": [
       "LogisticRegressionCV(penalty='l1', solver='liblinear')"
      ]
     },
     "execution_count": 31,
     "metadata": {},
     "output_type": "execute_result"
    }
   ],
   "source": [
    "## 1\n",
    "X = pd.get_dummies(df_train_imputed.drop('Transported', axis = 1), drop_first = True)\n",
    "y = df_train_imputed.Transported\n",
    "XX = pd.get_dummies(df_test_imputed, drop_first = True)\n",
    "\n",
    "## 2\n",
    "predictr = sklearn.linear_model.LogisticRegressionCV(penalty = 'l1', solver = 'liblinear')\n",
    "\n",
    "## 3\n",
    "predictr.fit(X, y)"
   ]
  },
  {
   "cell_type": "code",
   "execution_count": 32,
   "id": "37711a1c-e134-4a19-ab6f-83e5c074e81d",
   "metadata": {},
   "outputs": [
    {
     "data": {
      "text/plain": [
       "0.7886805475670079"
      ]
     },
     "execution_count": 32,
     "metadata": {},
     "output_type": "execute_result"
    }
   ],
   "source": [
    "predictr.score(X, y)"
   ]
  },
  {
   "cell_type": "code",
   "execution_count": 33,
   "id": "bdcbbdcc-d652-49e8-8cbd-d5e6ce64b731",
   "metadata": {},
   "outputs": [
    {
     "data": {
      "text/html": [
       "<div>\n",
       "<style scoped>\n",
       "    .dataframe tbody tr th:only-of-type {\n",
       "        vertical-align: middle;\n",
       "    }\n",
       "\n",
       "    .dataframe tbody tr th {\n",
       "        vertical-align: top;\n",
       "    }\n",
       "\n",
       "    .dataframe thead th {\n",
       "        text-align: right;\n",
       "    }\n",
       "</style>\n",
       "<table border=\"1\" class=\"dataframe\">\n",
       "  <thead>\n",
       "    <tr style=\"text-align: right;\">\n",
       "      <th></th>\n",
       "      <th>PassengerId</th>\n",
       "      <th>Transported</th>\n",
       "    </tr>\n",
       "  </thead>\n",
       "  <tbody>\n",
       "    <tr>\n",
       "      <th>0</th>\n",
       "      <td>0013_01</td>\n",
       "      <td>True</td>\n",
       "    </tr>\n",
       "    <tr>\n",
       "      <th>1</th>\n",
       "      <td>0018_01</td>\n",
       "      <td>False</td>\n",
       "    </tr>\n",
       "    <tr>\n",
       "      <th>2</th>\n",
       "      <td>0019_01</td>\n",
       "      <td>True</td>\n",
       "    </tr>\n",
       "    <tr>\n",
       "      <th>3</th>\n",
       "      <td>0021_01</td>\n",
       "      <td>True</td>\n",
       "    </tr>\n",
       "    <tr>\n",
       "      <th>4</th>\n",
       "      <td>0023_01</td>\n",
       "      <td>True</td>\n",
       "    </tr>\n",
       "    <tr>\n",
       "      <th>...</th>\n",
       "      <td>...</td>\n",
       "      <td>...</td>\n",
       "    </tr>\n",
       "    <tr>\n",
       "      <th>4272</th>\n",
       "      <td>9266_02</td>\n",
       "      <td>True</td>\n",
       "    </tr>\n",
       "    <tr>\n",
       "      <th>4273</th>\n",
       "      <td>9269_01</td>\n",
       "      <td>False</td>\n",
       "    </tr>\n",
       "    <tr>\n",
       "      <th>4274</th>\n",
       "      <td>9271_01</td>\n",
       "      <td>True</td>\n",
       "    </tr>\n",
       "    <tr>\n",
       "      <th>4275</th>\n",
       "      <td>9273_01</td>\n",
       "      <td>True</td>\n",
       "    </tr>\n",
       "    <tr>\n",
       "      <th>4276</th>\n",
       "      <td>9277_01</td>\n",
       "      <td>True</td>\n",
       "    </tr>\n",
       "  </tbody>\n",
       "</table>\n",
       "<p>4277 rows × 2 columns</p>\n",
       "</div>"
      ],
      "text/plain": [
       "     PassengerId  Transported\n",
       "0        0013_01         True\n",
       "1        0018_01        False\n",
       "2        0019_01         True\n",
       "3        0021_01         True\n",
       "4        0023_01         True\n",
       "...          ...          ...\n",
       "4272     9266_02         True\n",
       "4273     9269_01        False\n",
       "4274     9271_01         True\n",
       "4275     9273_01         True\n",
       "4276     9277_01         True\n",
       "\n",
       "[4277 rows x 2 columns]"
      ]
     },
     "execution_count": 33,
     "metadata": {},
     "output_type": "execute_result"
    }
   ],
   "source": [
    "sub_df = df_test[['PassengerId']].assign(Transported = predictr.predict(XX))\n",
    "sub_df.assign(Transported = lambda _df : _df.Transported == 1)"
   ]
  },
  {
   "cell_type": "code",
   "execution_count": 34,
   "id": "6de6a402-2054-48c8-ac65-7be0c4c43e7f",
   "metadata": {},
   "outputs": [],
   "source": [
    "sub_df.assign(Transported = lambda _df : _df.Transported == 1).to_csv('Submission_Lasso.csv', index = False)"
   ]
  },
  {
   "cell_type": "markdown",
   "id": "88e1a7c9-b5a8-4cc8-92e2-7285bde4c567",
   "metadata": {},
   "source": [
    "> 그냥 로지스틱으로 한 것보다 더 안좋은 결과...(관련없는 변수는 없었나봄)"
   ]
  },
  {
   "cell_type": "code",
   "execution_count": 41,
   "id": "100a3311-5a46-4758-a82d-2085ce1abc49",
   "metadata": {},
   "outputs": [
    {
     "data": {
      "text/html": [
       "<div>\n",
       "<style scoped>\n",
       "    .dataframe tbody tr th:only-of-type {\n",
       "        vertical-align: middle;\n",
       "    }\n",
       "\n",
       "    .dataframe tbody tr th {\n",
       "        vertical-align: top;\n",
       "    }\n",
       "\n",
       "    .dataframe thead th {\n",
       "        text-align: right;\n",
       "    }\n",
       "</style>\n",
       "<table border=\"1\" class=\"dataframe\">\n",
       "  <thead>\n",
       "    <tr style=\"text-align: right;\">\n",
       "      <th></th>\n",
       "      <th>Age</th>\n",
       "      <th>RoomService</th>\n",
       "      <th>FoodCourt</th>\n",
       "      <th>ShoppingMall</th>\n",
       "      <th>Spa</th>\n",
       "      <th>VRDeck</th>\n",
       "      <th>Transported</th>\n",
       "      <th>HomePlanet_Europa</th>\n",
       "      <th>HomePlanet_Mars</th>\n",
       "      <th>CryoSleep_True</th>\n",
       "      <th>Destination_PSO J318.5-22</th>\n",
       "      <th>Destination_TRAPPIST-1e</th>\n",
       "      <th>VIP_True</th>\n",
       "    </tr>\n",
       "  </thead>\n",
       "  <tbody>\n",
       "    <tr>\n",
       "      <th>Age</th>\n",
       "      <td>1.000000</td>\n",
       "      <td>0.067612</td>\n",
       "      <td>0.127937</td>\n",
       "      <td>0.032655</td>\n",
       "      <td>0.120992</td>\n",
       "      <td>0.099210</td>\n",
       "      <td>-0.074249</td>\n",
       "      <td>0.217444</td>\n",
       "      <td>0.016081</td>\n",
       "      <td>-0.070736</td>\n",
       "      <td>-0.028247</td>\n",
       "      <td>0.003008</td>\n",
       "      <td>0.091574</td>\n",
       "    </tr>\n",
       "    <tr>\n",
       "      <th>RoomService</th>\n",
       "      <td>0.067612</td>\n",
       "      <td>1.000000</td>\n",
       "      <td>-0.015521</td>\n",
       "      <td>0.052962</td>\n",
       "      <td>0.009925</td>\n",
       "      <td>-0.019207</td>\n",
       "      <td>-0.242048</td>\n",
       "      <td>-0.067476</td>\n",
       "      <td>0.245451</td>\n",
       "      <td>-0.243986</td>\n",
       "      <td>-0.062828</td>\n",
       "      <td>0.061098</td>\n",
       "      <td>0.056595</td>\n",
       "    </tr>\n",
       "    <tr>\n",
       "      <th>FoodCourt</th>\n",
       "      <td>0.127937</td>\n",
       "      <td>-0.015521</td>\n",
       "      <td>1.000000</td>\n",
       "      <td>-0.013934</td>\n",
       "      <td>0.220587</td>\n",
       "      <td>0.224275</td>\n",
       "      <td>0.046074</td>\n",
       "      <td>0.365500</td>\n",
       "      <td>-0.124781</td>\n",
       "      <td>-0.205682</td>\n",
       "      <td>-0.065542</td>\n",
       "      <td>-0.078216</td>\n",
       "      <td>0.126006</td>\n",
       "    </tr>\n",
       "    <tr>\n",
       "      <th>ShoppingMall</th>\n",
       "      <td>0.032655</td>\n",
       "      <td>0.052962</td>\n",
       "      <td>-0.013934</td>\n",
       "      <td>1.000000</td>\n",
       "      <td>0.013678</td>\n",
       "      <td>-0.007189</td>\n",
       "      <td>0.010019</td>\n",
       "      <td>-0.021019</td>\n",
       "      <td>0.111257</td>\n",
       "      <td>-0.206366</td>\n",
       "      <td>-0.031397</td>\n",
       "      <td>0.031603</td>\n",
       "      <td>0.018483</td>\n",
       "    </tr>\n",
       "    <tr>\n",
       "      <th>Spa</th>\n",
       "      <td>0.120992</td>\n",
       "      <td>0.009925</td>\n",
       "      <td>0.220587</td>\n",
       "      <td>0.013678</td>\n",
       "      <td>1.000000</td>\n",
       "      <td>0.147957</td>\n",
       "      <td>-0.218791</td>\n",
       "      <td>0.266323</td>\n",
       "      <td>-0.088140</td>\n",
       "      <td>-0.198392</td>\n",
       "      <td>-0.053428</td>\n",
       "      <td>-0.032948</td>\n",
       "      <td>0.060573</td>\n",
       "    </tr>\n",
       "    <tr>\n",
       "      <th>VRDeck</th>\n",
       "      <td>0.099210</td>\n",
       "      <td>-0.019207</td>\n",
       "      <td>0.224275</td>\n",
       "      <td>-0.007189</td>\n",
       "      <td>0.147957</td>\n",
       "      <td>1.000000</td>\n",
       "      <td>-0.204825</td>\n",
       "      <td>0.282118</td>\n",
       "      <td>-0.111875</td>\n",
       "      <td>-0.193107</td>\n",
       "      <td>-0.045454</td>\n",
       "      <td>-0.050878</td>\n",
       "      <td>0.123092</td>\n",
       "    </tr>\n",
       "    <tr>\n",
       "      <th>Transported</th>\n",
       "      <td>-0.074249</td>\n",
       "      <td>-0.242048</td>\n",
       "      <td>0.046074</td>\n",
       "      <td>0.010019</td>\n",
       "      <td>-0.218791</td>\n",
       "      <td>-0.204825</td>\n",
       "      <td>1.000000</td>\n",
       "      <td>0.176916</td>\n",
       "      <td>0.019544</td>\n",
       "      <td>0.460132</td>\n",
       "      <td>0.000092</td>\n",
       "      <td>-0.096319</td>\n",
       "      <td>-0.037261</td>\n",
       "    </tr>\n",
       "    <tr>\n",
       "      <th>HomePlanet_Europa</th>\n",
       "      <td>0.217444</td>\n",
       "      <td>-0.067476</td>\n",
       "      <td>0.365500</td>\n",
       "      <td>-0.021019</td>\n",
       "      <td>0.266323</td>\n",
       "      <td>0.282118</td>\n",
       "      <td>0.176916</td>\n",
       "      <td>1.000000</td>\n",
       "      <td>-0.287022</td>\n",
       "      <td>0.093395</td>\n",
       "      <td>-0.163308</td>\n",
       "      <td>-0.156958</td>\n",
       "      <td>0.147008</td>\n",
       "    </tr>\n",
       "    <tr>\n",
       "      <th>HomePlanet_Mars</th>\n",
       "      <td>0.016081</td>\n",
       "      <td>0.245451</td>\n",
       "      <td>-0.124781</td>\n",
       "      <td>0.111257</td>\n",
       "      <td>-0.088140</td>\n",
       "      <td>-0.111875</td>\n",
       "      <td>0.019544</td>\n",
       "      <td>-0.287022</td>\n",
       "      <td>1.000000</td>\n",
       "      <td>0.032715</td>\n",
       "      <td>-0.111260</td>\n",
       "      <td>0.177243</td>\n",
       "      <td>0.043523</td>\n",
       "    </tr>\n",
       "    <tr>\n",
       "      <th>CryoSleep_True</th>\n",
       "      <td>-0.070736</td>\n",
       "      <td>-0.243986</td>\n",
       "      <td>-0.205682</td>\n",
       "      <td>-0.206366</td>\n",
       "      <td>-0.198392</td>\n",
       "      <td>-0.193107</td>\n",
       "      <td>0.460132</td>\n",
       "      <td>0.093395</td>\n",
       "      <td>0.032715</td>\n",
       "      <td>1.000000</td>\n",
       "      <td>0.087764</td>\n",
       "      <td>-0.113380</td>\n",
       "      <td>-0.078281</td>\n",
       "    </tr>\n",
       "    <tr>\n",
       "      <th>Destination_PSO J318.5-22</th>\n",
       "      <td>-0.028247</td>\n",
       "      <td>-0.062828</td>\n",
       "      <td>-0.065542</td>\n",
       "      <td>-0.031397</td>\n",
       "      <td>-0.053428</td>\n",
       "      <td>-0.045454</td>\n",
       "      <td>0.000092</td>\n",
       "      <td>-0.163308</td>\n",
       "      <td>-0.111260</td>\n",
       "      <td>0.087764</td>\n",
       "      <td>1.000000</td>\n",
       "      <td>-0.486554</td>\n",
       "      <td>-0.000592</td>\n",
       "    </tr>\n",
       "    <tr>\n",
       "      <th>Destination_TRAPPIST-1e</th>\n",
       "      <td>0.003008</td>\n",
       "      <td>0.061098</td>\n",
       "      <td>-0.078216</td>\n",
       "      <td>0.031603</td>\n",
       "      <td>-0.032948</td>\n",
       "      <td>-0.050878</td>\n",
       "      <td>-0.096319</td>\n",
       "      <td>-0.156958</td>\n",
       "      <td>0.177243</td>\n",
       "      <td>-0.113380</td>\n",
       "      <td>-0.486554</td>\n",
       "      <td>1.000000</td>\n",
       "      <td>-0.039617</td>\n",
       "    </tr>\n",
       "    <tr>\n",
       "      <th>VIP_True</th>\n",
       "      <td>0.091574</td>\n",
       "      <td>0.056595</td>\n",
       "      <td>0.126006</td>\n",
       "      <td>0.018483</td>\n",
       "      <td>0.060573</td>\n",
       "      <td>0.123092</td>\n",
       "      <td>-0.037261</td>\n",
       "      <td>0.147008</td>\n",
       "      <td>0.043523</td>\n",
       "      <td>-0.078281</td>\n",
       "      <td>-0.000592</td>\n",
       "      <td>-0.039617</td>\n",
       "      <td>1.000000</td>\n",
       "    </tr>\n",
       "  </tbody>\n",
       "</table>\n",
       "</div>"
      ],
      "text/plain": [
       "                                Age  RoomService  FoodCourt  ShoppingMall  \\\n",
       "Age                        1.000000     0.067612   0.127937      0.032655   \n",
       "RoomService                0.067612     1.000000  -0.015521      0.052962   \n",
       "FoodCourt                  0.127937    -0.015521   1.000000     -0.013934   \n",
       "ShoppingMall               0.032655     0.052962  -0.013934      1.000000   \n",
       "Spa                        0.120992     0.009925   0.220587      0.013678   \n",
       "VRDeck                     0.099210    -0.019207   0.224275     -0.007189   \n",
       "Transported               -0.074249    -0.242048   0.046074      0.010019   \n",
       "HomePlanet_Europa          0.217444    -0.067476   0.365500     -0.021019   \n",
       "HomePlanet_Mars            0.016081     0.245451  -0.124781      0.111257   \n",
       "CryoSleep_True            -0.070736    -0.243986  -0.205682     -0.206366   \n",
       "Destination_PSO J318.5-22 -0.028247    -0.062828  -0.065542     -0.031397   \n",
       "Destination_TRAPPIST-1e    0.003008     0.061098  -0.078216      0.031603   \n",
       "VIP_True                   0.091574     0.056595   0.126006      0.018483   \n",
       "\n",
       "                                Spa    VRDeck  Transported  HomePlanet_Europa  \\\n",
       "Age                        0.120992  0.099210    -0.074249           0.217444   \n",
       "RoomService                0.009925 -0.019207    -0.242048          -0.067476   \n",
       "FoodCourt                  0.220587  0.224275     0.046074           0.365500   \n",
       "ShoppingMall               0.013678 -0.007189     0.010019          -0.021019   \n",
       "Spa                        1.000000  0.147957    -0.218791           0.266323   \n",
       "VRDeck                     0.147957  1.000000    -0.204825           0.282118   \n",
       "Transported               -0.218791 -0.204825     1.000000           0.176916   \n",
       "HomePlanet_Europa          0.266323  0.282118     0.176916           1.000000   \n",
       "HomePlanet_Mars           -0.088140 -0.111875     0.019544          -0.287022   \n",
       "CryoSleep_True            -0.198392 -0.193107     0.460132           0.093395   \n",
       "Destination_PSO J318.5-22 -0.053428 -0.045454     0.000092          -0.163308   \n",
       "Destination_TRAPPIST-1e   -0.032948 -0.050878    -0.096319          -0.156958   \n",
       "VIP_True                   0.060573  0.123092    -0.037261           0.147008   \n",
       "\n",
       "                           HomePlanet_Mars  CryoSleep_True  \\\n",
       "Age                               0.016081       -0.070736   \n",
       "RoomService                       0.245451       -0.243986   \n",
       "FoodCourt                        -0.124781       -0.205682   \n",
       "ShoppingMall                      0.111257       -0.206366   \n",
       "Spa                              -0.088140       -0.198392   \n",
       "VRDeck                           -0.111875       -0.193107   \n",
       "Transported                       0.019544        0.460132   \n",
       "HomePlanet_Europa                -0.287022        0.093395   \n",
       "HomePlanet_Mars                   1.000000        0.032715   \n",
       "CryoSleep_True                    0.032715        1.000000   \n",
       "Destination_PSO J318.5-22        -0.111260        0.087764   \n",
       "Destination_TRAPPIST-1e           0.177243       -0.113380   \n",
       "VIP_True                          0.043523       -0.078281   \n",
       "\n",
       "                           Destination_PSO J318.5-22  Destination_TRAPPIST-1e  \\\n",
       "Age                                        -0.028247                 0.003008   \n",
       "RoomService                                -0.062828                 0.061098   \n",
       "FoodCourt                                  -0.065542                -0.078216   \n",
       "ShoppingMall                               -0.031397                 0.031603   \n",
       "Spa                                        -0.053428                -0.032948   \n",
       "VRDeck                                     -0.045454                -0.050878   \n",
       "Transported                                 0.000092                -0.096319   \n",
       "HomePlanet_Europa                          -0.163308                -0.156958   \n",
       "HomePlanet_Mars                            -0.111260                 0.177243   \n",
       "CryoSleep_True                              0.087764                -0.113380   \n",
       "Destination_PSO J318.5-22                   1.000000                -0.486554   \n",
       "Destination_TRAPPIST-1e                    -0.486554                 1.000000   \n",
       "VIP_True                                   -0.000592                -0.039617   \n",
       "\n",
       "                           VIP_True  \n",
       "Age                        0.091574  \n",
       "RoomService                0.056595  \n",
       "FoodCourt                  0.126006  \n",
       "ShoppingMall               0.018483  \n",
       "Spa                        0.060573  \n",
       "VRDeck                     0.123092  \n",
       "Transported               -0.037261  \n",
       "HomePlanet_Europa          0.147008  \n",
       "HomePlanet_Mars            0.043523  \n",
       "CryoSleep_True            -0.078281  \n",
       "Destination_PSO J318.5-22 -0.000592  \n",
       "Destination_TRAPPIST-1e   -0.039617  \n",
       "VIP_True                   1.000000  "
      ]
     },
     "execution_count": 41,
     "metadata": {},
     "output_type": "execute_result"
    }
   ],
   "source": [
    "pd.get_dummies(df_train_imputed, drop_first = True).corr()"
   ]
  },
  {
   "cell_type": "markdown",
   "id": "4300705a-f904-4d68-b0a1-625b955574a0",
   "metadata": {},
   "source": [
    "> 고객이 서비스로 소비한 항목들, RoomService, FoodCourt, ShoppingMall, Spa, VRDeck의 경우 합쳐도 될 것 같음."
   ]
  },
  {
   "cell_type": "code",
   "execution_count": 50,
   "id": "0fd6a90a-3b06-45fb-a49f-7159a30cbc7f",
   "metadata": {},
   "outputs": [],
   "source": [
    "df_train_Consume = df_train_imputed.assign(Consume = lambda _df : _df.RoomService + _df.FoodCourt + _df.ShoppingMall + _df.Spa + _df.VRDeck)\\\n",
    ".drop(['RoomService', 'FoodCourt', 'ShoppingMall', 'Spa', 'VRDeck'], axis = 1)"
   ]
  },
  {
   "cell_type": "code",
   "execution_count": 51,
   "id": "392c67c2-db31-4cf7-ad65-d77df9414a54",
   "metadata": {},
   "outputs": [
    {
     "data": {
      "text/html": [
       "<div>\n",
       "<style scoped>\n",
       "    .dataframe tbody tr th:only-of-type {\n",
       "        vertical-align: middle;\n",
       "    }\n",
       "\n",
       "    .dataframe tbody tr th {\n",
       "        vertical-align: top;\n",
       "    }\n",
       "\n",
       "    .dataframe thead th {\n",
       "        text-align: right;\n",
       "    }\n",
       "</style>\n",
       "<table border=\"1\" class=\"dataframe\">\n",
       "  <thead>\n",
       "    <tr style=\"text-align: right;\">\n",
       "      <th></th>\n",
       "      <th>Age</th>\n",
       "      <th>Transported</th>\n",
       "      <th>Consume</th>\n",
       "      <th>HomePlanet_Earth</th>\n",
       "      <th>HomePlanet_Europa</th>\n",
       "      <th>HomePlanet_Mars</th>\n",
       "      <th>CryoSleep_False</th>\n",
       "      <th>CryoSleep_True</th>\n",
       "      <th>Destination_55 Cancri e</th>\n",
       "      <th>Destination_PSO J318.5-22</th>\n",
       "      <th>Destination_TRAPPIST-1e</th>\n",
       "      <th>VIP_False</th>\n",
       "      <th>VIP_True</th>\n",
       "    </tr>\n",
       "  </thead>\n",
       "  <tbody>\n",
       "    <tr>\n",
       "      <th>Age</th>\n",
       "      <td>1.000000</td>\n",
       "      <td>-0.074249</td>\n",
       "      <td>0.184509</td>\n",
       "      <td>-0.201109</td>\n",
       "      <td>0.217444</td>\n",
       "      <td>0.016081</td>\n",
       "      <td>0.070736</td>\n",
       "      <td>-0.070736</td>\n",
       "      <td>0.016709</td>\n",
       "      <td>-0.028247</td>\n",
       "      <td>0.003008</td>\n",
       "      <td>-0.091574</td>\n",
       "      <td>0.091574</td>\n",
       "    </tr>\n",
       "    <tr>\n",
       "      <th>Transported</th>\n",
       "      <td>-0.074249</td>\n",
       "      <td>1.000000</td>\n",
       "      <td>-0.199445</td>\n",
       "      <td>-0.168845</td>\n",
       "      <td>0.176916</td>\n",
       "      <td>0.019544</td>\n",
       "      <td>-0.460132</td>\n",
       "      <td>0.460132</td>\n",
       "      <td>0.108722</td>\n",
       "      <td>0.000092</td>\n",
       "      <td>-0.096319</td>\n",
       "      <td>0.037261</td>\n",
       "      <td>-0.037261</td>\n",
       "    </tr>\n",
       "    <tr>\n",
       "      <th>Consume</th>\n",
       "      <td>0.184509</td>\n",
       "      <td>-0.199445</td>\n",
       "      <td>1.000000</td>\n",
       "      <td>-0.297070</td>\n",
       "      <td>0.408917</td>\n",
       "      <td>-0.070169</td>\n",
       "      <td>0.376500</td>\n",
       "      <td>-0.376500</td>\n",
       "      <td>0.134880</td>\n",
       "      <td>-0.098686</td>\n",
       "      <td>-0.057228</td>\n",
       "      <td>-0.163187</td>\n",
       "      <td>0.163187</td>\n",
       "    </tr>\n",
       "    <tr>\n",
       "      <th>HomePlanet_Earth</th>\n",
       "      <td>-0.201109</td>\n",
       "      <td>-0.168845</td>\n",
       "      <td>-0.297070</td>\n",
       "      <td>1.000000</td>\n",
       "      <td>-0.633221</td>\n",
       "      <td>-0.559658</td>\n",
       "      <td>0.107231</td>\n",
       "      <td>-0.107231</td>\n",
       "      <td>-0.156169</td>\n",
       "      <td>0.231177</td>\n",
       "      <td>-0.007418</td>\n",
       "      <td>0.162345</td>\n",
       "      <td>-0.162345</td>\n",
       "    </tr>\n",
       "    <tr>\n",
       "      <th>HomePlanet_Europa</th>\n",
       "      <td>0.217444</td>\n",
       "      <td>0.176916</td>\n",
       "      <td>0.408917</td>\n",
       "      <td>-0.633221</td>\n",
       "      <td>1.000000</td>\n",
       "      <td>-0.287022</td>\n",
       "      <td>-0.093395</td>\n",
       "      <td>0.093395</td>\n",
       "      <td>0.293517</td>\n",
       "      <td>-0.163308</td>\n",
       "      <td>-0.156958</td>\n",
       "      <td>-0.147008</td>\n",
       "      <td>0.147008</td>\n",
       "    </tr>\n",
       "    <tr>\n",
       "      <th>HomePlanet_Mars</th>\n",
       "      <td>0.016081</td>\n",
       "      <td>0.019544</td>\n",
       "      <td>-0.070169</td>\n",
       "      <td>-0.559658</td>\n",
       "      <td>-0.287022</td>\n",
       "      <td>1.000000</td>\n",
       "      <td>-0.032715</td>\n",
       "      <td>0.032715</td>\n",
       "      <td>-0.120996</td>\n",
       "      <td>-0.111260</td>\n",
       "      <td>0.177243</td>\n",
       "      <td>-0.043523</td>\n",
       "      <td>0.043523</td>\n",
       "    </tr>\n",
       "    <tr>\n",
       "      <th>CryoSleep_False</th>\n",
       "      <td>0.070736</td>\n",
       "      <td>-0.460132</td>\n",
       "      <td>0.376500</td>\n",
       "      <td>0.107231</td>\n",
       "      <td>-0.093395</td>\n",
       "      <td>-0.032715</td>\n",
       "      <td>1.000000</td>\n",
       "      <td>-1.000000</td>\n",
       "      <td>-0.065589</td>\n",
       "      <td>-0.087764</td>\n",
       "      <td>0.113380</td>\n",
       "      <td>-0.078281</td>\n",
       "      <td>0.078281</td>\n",
       "    </tr>\n",
       "    <tr>\n",
       "      <th>CryoSleep_True</th>\n",
       "      <td>-0.070736</td>\n",
       "      <td>0.460132</td>\n",
       "      <td>-0.376500</td>\n",
       "      <td>-0.107231</td>\n",
       "      <td>0.093395</td>\n",
       "      <td>0.032715</td>\n",
       "      <td>-1.000000</td>\n",
       "      <td>1.000000</td>\n",
       "      <td>0.065589</td>\n",
       "      <td>0.087764</td>\n",
       "      <td>-0.113380</td>\n",
       "      <td>0.078281</td>\n",
       "      <td>-0.078281</td>\n",
       "    </tr>\n",
       "    <tr>\n",
       "      <th>Destination_55 Cancri e</th>\n",
       "      <td>0.016709</td>\n",
       "      <td>0.108722</td>\n",
       "      <td>0.134880</td>\n",
       "      <td>-0.156169</td>\n",
       "      <td>0.293517</td>\n",
       "      <td>-0.120996</td>\n",
       "      <td>-0.065589</td>\n",
       "      <td>0.065589</td>\n",
       "      <td>1.000000</td>\n",
       "      <td>-0.162240</td>\n",
       "      <td>-0.783137</td>\n",
       "      <td>-0.045167</td>\n",
       "      <td>0.045167</td>\n",
       "    </tr>\n",
       "    <tr>\n",
       "      <th>Destination_PSO J318.5-22</th>\n",
       "      <td>-0.028247</td>\n",
       "      <td>0.000092</td>\n",
       "      <td>-0.098686</td>\n",
       "      <td>0.231177</td>\n",
       "      <td>-0.163308</td>\n",
       "      <td>-0.111260</td>\n",
       "      <td>-0.087764</td>\n",
       "      <td>0.087764</td>\n",
       "      <td>-0.162240</td>\n",
       "      <td>1.000000</td>\n",
       "      <td>-0.486554</td>\n",
       "      <td>0.000592</td>\n",
       "      <td>-0.000592</td>\n",
       "    </tr>\n",
       "    <tr>\n",
       "      <th>Destination_TRAPPIST-1e</th>\n",
       "      <td>0.003008</td>\n",
       "      <td>-0.096319</td>\n",
       "      <td>-0.057228</td>\n",
       "      <td>-0.007418</td>\n",
       "      <td>-0.156958</td>\n",
       "      <td>0.177243</td>\n",
       "      <td>0.113380</td>\n",
       "      <td>-0.113380</td>\n",
       "      <td>-0.783137</td>\n",
       "      <td>-0.486554</td>\n",
       "      <td>1.000000</td>\n",
       "      <td>0.039617</td>\n",
       "      <td>-0.039617</td>\n",
       "    </tr>\n",
       "    <tr>\n",
       "      <th>VIP_False</th>\n",
       "      <td>-0.091574</td>\n",
       "      <td>0.037261</td>\n",
       "      <td>-0.163187</td>\n",
       "      <td>0.162345</td>\n",
       "      <td>-0.147008</td>\n",
       "      <td>-0.043523</td>\n",
       "      <td>-0.078281</td>\n",
       "      <td>0.078281</td>\n",
       "      <td>-0.045167</td>\n",
       "      <td>0.000592</td>\n",
       "      <td>0.039617</td>\n",
       "      <td>1.000000</td>\n",
       "      <td>-1.000000</td>\n",
       "    </tr>\n",
       "    <tr>\n",
       "      <th>VIP_True</th>\n",
       "      <td>0.091574</td>\n",
       "      <td>-0.037261</td>\n",
       "      <td>0.163187</td>\n",
       "      <td>-0.162345</td>\n",
       "      <td>0.147008</td>\n",
       "      <td>0.043523</td>\n",
       "      <td>0.078281</td>\n",
       "      <td>-0.078281</td>\n",
       "      <td>0.045167</td>\n",
       "      <td>-0.000592</td>\n",
       "      <td>-0.039617</td>\n",
       "      <td>-1.000000</td>\n",
       "      <td>1.000000</td>\n",
       "    </tr>\n",
       "  </tbody>\n",
       "</table>\n",
       "</div>"
      ],
      "text/plain": [
       "                                Age  Transported   Consume  HomePlanet_Earth  \\\n",
       "Age                        1.000000    -0.074249  0.184509         -0.201109   \n",
       "Transported               -0.074249     1.000000 -0.199445         -0.168845   \n",
       "Consume                    0.184509    -0.199445  1.000000         -0.297070   \n",
       "HomePlanet_Earth          -0.201109    -0.168845 -0.297070          1.000000   \n",
       "HomePlanet_Europa          0.217444     0.176916  0.408917         -0.633221   \n",
       "HomePlanet_Mars            0.016081     0.019544 -0.070169         -0.559658   \n",
       "CryoSleep_False            0.070736    -0.460132  0.376500          0.107231   \n",
       "CryoSleep_True            -0.070736     0.460132 -0.376500         -0.107231   \n",
       "Destination_55 Cancri e    0.016709     0.108722  0.134880         -0.156169   \n",
       "Destination_PSO J318.5-22 -0.028247     0.000092 -0.098686          0.231177   \n",
       "Destination_TRAPPIST-1e    0.003008    -0.096319 -0.057228         -0.007418   \n",
       "VIP_False                 -0.091574     0.037261 -0.163187          0.162345   \n",
       "VIP_True                   0.091574    -0.037261  0.163187         -0.162345   \n",
       "\n",
       "                           HomePlanet_Europa  HomePlanet_Mars  \\\n",
       "Age                                 0.217444         0.016081   \n",
       "Transported                         0.176916         0.019544   \n",
       "Consume                             0.408917        -0.070169   \n",
       "HomePlanet_Earth                   -0.633221        -0.559658   \n",
       "HomePlanet_Europa                   1.000000        -0.287022   \n",
       "HomePlanet_Mars                    -0.287022         1.000000   \n",
       "CryoSleep_False                    -0.093395        -0.032715   \n",
       "CryoSleep_True                      0.093395         0.032715   \n",
       "Destination_55 Cancri e             0.293517        -0.120996   \n",
       "Destination_PSO J318.5-22          -0.163308        -0.111260   \n",
       "Destination_TRAPPIST-1e            -0.156958         0.177243   \n",
       "VIP_False                          -0.147008        -0.043523   \n",
       "VIP_True                            0.147008         0.043523   \n",
       "\n",
       "                           CryoSleep_False  CryoSleep_True  \\\n",
       "Age                               0.070736       -0.070736   \n",
       "Transported                      -0.460132        0.460132   \n",
       "Consume                           0.376500       -0.376500   \n",
       "HomePlanet_Earth                  0.107231       -0.107231   \n",
       "HomePlanet_Europa                -0.093395        0.093395   \n",
       "HomePlanet_Mars                  -0.032715        0.032715   \n",
       "CryoSleep_False                   1.000000       -1.000000   \n",
       "CryoSleep_True                   -1.000000        1.000000   \n",
       "Destination_55 Cancri e          -0.065589        0.065589   \n",
       "Destination_PSO J318.5-22        -0.087764        0.087764   \n",
       "Destination_TRAPPIST-1e           0.113380       -0.113380   \n",
       "VIP_False                        -0.078281        0.078281   \n",
       "VIP_True                          0.078281       -0.078281   \n",
       "\n",
       "                           Destination_55 Cancri e  Destination_PSO J318.5-22  \\\n",
       "Age                                       0.016709                  -0.028247   \n",
       "Transported                               0.108722                   0.000092   \n",
       "Consume                                   0.134880                  -0.098686   \n",
       "HomePlanet_Earth                         -0.156169                   0.231177   \n",
       "HomePlanet_Europa                         0.293517                  -0.163308   \n",
       "HomePlanet_Mars                          -0.120996                  -0.111260   \n",
       "CryoSleep_False                          -0.065589                  -0.087764   \n",
       "CryoSleep_True                            0.065589                   0.087764   \n",
       "Destination_55 Cancri e                   1.000000                  -0.162240   \n",
       "Destination_PSO J318.5-22                -0.162240                   1.000000   \n",
       "Destination_TRAPPIST-1e                  -0.783137                  -0.486554   \n",
       "VIP_False                                -0.045167                   0.000592   \n",
       "VIP_True                                  0.045167                  -0.000592   \n",
       "\n",
       "                           Destination_TRAPPIST-1e  VIP_False  VIP_True  \n",
       "Age                                       0.003008  -0.091574  0.091574  \n",
       "Transported                              -0.096319   0.037261 -0.037261  \n",
       "Consume                                  -0.057228  -0.163187  0.163187  \n",
       "HomePlanet_Earth                         -0.007418   0.162345 -0.162345  \n",
       "HomePlanet_Europa                        -0.156958  -0.147008  0.147008  \n",
       "HomePlanet_Mars                           0.177243  -0.043523  0.043523  \n",
       "CryoSleep_False                           0.113380  -0.078281  0.078281  \n",
       "CryoSleep_True                           -0.113380   0.078281 -0.078281  \n",
       "Destination_55 Cancri e                  -0.783137  -0.045167  0.045167  \n",
       "Destination_PSO J318.5-22                -0.486554   0.000592 -0.000592  \n",
       "Destination_TRAPPIST-1e                   1.000000   0.039617 -0.039617  \n",
       "VIP_False                                 0.039617   1.000000 -1.000000  \n",
       "VIP_True                                 -0.039617  -1.000000  1.000000  "
      ]
     },
     "execution_count": 51,
     "metadata": {},
     "output_type": "execute_result"
    }
   ],
   "source": [
    "pd.get_dummies(df_train_Consume).corr()"
   ]
  },
  {
   "cell_type": "markdown",
   "id": "e156ba36-1baa-4cbd-9829-e7febbd55354",
   "metadata": {},
   "source": [
    "\\- CryoSleep의 경우 Target과의 상관관계가 가장 높음."
   ]
  },
  {
   "cell_type": "code",
   "execution_count": 52,
   "id": "c29fd036-53b0-46ec-ae83-698a48faef67",
   "metadata": {},
   "outputs": [],
   "source": [
    "df_test_Consume = df_test_imputed.assign(Consume = lambda _df : _df.RoomService + _df.FoodCourt + _df.ShoppingMall + _df.Spa + _df.VRDeck)\\\n",
    ".drop(['RoomService', 'FoodCourt', 'ShoppingMall', 'Spa', 'VRDeck'], axis = 1)"
   ]
  },
  {
   "cell_type": "code",
   "execution_count": 54,
   "id": "e666671b-3d94-4dde-9803-282b44712cfd",
   "metadata": {},
   "outputs": [
    {
     "data": {
      "text/html": [
       "<style>#sk-container-id-4 {color: black;}#sk-container-id-4 pre{padding: 0;}#sk-container-id-4 div.sk-toggleable {background-color: white;}#sk-container-id-4 label.sk-toggleable__label {cursor: pointer;display: block;width: 100%;margin-bottom: 0;padding: 0.3em;box-sizing: border-box;text-align: center;}#sk-container-id-4 label.sk-toggleable__label-arrow:before {content: \"▸\";float: left;margin-right: 0.25em;color: #696969;}#sk-container-id-4 label.sk-toggleable__label-arrow:hover:before {color: black;}#sk-container-id-4 div.sk-estimator:hover label.sk-toggleable__label-arrow:before {color: black;}#sk-container-id-4 div.sk-toggleable__content {max-height: 0;max-width: 0;overflow: hidden;text-align: left;background-color: #f0f8ff;}#sk-container-id-4 div.sk-toggleable__content pre {margin: 0.2em;color: black;border-radius: 0.25em;background-color: #f0f8ff;}#sk-container-id-4 input.sk-toggleable__control:checked~div.sk-toggleable__content {max-height: 200px;max-width: 100%;overflow: auto;}#sk-container-id-4 input.sk-toggleable__control:checked~label.sk-toggleable__label-arrow:before {content: \"▾\";}#sk-container-id-4 div.sk-estimator input.sk-toggleable__control:checked~label.sk-toggleable__label {background-color: #d4ebff;}#sk-container-id-4 div.sk-label input.sk-toggleable__control:checked~label.sk-toggleable__label {background-color: #d4ebff;}#sk-container-id-4 input.sk-hidden--visually {border: 0;clip: rect(1px 1px 1px 1px);clip: rect(1px, 1px, 1px, 1px);height: 1px;margin: -1px;overflow: hidden;padding: 0;position: absolute;width: 1px;}#sk-container-id-4 div.sk-estimator {font-family: monospace;background-color: #f0f8ff;border: 1px dotted black;border-radius: 0.25em;box-sizing: border-box;margin-bottom: 0.5em;}#sk-container-id-4 div.sk-estimator:hover {background-color: #d4ebff;}#sk-container-id-4 div.sk-parallel-item::after {content: \"\";width: 100%;border-bottom: 1px solid gray;flex-grow: 1;}#sk-container-id-4 div.sk-label:hover label.sk-toggleable__label {background-color: #d4ebff;}#sk-container-id-4 div.sk-serial::before {content: \"\";position: absolute;border-left: 1px solid gray;box-sizing: border-box;top: 0;bottom: 0;left: 50%;z-index: 0;}#sk-container-id-4 div.sk-serial {display: flex;flex-direction: column;align-items: center;background-color: white;padding-right: 0.2em;padding-left: 0.2em;position: relative;}#sk-container-id-4 div.sk-item {position: relative;z-index: 1;}#sk-container-id-4 div.sk-parallel {display: flex;align-items: stretch;justify-content: center;background-color: white;position: relative;}#sk-container-id-4 div.sk-item::before, #sk-container-id-4 div.sk-parallel-item::before {content: \"\";position: absolute;border-left: 1px solid gray;box-sizing: border-box;top: 0;bottom: 0;left: 50%;z-index: -1;}#sk-container-id-4 div.sk-parallel-item {display: flex;flex-direction: column;z-index: 1;position: relative;background-color: white;}#sk-container-id-4 div.sk-parallel-item:first-child::after {align-self: flex-end;width: 50%;}#sk-container-id-4 div.sk-parallel-item:last-child::after {align-self: flex-start;width: 50%;}#sk-container-id-4 div.sk-parallel-item:only-child::after {width: 0;}#sk-container-id-4 div.sk-dashed-wrapped {border: 1px dashed gray;margin: 0 0.4em 0.5em 0.4em;box-sizing: border-box;padding-bottom: 0.4em;background-color: white;}#sk-container-id-4 div.sk-label label {font-family: monospace;font-weight: bold;display: inline-block;line-height: 1.2em;}#sk-container-id-4 div.sk-label-container {text-align: center;}#sk-container-id-4 div.sk-container {/* jupyter's `normalize.less` sets `[hidden] { display: none; }` but bootstrap.min.css set `[hidden] { display: none !important; }` so we also need the `!important` here to be able to override the default hidden behavior on the sphinx rendered scikit-learn.org. See: https://github.com/scikit-learn/scikit-learn/issues/21755 */display: inline-block !important;position: relative;}#sk-container-id-4 div.sk-text-repr-fallback {display: none;}</style><div id=\"sk-container-id-4\" class=\"sk-top-container\"><div class=\"sk-text-repr-fallback\"><pre>LogisticRegression()</pre><b>In a Jupyter environment, please rerun this cell to show the HTML representation or trust the notebook. <br />On GitHub, the HTML representation is unable to render, please try loading this page with nbviewer.org.</b></div><div class=\"sk-container\" hidden><div class=\"sk-item\"><div class=\"sk-estimator sk-toggleable\"><input class=\"sk-toggleable__control sk-hidden--visually\" id=\"sk-estimator-id-4\" type=\"checkbox\" checked><label for=\"sk-estimator-id-4\" class=\"sk-toggleable__label sk-toggleable__label-arrow\">LogisticRegression</label><div class=\"sk-toggleable__content\"><pre>LogisticRegression()</pre></div></div></div></div></div>"
      ],
      "text/plain": [
       "LogisticRegression()"
      ]
     },
     "execution_count": 54,
     "metadata": {},
     "output_type": "execute_result"
    }
   ],
   "source": [
    "## 1\n",
    "X = pd.get_dummies(df_train_Consume.drop('Transported', axis = 1), drop_first = True)\n",
    "y = df_train.Transported\n",
    "XX = pd.get_dummies(df_test_Consume, drop_first = True)\n",
    "\n",
    "## 2\n",
    "predictr = sklearn.linear_model.LogisticRegression()\n",
    "\n",
    "## 3\n",
    "predictr.fit(X, y)"
   ]
  },
  {
   "cell_type": "code",
   "execution_count": 55,
   "id": "14df7309-ab4d-4f7c-9d39-d5064d2682f6",
   "metadata": {},
   "outputs": [
    {
     "data": {
      "text/plain": [
       "0.7210399171747383"
      ]
     },
     "execution_count": 55,
     "metadata": {},
     "output_type": "execute_result"
    }
   ],
   "source": [
    "predictr.score(X, y)"
   ]
  },
  {
   "cell_type": "markdown",
   "id": "b10ac89e-33ee-417e-aff5-f46a7b7f8eb4",
   "metadata": {},
   "source": [
    "> ...스코어가 더 낮아짐."
   ]
  },
  {
   "cell_type": "code",
   "execution_count": 57,
   "id": "180b1f11-e444-4c4e-ae9b-acc3afc88617",
   "metadata": {},
   "outputs": [],
   "source": [
    "df_test[['PassengerId']].assign(Transported = predictr.predict(XX)).to_csv('Drop_and_Summation.csv', index = False)"
   ]
  },
  {
   "cell_type": "markdown",
   "id": "78e4f88c-04c2-45c0-8980-ea04d3ff612a",
   "metadata": {},
   "source": [
    "> 최악의 결과"
   ]
  },
  {
   "cell_type": "code",
   "execution_count": 62,
   "id": "cae84e59-7f60-4186-8324-1f53f1f2d2f9",
   "metadata": {},
   "outputs": [
    {
     "data": {
      "text/html": [
       "<div>\n",
       "<style scoped>\n",
       "    .dataframe tbody tr th:only-of-type {\n",
       "        vertical-align: middle;\n",
       "    }\n",
       "\n",
       "    .dataframe tbody tr th {\n",
       "        vertical-align: top;\n",
       "    }\n",
       "\n",
       "    .dataframe thead th {\n",
       "        text-align: right;\n",
       "    }\n",
       "</style>\n",
       "<table border=\"1\" class=\"dataframe\">\n",
       "  <thead>\n",
       "    <tr style=\"text-align: right;\">\n",
       "      <th></th>\n",
       "      <th>Transported</th>\n",
       "      <th>RoomService</th>\n",
       "      <th>FoodCourt</th>\n",
       "      <th>ShoppingMall</th>\n",
       "      <th>Spa</th>\n",
       "      <th>VRDeck</th>\n",
       "    </tr>\n",
       "  </thead>\n",
       "  <tbody>\n",
       "    <tr>\n",
       "      <th>Transported</th>\n",
       "      <td>1.000000</td>\n",
       "      <td>-0.242048</td>\n",
       "      <td>0.046074</td>\n",
       "      <td>0.010019</td>\n",
       "      <td>-0.218791</td>\n",
       "      <td>-0.204825</td>\n",
       "    </tr>\n",
       "    <tr>\n",
       "      <th>RoomService</th>\n",
       "      <td>-0.242048</td>\n",
       "      <td>1.000000</td>\n",
       "      <td>-0.015521</td>\n",
       "      <td>0.052962</td>\n",
       "      <td>0.009925</td>\n",
       "      <td>-0.019207</td>\n",
       "    </tr>\n",
       "    <tr>\n",
       "      <th>FoodCourt</th>\n",
       "      <td>0.046074</td>\n",
       "      <td>-0.015521</td>\n",
       "      <td>1.000000</td>\n",
       "      <td>-0.013934</td>\n",
       "      <td>0.220587</td>\n",
       "      <td>0.224275</td>\n",
       "    </tr>\n",
       "    <tr>\n",
       "      <th>ShoppingMall</th>\n",
       "      <td>0.010019</td>\n",
       "      <td>0.052962</td>\n",
       "      <td>-0.013934</td>\n",
       "      <td>1.000000</td>\n",
       "      <td>0.013678</td>\n",
       "      <td>-0.007189</td>\n",
       "    </tr>\n",
       "    <tr>\n",
       "      <th>Spa</th>\n",
       "      <td>-0.218791</td>\n",
       "      <td>0.009925</td>\n",
       "      <td>0.220587</td>\n",
       "      <td>0.013678</td>\n",
       "      <td>1.000000</td>\n",
       "      <td>0.147957</td>\n",
       "    </tr>\n",
       "    <tr>\n",
       "      <th>VRDeck</th>\n",
       "      <td>-0.204825</td>\n",
       "      <td>-0.019207</td>\n",
       "      <td>0.224275</td>\n",
       "      <td>-0.007189</td>\n",
       "      <td>0.147957</td>\n",
       "      <td>1.000000</td>\n",
       "    </tr>\n",
       "  </tbody>\n",
       "</table>\n",
       "</div>"
      ],
      "text/plain": [
       "              Transported  RoomService  FoodCourt  ShoppingMall       Spa  \\\n",
       "Transported      1.000000    -0.242048   0.046074      0.010019 -0.218791   \n",
       "RoomService     -0.242048     1.000000  -0.015521      0.052962  0.009925   \n",
       "FoodCourt        0.046074    -0.015521   1.000000     -0.013934  0.220587   \n",
       "ShoppingMall     0.010019     0.052962  -0.013934      1.000000  0.013678   \n",
       "Spa             -0.218791     0.009925   0.220587      0.013678  1.000000   \n",
       "VRDeck          -0.204825    -0.019207   0.224275     -0.007189  0.147957   \n",
       "\n",
       "                VRDeck  \n",
       "Transported  -0.204825  \n",
       "RoomService  -0.019207  \n",
       "FoodCourt     0.224275  \n",
       "ShoppingMall -0.007189  \n",
       "Spa           0.147957  \n",
       "VRDeck        1.000000  "
      ]
     },
     "execution_count": 62,
     "metadata": {},
     "output_type": "execute_result"
    }
   ],
   "source": [
    "df_train_imputed[['Transported', 'RoomService', 'FoodCourt', 'ShoppingMall', 'Spa', 'VRDeck']].corr()"
   ]
  },
  {
   "cell_type": "code",
   "execution_count": 61,
   "id": "328b5d30-c886-413a-8426-8bbe8e7d6b8d",
   "metadata": {},
   "outputs": [],
   "source": [
    "plot_df = df_train_imputed[['Transported', 'RoomService', 'FoodCourt', 'ShoppingMall', 'Spa', 'VRDeck']]"
   ]
  },
  {
   "cell_type": "code",
   "execution_count": 67,
   "id": "bf325fe4-589d-4eb3-97e2-4748875b50a7",
   "metadata": {},
   "outputs": [
    {
     "data": {
      "text/plain": [
       "[<matplotlib.lines.Line2D at 0x2064e87cb80>]"
      ]
     },
     "execution_count": 67,
     "metadata": {},
     "output_type": "execute_result"
    },
    {
     "data": {
      "image/png": "[encoded data removed]",
      "text/plain": [
       "<Figure size 640x480 with 1 Axes>"
      ]
     },
     "metadata": {},
     "output_type": "display_data"
    }
   ],
   "source": [
    "plt.plot(plot_df.loc[plot_df.Transported == True].RoomService, plot_df.loc[plot_df.Transported == True].VRDeck, 'o')\n",
    "plt.plot(plot_df.loc[plot_df.Transported != True].RoomService, plot_df.loc[plot_df.Transported != True].VRDeck, 'o')"
   ]
  },
  {
   "cell_type": "markdown",
   "id": "7104e254-23ee-4163-a25f-e20b61a2830c",
   "metadata": {},
   "source": [
    "> 데이터가 뭉쳐있어서 파악하기 어려움..."
   ]
  },
  {
   "cell_type": "code",
   "execution_count": 77,
   "id": "cceb3bac-55d8-4f6f-8b88-c1fc4c0994e6",
   "metadata": {},
   "outputs": [],
   "source": [
    "processing = pd.DataFrame(sklearn.preprocessing.PowerTransformer().fit_transform(plot_df.drop('Transported', axis = 1)), columns = plot_df.drop('Transported', axis = 1).columns).assign(Transported = plot_df.Transported)"
   ]
  },
  {
   "cell_type": "code",
   "execution_count": 78,
   "id": "644e9b7e-e32b-49e5-a8a1-7d91819111c8",
   "metadata": {},
   "outputs": [
    {
     "data": {
      "text/plain": [
       "[<matplotlib.lines.Line2D at 0x2064e4440a0>]"
      ]
     },
     "execution_count": 78,
     "metadata": {},
     "output_type": "execute_result"
    },
    {
     "data": {
      "image/png": "[encoded data removed]",
      "text/plain": [
       "<Figure size 640x480 with 1 Axes>"
      ]
     },
     "metadata": {},
     "output_type": "display_data"
    }
   ],
   "source": [
    "plt.plot(processing.loc[processing.Transported == True].RoomService, processing.loc[processing.Transported == True].VRDeck, 'o')\n",
    "plt.plot(processing.loc[processing.Transported != True].RoomService, processing.loc[processing.Transported != True].VRDeck, 'o')"
   ]
  },
  {
   "cell_type": "markdown",
   "id": "a2ab68eb-0199-4c45-bd3b-be9596957f8b",
   "metadata": {},
   "source": [
    "> 관련성이... 거의 없어보인다. 잘 모르겠다. 차라리 빼자!"
   ]
  },
  {
   "cell_type": "code",
   "execution_count": 79,
   "id": "0a24c5d4-c550-443b-9455-a81f5c16cacb",
   "metadata": {},
   "outputs": [
    {
     "data": {
      "text/html": [
       "<style>#sk-container-id-5 {color: black;}#sk-container-id-5 pre{padding: 0;}#sk-container-id-5 div.sk-toggleable {background-color: white;}#sk-container-id-5 label.sk-toggleable__label {cursor: pointer;display: block;width: 100%;margin-bottom: 0;padding: 0.3em;box-sizing: border-box;text-align: center;}#sk-container-id-5 label.sk-toggleable__label-arrow:before {content: \"▸\";float: left;margin-right: 0.25em;color: #696969;}#sk-container-id-5 label.sk-toggleable__label-arrow:hover:before {color: black;}#sk-container-id-5 div.sk-estimator:hover label.sk-toggleable__label-arrow:before {color: black;}#sk-container-id-5 div.sk-toggleable__content {max-height: 0;max-width: 0;overflow: hidden;text-align: left;background-color: #f0f8ff;}#sk-container-id-5 div.sk-toggleable__content pre {margin: 0.2em;color: black;border-radius: 0.25em;background-color: #f0f8ff;}#sk-container-id-5 input.sk-toggleable__control:checked~div.sk-toggleable__content {max-height: 200px;max-width: 100%;overflow: auto;}#sk-container-id-5 input.sk-toggleable__control:checked~label.sk-toggleable__label-arrow:before {content: \"▾\";}#sk-container-id-5 div.sk-estimator input.sk-toggleable__control:checked~label.sk-toggleable__label {background-color: #d4ebff;}#sk-container-id-5 div.sk-label input.sk-toggleable__control:checked~label.sk-toggleable__label {background-color: #d4ebff;}#sk-container-id-5 input.sk-hidden--visually {border: 0;clip: rect(1px 1px 1px 1px);clip: rect(1px, 1px, 1px, 1px);height: 1px;margin: -1px;overflow: hidden;padding: 0;position: absolute;width: 1px;}#sk-container-id-5 div.sk-estimator {font-family: monospace;background-color: #f0f8ff;border: 1px dotted black;border-radius: 0.25em;box-sizing: border-box;margin-bottom: 0.5em;}#sk-container-id-5 div.sk-estimator:hover {background-color: #d4ebff;}#sk-container-id-5 div.sk-parallel-item::after {content: \"\";width: 100%;border-bottom: 1px solid gray;flex-grow: 1;}#sk-container-id-5 div.sk-label:hover label.sk-toggleable__label {background-color: #d4ebff;}#sk-container-id-5 div.sk-serial::before {content: \"\";position: absolute;border-left: 1px solid gray;box-sizing: border-box;top: 0;bottom: 0;left: 50%;z-index: 0;}#sk-container-id-5 div.sk-serial {display: flex;flex-direction: column;align-items: center;background-color: white;padding-right: 0.2em;padding-left: 0.2em;position: relative;}#sk-container-id-5 div.sk-item {position: relative;z-index: 1;}#sk-container-id-5 div.sk-parallel {display: flex;align-items: stretch;justify-content: center;background-color: white;position: relative;}#sk-container-id-5 div.sk-item::before, #sk-container-id-5 div.sk-parallel-item::before {content: \"\";position: absolute;border-left: 1px solid gray;box-sizing: border-box;top: 0;bottom: 0;left: 50%;z-index: -1;}#sk-container-id-5 div.sk-parallel-item {display: flex;flex-direction: column;z-index: 1;position: relative;background-color: white;}#sk-container-id-5 div.sk-parallel-item:first-child::after {align-self: flex-end;width: 50%;}#sk-container-id-5 div.sk-parallel-item:last-child::after {align-self: flex-start;width: 50%;}#sk-container-id-5 div.sk-parallel-item:only-child::after {width: 0;}#sk-container-id-5 div.sk-dashed-wrapped {border: 1px dashed gray;margin: 0 0.4em 0.5em 0.4em;box-sizing: border-box;padding-bottom: 0.4em;background-color: white;}#sk-container-id-5 div.sk-label label {font-family: monospace;font-weight: bold;display: inline-block;line-height: 1.2em;}#sk-container-id-5 div.sk-label-container {text-align: center;}#sk-container-id-5 div.sk-container {/* jupyter's `normalize.less` sets `[hidden] { display: none; }` but bootstrap.min.css set `[hidden] { display: none !important; }` so we also need the `!important` here to be able to override the default hidden behavior on the sphinx rendered scikit-learn.org. See: https://github.com/scikit-learn/scikit-learn/issues/21755 */display: inline-block !important;position: relative;}#sk-container-id-5 div.sk-text-repr-fallback {display: none;}</style><div id=\"sk-container-id-5\" class=\"sk-top-container\"><div class=\"sk-text-repr-fallback\"><pre>DecisionTreeClassifier()</pre><b>In a Jupyter environment, please rerun this cell to show the HTML representation or trust the notebook. <br />On GitHub, the HTML representation is unable to render, please try loading this page with nbviewer.org.</b></div><div class=\"sk-container\" hidden><div class=\"sk-item\"><div class=\"sk-estimator sk-toggleable\"><input class=\"sk-toggleable__control sk-hidden--visually\" id=\"sk-estimator-id-5\" type=\"checkbox\" checked><label for=\"sk-estimator-id-5\" class=\"sk-toggleable__label sk-toggleable__label-arrow\">DecisionTreeClassifier</label><div class=\"sk-toggleable__content\"><pre>DecisionTreeClassifier()</pre></div></div></div></div></div>"
      ],
      "text/plain": [
       "DecisionTreeClassifier()"
      ]
     },
     "execution_count": 79,
     "metadata": {},
     "output_type": "execute_result"
    }
   ],
   "source": [
    "## 1\n",
    "X = pd.get_dummies(df_train_imputed.drop('Transported', axis = 1), drop_first = True)\n",
    "y = df_train_imputed.Transported\n",
    "XX = pd.get_dummies(df_test_imputed, drop_first = True)\n",
    "\n",
    "## 2\n",
    "predictr = sklearn.tree.DecisionTreeClassifier()\n",
    "\n",
    "## 3\n",
    "predictr.fit(X, y)"
   ]
  },
  {
   "cell_type": "code",
   "execution_count": 80,
   "id": "90b40ca6-021d-4ee3-b76a-6b423414ce53",
   "metadata": {},
   "outputs": [
    {
     "data": {
      "text/plain": [
       "0.9346600713217531"
      ]
     },
     "execution_count": 80,
     "metadata": {},
     "output_type": "execute_result"
    }
   ],
   "source": [
    "predictr.score(X, y)"
   ]
  },
  {
   "cell_type": "code",
   "execution_count": 85,
   "id": "b1582fe7-0a67-4aed-bac3-d5b9d37de3bf",
   "metadata": {},
   "outputs": [],
   "source": [
    "df_test[['PassengerId']].assign(Transported = (predictr.predict(XX) == 1)).to_csv('Tree_submission.csv', index = False)"
   ]
  },
  {
   "cell_type": "code",
   "execution_count": 100,
   "id": "fc8d31cf-fd0e-4927-b6ef-a250d03c6e1f",
   "metadata": {},
   "outputs": [
    {
     "data": {
      "text/plain": [
       "0.8188197400207063"
      ]
     },
     "execution_count": 100,
     "metadata": {},
     "output_type": "execute_result"
    }
   ],
   "source": [
    "## 1\n",
    "X = pd.get_dummies(df_train_imputed.drop('Transported', axis = 1), drop_first = True)\n",
    "y = df_train_imputed.Transported\n",
    "XX = pd.get_dummies(df_test_imputed, drop_first = True)\n",
    "\n",
    "## 2\n",
    "predictr = sklearn.tree.DecisionTreeClassifier(max_depth = 9, min_samples_split = 4)\n",
    "\n",
    "## 3\n",
    "predictr.fit(X, y)\n",
    "\n",
    "## 4\n",
    "predictr.score(X, y)"
   ]
  },
  {
   "cell_type": "code",
   "execution_count": 101,
   "id": "3f58afb9-fe9e-443f-badb-18a375698887",
   "metadata": {},
   "outputs": [],
   "source": [
    "df_test[['PassengerId']].assign(Transported = (predictr.predict(XX) == 1)).to_csv('depth9_split4.csv', index = False)"
   ]
  },
  {
   "cell_type": "markdown",
   "id": "de3e9155-5ed4-4d2c-aeed-093812314661",
   "metadata": {},
   "source": [
    "> 하이퍼 파라미터를 어떻게 잘 조정해도 안된다. 문제에 대한 논의가 필요할듯."
   ]
  },
  {
   "cell_type": "code",
   "execution_count": 104,
   "id": "4e8a06c3-b6da-4333-8666-41471e367993",
   "metadata": {},
   "outputs": [
    {
     "data": {
      "text/plain": [
       "0          B/0/P\n",
       "1          F/0/S\n",
       "2          A/0/S\n",
       "3          A/0/S\n",
       "4          F/1/S\n",
       "          ...   \n",
       "8688      A/98/P\n",
       "8689    G/1499/S\n",
       "8690    G/1500/S\n",
       "8691     E/608/S\n",
       "8692     E/608/S\n",
       "Name: Cabin, Length: 8693, dtype: object"
      ]
     },
     "execution_count": 104,
     "metadata": {},
     "output_type": "execute_result"
    }
   ],
   "source": [
    "df_train.Cabin"
   ]
  },
  {
   "cell_type": "code",
   "execution_count": null,
   "id": "c96142fa-538e-4535-98c9-7dfc05a98a83",
   "metadata": {},
   "outputs": [],
   "source": [
    "len(set(df_train.Cabin))"
   ]
  },
  {
   "cell_type": "markdown",
   "id": "27f943ce-498e-4683-a5b5-a7376c50b1fb",
   "metadata": {},
   "source": [
    "> 사고가 나서 공간이동을 당하게 된 것이라면, 특정 부분에 있는 승객들이 당하는 정도가 크지 않을까?"
   ]
  },
  {
   "cell_type": "code",
   "execution_count": 142,
   "id": "2a21a6ce-f78a-432c-8e72-36af04e2e3a3",
   "metadata": {},
   "outputs": [
    {
     "data": {
      "text/plain": [
       "nan"
      ]
     },
     "execution_count": 142,
     "metadata": {},
     "output_type": "execute_result"
    }
   ],
   "source": [
    "np.nan"
   ]
  },
  {
   "cell_type": "code",
   "execution_count": 157,
   "id": "0298a38d-cb24-4311-88ab-e6b54b90edee",
   "metadata": {},
   "outputs": [],
   "source": [
    "df_train_Cabin = pd.DataFrame(sklearn.impute.SimpleImputer(strategy = 'constant', fill_value = '0/0/0').fit_transform(df_train[['Cabin']]), columns = ['Cabin'])\n",
    "df_test_Cabin = pd.DataFrame(sklearn.impute.SimpleImputer(strategy = 'constant', fill_value = '0/0/0').fit_transform(df_test[['Cabin']]), columns = ['Cabin'])"
   ]
  },
  {
   "cell_type": "code",
   "execution_count": 198,
   "id": "f167e0dc-a2a8-42b3-9580-c50ec99dad7c",
   "metadata": {},
   "outputs": [],
   "source": [
    "train_Cabin = pd.DataFrame(sklearn.impute.SimpleImputer(strategy = 'most_frequent').fit_transform(df_train[['Cabin']].assign(deck = lambda _df : _df.Cabin.apply(lambda x : x.split('/')[0] if type(x) != float else x))\\\n",
    ".assign(num = lambda _df : _df.Cabin.apply(lambda x : x.split('/')[1] if type(x) != float else x))\\\n",
    ".assign(side = lambda _df : _df.Cabin.apply(lambda x : x.split('/')[2] if type(x) != float else x))), columns = ['Cabin', 'deck', 'num', 'side'])\\\n",
    ".drop('Cabin', axis = 1)\n",
    "\n",
    "\n",
    "test_Cabin = pd.DataFrame(sklearn.impute.SimpleImputer(strategy = 'most_frequent').fit_transform(df_test[['Cabin']].assign(deck = lambda _df : _df.Cabin.apply(lambda x : x.split('/')[0] if type(x) != float else x))\\\n",
    ".assign(num = lambda _df : _df.Cabin.apply(lambda x : x.split('/')[1] if type(x) != float else x))\\\n",
    ".assign(side = lambda _df : _df.Cabin.apply(lambda x : x.split('/')[2] if type(x) != float else x))), columns = ['Cabin', 'deck', 'num', 'side'])\\\n",
    ".drop('Cabin', axis = 1)"
   ]
  },
  {
   "cell_type": "code",
   "execution_count": 201,
   "id": "52447734-21db-46dd-b9e5-7383b52a492e",
   "metadata": {},
   "outputs": [],
   "source": [
    "df_train_processed = pd.concat([df_train_imputed, train_Cabin], axis = 1).assign(num = lambda _df : _df.num.astype(int))\n",
    "df_test_processed = pd.concat([df_test_imputed, test_Cabin], axis = 1).assign(num = lambda _df : _df.num.astype(int))"
   ]
  },
  {
   "cell_type": "code",
   "execution_count": 205,
   "id": "01eca70b-5a45-465b-9bd6-097cd2a78156",
   "metadata": {},
   "outputs": [
    {
     "name": "stderr",
     "output_type": "stream",
     "text": [
      "C:\\Users\\hollyriver\\anaconda3\\envs\\py\\lib\\site-packages\\sklearn\\linear_model\\_logistic.py:460: ConvergenceWarning: lbfgs failed to converge (status=1):\n",
      "STOP: TOTAL NO. of ITERATIONS REACHED LIMIT.\n",
      "\n",
      "Increase the number of iterations (max_iter) or scale the data as shown in:\n",
      "    https://scikit-learn.org/stable/modules/preprocessing.html\n",
      "Please also refer to the documentation for alternative solver options:\n",
      "    https://scikit-learn.org/stable/modules/linear_model.html#logistic-regression\n"
     ]
    },
    {
     "data": {
      "text/plain": [
       "0.7897158633383182"
      ]
     },
     "execution_count": 205,
     "metadata": {},
     "output_type": "execute_result"
    }
   ],
   "source": [
    "## 1\n",
    "X = pd.get_dummies(df_train_processed.drop('Transported', axis = 1), drop_first = True)\n",
    "y = df_train.Transported\n",
    "XX = pd.get_dummies(df_test_processed, drop_first = True)\n",
    "\n",
    "## 2\n",
    "predictr = sklearn.linear_model.LogisticRegression()\n",
    "\n",
    "## 3\n",
    "predictr.fit(X, y)\n",
    "\n",
    "## 4\n",
    "predictr.score(X, y)"
   ]
  },
  {
   "cell_type": "markdown",
   "id": "02390342-742b-40ef-8bac-ef83ccda4a40",
   "metadata": {},
   "source": [
    "> 좋아진 줄 알았는데... 실제 예측은 그냥 로지스틱 넣은 것보다 떨어져버림... 뭐임..."
   ]
  },
  {
   "cell_type": "code",
   "execution_count": 208,
   "id": "83fee162-d5d7-4e2c-abb1-5ea8f1137918",
   "metadata": {},
   "outputs": [
    {
     "name": "stderr",
     "output_type": "stream",
     "text": [
      "C:\\Users\\hollyriver\\anaconda3\\envs\\py\\lib\\site-packages\\sklearn\\linear_model\\_logistic.py:460: ConvergenceWarning: lbfgs failed to converge (status=1):\n",
      "STOP: TOTAL NO. of ITERATIONS REACHED LIMIT.\n",
      "\n",
      "Increase the number of iterations (max_iter) or scale the data as shown in:\n",
      "    https://scikit-learn.org/stable/modules/preprocessing.html\n",
      "Please also refer to the documentation for alternative solver options:\n",
      "    https://scikit-learn.org/stable/modules/linear_model.html#logistic-regression\n"
     ]
    },
    {
     "data": {
      "text/plain": [
       "0.7894857931669159"
      ]
     },
     "execution_count": 208,
     "metadata": {},
     "output_type": "execute_result"
    }
   ],
   "source": [
    "## 1\n",
    "X = pd.get_dummies(df_train_processed.drop(['Transported', 'num'], axis = 1), drop_first = True)\n",
    "y = df_train.Transported\n",
    "XX = pd.get_dummies(df_test_processed.drop('num', axis = 1), drop_first = True)\n",
    "\n",
    "## 2\n",
    "predictr = sklearn.linear_model.LogisticRegression()\n",
    "\n",
    "## 3\n",
    "predictr.fit(X, y)\n",
    "\n",
    "## 4\n",
    "predictr.score(X, y)"
   ]
  },
  {
   "cell_type": "code",
   "execution_count": 209,
   "id": "e0563101-1e16-434d-81ac-c4e88b793577",
   "metadata": {},
   "outputs": [],
   "source": [
    "df_test[['PassengerId']].assign(Transported = predictr.predict(XX)).to_csv('Cabin_exclude_num.csv', index = False)"
   ]
  },
  {
   "cell_type": "code",
   "execution_count": 210,
   "id": "77476f70-089e-418b-b6eb-ec999f58677c",
   "metadata": {},
   "outputs": [
    {
     "data": {
      "text/html": [
       "<div>\n",
       "<style scoped>\n",
       "    .dataframe tbody tr th:only-of-type {\n",
       "        vertical-align: middle;\n",
       "    }\n",
       "\n",
       "    .dataframe tbody tr th {\n",
       "        vertical-align: top;\n",
       "    }\n",
       "\n",
       "    .dataframe thead th {\n",
       "        text-align: right;\n",
       "    }\n",
       "</style>\n",
       "<table border=\"1\" class=\"dataframe\">\n",
       "  <thead>\n",
       "    <tr style=\"text-align: right;\">\n",
       "      <th></th>\n",
       "      <th>HomePlanet</th>\n",
       "      <th>CryoSleep</th>\n",
       "      <th>Destination</th>\n",
       "      <th>VIP</th>\n",
       "      <th>Age</th>\n",
       "      <th>RoomService</th>\n",
       "      <th>FoodCourt</th>\n",
       "      <th>ShoppingMall</th>\n",
       "      <th>Spa</th>\n",
       "      <th>VRDeck</th>\n",
       "      <th>Transported</th>\n",
       "      <th>deck</th>\n",
       "      <th>num</th>\n",
       "      <th>side</th>\n",
       "    </tr>\n",
       "  </thead>\n",
       "  <tbody>\n",
       "    <tr>\n",
       "      <th>0</th>\n",
       "      <td>Europa</td>\n",
       "      <td>False</td>\n",
       "      <td>TRAPPIST-1e</td>\n",
       "      <td>False</td>\n",
       "      <td>39.0</td>\n",
       "      <td>0.0</td>\n",
       "      <td>0.0</td>\n",
       "      <td>0.0</td>\n",
       "      <td>0.0</td>\n",
       "      <td>0.0</td>\n",
       "      <td>0.0</td>\n",
       "      <td>B</td>\n",
       "      <td>(-0.001, 152.0]</td>\n",
       "      <td>P</td>\n",
       "    </tr>\n",
       "    <tr>\n",
       "      <th>1</th>\n",
       "      <td>Earth</td>\n",
       "      <td>False</td>\n",
       "      <td>TRAPPIST-1e</td>\n",
       "      <td>False</td>\n",
       "      <td>24.0</td>\n",
       "      <td>109.0</td>\n",
       "      <td>9.0</td>\n",
       "      <td>25.0</td>\n",
       "      <td>549.0</td>\n",
       "      <td>44.0</td>\n",
       "      <td>1.0</td>\n",
       "      <td>F</td>\n",
       "      <td>(-0.001, 152.0]</td>\n",
       "      <td>S</td>\n",
       "    </tr>\n",
       "    <tr>\n",
       "      <th>2</th>\n",
       "      <td>Europa</td>\n",
       "      <td>False</td>\n",
       "      <td>TRAPPIST-1e</td>\n",
       "      <td>True</td>\n",
       "      <td>58.0</td>\n",
       "      <td>43.0</td>\n",
       "      <td>3576.0</td>\n",
       "      <td>0.0</td>\n",
       "      <td>6715.0</td>\n",
       "      <td>49.0</td>\n",
       "      <td>0.0</td>\n",
       "      <td>A</td>\n",
       "      <td>(-0.001, 152.0]</td>\n",
       "      <td>S</td>\n",
       "    </tr>\n",
       "    <tr>\n",
       "      <th>3</th>\n",
       "      <td>Europa</td>\n",
       "      <td>False</td>\n",
       "      <td>TRAPPIST-1e</td>\n",
       "      <td>False</td>\n",
       "      <td>33.0</td>\n",
       "      <td>0.0</td>\n",
       "      <td>1283.0</td>\n",
       "      <td>371.0</td>\n",
       "      <td>3329.0</td>\n",
       "      <td>193.0</td>\n",
       "      <td>0.0</td>\n",
       "      <td>A</td>\n",
       "      <td>(-0.001, 152.0]</td>\n",
       "      <td>S</td>\n",
       "    </tr>\n",
       "    <tr>\n",
       "      <th>4</th>\n",
       "      <td>Earth</td>\n",
       "      <td>False</td>\n",
       "      <td>TRAPPIST-1e</td>\n",
       "      <td>False</td>\n",
       "      <td>16.0</td>\n",
       "      <td>303.0</td>\n",
       "      <td>70.0</td>\n",
       "      <td>151.0</td>\n",
       "      <td>565.0</td>\n",
       "      <td>2.0</td>\n",
       "      <td>1.0</td>\n",
       "      <td>F</td>\n",
       "      <td>(-0.001, 152.0]</td>\n",
       "      <td>S</td>\n",
       "    </tr>\n",
       "    <tr>\n",
       "      <th>...</th>\n",
       "      <td>...</td>\n",
       "      <td>...</td>\n",
       "      <td>...</td>\n",
       "      <td>...</td>\n",
       "      <td>...</td>\n",
       "      <td>...</td>\n",
       "      <td>...</td>\n",
       "      <td>...</td>\n",
       "      <td>...</td>\n",
       "      <td>...</td>\n",
       "      <td>...</td>\n",
       "      <td>...</td>\n",
       "      <td>...</td>\n",
       "      <td>...</td>\n",
       "    </tr>\n",
       "    <tr>\n",
       "      <th>8688</th>\n",
       "      <td>Europa</td>\n",
       "      <td>False</td>\n",
       "      <td>55 Cancri e</td>\n",
       "      <td>True</td>\n",
       "      <td>41.0</td>\n",
       "      <td>0.0</td>\n",
       "      <td>6819.0</td>\n",
       "      <td>0.0</td>\n",
       "      <td>1643.0</td>\n",
       "      <td>74.0</td>\n",
       "      <td>0.0</td>\n",
       "      <td>A</td>\n",
       "      <td>(-0.001, 152.0]</td>\n",
       "      <td>P</td>\n",
       "    </tr>\n",
       "    <tr>\n",
       "      <th>8689</th>\n",
       "      <td>Earth</td>\n",
       "      <td>True</td>\n",
       "      <td>PSO J318.5-22</td>\n",
       "      <td>False</td>\n",
       "      <td>18.0</td>\n",
       "      <td>0.0</td>\n",
       "      <td>0.0</td>\n",
       "      <td>0.0</td>\n",
       "      <td>0.0</td>\n",
       "      <td>0.0</td>\n",
       "      <td>0.0</td>\n",
       "      <td>G</td>\n",
       "      <td>(983.0, 1894.0]</td>\n",
       "      <td>S</td>\n",
       "    </tr>\n",
       "    <tr>\n",
       "      <th>8690</th>\n",
       "      <td>Earth</td>\n",
       "      <td>False</td>\n",
       "      <td>TRAPPIST-1e</td>\n",
       "      <td>False</td>\n",
       "      <td>26.0</td>\n",
       "      <td>0.0</td>\n",
       "      <td>0.0</td>\n",
       "      <td>1872.0</td>\n",
       "      <td>1.0</td>\n",
       "      <td>0.0</td>\n",
       "      <td>1.0</td>\n",
       "      <td>G</td>\n",
       "      <td>(983.0, 1894.0]</td>\n",
       "      <td>S</td>\n",
       "    </tr>\n",
       "    <tr>\n",
       "      <th>8691</th>\n",
       "      <td>Europa</td>\n",
       "      <td>False</td>\n",
       "      <td>55 Cancri e</td>\n",
       "      <td>False</td>\n",
       "      <td>32.0</td>\n",
       "      <td>0.0</td>\n",
       "      <td>1049.0</td>\n",
       "      <td>0.0</td>\n",
       "      <td>353.0</td>\n",
       "      <td>3235.0</td>\n",
       "      <td>0.0</td>\n",
       "      <td>E</td>\n",
       "      <td>(407.0, 983.0]</td>\n",
       "      <td>S</td>\n",
       "    </tr>\n",
       "    <tr>\n",
       "      <th>8692</th>\n",
       "      <td>Europa</td>\n",
       "      <td>False</td>\n",
       "      <td>TRAPPIST-1e</td>\n",
       "      <td>False</td>\n",
       "      <td>44.0</td>\n",
       "      <td>126.0</td>\n",
       "      <td>4688.0</td>\n",
       "      <td>0.0</td>\n",
       "      <td>0.0</td>\n",
       "      <td>12.0</td>\n",
       "      <td>1.0</td>\n",
       "      <td>E</td>\n",
       "      <td>(407.0, 983.0]</td>\n",
       "      <td>S</td>\n",
       "    </tr>\n",
       "  </tbody>\n",
       "</table>\n",
       "<p>8693 rows × 14 columns</p>\n",
       "</div>"
      ],
      "text/plain": [
       "     HomePlanet CryoSleep    Destination    VIP   Age  RoomService  FoodCourt  \\\n",
       "0        Europa     False    TRAPPIST-1e  False  39.0          0.0        0.0   \n",
       "1         Earth     False    TRAPPIST-1e  False  24.0        109.0        9.0   \n",
       "2        Europa     False    TRAPPIST-1e   True  58.0         43.0     3576.0   \n",
       "3        Europa     False    TRAPPIST-1e  False  33.0          0.0     1283.0   \n",
       "4         Earth     False    TRAPPIST-1e  False  16.0        303.0       70.0   \n",
       "...         ...       ...            ...    ...   ...          ...        ...   \n",
       "8688     Europa     False    55 Cancri e   True  41.0          0.0     6819.0   \n",
       "8689      Earth      True  PSO J318.5-22  False  18.0          0.0        0.0   \n",
       "8690      Earth     False    TRAPPIST-1e  False  26.0          0.0        0.0   \n",
       "8691     Europa     False    55 Cancri e  False  32.0          0.0     1049.0   \n",
       "8692     Europa     False    TRAPPIST-1e  False  44.0        126.0     4688.0   \n",
       "\n",
       "      ShoppingMall     Spa  VRDeck  Transported deck              num side  \n",
       "0              0.0     0.0     0.0          0.0    B  (-0.001, 152.0]    P  \n",
       "1             25.0   549.0    44.0          1.0    F  (-0.001, 152.0]    S  \n",
       "2              0.0  6715.0    49.0          0.0    A  (-0.001, 152.0]    S  \n",
       "3            371.0  3329.0   193.0          0.0    A  (-0.001, 152.0]    S  \n",
       "4            151.0   565.0     2.0          1.0    F  (-0.001, 152.0]    S  \n",
       "...            ...     ...     ...          ...  ...              ...  ...  \n",
       "8688           0.0  1643.0    74.0          0.0    A  (-0.001, 152.0]    P  \n",
       "8689           0.0     0.0     0.0          0.0    G  (983.0, 1894.0]    S  \n",
       "8690        1872.0     1.0     0.0          1.0    G  (983.0, 1894.0]    S  \n",
       "8691           0.0   353.0  3235.0          0.0    E   (407.0, 983.0]    S  \n",
       "8692           0.0     0.0    12.0          1.0    E   (407.0, 983.0]    S  \n",
       "\n",
       "[8693 rows x 14 columns]"
      ]
     },
     "execution_count": 210,
     "metadata": {},
     "output_type": "execute_result"
    }
   ],
   "source": [
    "df_train_processed.assign(num = lambda _df : pd.qcut(_df.num, q = 4))"
   ]
  },
  {
   "cell_type": "code",
   "execution_count": 215,
   "id": "b3b724e1-504b-41d2-a5c0-020004319d8a",
   "metadata": {},
   "outputs": [
    {
     "data": {
      "text/plain": [
       "{Interval(-0.001, 152.0, closed='right'),\n",
       " Interval(152.0, 407.0, closed='right'),\n",
       " Interval(407.0, 983.0, closed='right'),\n",
       " Interval(983.0, 1894.0, closed='right')}"
      ]
     },
     "execution_count": 215,
     "metadata": {},
     "output_type": "execute_result"
    }
   ],
   "source": [
    "set(df_train_processed.assign(num = lambda _df : pd.qcut(_df.num, q = 4)).num)"
   ]
  },
  {
   "cell_type": "code",
   "execution_count": 218,
   "id": "58c59c9d-77bc-40ed-8de6-73cde0993205",
   "metadata": {},
   "outputs": [
    {
     "name": "stderr",
     "output_type": "stream",
     "text": [
      "C:\\Users\\hollyriver\\anaconda3\\envs\\py\\lib\\site-packages\\sklearn\\linear_model\\_logistic.py:460: ConvergenceWarning: lbfgs failed to converge (status=1):\n",
      "STOP: TOTAL NO. of ITERATIONS REACHED LIMIT.\n",
      "\n",
      "Increase the number of iterations (max_iter) or scale the data as shown in:\n",
      "    https://scikit-learn.org/stable/modules/preprocessing.html\n",
      "Please also refer to the documentation for alternative solver options:\n",
      "    https://scikit-learn.org/stable/modules/linear_model.html#logistic-regression\n"
     ]
    },
    {
     "data": {
      "text/plain": [
       "0.7907511791096284"
      ]
     },
     "execution_count": 218,
     "metadata": {},
     "output_type": "execute_result"
    }
   ],
   "source": [
    "## 1\n",
    "X = pd.get_dummies(df_train_processed.assign(num = lambda _df : pd.qcut(_df.num, q = 4)).drop('Transported', axis = 1), drop_first = True)\n",
    "y = df_train.Transported\n",
    "XX = pd.get_dummies(df_test_processed.assign(num = lambda _df : pd.cut(_df.num, bins = [-0.001, 152, 407, 983, 1894])), drop_first = True)\n",
    "\n",
    "## 2\n",
    "predictr = sklearn.linear_model.LogisticRegression()\n",
    "\n",
    "## 3\n",
    "predictr.fit(X, y)\n",
    "\n",
    "## 4\n",
    "predictr.score(X, y)"
   ]
  },
  {
   "cell_type": "code",
   "execution_count": 221,
   "id": "c4829637-e243-46bc-8abf-90b80e649bf9",
   "metadata": {},
   "outputs": [],
   "source": [
    "df_test[['PassengerId']].assign(Transported = predictr.predict(XX)).to_csv('quantile_cutting.csv', index = False)"
   ]
  },
  {
   "cell_type": "code",
   "execution_count": null,
   "id": "813f33a1-f350-40fc-9b04-2e8664e37aa9",
   "metadata": {},
   "outputs": [],
   "source": []
  }
 ],
 "metadata": {
  "kernelspec": {
   "display_name": "Python 3 (ipykernel)",
   "language": "python",
   "name": "python3"
  },
  "language_info": {
   "codemirror_mode": {
    "name": "ipython",
    "version": 3
   },
   "file_extension": ".py",
   "mimetype": "text/x-python",
   "name": "python",
   "nbconvert_exporter": "python",
   "pygments_lexer": "ipython3",
   "version": "3.10.13"
  }
 },
 "nbformat": 4,
 "nbformat_minor": 5
}
