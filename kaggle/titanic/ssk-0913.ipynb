{
 "cells": [
  {
   "cell_type": "markdown",
   "metadata": {},
   "source": [
    "> 캐글에 submission.csv 파일을 업로드해보자!"
   ]
  },
  {
   "cell_type": "markdown",
   "metadata": {},
   "source": [
    "## 1. 라이브러리 imports"
   ]
  },
  {
   "cell_type": "code",
   "execution_count": null,
   "metadata": {},
   "outputs": [],
   "source": [
    "import pandas as pd\n",
    "import numpy as np"
   ]
  },
  {
   "cell_type": "code",
   "execution_count": null,
   "metadata": {
    "execution": {
     "iopub.execute_input": "2023-09-13T01:37:02.536044Z",
     "iopub.status.busy": "2023-09-13T01:37:02.535671Z",
     "iopub.status.idle": "2023-09-13T01:37:02.559685Z",
     "shell.execute_reply": "2023-09-13T01:37:02.558214Z",
     "shell.execute_reply.started": "2023-09-13T01:37:02.536015Z"
    }
   },
   "outputs": [],
   "source": [
    "# 캐글에 있는 노트북을 이용하면 가상 컴퓨터에 세 개의 파일들이 직접 들어온다.\n",
    "\n",
    "tr = pd.read_csv(\"/kaggle/input/titanic/train.csv\")\n",
    "tr.head()"
   ]
  },
  {
   "cell_type": "code",
   "execution_count": null,
   "metadata": {
    "collapsed": true,
    "execution": {
     "iopub.execute_input": "2023-09-13T01:39:23.019648Z",
     "iopub.status.busy": "2023-09-13T01:39:23.019290Z",
     "iopub.status.idle": "2023-09-13T01:39:23.038240Z",
     "shell.execute_reply": "2023-09-13T01:39:23.037242Z",
     "shell.execute_reply.started": "2023-09-13T01:39:23.019620Z"
    },
    "jupyter": {
     "outputs_hidden": true
    }
   },
   "outputs": [],
   "source": [
    "tst = pd.read_csv('/kaggle/input/titanic/test.csv')\n",
    "tst.head()"
   ]
  },
  {
   "cell_type": "markdown",
   "metadata": {},
   "source": [
    "## A.test - 분석단계에서는 답을 모름, 제출해야 알 수 있음"
   ]
  },
  {
   "cell_type": "markdown",
   "metadata": {},
   "source": [
    "```-```제출 결과는 리더보드에서 확인 가능"
   ]
  },
  {
   "cell_type": "markdown",
   "metadata": {},
   "source": [
    "## B. train - 스스로 풀어보고 채점할 수 있음"
   ]
  },
  {
   "cell_type": "code",
   "execution_count": null,
   "metadata": {
    "execution": {
     "iopub.execute_input": "2023-09-13T01:46:33.432719Z",
     "iopub.status.busy": "2023-09-13T01:46:33.432401Z",
     "iopub.status.idle": "2023-09-13T01:46:33.438301Z",
     "shell.execute_reply": "2023-09-13T01:46:33.437131Z",
     "shell.execute_reply.started": "2023-09-13T01:46:33.432696Z"
    }
   },
   "outputs": [],
   "source": [
    "df = pd.DataFrame({'surv' : [1,0,1,1,0], 'sex' : ['f','m','f','m','m']})"
   ]
  },
  {
   "cell_type": "code",
   "execution_count": null,
   "metadata": {
    "execution": {
     "iopub.execute_input": "2023-09-13T01:46:41.535433Z",
     "iopub.status.busy": "2023-09-13T01:46:41.535022Z",
     "iopub.status.idle": "2023-09-13T01:46:41.542450Z",
     "shell.execute_reply": "2023-09-13T01:46:41.541467Z",
     "shell.execute_reply.started": "2023-09-13T01:46:41.535409Z"
    }
   },
   "outputs": [],
   "source": [
    "df.surv"
   ]
  },
  {
   "cell_type": "code",
   "execution_count": null,
   "metadata": {
    "execution": {
     "iopub.execute_input": "2023-09-13T01:46:46.869430Z",
     "iopub.status.busy": "2023-09-13T01:46:46.869097Z",
     "iopub.status.idle": "2023-09-13T01:46:46.876202Z",
     "shell.execute_reply": "2023-09-13T01:46:46.875336Z",
     "shell.execute_reply.started": "2023-09-13T01:46:46.869405Z"
    }
   },
   "outputs": [],
   "source": [
    "df.sex"
   ]
  },
  {
   "cell_type": "code",
   "execution_count": null,
   "metadata": {
    "execution": {
     "iopub.execute_input": "2023-09-13T01:47:14.323197Z",
     "iopub.status.busy": "2023-09-13T01:47:14.322859Z",
     "iopub.status.idle": "2023-09-13T01:47:14.330306Z",
     "shell.execute_reply": "2023-09-13T01:47:14.329468Z",
     "shell.execute_reply.started": "2023-09-13T01:47:14.323169Z"
    }
   },
   "outputs": [],
   "source": [
    "(df.sex == 'f')*1"
   ]
  },
  {
   "cell_type": "code",
   "execution_count": null,
   "metadata": {
    "execution": {
     "iopub.execute_input": "2023-09-13T01:48:26.285852Z",
     "iopub.status.busy": "2023-09-13T01:48:26.285556Z",
     "iopub.status.idle": "2023-09-13T01:48:26.296096Z",
     "shell.execute_reply": "2023-09-13T01:48:26.295015Z",
     "shell.execute_reply.started": "2023-09-13T01:48:26.285831Z"
    }
   },
   "outputs": [],
   "source": [
    "pd.DataFrame({'real' : df.surv, 'estimate' : (df.sex == 'f')*1})"
   ]
  },
  {
   "cell_type": "code",
   "execution_count": null,
   "metadata": {
    "execution": {
     "iopub.execute_input": "2023-09-13T01:50:14.869729Z",
     "iopub.status.busy": "2023-09-13T01:50:14.869399Z",
     "iopub.status.idle": "2023-09-13T01:50:14.876692Z",
     "shell.execute_reply": "2023-09-13T01:50:14.875960Z",
     "shell.execute_reply.started": "2023-09-13T01:50:14.869702Z"
    }
   },
   "outputs": [],
   "source": [
    "print((df.surv == (df.sex == 'f')*1).sum()/5)\n",
    "print((df.surv == (df.sex == 'f')*1).mean())"
   ]
  },
  {
   "cell_type": "markdown",
   "metadata": {},
   "source": [
    "실제 자료의 accuracy를 구해보자."
   ]
  },
  {
   "cell_type": "code",
   "execution_count": null,
   "metadata": {
    "execution": {
     "iopub.execute_input": "2023-09-13T01:52:30.179664Z",
     "iopub.status.busy": "2023-09-13T01:52:30.179347Z",
     "iopub.status.idle": "2023-09-13T01:52:30.187206Z",
     "shell.execute_reply": "2023-09-13T01:52:30.185895Z",
     "shell.execute_reply.started": "2023-09-13T01:52:30.179639Z"
    }
   },
   "outputs": [],
   "source": [
    "(tr.Survived == (tr.Sex == 'female')).mean()"
   ]
  },
  {
   "cell_type": "markdown",
   "metadata": {},
   "source": [
    "### 개념\n",
    "캐글 대회는 시험과 비슷하다.\n",
    "* 캐글대회를 여는 사람은 보통 (1) 모의고사문제+답 (training set) (2) 실제시험문제 (test set)를 준다.\n",
    "* (1)의 자료에서는 문제(X,독립변수,설명변수)와 답(y,종속변수,반응변수)이 함께 주어진다.\n",
    "* (2)의 자료에서는 문제(X,독립변수,설명변수)만 주어진다.\n",
    "* 우리는 (1)을 이용하여 문제(X,독립변수,설명변수)와 답(y,종속변수,반응변수)사이의 관계를 찾아내는 훈련을 한다.\n",
    "* 그리고 그 훈련이 잘 되었는지를 평가하기 위해서 (2)를 풀어보고 그 결과를 제출한다."
   ]
  },
  {
   "cell_type": "markdown",
   "metadata": {},
   "source": [
    "```-``` trainning set"
   ]
  },
  {
   "cell_type": "code",
   "execution_count": null,
   "metadata": {
    "execution": {
     "iopub.execute_input": "2023-09-13T01:54:43.600195Z",
     "iopub.status.busy": "2023-09-13T01:54:43.599784Z",
     "iopub.status.idle": "2023-09-13T01:54:43.607856Z",
     "shell.execute_reply": "2023-09-13T01:54:43.606982Z",
     "shell.execute_reply.started": "2023-09-13T01:54:43.600161Z"
    }
   },
   "outputs": [],
   "source": [
    "tr.iloc[0] ## 첫 번째 사람의 정보, trainning set"
   ]
  },
  {
   "cell_type": "markdown",
   "metadata": {},
   "source": [
    "```-``` test set"
   ]
  },
  {
   "cell_type": "code",
   "execution_count": null,
   "metadata": {
    "execution": {
     "iopub.execute_input": "2023-09-13T01:56:50.304750Z",
     "iopub.status.busy": "2023-09-13T01:56:50.304408Z",
     "iopub.status.idle": "2023-09-13T01:56:50.312537Z",
     "shell.execute_reply": "2023-09-13T01:56:50.311578Z",
     "shell.execute_reply.started": "2023-09-13T01:56:50.304725Z"
    }
   },
   "outputs": [],
   "source": [
    "tst.iloc[0]"
   ]
  },
  {
   "cell_type": "code",
   "execution_count": null,
   "metadata": {},
   "outputs": [],
   "source": []
  }
 ],
 "metadata": {
  "kernelspec": {
   "display_name": "Python 3 (ipykernel)",
   "language": "python",
   "name": "python3"
  },
  "language_info": {
   "codemirror_mode": {
    "name": "ipython",
    "version": 3
   },
   "file_extension": ".py",
   "mimetype": "text/x-python",
   "name": "python",
   "nbconvert_exporter": "python",
   "pygments_lexer": "ipython3",
   "version": "3.10.13"
  }
 },
 "nbformat": 4,
 "nbformat_minor": 4
}
