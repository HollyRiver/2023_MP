{
 "cells": [
  {
   "cell_type": "code",
   "execution_count": null,
   "metadata": {
    "_cell_guid": "b1076dfc-b9ad-4769-8c92-a6c4dae69d19",
    "_uuid": "8f2839f25d086af736a60e9eeb907d3b93b6e0e5",
    "execution": {
     "iopub.execute_input": "2023-09-14T13:17:44.269191Z",
     "iopub.status.busy": "2023-09-14T13:17:44.268678Z",
     "iopub.status.idle": "2023-09-14T13:17:44.693813Z",
     "shell.execute_reply": "2023-09-14T13:17:44.692503Z",
     "shell.execute_reply.started": "2023-09-14T13:17:44.269146Z"
    }
   },
   "outputs": [],
   "source": [
    "# This Python 3 environment comes with many helpful analytics libraries installed\n",
    "# It is defined by the kaggle/python Docker image: https://github.com/kaggle/docker-python\n",
    "# For example, here's several helpful packages to load\n",
    "\n",
    "import numpy as np # linear algebra\n",
    "import pandas as pd # data processing, CSV file I/O (e.g. pd.read_csv)\n",
    "\n",
    "# Input data files are available in the read-only \"../input/\" directory\n",
    "# For example, running this (by clicking run or pressing Shift+Enter) will list all files under the input directory\n",
    "\n",
    "import os\n",
    "for dirname, _, filenames in os.walk('/kaggle/input'):\n",
    "    for filename in filenames:\n",
    "        print(os.path.join(dirname, filename))\n",
    "\n",
    "# You can write up to 20GB to the current directory (/kaggle/working/) that gets preserved as output when you create a version using \"Save & Run All\" \n",
    "# You can also write temporary files to /kaggle/temp/, but they won't be saved outside of the current session"
   ]
  },
  {
   "cell_type": "markdown",
   "metadata": {},
   "source": [
    "# autogluon 라이브러리를 써보자!!"
   ]
  },
  {
   "cell_type": "code",
   "execution_count": null,
   "metadata": {
    "execution": {
     "iopub.execute_input": "2023-09-14T13:17:45.995229Z",
     "iopub.status.busy": "2023-09-14T13:17:45.994716Z",
     "iopub.status.idle": "2023-09-14T13:21:19.235677Z",
     "shell.execute_reply": "2023-09-14T13:21:19.234337Z",
     "shell.execute_reply.started": "2023-09-14T13:17:45.995197Z"
    }
   },
   "outputs": [],
   "source": [
    "pip install autogluon"
   ]
  },
  {
   "cell_type": "code",
   "execution_count": null,
   "metadata": {
    "execution": {
     "iopub.execute_input": "2023-09-14T13:24:44.320582Z",
     "iopub.status.busy": "2023-09-14T13:24:44.319617Z",
     "iopub.status.idle": "2023-09-14T13:24:44.328269Z",
     "shell.execute_reply": "2023-09-14T13:24:44.327244Z",
     "shell.execute_reply.started": "2023-09-14T13:24:44.320528Z"
    }
   },
   "outputs": [],
   "source": [
    "## tabular(테이블) 형식의 데이터를 다루는 모듈을 다운로드한다.\n",
    "from autogluon.tabular import TabularDataset, TabularPredictor"
   ]
  },
  {
   "cell_type": "markdown",
   "metadata": {},
   "source": [
    "## 분석의 절차"
   ]
  },
  {
   "cell_type": "markdown",
   "metadata": {},
   "source": [
    "### A. 데이터 입력\n",
    "\n",
    "> 문제를 받아오는 과정으로 비유할 수 있다."
   ]
  },
  {
   "cell_type": "code",
   "execution_count": null,
   "metadata": {
    "execution": {
     "iopub.execute_input": "2023-09-14T13:51:56.929238Z",
     "iopub.status.busy": "2023-09-14T13:51:56.928133Z",
     "iopub.status.idle": "2023-09-14T13:51:56.949925Z",
     "shell.execute_reply": "2023-09-14T13:51:56.948870Z",
     "shell.execute_reply.started": "2023-09-14T13:51:56.929195Z"
    }
   },
   "outputs": [],
   "source": [
    "tr = TabularDataset('/kaggle/input/titanic/train.csv')  ## 학습할 데이터\n",
    "tst = TabularDataset('/kaggle/input/titanic/test.csv')\n",
    "\n",
    "## tr = pd.read_csv('/kaggle/input/titanic/train.csv')\n",
    "## tst"
   ]
  },
  {
   "cell_type": "markdown",
   "metadata": {},
   "source": [
    "### B. Predictor 생성\n",
    "> 문제를 풀 학생을 생성하는 과정으로 비유할 수 있다."
   ]
  },
  {
   "cell_type": "code",
   "execution_count": null,
   "metadata": {
    "execution": {
     "iopub.execute_input": "2023-09-14T13:24:49.976930Z",
     "iopub.status.busy": "2023-09-14T13:24:49.976551Z",
     "iopub.status.idle": "2023-09-14T13:24:49.984343Z",
     "shell.execute_reply": "2023-09-14T13:24:49.983250Z",
     "shell.execute_reply.started": "2023-09-14T13:24:49.976900Z"
    }
   },
   "outputs": [],
   "source": [
    "predictr = TabularPredictor('Survived') ## target variable이 들어있는 데이터프레임, 변수 철자는 임의로 틀리게 설정"
   ]
  },
  {
   "cell_type": "markdown",
   "metadata": {},
   "source": [
    "> target variable이 들어있는 데이터셋을 추출한다."
   ]
  },
  {
   "cell_type": "code",
   "execution_count": null,
   "metadata": {
    "execution": {
     "iopub.execute_input": "2023-09-14T13:25:06.433679Z",
     "iopub.status.busy": "2023-09-14T13:25:06.433201Z",
     "iopub.status.idle": "2023-09-14T13:25:06.443275Z",
     "shell.execute_reply": "2023-09-14T13:25:06.441885Z",
     "shell.execute_reply.started": "2023-09-14T13:25:06.433641Z"
    }
   },
   "outputs": [],
   "source": [
    "type(predictr)"
   ]
  },
  {
   "cell_type": "markdown",
   "metadata": {},
   "source": [
    "### C. 적합(fit)\n",
    "> 학습 과정에 해당"
   ]
  },
  {
   "cell_type": "code",
   "execution_count": null,
   "metadata": {
    "execution": {
     "iopub.execute_input": "2023-09-14T13:25:08.584498Z",
     "iopub.status.busy": "2023-09-14T13:25:08.584068Z",
     "iopub.status.idle": "2023-09-14T13:25:29.123625Z",
     "shell.execute_reply": "2023-09-14T13:25:29.122367Z",
     "shell.execute_reply.started": "2023-09-14T13:25:08.584464Z"
    }
   },
   "outputs": [],
   "source": [
    "predictr.fit(tr) ## 학생(predictr)에게 문제(tr)를 주어 학습을 시킴(predictr.fit(tr))"
   ]
  },
  {
   "cell_type": "markdown",
   "metadata": {},
   "source": [
    "학습 완료, 이에 따라 리더보드를 확인한다. (모의고사 채점)"
   ]
  },
  {
   "cell_type": "code",
   "execution_count": null,
   "metadata": {
    "execution": {
     "iopub.status.busy": "2023-09-14T13:21:20.798016Z",
     "iopub.status.idle": "2023-09-14T13:21:20.798575Z",
     "shell.execute_reply": "2023-09-14T13:21:20.798306Z",
     "shell.execute_reply.started": "2023-09-14T13:21:20.798280Z"
    }
   },
   "outputs": [],
   "source": [
    "predictr.leaderboard()"
   ]
  },
  {
   "cell_type": "markdown",
   "metadata": {},
   "source": [
    "**score_val이 의미하는 것**\n",
    "* 실제로 predictr가 학습한 것은?\n",
    "    > predictor와 train set이 있고, train set에 데이터가 1000개 있다고 하면 해당 데이터를 전부 가용하지 않는다.\n",
    "    > * 800개를 사용한다고 하면 200개는 학습하지 않고 답을 맞춰 보는 식이다.\n",
    "    > \n",
    "    > * **200개는 왜 남겨두지?**\n",
    "    > \n",
    "    > 문제에서 답을 찾는 규칙이 맞는지, 다른 데이터들에 대해서도 일반화시킬 수 있는 지 테스트 해보면 좋을 것 같다. 따라서 나머지 데이터셋에서 분석을 해본다.\n",
    "    >\n",
    "    > **실제 테스트에서 잘하기 위한 자체적 테스트셋에 해당**, 200개의 나머지 테스트용 데이터셋을 validation set이라 일컫는다."
   ]
  },
  {
   "cell_type": "markdown",
   "metadata": {},
   "source": [
    "\n",
    "||train|val|\n",
    "|-|-|-|\n",
    "|학생1|95%|72%|\n",
    "|학생2|80%|80%|\n",
    "|...|...|...|\n",
    "\n",
    "train(연습문제)만 계속 푼 것 보다, val(모의고사)에서 가장 높은 점수를 받은 것이 유의미할 것.\n",
    "\n",
    "> 가장 높은 점수를 받은 ```WeightedEnsemble_L2```모델을 사용해보자"
   ]
  },
  {
   "cell_type": "markdown",
   "metadata": {},
   "source": [
    "### D. 예측(predict)\n",
    "> 학습 이후에 문제를 푸는 과정으로 비유."
   ]
  },
  {
   "cell_type": "markdown",
   "metadata": {},
   "source": [
    "기존에 했던 분석들\n",
    "\n",
    "1. 무조건 남자는 죽고, 여자는 사는 형식 0.7x / 0.76555\n",
    "2. RandomForestClassifier를 사용한 형식 0.8x / 0.77511\n",
    "3. RandomForestClassifier에서 하이퍼파라미터를 조정한 형식 0.8x / 0.76555 (트레인 셋에서의 분석에서는 더 높았는데 실제 결과는 오히려 더 낮았다.)\n",
    "**4. WeightedEnsemble_L2모델 사용**"
   ]
  },
  {
   "cell_type": "markdown",
   "metadata": {},
   "source": [
    "train set을 일단 풀어보자(predict)"
   ]
  },
  {
   "cell_type": "code",
   "execution_count": null,
   "metadata": {
    "execution": {
     "iopub.status.busy": "2023-09-14T13:21:20.801015Z",
     "iopub.status.idle": "2023-09-14T13:21:20.801564Z",
     "shell.execute_reply": "2023-09-14T13:21:20.801298Z",
     "shell.execute_reply.started": "2023-09-14T13:21:20.801272Z"
    }
   },
   "outputs": [],
   "source": [
    "type(tr) ## 처음 보는 것으로 저장되는데 데이터프레임에서 쓸 수 있는 모든 기능들을 다 사용할 수 있다."
   ]
  },
  {
   "cell_type": "code",
   "execution_count": null,
   "metadata": {
    "execution": {
     "iopub.status.busy": "2023-09-14T13:21:20.803399Z",
     "iopub.status.idle": "2023-09-14T13:21:20.803813Z",
     "shell.execute_reply": "2023-09-14T13:21:20.803641Z",
     "shell.execute_reply.started": "2023-09-14T13:21:20.803622Z"
    }
   },
   "outputs": [],
   "source": [
    "tr.head()"
   ]
  },
  {
   "cell_type": "code",
   "execution_count": null,
   "metadata": {
    "execution": {
     "iopub.status.busy": "2023-09-14T13:21:20.806016Z",
     "iopub.status.idle": "2023-09-14T13:21:20.806396Z",
     "shell.execute_reply": "2023-09-14T13:21:20.806227Z",
     "shell.execute_reply.started": "2023-09-14T13:21:20.806210Z"
    }
   },
   "outputs": [],
   "source": [
    "(tr.Survived == predictr.predict(tr)).mean()"
   ]
  },
  {
   "cell_type": "markdown",
   "metadata": {},
   "source": [
    "> 정확도가 0.9349나 된다. 상당히 기대가 되는 부분"
   ]
  },
  {
   "cell_type": "code",
   "execution_count": null,
   "metadata": {
    "execution": {
     "iopub.status.busy": "2023-09-14T13:21:20.807941Z",
     "iopub.status.idle": "2023-09-14T13:21:20.808308Z",
     "shell.execute_reply": "2023-09-14T13:21:20.808143Z",
     "shell.execute_reply.started": "2023-09-14T13:21:20.808126Z"
    }
   },
   "outputs": [],
   "source": [
    "predictr.predict(tst)"
   ]
  },
  {
   "cell_type": "code",
   "execution_count": null,
   "metadata": {
    "_kg_hide-input": false,
    "execution": {
     "iopub.status.busy": "2023-09-14T13:21:20.809082Z",
     "iopub.status.idle": "2023-09-14T13:21:20.809518Z",
     "shell.execute_reply": "2023-09-14T13:21:20.809313Z",
     "shell.execute_reply.started": "2023-09-14T13:21:20.809294Z"
    }
   },
   "outputs": [],
   "source": [
    "tst.assign(Survived = predictr.predict(tst)).loc[:, ['PassengerId', 'Survived']]\\\n",
    ".to_csv('autogluon_submission.csv', index = False)"
   ]
  },
  {
   "cell_type": "markdown",
   "metadata": {},
   "source": [
    "> 제출 결과 정확도는 0.78947로 지금껏 가장 높은 수치가 나왔다."
   ]
  },
  {
   "cell_type": "markdown",
   "metadata": {},
   "source": [
    "## 분기\n",
    "\n",
    "> 다른 방법을 이용\n",
    "\n",
    "\n",
    "### A. 데이터"
   ]
  },
  {
   "cell_type": "code",
   "execution_count": null,
   "metadata": {
    "execution": {
     "iopub.execute_input": "2023-09-14T13:52:05.557705Z",
     "iopub.status.busy": "2023-09-14T13:52:05.557195Z",
     "iopub.status.idle": "2023-09-14T13:52:05.582601Z",
     "shell.execute_reply": "2023-09-14T13:52:05.581569Z",
     "shell.execute_reply.started": "2023-09-14T13:52:05.557659Z"
    }
   },
   "outputs": [],
   "source": [
    "tr = TabularDataset('/kaggle/input/titanic/train.csv')  ## 학습할 데이터\n",
    "tst = TabularDataset('/kaggle/input/titanic/test.csv')\n",
    "\n",
    "## tr = pd.read_csv('/kaggle/input/titanic/train.csv')\n",
    "## tst"
   ]
  },
  {
   "cell_type": "markdown",
   "metadata": {},
   "source": [
    "```-```피쳐 엔지니어링"
   ]
  },
  {
   "cell_type": "code",
   "execution_count": null,
   "metadata": {
    "execution": {
     "iopub.execute_input": "2023-09-14T13:55:33.804242Z",
     "iopub.status.busy": "2023-09-14T13:55:33.803784Z",
     "iopub.status.idle": "2023-09-14T13:55:33.828364Z",
     "shell.execute_reply": "2023-09-14T13:55:33.827481Z",
     "shell.execute_reply.started": "2023-09-14T13:55:33.804203Z"
    }
   },
   "outputs": [],
   "source": [
    "tr.eval('Fsize = SibSp + Parch')\n",
    "tst.eval('Fsize = SibSp + Parch')\n",
    "\n",
    "tr.head()"
   ]
  },
  {
   "cell_type": "markdown",
   "metadata": {},
   "source": [
    "### B. Predictor 생성"
   ]
  },
  {
   "cell_type": "code",
   "execution_count": null,
   "metadata": {
    "execution": {
     "iopub.execute_input": "2023-09-14T13:57:05.761096Z",
     "iopub.status.busy": "2023-09-14T13:57:05.760595Z",
     "iopub.status.idle": "2023-09-14T13:57:05.770619Z",
     "shell.execute_reply": "2023-09-14T13:57:05.769092Z",
     "shell.execute_reply.started": "2023-09-14T13:57:05.761057Z"
    }
   },
   "outputs": [],
   "source": [
    "predictr = TabularPredictor(\"Survived\")"
   ]
  },
  {
   "cell_type": "markdown",
   "metadata": {},
   "source": [
    "### C. 적합(fit)"
   ]
  },
  {
   "cell_type": "code",
   "execution_count": null,
   "metadata": {
    "execution": {
     "iopub.execute_input": "2023-09-14T13:58:26.160522Z",
     "iopub.status.busy": "2023-09-14T13:58:26.160034Z",
     "iopub.status.idle": "2023-09-14T13:58:41.879044Z",
     "shell.execute_reply": "2023-09-14T13:58:41.877901Z",
     "shell.execute_reply.started": "2023-09-14T13:58:26.160476Z"
    }
   },
   "outputs": [],
   "source": [
    "predictr.fit(tr.eval('Fsize = SibSp + Parch'))  ## 새로운 데이터셋을 추가하여 학습"
   ]
  },
  {
   "cell_type": "markdown",
   "metadata": {},
   "source": [
    "```-```리더보드 확인"
   ]
  },
  {
   "cell_type": "code",
   "execution_count": null,
   "metadata": {
    "execution": {
     "iopub.execute_input": "2023-09-14T13:59:08.992470Z",
     "iopub.status.busy": "2023-09-14T13:59:08.991905Z",
     "iopub.status.idle": "2023-09-14T13:59:09.026441Z",
     "shell.execute_reply": "2023-09-14T13:59:09.025238Z",
     "shell.execute_reply.started": "2023-09-14T13:59:08.992405Z"
    }
   },
   "outputs": [],
   "source": [
    "predictr.leaderboard()"
   ]
  },
  {
   "cell_type": "markdown",
   "metadata": {},
   "source": [
    "### D. 예측(predict)"
   ]
  },
  {
   "cell_type": "code",
   "execution_count": null,
   "metadata": {
    "execution": {
     "iopub.execute_input": "2023-09-14T14:01:47.191789Z",
     "iopub.status.busy": "2023-09-14T14:01:47.191345Z",
     "iopub.status.idle": "2023-09-14T14:01:47.566707Z",
     "shell.execute_reply": "2023-09-14T14:01:47.565579Z",
     "shell.execute_reply.started": "2023-09-14T14:01:47.191751Z"
    }
   },
   "outputs": [],
   "source": [
    "(tr.Survived == predictr.predict(tr.eval('Fsize = SibSp + Parch'))).mean()"
   ]
  },
  {
   "cell_type": "code",
   "execution_count": null,
   "metadata": {
    "execution": {
     "iopub.execute_input": "2023-09-14T14:02:00.828902Z",
     "iopub.status.busy": "2023-09-14T14:02:00.828483Z",
     "iopub.status.idle": "2023-09-14T14:02:01.096512Z",
     "shell.execute_reply": "2023-09-14T14:02:01.095067Z",
     "shell.execute_reply.started": "2023-09-14T14:02:00.828869Z"
    }
   },
   "outputs": [],
   "source": [
    "tst.assign(Survived = predictr.predict(tst.eval('Fsize = SibSp + Parch'))).loc[:,['PassengerId','Survived']]\\\n",
    ".to_csv(\"autogluon(Fsize)_submission.csv\",index=False)"
   ]
  },
  {
   "cell_type": "markdown",
   "metadata": {},
   "source": [
    "> 제출 결과 : 점수가 오히려 더 낮아졌음"
   ]
  },
  {
   "cell_type": "markdown",
   "metadata": {},
   "source": [
    "**더 개선해보자**"
   ]
  },
  {
   "cell_type": "markdown",
   "metadata": {},
   "source": [
    "```-```피처 엔지니어링"
   ]
  },
  {
   "cell_type": "code",
   "execution_count": null,
   "metadata": {
    "execution": {
     "iopub.execute_input": "2023-09-14T14:11:11.165794Z",
     "iopub.status.busy": "2023-09-14T14:11:11.164652Z",
     "iopub.status.idle": "2023-09-14T14:11:11.192102Z",
     "shell.execute_reply": "2023-09-14T14:11:11.190980Z",
     "shell.execute_reply.started": "2023-09-14T14:11:11.165752Z"
    }
   },
   "outputs": [],
   "source": [
    "_tr = tr.eval('Fsize = SibSp + Parch').drop(['SibSp','Parch'],axis=1)\n",
    "_tst = tst.eval('Fsize = SibSp + Parch').drop(['SibSp','Parch'],axis=1)\n",
    "\n",
    "_tr.head()\n",
    "## df.drop(columns = [])\n",
    "## df.drop([], axis = 1) columns라고 지정해주지 않으면 디폴트로 행을 삭제하기 때문에"
   ]
  },
  {
   "cell_type": "markdown",
   "metadata": {},
   "source": [
    "### B. Predictor 생성"
   ]
  },
  {
   "cell_type": "code",
   "execution_count": null,
   "metadata": {
    "execution": {
     "iopub.execute_input": "2023-09-14T14:11:43.197020Z",
     "iopub.status.busy": "2023-09-14T14:11:43.196581Z",
     "iopub.status.idle": "2023-09-14T14:11:43.205329Z",
     "shell.execute_reply": "2023-09-14T14:11:43.204247Z",
     "shell.execute_reply.started": "2023-09-14T14:11:43.196985Z"
    }
   },
   "outputs": [],
   "source": [
    "predictr = TabularPredictor('Survived')"
   ]
  },
  {
   "cell_type": "markdown",
   "metadata": {},
   "source": [
    "### C. 적합(fit)"
   ]
  },
  {
   "cell_type": "code",
   "execution_count": null,
   "metadata": {
    "execution": {
     "iopub.execute_input": "2023-09-14T14:12:32.037536Z",
     "iopub.status.busy": "2023-09-14T14:12:32.037034Z",
     "iopub.status.idle": "2023-09-14T14:12:49.524838Z",
     "shell.execute_reply": "2023-09-14T14:12:49.523759Z",
     "shell.execute_reply.started": "2023-09-14T14:12:32.037493Z"
    }
   },
   "outputs": [],
   "source": [
    "predictr.fit(_tr)"
   ]
  },
  {
   "cell_type": "code",
   "execution_count": null,
   "metadata": {
    "execution": {
     "iopub.execute_input": "2023-09-14T14:13:19.419477Z",
     "iopub.status.busy": "2023-09-14T14:13:19.419065Z",
     "iopub.status.idle": "2023-09-14T14:13:19.452606Z",
     "shell.execute_reply": "2023-09-14T14:13:19.451427Z",
     "shell.execute_reply.started": "2023-09-14T14:13:19.419444Z"
    }
   },
   "outputs": [],
   "source": [
    "predictr.leaderboard()"
   ]
  },
  {
   "cell_type": "markdown",
   "metadata": {},
   "source": [
    "### D. 예측(predict)"
   ]
  },
  {
   "cell_type": "code",
   "execution_count": null,
   "metadata": {
    "execution": {
     "iopub.execute_input": "2023-09-14T14:14:17.286246Z",
     "iopub.status.busy": "2023-09-14T14:14:17.285841Z",
     "iopub.status.idle": "2023-09-14T14:14:17.622993Z",
     "shell.execute_reply": "2023-09-14T14:14:17.621886Z",
     "shell.execute_reply.started": "2023-09-14T14:14:17.286214Z"
    }
   },
   "outputs": [],
   "source": [
    "(tr.Survived == predictr.predict(_tr)).mean()"
   ]
  },
  {
   "cell_type": "code",
   "execution_count": null,
   "metadata": {
    "execution": {
     "iopub.execute_input": "2023-09-14T14:16:05.850495Z",
     "iopub.status.busy": "2023-09-14T14:16:05.850002Z",
     "iopub.status.idle": "2023-09-14T14:16:06.178998Z",
     "shell.execute_reply": "2023-09-14T14:16:06.177931Z",
     "shell.execute_reply.started": "2023-09-14T14:16:05.850455Z"
    }
   },
   "outputs": [],
   "source": [
    "predictr.predict(_tr)"
   ]
  },
  {
   "cell_type": "code",
   "execution_count": null,
   "metadata": {
    "execution": {
     "iopub.execute_input": "2023-09-14T14:18:19.788302Z",
     "iopub.status.busy": "2023-09-14T14:18:19.787854Z",
     "iopub.status.idle": "2023-09-14T14:18:20.055496Z",
     "shell.execute_reply": "2023-09-14T14:18:20.054348Z",
     "shell.execute_reply.started": "2023-09-14T14:18:19.788264Z"
    }
   },
   "outputs": [],
   "source": [
    "tst.assign(Survived = predictr.predict(_tst)).loc[:, ['PassengerId', 'Survived']]\\\n",
    ".to_csv('autogluon(Fsize,Drop)_submission.csv', index = False)"
   ]
  },
  {
   "cell_type": "markdown",
   "metadata": {},
   "source": [
    "> 지금껏 가장 높은 결과가 나왔다!\n",
    "\n",
    "* 다중 공선성 문제를 개선한 결과."
   ]
  }
 ],
 "metadata": {
  "kernelspec": {
   "display_name": "Python 3 (ipykernel)",
   "language": "python",
   "name": "python3"
  },
  "language_info": {
   "codemirror_mode": {
    "name": "ipython",
    "version": 3
   },
   "file_extension": ".py",
   "mimetype": "text/x-python",
   "name": "python",
   "nbconvert_exporter": "python",
   "pygments_lexer": "ipython3",
   "version": "3.10.13"
  }
 },
 "nbformat": 4,
 "nbformat_minor": 4
}
